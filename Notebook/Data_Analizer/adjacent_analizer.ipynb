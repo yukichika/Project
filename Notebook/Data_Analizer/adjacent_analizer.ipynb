{
 "cells": [
  {
   "cell_type": "code",
   "execution_count": 43,
   "metadata": {
    "collapsed": true
   },
   "outputs": [],
   "source": [
    "import os\n",
    "import cPickle as pickle\n",
    "import numpy as np\n",
    "import glob\n",
    "import matplotlib.pyplot as plt\n",
    "\n",
    "import sys\n",
    "sys.path.append(\"../../MyPythonModule\")\n",
    "from LDA_kai import LDA\n",
    "sys.path.append(\"../../Interactive_Graph_Visualizer/networkx-master\")\n",
    "import networkx as nx"
   ]
  },
  {
   "cell_type": "code",
   "execution_count": 44,
   "metadata": {},
   "outputs": [
    {
     "data": {
      "text/plain": [
       "{'a_score': 0.00017401832689457823,\n",
       " 'color': '#EB6100',\n",
       " 'from_hosts': {u'time-space.kddi.com': 3, u'tobuy.jp': 1, u'www.kddi.com': 1},\n",
       " 'h_score': 6.79129919615872e-08,\n",
       " 'to_hosts': {u'onlineshop.au.com': 1,\n",
       "  u'star.auone.jp': 1,\n",
       "  u'time-space.kddi.com': 5,\n",
       "  u'wowma.jp': 1,\n",
       "  u'www.kddi.com': 7},\n",
       " 'topic': 0}"
      ]
     },
     "execution_count": 44,
     "metadata": {},
     "output_type": "execute_result"
    }
   ],
   "source": [
    "G_file = \"../Data/Search_iPhone_10_add_childs_append/K10_myexttext_largest/nx_datas/G_with_params_comp4_2.gpkl\"\n",
    "lda_file = \"../Data/Search_iPhone_10_add_childs_append/K10_myexttext_largest/instance.pkl\"\n",
    "with open(G_file,\"r\") as fi:\n",
    "    G = pickle.load(fi)\n",
    "with open(lda_file,\"r\") as fi:\n",
    "    lda = pickle.load(fi)\n",
    "\n",
    "G.node[2]"
   ]
  },
  {
   "cell_type": "code",
   "execution_count": 45,
   "metadata": {},
   "outputs": [
    {
     "data": {
      "text/plain": [
       "(254, 10)"
      ]
     },
     "execution_count": 45,
     "metadata": {},
     "output_type": "execute_result"
    }
   ],
   "source": [
    "lda.theta().shape"
   ]
  },
  {
   "cell_type": "code",
   "execution_count": 46,
   "metadata": {},
   "outputs": [],
   "source": [
    "def collect_adjacents(G,node_no,link_type):\n",
    "    ret_list = []\n",
    "    if link_type == \"in\":\n",
    "        for edge in G.in_edges(node_no):\n",
    "            ret_list.append(edge[0])\n",
    "    elif link_type == \"out\":\n",
    "        for edge in G.out_edges(node_no):\n",
    "            ret_list.append(edge[1])\n",
    "    return ret_list"
   ]
  },
  {
   "cell_type": "code",
   "execution_count": 47,
   "metadata": {},
   "outputs": [
    {
     "data": {
      "text/plain": [
       "[23, 41, 47, 45, 49]"
      ]
     },
     "execution_count": 47,
     "metadata": {},
     "output_type": "execute_result"
    }
   ],
   "source": [
    "collect_adjacents(G,tgt_node,\"in\")"
   ]
  },
  {
   "cell_type": "code",
   "execution_count": 48,
   "metadata": {},
   "outputs": [
    {
     "data": {
      "text/plain": [
       "[38, 39, 40, 41, 42, 43, 44, 45, 46, 47, 48, 49, 50, 52, 53]"
      ]
     },
     "execution_count": 48,
     "metadata": {},
     "output_type": "execute_result"
    }
   ],
   "source": [
    "collect_adjacents(G,tgt_node,\"out\")"
   ]
  },
  {
   "cell_type": "code",
   "execution_count": 49,
   "metadata": {
    "collapsed": true
   },
   "outputs": [],
   "source": [
    "def topic_summarizer(lda,targets):\n",
    "    file_id_dict_inv = {v:k for k, v in lda.file_id_dict.items()}#ファイル名とLDAでの文書番号(逆引き)．LDAの方に作っとけばよかった．．．\n",
    "    sum_topics = np.zeros(lda.K,dtype=np.float32)\n",
    "    thetas = lda.theta()\n",
    "\n",
    "    for i,file_no in enumerate(targets):\n",
    "        lda_id = file_id_dict_inv[file_no]\n",
    "        sum_topics += thetas[lda_id]\n",
    "\n",
    "    return sum_topics"
   ]
  },
  {
   "cell_type": "code",
   "execution_count": 50,
   "metadata": {},
   "outputs": [
    {
     "data": {
      "text/plain": [
       "array([  9.59805697e-02,   4.72933017e-02,   9.66046751e-02,\n",
       "         9.46385086e-01,   2.73436368e-01,   3.95321786e-01,\n",
       "         3.34634602e-01,   1.27389371e+00,   1.53642106e+00,\n",
       "         2.88388383e-05], dtype=float32)"
      ]
     },
     "execution_count": 50,
     "metadata": {},
     "output_type": "execute_result"
    }
   ],
   "source": [
    "topic_summarizer(lda,collect_adjacents(G,tgt_node,\"in\"))"
   ]
  },
  {
   "cell_type": "code",
   "execution_count": 54,
   "metadata": {
    "collapsed": true
   },
   "outputs": [],
   "source": [
    "def get_adjecents_topics(G,lda,node_no,link_type):\n",
    "    node_list = collect_adjacents(G,node_no,link_type)\n",
    "    return topic_summarizer(lda,node_list)"
   ]
  },
  {
   "cell_type": "code",
   "execution_count": 55,
   "metadata": {
    "collapsed": true
   },
   "outputs": [],
   "source": [
    "def make_topic_ratio_graph(theta,title=\"topics\"):\n",
    "    fig = plt.figure()\n",
    "    ax = fig.add_subplot(1,1,1)\n",
    "    labels = [unicode(x+1) for x in range(len(theta))]\n",
    "    plt.rcParams['font.size']=20.0\n",
    "    ax.pie(theta,colors=COLORLIST[:len(theta)],labels=labels,startangle=90,radius=0.2, center=(0.5, 0.5), frame=True,counterclock=False)\n",
    "    ax.axis(\"off\")\n",
    "    ax.axis('equal')\n",
    "    fig.canvas.set_window_title(title)\n",
    "    #ax.set_title(title)\n",
    "    fig.set_facecolor('w')\n",
    "    #plt.savefig(os.path.join(exp_dir,\"Topic\"+unicode(lda.K)+\"_share_pie.png\"))"
   ]
  },
  {
   "cell_type": "code",
   "execution_count": null,
   "metadata": {
    "collapsed": true
   },
   "outputs": [],
   "source": []
  },
  {
   "cell_type": "code",
   "execution_count": 60,
   "metadata": {
    "collapsed": true
   },
   "outputs": [],
   "source": [
    "COLORLIST_R = [r\"#EB6100\",r\"#F39800\",r\"#FCC800\",r\"#FFF100\",r\"#CFDB00\",r\"#8FC31F\",r\"#22AC38\",r\"#009944\",r\"#009B6B\",r\"#009E96\",r\"#00A0C1\",r\"#00A0E9\",r\"#0086D1\",r\"#0068B7\",r\"#00479D\",r\"#1D2088\",r\"#601986\",r\"#920783\",r\"#BE0081\",r\"#E4007F\",r\"#E5006A\",r\"#E5004F\",r\"#E60033\"]\n",
    "COLORLIST = [c for c in COLORLIST_R[::2]]#色のステップ調整"
   ]
  },
  {
   "cell_type": "code",
   "execution_count": 61,
   "metadata": {
    "collapsed": true
   },
   "outputs": [],
   "source": [
    "tgt_node = 2"
   ]
  },
  {
   "cell_type": "code",
   "execution_count": 62,
   "metadata": {},
   "outputs": [
    {
     "data": {
      "text/plain": [
       "array([  9.59805697e-02,   4.72933017e-02,   9.66046751e-02,\n",
       "         9.46385086e-01,   2.73436368e-01,   3.95321786e-01,\n",
       "         3.34634602e-01,   1.27389371e+00,   1.53642106e+00,\n",
       "         2.88388383e-05], dtype=float32)"
      ]
     },
     "execution_count": 62,
     "metadata": {},
     "output_type": "execute_result"
    }
   ],
   "source": [
    "parent_topics = get_adjecents_topics(G,lda,tgt_node,\"in\")\n",
    "parent_topics"
   ]
  },
  {
   "cell_type": "code",
   "execution_count": 63,
   "metadata": {},
   "outputs": [
    {
     "data": {
      "text/plain": [
       "array([ 0.72512645,  0.66694838,  0.19917828,  2.75923324,  0.60234141,\n",
       "        0.83342141,  4.41810894,  2.91333914,  1.77802444,  0.10427851], dtype=float32)"
      ]
     },
     "execution_count": 63,
     "metadata": {},
     "output_type": "execute_result"
    }
   ],
   "source": [
    "child_topics = get_adjecents_topics(G,lda,tgt_node,\"out\")\n",
    "child_topics"
   ]
  },
  {
   "cell_type": "code",
   "execution_count": 67,
   "metadata": {},
   "outputs": [],
   "source": [
    "make_topic_ratio_graph(parent_topics,title=\"parents\")"
   ]
  },
  {
   "cell_type": "code",
   "execution_count": 68,
   "metadata": {},
   "outputs": [
    {
     "data": {
      "image/png": "[encoded data removed]",
      "text/plain": [
       "<matplotlib.figure.Figure at 0x7f821f860590>"
      ]
     },
     "metadata": {},
     "output_type": "display_data"
    }
   ],
   "source": [
    "plt.show()"
   ]
  },
  {
   "cell_type": "code",
   "execution_count": 69,
   "metadata": {
    "collapsed": true
   },
   "outputs": [],
   "source": [
    "make_topic_ratio_graph(child_topics,title=\"childlen\")"
   ]
  },
  {
   "cell_type": "code",
   "execution_count": 70,
   "metadata": {},
   "outputs": [
    {
     "data": {
      "image/png": "[encoded data removed]",
      "text/plain": [
       "<matplotlib.figure.Figure at 0x7f821f4a0ed0>"
      ]
     },
     "metadata": {},
     "output_type": "display_data"
    }
   ],
   "source": [
    "plt.show()"
   ]
  }
 ],
 "metadata": {
  "kernelspec": {
   "display_name": "Python 2",
   "language": "python",
   "name": "python2"
  },
  "language_info": {
   "codemirror_mode": {
    "name": "ipython",
    "version": 2
   },
   "file_extension": ".py",
   "mimetype": "text/x-python",
   "name": "python",
   "nbconvert_exporter": "python",
   "pygments_lexer": "ipython2",
   "version": "2.7.15"
  }
 },
 "nbformat": 4,
 "nbformat_minor": 2
}
