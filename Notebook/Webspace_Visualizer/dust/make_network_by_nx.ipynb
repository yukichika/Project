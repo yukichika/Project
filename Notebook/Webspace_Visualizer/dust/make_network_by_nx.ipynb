{
 "cells": [
  {
   "cell_type": "code",
   "execution_count": 65,
   "metadata": {},
   "outputs": [],
   "source": [
    "import numpy as np\n",
    "import os\n",
    "import os.path\n",
    "import cPickle as pickle\n",
    "import matplotlib.pyplot as plt\n",
    "import matplotlib\n",
    "import matplotlib.cm as cm\n",
    "from math import modf#整数と小数の分離\n",
    "import matplotlib.font_manager\n",
    "import cv2\n",
    "from sklearn import decomposition\n",
    "\n",
    "import sys\n",
    "sys.path.append(\"../../MypythonModule\")\n",
    "import mymodule\n",
    "sys.path.append(\"../../Interactive_Graph_Visualizer/networkx-master\")\n",
    "import networkx as nx\n",
    "sys.path.append(\"../../Webspace_Visualizer/Webspace_Visualizer\")\n",
    "import color_changer\n",
    "import LDA_PCA\n",
    "import make_lch_picker"
   ]
  },
  {
   "cell_type": "code",
   "execution_count": 66,
   "metadata": {
    "collapsed": true
   },
   "outputs": [],
   "source": [
    "def suffix_generator(target=None,is_largest=False):\n",
    "    suffix = \"\"\n",
    "    if target != None:\n",
    "        suffix += \"_\" + target\n",
    "    if is_largest == True:\n",
    "        suffix += \"_largest\"\n",
    "    return suffix"
   ]
  },
  {
   "cell_type": "code",
   "execution_count": 67,
   "metadata": {
    "collapsed": true
   },
   "outputs": [],
   "source": [
    "\"\"\"オプションを読みやすい形式で保存.前処理をしてから渡す\"\"\"\n",
    "def save_drawoption(param_dict,path):\n",
    "    #if param_dict.has_key(\"weited\"):\n",
    "    #\tif param_dict[\"waited\"]==NOWEIGHT:\n",
    "    #\t\tparam_dict[\"waited\"]=\"NOWEIGHT\"\n",
    "    #\telif param_dict[\"waited\"]==ATTR_WEIGHT:\n",
    "    #\t\tparam_dict[\"waited\"]=\"ATTR_WEIGHT\"\n",
    "    #\telif param_dict[\"waited\"]==REPUL_WEIGHT:\n",
    "    #\t\tparam_dict[\"waited\"]=\"REPUL_WEIGHT\"\n",
    "    #\telif param_dict[\"waited\"]==BOTH_WEIGHT:\n",
    "    #\t\tparam_dict[\"waited\"]=\"BOTH_WEIGHT\"\n",
    "    mymodule.save_option(param_dict,path)"
   ]
  },
  {
   "cell_type": "code",
   "execution_count": 68,
   "metadata": {
    "collapsed": true
   },
   "outputs": [],
   "source": [
    "\"\"\"\n",
    "HITSのパラメータに応じてノードのサイズを決定\n",
    "@ret:{ノード番号:size}の辞書\n",
    "\"\"\"\n",
    "def calc_nodesize(G,attr=\"a_score\",min_size=1000,max_size=5000):\n",
    "    if type(attr) != str and type(attr) != unicode:\n",
    "        normal_size = max_size-min_size\n",
    "        normal_size = attr\n",
    "        print \"all size uniformed\"\n",
    "        return dict([(node_no,normal_size) for node_no in G.node])\n",
    "\n",
    "    a_scores,h_scores=nx.hits(G)\n",
    "    if attr == \"a_score\":\n",
    "        use_vals = a_scores\n",
    "    elif attr == \"h_score\":\n",
    "        use_vals = h_scores\n",
    "    else:\n",
    "        print \"invalid attribute\"\n",
    "        return\n",
    "\n",
    "    max_val = max(use_vals.values())\n",
    "    size_dict = dict()\n",
    "    for node_no,node_attr in G.nodes(data=True):\n",
    "        val = node_attr.get(attr)\n",
    "        if val == None:\n",
    "            size = min_size/2\n",
    "        else:\n",
    "            size = (val/max_val)*(max_size-min_size) + min_size\n",
    "        size_dict[node_no] = size\n",
    "    return size_dict"
   ]
  },
  {
   "cell_type": "code",
   "execution_count": 69,
   "metadata": {
    "collapsed": true
   },
   "outputs": [],
   "source": [
    "\"\"\"pathの位置に乱数があればそれを，無ければ新たに作る\"\"\"\n",
    "def pos_initializer(G,path):\n",
    "    if os.path.exists(path):\n",
    "        with open(path) as fi:\n",
    "            pos = pickle.load(fi)\n",
    "        return pos\n",
    "\n",
    "    pos = dict()\n",
    "    for a, d in G.nodes(data=True):\n",
    "        pos[a] = np.random.rand(2)\n",
    "    with open(path,\"w\") as fo:\n",
    "        pickle.dump(pos,fo)\n",
    "    return pos\n"
   ]
  },
  {
   "cell_type": "code",
   "execution_count": 70,
   "metadata": {
    "collapsed": true
   },
   "outputs": [],
   "source": [
    "def draw_node_with_pie(G,pos,lda,size):\n",
    "    theta = lda.theta()\n",
    "    file_id_dict_inv = {v:k for k, v in lda.file_id_dict.items()}#ファイル名とLDAでの文書番号(逆引き)．LDAの方に作っとけばよかった．．．\n",
    "    for serial_no,node_no in enumerate(G.node.keys()):\n",
    "        draw_pos = pos[node_no]\n",
    "        node_size = size[node_no]\n",
    "        lda_no = file_id_dict_inv.get(node_no)\n",
    "        if lda_no == None:\n",
    "            pass\n",
    "        else:\n",
    "            theta_d = theta[lda_no]\n",
    "            plt.pie(theta_d,colors=COLORLIST[:lda.K],startangle=90,radius=node_size, center=draw_pos, frame=False,counterclock=False)"
   ]
  },
  {
   "cell_type": "code",
   "execution_count": 71,
   "metadata": {
    "collapsed": true
   },
   "outputs": [],
   "source": [
    "def cvtRGB_to_HTML(RGB_1channel):\n",
    "    R,G,B = RGB_1channel\n",
    "    R_str = unicode(\"%02x\"%R)\n",
    "    G_str = unicode(\"%02x\"%G)\n",
    "    B_str = unicode(\"%02x\"%B)\n",
    "    return u\"#\"+R_str+G_str+B_str"
   ]
  },
  {
   "cell_type": "code",
   "execution_count": 72,
   "metadata": {
    "collapsed": true
   },
   "outputs": [],
   "source": [
    "def cvtLCH_to_HTML(LCH_1channel):\n",
    "    lch_img = np.ones((2,2,3),dtype=np.float32)*LCH_1channel\n",
    "    BGR_img = color_changer.cvtLCH2BGR(lch_img)\n",
    "    RGB_img = cv2.cvtColor(BGR_img,cv2.COLOR_BGR2RGB)\n",
    "    RGB_1channel = RGB_img[0,0]\n",
    "    return cvtRGB_to_HTML(RGB_1channel)"
   ]
  },
  {
   "cell_type": "code",
   "execution_count": 73,
   "metadata": {
    "collapsed": true
   },
   "outputs": [],
   "source": [
    "\"\"\"1次元へのPCAをベースとして色変換を行う関数分岐\"\"\"\n",
    "def get_color_map_phi(G,pos,lda,comp_type=\"COMP1\",lumine=255):\n",
    "    theta = lda.theta()[:len(lda.docs)]\n",
    "    phi = lda.phi()\n",
    "    psi_fake = lda.phi()*(lda.theta().sum(axis=0)[np.newaxis].T)\n",
    "    phi = psi_fake\n",
    "\n",
    "    #phi = (np.zeros_like(phi)+1)*(lda.theta().sum(axis=0)[np.newaxis].T)\n",
    "\n",
    "    pca = decomposition.PCA(1)\n",
    "    pca.fit(phi)\n",
    "    phi_pca = pca.transform(phi)\n",
    "    reg_phi_pca = (phi_pca-phi_pca.min())/(phi_pca.max()-phi_pca.min())#0~1に正規化\n",
    "    h_values = (reg_phi_pca*np.pi).T[0]#列ヴェクトルとして与えられるため，1行に変換\n",
    "    #LDA_PCA.topic_color_manager_1d(h_values,lda,lumine)#色変換の図を表示\n",
    "    make_lch_picker.draw_half(h_values,lumine=lumine,with_label=False)#色変換の図を表示\n",
    "\n",
    "    file_id_dict_inv = {v:k for k, v in lda.file_id_dict.items()}#ファイル名とLDAでの文書番号(逆引き)．LDAの方に作っとけばよかった．．．\n",
    "    color_map = {}\n",
    "    for serial_no,node_no in enumerate(G.node.keys()):\n",
    "        lda_no = file_id_dict_inv.get(node_no)\n",
    "        if lda_no == None:\n",
    "            color_map[node_no] = r\"#FFFFFF\"\n",
    "            continue\n",
    "        theta_d = theta[lda_no]\n",
    "        lch = theta_to_lch(theta_d,h_values,comp_type=comp_type,l=lumine)\n",
    "        html_color = cvtLCH_to_HTML(lch)\n",
    "        color_map[node_no] = html_color\n",
    "\n",
    "    return color_map"
   ]
  },
  {
   "cell_type": "code",
   "execution_count": 74,
   "metadata": {
    "collapsed": true
   },
   "outputs": [],
   "source": [
    "def circler_color_converter(values,start_angle):\n",
    "    values = values+start_angle*np.pi\n",
    "    np.where(values<2*np.pi,values,values-2*np.pi)\n",
    "    return values"
   ]
  },
  {
   "cell_type": "code",
   "execution_count": 75,
   "metadata": {
    "collapsed": true
   },
   "outputs": [],
   "source": [
    "def cvtRGBAflt2HTML(rgba):\n",
    "    rgb = rgba[0][:3]\n",
    "    rgb_uint = (rgb*255).astype(np.uint8)\n",
    "    return LDA_PCA.cvtRGB_to_HTML(rgb_uint)"
   ]
  },
  {
   "cell_type": "code",
   "execution_count": 76,
   "metadata": {
    "collapsed": true
   },
   "outputs": [],
   "source": [
    "def get_color_map_theta(G,pos,lda,comp_type=\"COMP1\",lumine=255,cmap=\"lch\"):\n",
    "    \"\"\"thetaの方を主成分分析で1次元にして彩色\"\"\"\n",
    "    theta = lda.theta()[:len(lda.docs)]\n",
    "\n",
    "    pca = decomposition.PCA(1)\n",
    "    pca.fit(theta)\n",
    "    theta_pca = pca.transform(theta)\n",
    "    reg_theta_pca = (theta_pca-theta_pca.min())/(theta_pca.max()-theta_pca.min())#0~1に正規化\n",
    "    h_values = circler_color_converter(reg_theta_pca*2*np.pi,0.2).T[0]#列ヴェクトルとして与えられるため，1行に変換\n",
    "    make_lch_picker.draw_color_hist(h_values,resolution=50,lumine=lumine)#色変換の図を表示\n",
    "\n",
    "    if cmap == \"lch\":\n",
    "        c_flt = 1.0\n",
    "        file_id_dict_inv = {v:k for k, v in lda.file_id_dict.items()}#ファイル名とLDAでの文書番号(逆引き)．LDAの方に作っとけばよかった．．．\n",
    "        color_map = {}\n",
    "        for serial_no,node_no in enumerate(G.node.keys()):\n",
    "            lda_no = file_id_dict_inv.get(node_no)\n",
    "            if lda_no == None:\n",
    "                color_map[node_no] = r\"#FFFFFF\"\n",
    "                continue\n",
    "            h_value = h_values[lda_no]\n",
    "            lch = np.array((lumine,c_flt,h_value),dtype=np.float32)\n",
    "            html_color = cvtLCH_to_HTML(lch)\n",
    "            color_map[node_no] = html_color\n",
    "\n",
    "    elif cmap == \"jet\":\n",
    "        c_map = cm.jet\n",
    "        file_id_dict_inv = {v:k for k, v in lda.file_id_dict.items()}#ファイル名とLDAでの文書番号(逆引き)．LDAの方に作っとけばよかった．．．\n",
    "        color_map = {}\n",
    "        for serial_no,node_no in enumerate(G.node.keys()):\n",
    "            lda_no = file_id_dict_inv.get(node_no)\n",
    "            if lda_no == None:\n",
    "                color_map[node_no] = r\"#FFFFFF\"\n",
    "                continue\n",
    "            color_map[node_no] = cvtRGBAflt2HTML(c_map(reg_theta_pca[lda_no]))\n",
    "\n",
    "    return color_map"
   ]
  },
  {
   "cell_type": "code",
   "execution_count": 77,
   "metadata": {
    "collapsed": true
   },
   "outputs": [],
   "source": [
    "\"\"\"色相をPCAの1次元で，彩度をそれぞれのトピック分布の各比率で合成(composition)\"\"\"\n",
    "def draw_node_with_lch(G,pos,lda,size,comp_type=\"COMP1\",lumine=255,color_map_by=\"phi\",cmap=\"lch\"):\n",
    "    if color_map_by == \"phi\":\n",
    "        color_map = get_color_map_phi(G,pos,lda,comp_type,lumine=lumine)\n",
    "        node_color = color_map.values()\n",
    "    elif color_map_by == \"theta\":\n",
    "        color_map = get_color_map_theta(G,pos,lda,comp_type,lumine=lumine,cmap=cmap)\n",
    "        node_color = color_map.values()\n",
    "    elif color_map_by == None:\n",
    "        node_color = [\"#FFFFFF\"]*len(G.node)\n",
    "    size_array = size.values()\n",
    "    nx.draw_networkx_nodes(G,pos=pos,node_color=node_color,node_size=size_array,pick_func=pick_function);"
   ]
  },
  {
   "cell_type": "code",
   "execution_count": 78,
   "metadata": {
    "collapsed": true
   },
   "outputs": [],
   "source": [
    "\"\"\"トピック分布から色を1色決定し，lchの形で返す\"\"\"\n",
    "def theta_to_lch(theta_d,h_values,comp_type=\"COMP1\",l=100):\n",
    "    if comp_type == \"REPR2\":#色相をPCAの1次元で，彩度をそれぞれの最大トピックの値で返す\n",
    "        c = theta_d.max()\n",
    "        rep_topic = theta_d.argmax()\n",
    "        h = h_values[rep_topic]\n",
    "        lch = np.array((l,c,h),dtype=np.float32)\n",
    "    elif comp_type == \"COMP1\":#色相をPCAの1次元で，彩度をそれぞれのトピック分布の各比率で合成(composition)\n",
    "        orth_vals = np.array([color_changer.cvt_polar_to_orth(theta_t,h_values[k]) for k,theta_t in enumerate(theta_d)],dtype=np.float32)\n",
    "        orth_vals = orth_vals.sum(axis=0)\n",
    "        c_flt = np.sqrt(orth_vals[0]**2+orth_vals[1]**2)\n",
    "        h_flt = np.arctan2(orth_vals[1],orth_vals[0])\n",
    "        lch = np.array((l,c_flt,h_flt),dtype=np.float32)\n",
    "\n",
    "    return lch"
   ]
  },
  {
   "cell_type": "code",
   "execution_count": 79,
   "metadata": {
    "collapsed": true
   },
   "outputs": [],
   "source": [
    "\"\"\"消えてしまった軸を復活させる(たい)．大仰なやり方なうえ不十分だが一応見るに堪える形式\"\"\"\n",
    "def draw_axis(xstep,ystep=None):\n",
    "    if(ystep == None):\n",
    "        ystep = xstep\n",
    "    xmin,xmax,ymin,ymax = plt.axis()\n",
    "    xmin = modf(xmin/xstep)[1]*xstep\n",
    "    ymin = modf(ymin/ystep)[1]*ystep\n",
    "    plt.xticks(np.arange(xmin,xmax,ystep))#なぜか座標軸が消えるので補完\n",
    "    plt.yticks(np.arange(ymin,ymax,xstep))#なぜか座標軸が消えるので補完"
   ]
  },
  {
   "cell_type": "code",
   "execution_count": 80,
   "metadata": {
    "collapsed": true
   },
   "outputs": [],
   "source": [
    "\"\"\"{ノード番号:値}で与えられた辞書の穴を埋めてリスト化.keyとして数字が入っており，かつそれが昇順に並んでいることを前提．Deprecated\"\"\"\n",
    "def convert_nodeDict_to_array(node_dict,default_val=0):\n",
    "    max_no = node_dict.keys()[-1]\n",
    "    ret_list = [default_val]*(max_no+1)\n",
    "    for k,v in node_dict.items():\n",
    "        ret_list[k] = v\n",
    "    return ret_list"
   ]
  },
  {
   "cell_type": "code",
   "execution_count": 81,
   "metadata": {
    "collapsed": true
   },
   "outputs": [],
   "source": [
    "\"\"\"ノードおよびエッジを描画する．オプションによって動作指定\"\"\"\n",
    "def draw_network(G,pos,size,option=\"REPR\",lda=None,dpi=100,with_label=True,lumine=255,color_map_by=\"phi\",cmap=\"lch\"):\n",
    "    if option == \"REPR\":\n",
    "        color_map = nx.get_node_attributes(G,\"color\")\n",
    "        size_array = size.values()\n",
    "        #nx.draw(G,pos=pos,with_labels=True)#with_labelsは各ノードのラベル表示.この関数事体を呼ばずに下二つを呼ぶと軸ラベルがつく．内部的にはいろいろ処理した後下二つを呼んでる\n",
    "        nx.draw_networkx_nodes(G,pos=pos,node_color=color_map.values(),node_size=size_array);\n",
    "        #nx.draw_networkx_edges(G,pos,font_size=int(12*100/dpi))\n",
    "    elif option == \"PIE\":\n",
    "        draw_node_with_pie(G,pos,lda,size)\n",
    "        #draw_axis(xstep=0.2,ystep=0.2)#なぜか上処理で軸が消えてしまうため書き直す\n",
    "    elif option == \"REPR2\" or option == \"COMP1\" or option == \"COMP2\":\n",
    "        draw_node_with_lch(G,pos,lda,size,comp_type=option,lumine=lumine,color_map_by=color_map_by,cmap=cmap)\n",
    "\n",
    "    nx.draw_networkx_edges(G,pos)\n",
    "    if with_label == True:\n",
    "        nx.draw_networkx_labels(G,pos,font_size=int(12*100/dpi))"
   ]
  },
  {
   "cell_type": "code",
   "execution_count": 82,
   "metadata": {
    "collapsed": true
   },
   "outputs": [],
   "source": [
    "def pick_function(event):\n",
    "    global G_global\n",
    "    ind = event.ind\n",
    "    ax = plt.gca()\n",
    "    fig = ax.get_figure()\n",
    "    for i in ind:\n",
    "        print ind,\"file_no=\",G_global.node.keys()[i]\n",
    "        fig.text(1,-1,unicode(G_global.node.keys()[i]),fontproperties=prop)\n",
    "    #print('onpick3 scatter:', ind, np.take(x, ind), np.take(y, ind))"
   ]
  },
  {
   "cell_type": "code",
   "execution_count": 83,
   "metadata": {},
   "outputs": [],
   "source": [
    "search_word = u\"iPhone\"\n",
    "max_page = 5\n",
    "root_dir = \"Data/Search_\" + search_word + \"_\" + unicode(max_page) + \"_add_childs_append\" \n",
    "is_largest = True\n",
    "G_name = \"G\" + suffix_generator(is_largest=is_largest)\n",
    "target = \"myexttext\"\n",
    "use_to_link = \"to_ext_links\""
   ]
  },
  {
   "cell_type": "code",
   "execution_count": 84,
   "metadata": {
    "collapsed": true
   },
   "outputs": [],
   "source": [
    "K = 10\n",
    "iteration = 50\n",
    "alpha = 0.001\n",
    "beta = 0.001\n",
    "no_below = 5#単語の最低出現文書数\n",
    "no_above = 0.3#単語の最大出現文書比率\n",
    "no_less = 20#文書に含まれる最低単語数\n",
    "do_hparam_update = False#パラメータを更新するか否か\n",
    "\n",
    "chasen_dir_name = \"Chasen\" + suffix_generator(target,is_largest)\n",
    "exp_name = \"K\" + unicode(K) + suffix_generator(target,is_largest)\n",
    "comment = None"
   ]
  },
  {
   "cell_type": "code",
   "execution_count": 85,
   "metadata": {
    "collapsed": true
   },
   "outputs": [],
   "source": [
    "comp_func_name = \"comp4_2\"\n",
    "void_node_remove = True#空のノード(LDA結果のないノード)を除去するかどうか"
   ]
  },
  {
   "cell_type": "code",
   "execution_count": 86,
   "metadata": {
    "collapsed": true
   },
   "outputs": [],
   "source": [
    "draw_option={\n",
    "    \"comp_func_name\":comp_func_name,\n",
    "    #\"weight_type\":[],\n",
    "    \"weight_type\":[\"ATTR\",\"REPUL\"],\n",
    "    #\"weight_type\":[\"ATTR\",\"REPUL\",\"HITS\"],#オーソリティかハブかはsize_attrで指定\n",
    "    # \"node_type\":\"COMP1\",\n",
    "    \"node_type\":\"REPR\",\n",
    "    #\"node_type\":\"PIE\",\n",
    "    \"do_rescale\":True,\n",
    "    \"with_label\":False,\n",
    "    #\"size_attr\":\"a_score\",\n",
    "    #\"size_attr\":0.02,\n",
    "    \"size_attr\":2000,\n",
    "    \"lumine\":200,\n",
    "    \"cmap\":\"jet\",\n",
    "    #\"color_map_by\":\"phi\"\n",
    "    \"color_map_by\":\"theta\"\n",
    "    #\"color_map_by\":\"pie\"\n",
    "    #\"color_map_by\":None\n",
    "    }"
   ]
  },
  {
   "cell_type": "code",
   "execution_count": 87,
   "metadata": {
    "collapsed": true
   },
   "outputs": [],
   "source": [
    "nx_dir = os.path.join(os.path.join(root_dir,exp_name),\"nx_datas\")\n",
    "src_pkl_name = \"G_with_params_\" + comp_func_name + \".gpkl\"\n",
    "weights_pkl_name = \"all_node_weights_\" + comp_func_name + \".gpkl\""
   ]
  },
  {
   "cell_type": "code",
   "execution_count": 88,
   "metadata": {
    "collapsed": true
   },
   "outputs": [],
   "source": [
    "G_global = None"
   ]
  },
  {
   "cell_type": "code",
   "execution_count": 89,
   "metadata": {
    "collapsed": true
   },
   "outputs": [],
   "source": [
    "exp_dir = os.path.join(root_dir,exp_name)\n",
    "nx_process_dir = os.path.join(nx_dir,\"process\")"
   ]
  },
  {
   "cell_type": "code",
   "execution_count": 90,
   "metadata": {
    "collapsed": true
   },
   "outputs": [],
   "source": [
    "with open(os.path.join(nx_dir,src_pkl_name),\"r\") as fi:\n",
    "    G = pickle.load(fi)\n",
    "with open(os.path.join(nx_dir,weights_pkl_name)) as fi:\n",
    "    all_node_weights = pickle.load(fi)\n",
    "with open(os.path.join(exp_dir,\"instance.pkl\")) as fi:\n",
    "   lda = pickle.load(fi)"
   ]
  },
  {
   "cell_type": "code",
   "execution_count": 91,
   "metadata": {
    "collapsed": true
   },
   "outputs": [],
   "source": [
    "weight_type = draw_option.get(\"weight_type\",[\"ATTR\",\"REPUL\"])\n",
    "comp_func_name = draw_option.get(\"comp_func_name\",\"comp1_1\")\n",
    "node_type = draw_option.get(\"node_type\",\"REPR\")\n",
    "do_rescale = draw_option.get(\"do_rescale\",True)\n",
    "with_label = draw_option.get(\"with_label\",True)\n",
    "size_attr = draw_option.get(\"size_attr\",\"None\")\n",
    "lumine = draw_option.get(\"lumine\",255)\n",
    "save_drawoption(draw_option,os.path.join(nx_dir,\"draw_option.txt\"))\n",
    "color_map_by = draw_option.get(\"color_map_by\",\"phi\")\n",
    "cmap = draw_option.get(\"cmap\",\"lch\")"
   ]
  },
  {
   "cell_type": "code",
   "execution_count": 92,
   "metadata": {},
   "outputs": [
    {
     "data": {
      "text/plain": [
       "array([[ 1.        ,  0.70424899,  0.64309846, ...,  0.3461291 ,\n",
       "         0.2470108 ,  0.29506001],\n",
       "       [ 0.70424899,  1.        ,  0.99478672, ...,  0.59493346,\n",
       "         0.43049698,  0.48893982],\n",
       "       [ 0.64309846,  0.99478672,  1.        , ...,  0.60614034,\n",
       "         0.43945303,  0.49648501],\n",
       "       ..., \n",
       "       [ 0.3461291 ,  0.59493346,  0.60614034, ...,  1.        ,\n",
       "         0.89786772,  0.66544784],\n",
       "       [ 0.2470108 ,  0.43049698,  0.43945303, ...,  0.89786772,\n",
       "         1.        ,  0.71037907],\n",
       "       [ 0.29506001,  0.48893982,  0.49648501, ...,  0.66544784,\n",
       "         0.71037907,  1.        ]])"
      ]
     },
     "execution_count": 92,
     "metadata": {},
     "output_type": "execute_result"
    }
   ],
   "source": [
    "new_all_nodes_weights = all_node_weights\n",
    "new_all_nodes_weights"
   ]
  },
  {
   "cell_type": "code",
   "execution_count": 93,
   "metadata": {},
   "outputs": [
    {
     "data": {
      "text/plain": [
       "42"
      ]
     },
     "execution_count": 93,
     "metadata": {},
     "output_type": "execute_result"
    }
   ],
   "source": [
    "G_undirected = G#適切なスプリングモデルのためには無向グラフである必要あり\n",
    "if G.is_directed():\n",
    "    G_undirected = G.to_undirected()\n",
    "global G_global\n",
    "G_global = G_undirected\n",
    "\n",
    "len(G_global.node.keys())\n"
   ]
  },
  {
   "cell_type": "code",
   "execution_count": 94,
   "metadata": {},
   "outputs": [
    {
     "data": {
      "image/png": "[encoded data removed]",
      "text/plain": [
       "<matplotlib.figure.Figure at 0x111882b50>"
      ]
     },
     "metadata": {},
     "output_type": "display_data"
    },
    {
     "data": {
      "image/png": "[encoded data removed]",
      "text/plain": [
       "<matplotlib.figure.Figure at 0x114d1ca50>"
      ]
     },
     "metadata": {},
     "output_type": "display_data"
    }
   ],
   "source": [
    "nx.draw_networkx(G_global)\n",
    "plt.show()"
   ]
  },
  {
   "cell_type": "code",
   "execution_count": 95,
   "metadata": {},
   "outputs": [
    {
     "name": "stdout",
     "output_type": "stream",
     "text": [
      "all size uniformed\n"
     ]
    },
    {
     "data": {
      "text/plain": [
       "{0: 2000,\n",
       " 1: 2000,\n",
       " 2: 2000,\n",
       " 3: 2000,\n",
       " 4: 2000,\n",
       " 6: 2000,\n",
       " 8: 2000,\n",
       " 9: 2000,\n",
       " 10: 2000,\n",
       " 12: 2000,\n",
       " 13: 2000,\n",
       " 14: 2000,\n",
       " 31: 2000,\n",
       " 32: 2000,\n",
       " 33: 2000,\n",
       " 34: 2000,\n",
       " 35: 2000,\n",
       " 36: 2000,\n",
       " 37: 2000,\n",
       " 38: 2000,\n",
       " 39: 2000,\n",
       " 40: 2000,\n",
       " 41: 2000,\n",
       " 42: 2000,\n",
       " 43: 2000,\n",
       " 44: 2000,\n",
       " 45: 2000,\n",
       " 47: 2000,\n",
       " 48: 2000,\n",
       " 49: 2000,\n",
       " 50: 2000,\n",
       " 52: 2000,\n",
       " 53: 2000,\n",
       " 59: 2000,\n",
       " 60: 2000,\n",
       " 61: 2000,\n",
       " 62: 2000,\n",
       " 63: 2000,\n",
       " 65: 2000,\n",
       " 66: 2000,\n",
       " 67: 2000,\n",
       " 68: 2000}"
      ]
     },
     "execution_count": 95,
     "metadata": {},
     "output_type": "execute_result"
    }
   ],
   "source": [
    "revised_hits_scores = calc_nodesize(G,attr=size_attr,min_size=1,max_size=3)#引力斥力計算用に正規化したhitsスコア\n",
    "revised_hits_scores"
   ]
  },
  {
   "cell_type": "code",
   "execution_count": 96,
   "metadata": {
    "collapsed": true
   },
   "outputs": [],
   "source": [
    "dpi = 20\n",
    "prop.set_size(int(12*100/dpi))"
   ]
  },
  {
   "cell_type": "code",
   "execution_count": 97,
   "metadata": {},
   "outputs": [
    {
     "data": {
      "text/plain": [
       "{0: array([ 0.71370264,  0.8948053 ]),\n",
       " 1: array([ 0.53013538,  0.50832084]),\n",
       " 2: array([ 0.91868693,  0.87502405]),\n",
       " 3: array([ 0.06591412,  0.15817481]),\n",
       " 4: array([ 0.21255459,  0.14264263]),\n",
       " 6: array([ 0.0242707,  0.2891225]),\n",
       " 8: array([ 0.00108663,  0.56144382]),\n",
       " 9: array([ 0.73811276,  0.13758685]),\n",
       " 10: array([ 0.7469388 ,  0.38230224]),\n",
       " 12: array([ 0.36549116,  0.9894899 ]),\n",
       " 13: array([ 0.43652152,  0.61995565]),\n",
       " 14: array([ 0.37426261,  0.52162132]),\n",
       " 31: array([ 0.14212745,  0.43758786]),\n",
       " 32: array([ 0.48447398,  0.2666447 ]),\n",
       " 33: array([ 0.93186802,  0.68213029]),\n",
       " 34: array([ 0.90597186,  0.61938709]),\n",
       " 35: array([ 0.03293614,  0.59239576]),\n",
       " 36: array([ 0.92813744,  0.41667202]),\n",
       " 37: array([ 0.28891659,  0.96282856]),\n",
       " 38: array([ 0.91107657,  0.10044667]),\n",
       " 39: array([ 0.00363965,  0.36580019]),\n",
       " 40: array([ 0.21248689,  0.24680806]),\n",
       " 41: array([ 0.14734585,  0.83611476]),\n",
       " 42: array([ 0.43726586,  0.46980651]),\n",
       " 43: array([ 0.85502706,  0.92082379]),\n",
       " 44: array([ 0.5435136 ,  0.29473778]),\n",
       " 45: array([ 0.38060636,  0.57154784]),\n",
       " 47: array([ 0.29216467,  0.35655688]),\n",
       " 48: array([ 0.19008839,  0.11658813]),\n",
       " 49: array([ 0.69291529,  0.5690806 ]),\n",
       " 50: array([ 0.89779447,  0.63764511]),\n",
       " 52: array([ 0.32019471,  0.34516072]),\n",
       " 53: array([ 0.0940899 ,  0.66966392]),\n",
       " 59: array([ 0.86399929,  0.10190598]),\n",
       " 60: array([ 0.2102921 ,  0.82089503]),\n",
       " 61: array([ 0.96903552,  0.5350345 ]),\n",
       " 62: array([ 0.19551806,  0.72805683]),\n",
       " 63: array([ 0.02959043,  0.63240407]),\n",
       " 65: array([ 0.23716778,  0.8365687 ]),\n",
       " 66: array([ 0.9376849 ,  0.96696265]),\n",
       " 67: array([ 0.92791081,  0.46432183]),\n",
       " 68: array([ 0.64941913,  0.68622924])}"
      ]
     },
     "execution_count": 97,
     "metadata": {},
     "output_type": "execute_result"
    }
   ],
   "source": [
    "initial_pos = pos_initializer(G_undirected,os.path.join(root_dir,\"nest1.rand\"))\n",
    "initial_pos"
   ]
  },
  {
   "cell_type": "code",
   "execution_count": 98,
   "metadata": {},
   "outputs": [
    {
     "data": {
      "text/plain": [
       "{0: array([ 0.71370264,  0.8948053 ]),\n",
       " 1: array([ 0.53013538,  0.50832084]),\n",
       " 2: array([ 0.91868693,  0.87502405]),\n",
       " 3: array([ 0.06591412,  0.15817481]),\n",
       " 4: array([ 0.21255459,  0.14264263]),\n",
       " 6: array([ 0.0242707,  0.2891225]),\n",
       " 8: array([ 0.00108663,  0.56144382]),\n",
       " 9: array([ 0.73811276,  0.13758685]),\n",
       " 10: array([ 0.7469388 ,  0.38230224]),\n",
       " 12: array([ 0.36549116,  0.9894899 ]),\n",
       " 13: array([ 0.43652152,  0.61995565]),\n",
       " 14: array([ 0.37426261,  0.52162132]),\n",
       " 31: array([ 0.14212745,  0.43758786]),\n",
       " 32: array([ 0.48447398,  0.2666447 ]),\n",
       " 33: array([ 0.93186802,  0.68213029]),\n",
       " 34: array([ 0.90597186,  0.61938709]),\n",
       " 35: array([ 0.03293614,  0.59239576]),\n",
       " 36: array([ 0.92813744,  0.41667202]),\n",
       " 37: array([ 0.28891659,  0.96282856]),\n",
       " 38: array([ 0.91107657,  0.10044667]),\n",
       " 39: array([ 0.00363965,  0.36580019]),\n",
       " 40: array([ 0.21248689,  0.24680806]),\n",
       " 41: array([ 0.14734585,  0.83611476]),\n",
       " 42: array([ 0.43726586,  0.46980651]),\n",
       " 43: array([ 0.85502706,  0.92082379]),\n",
       " 44: array([ 0.5435136 ,  0.29473778]),\n",
       " 45: array([ 0.38060636,  0.57154784]),\n",
       " 47: array([ 0.29216467,  0.35655688]),\n",
       " 48: array([ 0.19008839,  0.11658813]),\n",
       " 49: array([ 0.69291529,  0.5690806 ]),\n",
       " 50: array([ 0.89779447,  0.63764511]),\n",
       " 52: array([ 0.32019471,  0.34516072]),\n",
       " 53: array([ 0.0940899 ,  0.66966392]),\n",
       " 59: array([ 0.86399929,  0.10190598]),\n",
       " 60: array([ 0.2102921 ,  0.82089503]),\n",
       " 61: array([ 0.96903552,  0.5350345 ]),\n",
       " 62: array([ 0.19551806,  0.72805683]),\n",
       " 63: array([ 0.02959043,  0.63240407]),\n",
       " 65: array([ 0.23716778,  0.8365687 ]),\n",
       " 66: array([ 0.9376849 ,  0.96696265]),\n",
       " 67: array([ 0.92791081,  0.46432183]),\n",
       " 68: array([ 0.64941913,  0.68622924])}"
      ]
     },
     "execution_count": 98,
     "metadata": {},
     "output_type": "execute_result"
    }
   ],
   "source": [
    "pos = initial_pos\n",
    "pos"
   ]
  },
  {
   "cell_type": "code",
   "execution_count": 99,
   "metadata": {
    "collapsed": true
   },
   "outputs": [],
   "source": [
    "plt.figure(figsize=(1600/dpi, 900/dpi), dpi=dpi)\n",
    "plt.title(\"SearchWord=\"+search_word,fontproperties=prop)\n",
    "plt.axis('equal')#両軸を同じスケールに\n",
    "plt.rcParams[\"font.size\"]=int(12*100/dpi)\n",
    "plt.gcf().set_facecolor('w')"
   ]
  },
  {
   "cell_type": "code",
   "execution_count": 100,
   "metadata": {
    "collapsed": true
   },
   "outputs": [],
   "source": [
    "if \"ATTR\" in weight_type:\n",
    "    if \"REPUL\" in weight_type:\n",
    "        pos = nx.spring_layout(G_undirected,pos=pos,all_node_weights=new_all_nodes_weights,rescale=do_rescale,weight_type=weight_type,revised_hits_scores=revised_hits_scores)#描画位置はここで確定,両方の重みをかける\n",
    "    else:\n",
    "        pos = nx.spring_layout(G_undirected,pos=initial_pos,all_node_weights=np.ones(1))#描画位置はここで確定,全ノードの重みを1にするので重みがかかるのは引力計算のみ\n",
    "elif \"REPUL\" in weight_type:\n",
    "    pos = nx.spring_layout(G_undirected,pos=initial_pos,all_node_weights=new_all_nodes_weights,weight=\"wei\")#描画位置はここで確定,重みがかかるのは斥力計算のみ\n",
    "else:\n",
    "    pos = nx.spring_layout(G_undirected,pos=initial_pos,weight=\"wei\")#描画位置はここで確定"
   ]
  },
  {
   "cell_type": "code",
   "execution_count": 101,
   "metadata": {},
   "outputs": [
    {
     "data": {
      "text/plain": [
       "{0: array([ 0.31073395,  0.94583929]),\n",
       " 1: array([ 0.79530685, -0.48933061]),\n",
       " 2: array([ 0.78380306,  0.62715987]),\n",
       " 3: array([-0.66751342, -0.71744791]),\n",
       " 4: array([-0.12184791, -0.95384373]),\n",
       " 6: array([-0.83721626, -0.50903038]),\n",
       " 8: array([-0.97767165, -0.09964236]),\n",
       " 9: array([ 0.31014941, -0.9151869 ]),\n",
       " 10: array([ 0.64095718, -0.70678483]),\n",
       " 12: array([-0.02052075,  1.        ]),\n",
       " 13: array([ 0.13232728,  0.95554076]),\n",
       " 14: array([-0.94597417,  0.05648005]),\n",
       " 31: array([-0.90039162, -0.34997299]),\n",
       " 32: array([ 0.01366194, -0.94733718]),\n",
       " 33: array([ 0.9238116 ,  0.35920194]),\n",
       " 34: array([ 0.95891955,  0.21788367]),\n",
       " 35: array([-0.96733509,  0.18614153]),\n",
       " 36: array([ 0.90042572, -0.37323931]),\n",
       " 37: array([-0.3273794 ,  0.94597629]),\n",
       " 38: array([ 0.76694655, -0.62079546]),\n",
       " 39: array([-0.95298   , -0.24234268]),\n",
       " 40: array([-0.54415124, -0.79343187]),\n",
       " 41: array([-0.68079948,  0.72610105]),\n",
       " 42: array([ 0.4107509 , -0.82797619]),\n",
       " 43: array([ 0.47047844,  0.88779387]),\n",
       " 44: array([ 0.16814925, -0.92531653]),\n",
       " 45: array([-0.43632106,  0.85467451]),\n",
       " 47: array([-0.73695317, -0.60277233]),\n",
       " 48: array([-0.43028831, -0.87109078]),\n",
       " 49: array([ 0.95919246,  0.01892384]),\n",
       " 50: array([ 0.85672952,  0.48646573]),\n",
       " 52: array([-0.27907128, -0.89903252]),\n",
       " 53: array([-0.86227583,  0.47975871]),\n",
       " 59: array([ 0.54737939, -0.81213156]),\n",
       " 60: array([-0.58661434,  0.79663671]),\n",
       " 61: array([ 0.97839077, -0.10518642]),\n",
       " 62: array([-0.78679617,  0.58956677]),\n",
       " 63: array([-0.92243755,  0.35765007]),\n",
       " 65: array([-0.1623841 ,  0.97432506]),\n",
       " 66: array([ 0.69583043,  0.73497562]),\n",
       " 67: array([ 0.951467  , -0.22844285]),\n",
       " 68: array([ 0.57151157,  0.78924006])}"
      ]
     },
     "execution_count": 101,
     "metadata": {},
     "output_type": "execute_result"
    }
   ],
   "source": [
    "pos"
   ]
  },
  {
   "cell_type": "code",
   "execution_count": 102,
   "metadata": {},
   "outputs": [
    {
     "data": {
      "text/plain": [
       "42"
      ]
     },
     "execution_count": 102,
     "metadata": {},
     "output_type": "execute_result"
    }
   ],
   "source": [
    "len(pos)"
   ]
  },
  {
   "cell_type": "code",
   "execution_count": 103,
   "metadata": {},
   "outputs": [
    {
     "name": "stdout",
     "output_type": "stream",
     "text": [
      "all size uniformed\n"
     ]
    },
    {
     "data": {
      "text/plain": [
       "{0: 2000,\n",
       " 1: 2000,\n",
       " 2: 2000,\n",
       " 3: 2000,\n",
       " 4: 2000,\n",
       " 6: 2000,\n",
       " 8: 2000,\n",
       " 9: 2000,\n",
       " 10: 2000,\n",
       " 12: 2000,\n",
       " 13: 2000,\n",
       " 14: 2000,\n",
       " 31: 2000,\n",
       " 32: 2000,\n",
       " 33: 2000,\n",
       " 34: 2000,\n",
       " 35: 2000,\n",
       " 36: 2000,\n",
       " 37: 2000,\n",
       " 38: 2000,\n",
       " 39: 2000,\n",
       " 40: 2000,\n",
       " 41: 2000,\n",
       " 42: 2000,\n",
       " 43: 2000,\n",
       " 44: 2000,\n",
       " 45: 2000,\n",
       " 47: 2000,\n",
       " 48: 2000,\n",
       " 49: 2000,\n",
       " 50: 2000,\n",
       " 52: 2000,\n",
       " 53: 2000,\n",
       " 59: 2000,\n",
       " 60: 2000,\n",
       " 61: 2000,\n",
       " 62: 2000,\n",
       " 63: 2000,\n",
       " 65: 2000,\n",
       " 66: 2000,\n",
       " 67: 2000,\n",
       " 68: 2000}"
      ]
     },
     "execution_count": 103,
     "metadata": {},
     "output_type": "execute_result"
    }
   ],
   "source": [
    "size_dict = calc_nodesize(G,attr=size_attr,min_size=1000,max_size=3000)\n",
    "size_dict"
   ]
  },
  {
   "cell_type": "code",
   "execution_count": 108,
   "metadata": {
    "collapsed": true
   },
   "outputs": [],
   "source": [
    "draw_network(G,pos,size=size_dict,option=node_type,lda=lda,dpi=dpi,with_label=with_label,lumine=lumine,color_map_by=color_map_by,cmap=cmap)"
   ]
  },
  {
   "cell_type": "code",
   "execution_count": 109,
   "metadata": {},
   "outputs": [
    {
     "ename": "IOError",
     "evalue": "[Errno 2] No such file or directory: u'Data/Search_iPhone_5_add_childs_append/K10_myexttext_largest/nx_datas/process/graph.png'",
     "output_type": "error",
     "traceback": [
      "\u001b[0;31m---------------------------------------------------------------------------\u001b[0m",
      "\u001b[0;31mIOError\u001b[0m                                   Traceback (most recent call last)",
      "\u001b[0;32m<ipython-input-109-4139129c7978>\u001b[0m in \u001b[0;36m<module>\u001b[0;34m()\u001b[0m\n\u001b[0;32m----> 1\u001b[0;31m \u001b[0mplt\u001b[0m\u001b[0;34m.\u001b[0m\u001b[0msavefig\u001b[0m\u001b[0;34m(\u001b[0m\u001b[0mos\u001b[0m\u001b[0;34m.\u001b[0m\u001b[0mpath\u001b[0m\u001b[0;34m.\u001b[0m\u001b[0mjoin\u001b[0m\u001b[0;34m(\u001b[0m\u001b[0mnx_process_dir\u001b[0m\u001b[0;34m,\u001b[0m\u001b[0;34m\"graph.png\"\u001b[0m\u001b[0;34m)\u001b[0m\u001b[0;34m)\u001b[0m\u001b[0;34m\u001b[0m\u001b[0m\n\u001b[0m",
      "\u001b[0;32m/Users/yukichika/.pyenv/versions/anaconda2-4.4.0/lib/python2.7/site-packages/matplotlib/pyplot.pyc\u001b[0m in \u001b[0;36msavefig\u001b[0;34m(*args, **kwargs)\u001b[0m\n\u001b[1;32m    695\u001b[0m \u001b[0;32mdef\u001b[0m \u001b[0msavefig\u001b[0m\u001b[0;34m(\u001b[0m\u001b[0;34m*\u001b[0m\u001b[0margs\u001b[0m\u001b[0;34m,\u001b[0m \u001b[0;34m**\u001b[0m\u001b[0mkwargs\u001b[0m\u001b[0;34m)\u001b[0m\u001b[0;34m:\u001b[0m\u001b[0;34m\u001b[0m\u001b[0m\n\u001b[1;32m    696\u001b[0m     \u001b[0mfig\u001b[0m \u001b[0;34m=\u001b[0m \u001b[0mgcf\u001b[0m\u001b[0;34m(\u001b[0m\u001b[0;34m)\u001b[0m\u001b[0;34m\u001b[0m\u001b[0m\n\u001b[0;32m--> 697\u001b[0;31m     \u001b[0mres\u001b[0m \u001b[0;34m=\u001b[0m \u001b[0mfig\u001b[0m\u001b[0;34m.\u001b[0m\u001b[0msavefig\u001b[0m\u001b[0;34m(\u001b[0m\u001b[0;34m*\u001b[0m\u001b[0margs\u001b[0m\u001b[0;34m,\u001b[0m \u001b[0;34m**\u001b[0m\u001b[0mkwargs\u001b[0m\u001b[0;34m)\u001b[0m\u001b[0;34m\u001b[0m\u001b[0m\n\u001b[0m\u001b[1;32m    698\u001b[0m     \u001b[0mfig\u001b[0m\u001b[0;34m.\u001b[0m\u001b[0mcanvas\u001b[0m\u001b[0;34m.\u001b[0m\u001b[0mdraw_idle\u001b[0m\u001b[0;34m(\u001b[0m\u001b[0;34m)\u001b[0m   \u001b[0;31m# need this if 'transparent=True' to reset colors\u001b[0m\u001b[0;34m\u001b[0m\u001b[0m\n\u001b[1;32m    699\u001b[0m     \u001b[0;32mreturn\u001b[0m \u001b[0mres\u001b[0m\u001b[0;34m\u001b[0m\u001b[0m\n",
      "\u001b[0;32m/Users/yukichika/.pyenv/versions/anaconda2-4.4.0/lib/python2.7/site-packages/matplotlib/figure.pyc\u001b[0m in \u001b[0;36msavefig\u001b[0;34m(self, *args, **kwargs)\u001b[0m\n\u001b[1;32m   1571\u001b[0m             \u001b[0mself\u001b[0m\u001b[0;34m.\u001b[0m\u001b[0mset_frameon\u001b[0m\u001b[0;34m(\u001b[0m\u001b[0mframeon\u001b[0m\u001b[0;34m)\u001b[0m\u001b[0;34m\u001b[0m\u001b[0m\n\u001b[1;32m   1572\u001b[0m \u001b[0;34m\u001b[0m\u001b[0m\n\u001b[0;32m-> 1573\u001b[0;31m         \u001b[0mself\u001b[0m\u001b[0;34m.\u001b[0m\u001b[0mcanvas\u001b[0m\u001b[0;34m.\u001b[0m\u001b[0mprint_figure\u001b[0m\u001b[0;34m(\u001b[0m\u001b[0;34m*\u001b[0m\u001b[0margs\u001b[0m\u001b[0;34m,\u001b[0m \u001b[0;34m**\u001b[0m\u001b[0mkwargs\u001b[0m\u001b[0;34m)\u001b[0m\u001b[0;34m\u001b[0m\u001b[0m\n\u001b[0m\u001b[1;32m   1574\u001b[0m \u001b[0;34m\u001b[0m\u001b[0m\n\u001b[1;32m   1575\u001b[0m         \u001b[0;32mif\u001b[0m \u001b[0mframeon\u001b[0m\u001b[0;34m:\u001b[0m\u001b[0;34m\u001b[0m\u001b[0m\n",
      "\u001b[0;32m/Users/yukichika/.pyenv/versions/anaconda2-4.4.0/lib/python2.7/site-packages/matplotlib/backend_bases.pyc\u001b[0m in \u001b[0;36mprint_figure\u001b[0;34m(self, filename, dpi, facecolor, edgecolor, orientation, format, **kwargs)\u001b[0m\n\u001b[1;32m   2250\u001b[0m                 \u001b[0morientation\u001b[0m\u001b[0;34m=\u001b[0m\u001b[0morientation\u001b[0m\u001b[0;34m,\u001b[0m\u001b[0;34m\u001b[0m\u001b[0m\n\u001b[1;32m   2251\u001b[0m                 \u001b[0mbbox_inches_restore\u001b[0m\u001b[0;34m=\u001b[0m\u001b[0m_bbox_inches_restore\u001b[0m\u001b[0;34m,\u001b[0m\u001b[0;34m\u001b[0m\u001b[0m\n\u001b[0;32m-> 2252\u001b[0;31m                 **kwargs)\n\u001b[0m\u001b[1;32m   2253\u001b[0m         \u001b[0;32mfinally\u001b[0m\u001b[0;34m:\u001b[0m\u001b[0;34m\u001b[0m\u001b[0m\n\u001b[1;32m   2254\u001b[0m             \u001b[0;32mif\u001b[0m \u001b[0mbbox_inches\u001b[0m \u001b[0;32mand\u001b[0m \u001b[0mrestore_bbox\u001b[0m\u001b[0;34m:\u001b[0m\u001b[0;34m\u001b[0m\u001b[0m\n",
      "\u001b[0;32m/Users/yukichika/.pyenv/versions/anaconda2-4.4.0/lib/python2.7/site-packages/matplotlib/backends/backend_agg.pyc\u001b[0m in \u001b[0;36mprint_png\u001b[0;34m(self, filename_or_obj, *args, **kwargs)\u001b[0m\n\u001b[1;32m    548\u001b[0m         \u001b[0mrenderer\u001b[0m\u001b[0;34m.\u001b[0m\u001b[0mdpi\u001b[0m \u001b[0;34m=\u001b[0m \u001b[0mself\u001b[0m\u001b[0;34m.\u001b[0m\u001b[0mfigure\u001b[0m\u001b[0;34m.\u001b[0m\u001b[0mdpi\u001b[0m\u001b[0;34m\u001b[0m\u001b[0m\n\u001b[1;32m    549\u001b[0m         \u001b[0;32mif\u001b[0m \u001b[0mis_string_like\u001b[0m\u001b[0;34m(\u001b[0m\u001b[0mfilename_or_obj\u001b[0m\u001b[0;34m)\u001b[0m\u001b[0;34m:\u001b[0m\u001b[0;34m\u001b[0m\u001b[0m\n\u001b[0;32m--> 550\u001b[0;31m             \u001b[0mfilename_or_obj\u001b[0m \u001b[0;34m=\u001b[0m \u001b[0mopen\u001b[0m\u001b[0;34m(\u001b[0m\u001b[0mfilename_or_obj\u001b[0m\u001b[0;34m,\u001b[0m \u001b[0;34m'wb'\u001b[0m\u001b[0;34m)\u001b[0m\u001b[0;34m\u001b[0m\u001b[0m\n\u001b[0m\u001b[1;32m    551\u001b[0m             \u001b[0mclose\u001b[0m \u001b[0;34m=\u001b[0m \u001b[0mTrue\u001b[0m\u001b[0;34m\u001b[0m\u001b[0m\n\u001b[1;32m    552\u001b[0m         \u001b[0;32melse\u001b[0m\u001b[0;34m:\u001b[0m\u001b[0;34m\u001b[0m\u001b[0m\n",
      "\u001b[0;31mIOError\u001b[0m: [Errno 2] No such file or directory: u'Data/Search_iPhone_5_add_childs_append/K10_myexttext_largest/nx_datas/process/graph.png'"
     ]
    }
   ],
   "source": [
    "plt.savefig(os.path.join(nx_process_dir,\"graph.png\"))"
   ]
  },
  {
   "cell_type": "code",
   "execution_count": null,
   "metadata": {
    "collapsed": true
   },
   "outputs": [],
   "source": []
  }
 ],
 "metadata": {
  "kernelspec": {
   "display_name": "Python 2",
   "language": "python",
   "name": "python2"
  },
  "language_info": {
   "codemirror_mode": {
    "name": "ipython",
    "version": 2
   },
   "file_extension": ".py",
   "mimetype": "text/x-python",
   "name": "python",
   "nbconvert_exporter": "python",
   "pygments_lexer": "ipython2",
   "version": "2.7.6"
  }
 },
 "nbformat": 4,
 "nbformat_minor": 2
}
