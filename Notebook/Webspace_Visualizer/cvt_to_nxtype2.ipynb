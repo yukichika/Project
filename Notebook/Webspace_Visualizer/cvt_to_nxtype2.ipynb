{
 "cells": [
  {
   "cell_type": "code",
   "execution_count": 1,
   "metadata": {
    "collapsed": true
   },
   "outputs": [],
   "source": [
    "import os\n",
    "import json\n",
    "import cPickle as pickle\n",
    "import matplotlib.pyplot as plt\n",
    "\n",
    "import sys\n",
    "sys.path.append(\"../../MyPythonModule\")\n",
    "import mymodule\n",
    "sys.path.append(\"../../Interactive_Graph_Visualizer/networkx-master\")\n",
    "import networkx as nx"
   ]
  },
  {
   "cell_type": "code",
   "execution_count": 2,
   "metadata": {
    "collapsed": true
   },
   "outputs": [],
   "source": [
    "def suffix_generator(target=None,is_largest=False):\n",
    "    suffix = \"\"\n",
    "    if target != None:\n",
    "        suffix += \"_\" + target\n",
    "    if is_largest == True:\n",
    "        suffix += \"_largest\"\n",
    "    return suffix"
   ]
  },
  {
   "cell_type": "code",
   "execution_count": 3,
   "metadata": {
    "collapsed": true
   },
   "outputs": [],
   "source": [
    "def list_to_dict(src_list,default=1,lim_node=-1):\n",
    "    lim_node -= 1#リスト上限の表記と合わせるため\n",
    "    ret_dict = {}\n",
    "    for item in src_list:\n",
    "        if lim_node > 0 and item > lim_node:\n",
    "            break\n",
    "        ret_dict[item] = default\n",
    "    return ret_dict"
   ]
  },
  {
   "cell_type": "code",
   "execution_count": 4,
   "metadata": {},
   "outputs": [
    {
     "data": {
      "text/plain": [
       "{1: 1, 2: 1, 3: 1, 4: 1}"
      ]
     },
     "execution_count": 4,
     "metadata": {},
     "output_type": "execute_result"
    }
   ],
   "source": [
    "test_list = [1,2,3,4]\n",
    "list_to_dict(test_list)"
   ]
  },
  {
   "cell_type": "code",
   "execution_count": null,
   "metadata": {
    "collapsed": true
   },
   "outputs": [],
   "source": []
  },
  {
   "cell_type": "code",
   "execution_count": 5,
   "metadata": {
    "collapsed": true
   },
   "outputs": [],
   "source": [
    "search_word = u\"iPhone\"\n",
    "max_page = 10\n",
    "root_dir = \"../Data/Search_\" + search_word + \"_\" + unicode(max_page) + \"_add_childs\" \n",
    "is_largest = True\n",
    "target = \"myexttext\"\n",
    "G_name = \"G\" + suffix_generator(target=target,is_largest=is_largest)\n",
    "use_to_link = \"to_ext_links\"\n",
    "src_pages_dir = os.path.join(root_dir,\"Pages\")\n",
    "use_to_link = \"to_ext_links\"#親から子供\n",
    "use_from_link=None#子供から親\n",
    "rem_selfloop = True#自分自身へのリンクを削除するか否か"
   ]
  },
  {
   "cell_type": "code",
   "execution_count": 6,
   "metadata": {
    "scrolled": true
   },
   "outputs": [
    {
     "data": {
      "text/plain": [
       "[u'39.json',\n",
       " u'58.json',\n",
       " u'52.json',\n",
       " u'10.json',\n",
       " u'22.json',\n",
       " u'26.json',\n",
       " u'24.json',\n",
       " u'18.json',\n",
       " u'57.json',\n",
       " u'53.json',\n",
       " u'51.json',\n",
       " u'12.json',\n",
       " u'63.json',\n",
       " u'5.json',\n",
       " u'54.json',\n",
       " u'7.json',\n",
       " u'28.json',\n",
       " u'48.json',\n",
       " u'31.json',\n",
       " u'59.json',\n",
       " u'1.json',\n",
       " u'29.json',\n",
       " u'3.json',\n",
       " u'4.json',\n",
       " u'64.json',\n",
       " u'11.json',\n",
       " u'6.json',\n",
       " u'20.json',\n",
       " u'42.json',\n",
       " u'32.json',\n",
       " u'21.json',\n",
       " u'13.json',\n",
       " u'49.json',\n",
       " u'55.json',\n",
       " u'50.json',\n",
       " u'8.json',\n",
       " u'19.json',\n",
       " u'27.json',\n",
       " u'60.json',\n",
       " u'17.json',\n",
       " u'40.json',\n",
       " u'2.json',\n",
       " u'56.json',\n",
       " u'9.json',\n",
       " u'15.json',\n",
       " u'30.json',\n",
       " u'14.json',\n",
       " u'47.json',\n",
       " u'34.json',\n",
       " u'61.json',\n",
       " u'41.json',\n",
       " u'0.json',\n",
       " u'38.json',\n",
       " u'33.json',\n",
       " u'35.json',\n",
       " u'45.json',\n",
       " u'46.json',\n",
       " u'16.json',\n",
       " u'25.json',\n",
       " u'36.json',\n",
       " u'43.json',\n",
       " u'37.json',\n",
       " u'44.json',\n",
       " u'23.json',\n",
       " u'62.json']"
      ]
     },
     "execution_count": 6,
     "metadata": {},
     "output_type": "execute_result"
    }
   ],
   "source": [
    "filenames = os.listdir(src_pages_dir)\n",
    "filenames"
   ]
  },
  {
   "cell_type": "code",
   "execution_count": 7,
   "metadata": {
    "scrolled": true
   },
   "outputs": [
    {
     "data": {
      "text/plain": [
       "[u'0.json',\n",
       " u'1.json',\n",
       " u'2.json',\n",
       " u'3.json',\n",
       " u'4.json',\n",
       " u'5.json',\n",
       " u'6.json',\n",
       " u'7.json',\n",
       " u'8.json',\n",
       " u'9.json',\n",
       " u'10.json',\n",
       " u'11.json',\n",
       " u'12.json',\n",
       " u'13.json',\n",
       " u'14.json',\n",
       " u'15.json',\n",
       " u'16.json',\n",
       " u'17.json',\n",
       " u'18.json',\n",
       " u'19.json',\n",
       " u'20.json',\n",
       " u'21.json',\n",
       " u'22.json',\n",
       " u'23.json',\n",
       " u'24.json',\n",
       " u'25.json',\n",
       " u'26.json',\n",
       " u'27.json',\n",
       " u'28.json',\n",
       " u'29.json',\n",
       " u'30.json',\n",
       " u'31.json',\n",
       " u'32.json',\n",
       " u'33.json',\n",
       " u'34.json',\n",
       " u'35.json',\n",
       " u'36.json',\n",
       " u'37.json',\n",
       " u'38.json',\n",
       " u'39.json',\n",
       " u'40.json',\n",
       " u'41.json',\n",
       " u'42.json',\n",
       " u'43.json',\n",
       " u'44.json',\n",
       " u'45.json',\n",
       " u'46.json',\n",
       " u'47.json',\n",
       " u'48.json',\n",
       " u'49.json',\n",
       " u'50.json',\n",
       " u'51.json',\n",
       " u'52.json',\n",
       " u'53.json',\n",
       " u'54.json',\n",
       " u'55.json',\n",
       " u'56.json',\n",
       " u'57.json',\n",
       " u'58.json',\n",
       " u'59.json',\n",
       " u'60.json',\n",
       " u'61.json',\n",
       " u'62.json',\n",
       " u'63.json',\n",
       " u'64.json']"
      ]
     },
     "execution_count": 7,
     "metadata": {},
     "output_type": "execute_result"
    }
   ],
   "source": [
    "mymodule.sort_nicely(filenames)\n",
    "filenames"
   ]
  },
  {
   "cell_type": "code",
   "execution_count": 8,
   "metadata": {},
   "outputs": [
    {
     "data": {
      "text/plain": [
       "{0: {11: 1,\n",
       "  12: 1,\n",
       "  13: 1,\n",
       "  14: 1,\n",
       "  15: 1,\n",
       "  16: 1,\n",
       "  17: 1,\n",
       "  18: 1,\n",
       "  19: 1,\n",
       "  20: 1,\n",
       "  21: 1,\n",
       "  22: 1,\n",
       "  23: 1,\n",
       "  24: 1,\n",
       "  25: 1,\n",
       "  26: 1,\n",
       "  27: 1},\n",
       " 1: {},\n",
       " 2: {28: 1, 29: 1, 30: 1, 31: 1},\n",
       " 3: {9: 1,\n",
       "  32: 1,\n",
       "  33: 1,\n",
       "  34: 1,\n",
       "  35: 1,\n",
       "  36: 1,\n",
       "  37: 1,\n",
       "  38: 1,\n",
       "  39: 1,\n",
       "  40: 1,\n",
       "  41: 1,\n",
       "  42: 1,\n",
       "  43: 1,\n",
       "  44: 1,\n",
       "  45: 1,\n",
       "  46: 1,\n",
       "  47: 1,\n",
       "  48: 1,\n",
       "  49: 1,\n",
       "  50: 1},\n",
       " 4: {31: 1, 51: 1, 52: 1},\n",
       " 5: {28: 1, 29: 1, 30: 1, 31: 1, 53: 1},\n",
       " 6: {31: 1, 52: 1},\n",
       " 7: {31: 1, 56: 1},\n",
       " 8: {57: 1, 58: 1, 59: 1, 60: 1, 61: 1, 62: 1},\n",
       " 9: {28: 1, 29: 1, 30: 1, 31: 1, 53: 1},\n",
       " 10: {31: 1, 56: 1},\n",
       " 11: {},\n",
       " 12: {26: 1},\n",
       " 13: {},\n",
       " 14: {26: 1},\n",
       " 15: {0: 1},\n",
       " 16: {},\n",
       " 17: {0: 1, 26: 1},\n",
       " 18: {0: 1, 26: 1},\n",
       " 19: {0: 1, 5: 1, 26: 1},\n",
       " 20: {},\n",
       " 21: {26: 1},\n",
       " 22: {},\n",
       " 23: {},\n",
       " 24: {},\n",
       " 25: {},\n",
       " 26: {0: 1, 21: 1},\n",
       " 27: {11: 1, 16: 1, 20: 1},\n",
       " 28: {9: 1,\n",
       "  29: 1,\n",
       "  30: 1,\n",
       "  33: 1,\n",
       "  34: 1,\n",
       "  35: 1,\n",
       "  36: 1,\n",
       "  37: 1,\n",
       "  39: 1,\n",
       "  42: 1,\n",
       "  44: 1,\n",
       "  46: 1,\n",
       "  47: 1,\n",
       "  50: 1},\n",
       " 29: {9: 1,\n",
       "  30: 1,\n",
       "  32: 1,\n",
       "  33: 1,\n",
       "  34: 1,\n",
       "  35: 1,\n",
       "  36: 1,\n",
       "  37: 1,\n",
       "  38: 1,\n",
       "  39: 1,\n",
       "  40: 1,\n",
       "  41: 1,\n",
       "  42: 1,\n",
       "  43: 1,\n",
       "  44: 1,\n",
       "  46: 1,\n",
       "  47: 1,\n",
       "  48: 1,\n",
       "  50: 1},\n",
       " 30: {},\n",
       " 31: {},\n",
       " 32: {29: 1, 30: 1},\n",
       " 33: {28: 1, 29: 1, 30: 1},\n",
       " 34: {28: 1, 29: 1, 30: 1, 53: 1},\n",
       " 35: {29: 1, 30: 1},\n",
       " 36: {},\n",
       " 37: {28: 1, 29: 1, 30: 1},\n",
       " 38: {28: 1, 29: 1, 30: 1},\n",
       " 39: {28: 1, 29: 1, 30: 1},\n",
       " 40: {28: 1, 29: 1, 30: 1},\n",
       " 41: {9: 1,\n",
       "  29: 1,\n",
       "  30: 1,\n",
       "  33: 1,\n",
       "  34: 1,\n",
       "  35: 1,\n",
       "  36: 1,\n",
       "  39: 1,\n",
       "  42: 1,\n",
       "  44: 1,\n",
       "  46: 1,\n",
       "  47: 1},\n",
       " 42: {28: 1, 29: 1, 30: 1},\n",
       " 43: {28: 1, 29: 1, 30: 1},\n",
       " 44: {28: 1, 29: 1, 30: 1, 53: 1},\n",
       " 45: {},\n",
       " 46: {3: 1, 28: 1, 29: 1, 30: 1, 49: 1},\n",
       " 47: {28: 1, 30: 1},\n",
       " 48: {29: 1, 30: 1},\n",
       " 49: {9: 1,\n",
       "  29: 1,\n",
       "  30: 1,\n",
       "  33: 1,\n",
       "  34: 1,\n",
       "  35: 1,\n",
       "  36: 1,\n",
       "  39: 1,\n",
       "  42: 1,\n",
       "  44: 1,\n",
       "  46: 1,\n",
       "  47: 1},\n",
       " 50: {},\n",
       " 51: {},\n",
       " 52: {},\n",
       " 53: {9: 1,\n",
       "  30: 1,\n",
       "  33: 1,\n",
       "  34: 1,\n",
       "  35: 1,\n",
       "  36: 1,\n",
       "  37: 1,\n",
       "  39: 1,\n",
       "  42: 1,\n",
       "  44: 1,\n",
       "  46: 1,\n",
       "  47: 1},\n",
       " 54: {},\n",
       " 55: {},\n",
       " 56: {},\n",
       " 57: {59: 1},\n",
       " 58: {},\n",
       " 59: {},\n",
       " 60: {},\n",
       " 61: {57: 1},\n",
       " 62: {},\n",
       " 63: {},\n",
       " 64: {}}"
      ]
     },
     "execution_count": 8,
     "metadata": {},
     "output_type": "execute_result"
    }
   ],
   "source": [
    "dst_dict = {}\n",
    "for num,filename in enumerate(filenames):\n",
    "    \"\"\"idが飛んでいた時のために念のためチェック\"\"\"\n",
    "    check_num = int(os.path.splitext(filename)[0])\n",
    "    if num != check_num:\n",
    "        num = check_num\n",
    "        print \"check_num is not correspond\"\n",
    "\n",
    "    \"\"\"jsonを読み込みリンクを取得\"\"\"\n",
    "    with open(os.path.join(src_pages_dir,filename)) as fj:\n",
    "        src_json_dict=json.load(fj)\n",
    "\n",
    "    if use_to_link != None:\n",
    "    #for to_link_name in use_to_link:\n",
    "        to_links = src_json_dict.get(use_to_link,[])\n",
    "        if rem_selfloop == True and num in to_links:\n",
    "            to_links.remove(num)\n",
    "\n",
    "        \"\"\"出力用グラフ辞書にエッジ情報(自分から子)を登録\"\"\"\n",
    "        if num in dst_dict:\n",
    "            dst_dict[num].update(list_to_dict(to_links,1))\n",
    "        else:\n",
    "            dst_dict[num] = list_to_dict(to_links,1)\n",
    "\n",
    "    if use_from_link != None:\n",
    "        from_links = src_json_dict.get(use_from_link,[])\n",
    "        if rem_selfloop == True and num in to_links:\n",
    "            from_links.remove(num)\n",
    "\n",
    "        \"\"\"エッジ情報(親から自分へ)を登録\"\"\"\n",
    "        for from_link in from_links:\n",
    "            if  from_link in  dst_dict:\n",
    "                dst_dict[use_from_link].update(list_to_dict([num],1))\n",
    "            else:\n",
    "                dst_dict[use_from_link] = list_to_dict([num],1)\n",
    "\n",
    "dst_dict"
   ]
  },
  {
   "cell_type": "code",
   "execution_count": 9,
   "metadata": {},
   "outputs": [
    {
     "data": {
      "text/plain": [
       "65"
      ]
     },
     "execution_count": 9,
     "metadata": {},
     "output_type": "execute_result"
    }
   ],
   "source": [
    "len(dst_dict)"
   ]
  },
  {
   "cell_type": "code",
   "execution_count": 10,
   "metadata": {},
   "outputs": [
    {
     "data": {
      "text/plain": [
       "65"
      ]
     },
     "execution_count": 10,
     "metadata": {},
     "output_type": "execute_result"
    }
   ],
   "source": [
    "G = nx.DiGraph(dst_dict)\n",
    "old_node_num = len(G.node)\n",
    "old_node_num"
   ]
  },
  {
   "cell_type": "code",
   "execution_count": 11,
   "metadata": {},
   "outputs": [
    {
     "name": "stdout",
     "output_type": "stream",
     "text": [
      "simple\n"
     ]
    },
    {
     "data": {
      "image/png": "[encoded data removed]",
      "text/plain": [
       "<matplotlib.figure.Figure at 0x7f9880f56f50>"
      ]
     },
     "metadata": {},
     "output_type": "display_data"
    }
   ],
   "source": [
    "nx.draw_networkx(G)\n",
    "plt.show()"
   ]
  },
  {
   "cell_type": "code",
   "execution_count": 12,
   "metadata": {},
   "outputs": [
    {
     "data": {
      "text/plain": [
       "53"
      ]
     },
     "execution_count": 12,
     "metadata": {},
     "output_type": "execute_result"
    }
   ],
   "source": [
    "sel_largest = is_largest\n",
    "if sel_largest == True:\n",
    "    G_ = G.to_undirected()\n",
    "    largest = max(nx.connected_component_subgraphs(G_),key=len)\n",
    "    rem_nodes = set(G_.node.keys()) - set(largest.node.keys())\n",
    "    G.remove_nodes_from(rem_nodes)\n",
    "\n",
    "new_node_num = len(G.node)\n",
    "new_node_num"
   ]
  },
  {
   "cell_type": "code",
   "execution_count": 13,
   "metadata": {},
   "outputs": [
    {
     "name": "stdout",
     "output_type": "stream",
     "text": [
      "simple\n"
     ]
    },
    {
     "data": {
      "image/png": "[encoded data removed]",
      "text/plain": [
       "<matplotlib.figure.Figure at 0x7f987a9e1fd0>"
      ]
     },
     "metadata": {},
     "output_type": "display_data"
    }
   ],
   "source": [
    "nx.draw_networkx(G)\n",
    "plt.show()"
   ]
  },
  {
   "cell_type": "code",
   "execution_count": 15,
   "metadata": {
    "scrolled": true
   },
   "outputs": [
    {
     "data": {
      "text/plain": [
       "[0,\n",
       " 2,\n",
       " 3,\n",
       " 4,\n",
       " 5,\n",
       " 6,\n",
       " 7,\n",
       " 9,\n",
       " 10,\n",
       " 11,\n",
       " 12,\n",
       " 13,\n",
       " 14,\n",
       " 15,\n",
       " 16,\n",
       " 17,\n",
       " 18,\n",
       " 19,\n",
       " 20,\n",
       " 21,\n",
       " 22,\n",
       " 23,\n",
       " 24,\n",
       " 25,\n",
       " 26,\n",
       " 27,\n",
       " 28,\n",
       " 29,\n",
       " 30,\n",
       " 31,\n",
       " 32,\n",
       " 33,\n",
       " 34,\n",
       " 35,\n",
       " 36,\n",
       " 37,\n",
       " 38,\n",
       " 39,\n",
       " 40,\n",
       " 41,\n",
       " 42,\n",
       " 43,\n",
       " 44,\n",
       " 45,\n",
       " 46,\n",
       " 47,\n",
       " 48,\n",
       " 49,\n",
       " 50,\n",
       " 51,\n",
       " 52,\n",
       " 53,\n",
       " 56]"
      ]
     },
     "execution_count": 15,
     "metadata": {},
     "output_type": "execute_result"
    }
   ],
   "source": [
    "list(G.node.keys())"
   ]
  },
  {
   "cell_type": "code",
   "execution_count": 17,
   "metadata": {},
   "outputs": [
    {
     "data": {
      "text/plain": [
       "53"
      ]
     },
     "execution_count": 17,
     "metadata": {},
     "output_type": "execute_result"
    }
   ],
   "source": [
    "len(list(G.node.keys()))"
   ]
  },
  {
   "cell_type": "code",
   "execution_count": 18,
   "metadata": {
    "collapsed": true
   },
   "outputs": [],
   "source": [
    "dst_pkl_name = G_name + \".gpkl\"\n",
    "\n",
    "\"\"\"最大のノードグループのみを使う場合\"\"\"\n",
    "if sel_largest == True:\n",
    "    with open(os.path.join(root_dir,\"file_id_list.list\"),\"w\") as fo:\n",
    "        pickle.dump(list(G.node.keys()),fo)\n",
    "\"\"\"一旦グラフ形式にまとめてから保存(ファイル間で渡す際にファイル数が1つになってくれたほうが有難い．DiGraphにしたければ読み込み後に変換しよう)\"\"\"\n",
    "with open(os.path.join(root_dir,dst_pkl_name),\"w\") as fo:\n",
    "    pickle.dump(G,fo)\n",
    "with open(os.path.join(root_dir,G_name + \".txt\"),\"w\") as fo:\n",
    "    print >> fo,\"全Webページから最大のノード群を採用\"\n",
    "    print >> fo,\"old_node_number:\" + str(old_node_num)\n",
    "    print >> fo,\"new_node_number:\" + str(new_node_num) + \"（G_myexttext_largest.gpkl）\""
   ]
  }
 ],
 "metadata": {
  "kernelspec": {
   "display_name": "Python 2",
   "language": "python",
   "name": "python2"
  },
  "language_info": {
   "codemirror_mode": {
    "name": "ipython",
    "version": 2
   },
   "file_extension": ".py",
   "mimetype": "text/x-python",
   "name": "python",
   "nbconvert_exporter": "python",
   "pygments_lexer": "ipython2",
   "version": "2.7.15"
  }
 },
 "nbformat": 4,
 "nbformat_minor": 2
}
