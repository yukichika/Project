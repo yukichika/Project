{
 "cells": [
  {
   "cell_type": "code",
   "execution_count": 1,
   "metadata": {
    "collapsed": true
   },
   "outputs": [],
   "source": [
    "import numpy as np\n",
    "import os\n",
    "import cPickle as pickle\n",
    "import os.path\n",
    "import matplotlib.pyplot as plt\n",
    "\n",
    "import sys\n",
    "sys.path.append(\"../../Interactive_Graph_Visualizer/networkx-master\")\n",
    "import networkx as nx\n",
    "sys.path.append(\"../../MyPythonModule\")\n",
    "from LDA_kai import LDA"
   ]
  },
  {
   "cell_type": "code",
   "execution_count": 2,
   "metadata": {
    "collapsed": true
   },
   "outputs": [],
   "source": [
    "def suffix_generator(target=None,is_largest=False):\n",
    "    suffix = \"\"\n",
    "    if target != None:\n",
    "        suffix += \"_\" + target\n",
    "    if is_largest == True:\n",
    "        suffix += \"_largest\"\n",
    "    return suffix"
   ]
  },
  {
   "cell_type": "code",
   "execution_count": 3,
   "metadata": {
    "collapsed": true
   },
   "outputs": [],
   "source": [
    "def compare4_2(p,q):\n",
    "    weight = np.exp(-((p-q)**2).sum())\n",
    "    return weight"
   ]
  },
  {
   "cell_type": "code",
   "execution_count": 4,
   "metadata": {
    "collapsed": true
   },
   "outputs": [],
   "source": [
    "def compare_selector(name):\n",
    "    if name == \"comp1\":\n",
    "        return compare1\n",
    "    elif name == \"comp1_1\":\n",
    "        return compare1_1\n",
    "    elif name == \"comp1_2\" or name == \"softmax\":\n",
    "        return compare1_2\n",
    "    elif name == \"comp2\":\n",
    "        return compare2\n",
    "    elif name == \"comp3\":\n",
    "        return compare3\n",
    "    elif name == \"comp4_1\":\n",
    "        return compare4_1\n",
    "    elif name == \"comp4_2\":\n",
    "        return compare4_2\n",
    "    else:\n",
    "        print \"invalid comp_func\"\n",
    "        exit()"
   ]
  },
  {
   "cell_type": "code",
   "execution_count": 5,
   "metadata": {
    "collapsed": true
   },
   "outputs": [],
   "source": [
    "def mode(a, axis=0):\n",
    "    scores = np.unique(np.ravel(a))       # get ALL unique values\n",
    "    testshape = list(a.shape)\n",
    "    testshape[axis] = 1\n",
    "    oldmostfreq = np.zeros(testshape)\n",
    "    oldcounts = np.zeros(testshape)\n",
    "\n",
    "    for score in scores:\n",
    "        template = (a == score)\n",
    "        counts = np.expand_dims(np.sum(template, axis),axis)\n",
    "        mostfrequent = np.where(counts > oldcounts, score, oldmostfreq)\n",
    "        oldcounts = np.maximum(counts, oldcounts)\n",
    "        oldmostfreq = mostfrequent\n",
    "\n",
    "    return int(mostfrequent)"
   ]
  },
  {
   "cell_type": "code",
   "execution_count": null,
   "metadata": {
    "collapsed": true
   },
   "outputs": [],
   "source": []
  },
  {
   "cell_type": "code",
   "execution_count": 6,
   "metadata": {
    "collapsed": true
   },
   "outputs": [],
   "source": [
    "search_word = u\"iPhone\"\n",
    "max_page = 10\n",
    "root_dir = \"../Data/Search_\" + search_word + \"_\" + unicode(max_page) + \"_add_childs\" \n",
    "is_largest = True\n",
    "target = \"myexttext\"\n",
    "G_name = \"G\" + suffix_generator(target=target,is_largest=is_largest)\n",
    "use_to_link = \"to_ext_links\"\n",
    "K = 10\n",
    "iteration = 50\n",
    "alpha = 0.001\n",
    "beta = 0.001\n",
    "no_below = 5#単語の最低出現文書数\n",
    "no_above = 0.2#単語の最大出現文書比率\n",
    "no_less = 20#文書に含まれる最低単語数\n",
    "do_hparam_update = False#パラメータを更新するか否か\n",
    "chasen_dir_name = \"Chasen\" + suffix_generator(target,is_largest)\n",
    "exp_name = \"K\" + unicode(K) + suffix_generator(target,is_largest)\n",
    "comment = None\n",
    "comp_func_name = \"comp4_2\"\n",
    "void_node_remove = True#空のノード(LDA結果のないノード)を除去するかどうか"
   ]
  },
  {
   "cell_type": "code",
   "execution_count": 7,
   "metadata": {},
   "outputs": [
    {
     "data": {
      "text/plain": [
       "23"
      ]
     },
     "execution_count": 7,
     "metadata": {},
     "output_type": "execute_result"
    }
   ],
   "source": [
    "COLORLIST_R = [r\"#EB6100\",r\"#F39800\",r\"#FCC800\",r\"#FFF100\",r\"#CFDB00\",r\"#8FC31F\",r\"#22AC38\",r\"#009944\",r\"#009B6B\",r\"#009E96\",r\"#00A0C1\",r\"#00A0E9\",r\"#0086D1\",r\"#0068B7\",r\"#00479D\",r\"#1D2088\",r\"#601986\",r\"#920783\",r\"#BE0081\",r\"#E4007F\",r\"#E5006A\",r\"#E5004F\",r\"#E60033\"]\n",
    "len(COLORLIST_R)"
   ]
  },
  {
   "cell_type": "code",
   "execution_count": 8,
   "metadata": {},
   "outputs": [
    {
     "data": {
      "text/plain": [
       "['#EB6100',\n",
       " '#FCC800',\n",
       " '#CFDB00',\n",
       " '#22AC38',\n",
       " '#009B6B',\n",
       " '#00A0C1',\n",
       " '#0086D1',\n",
       " '#00479D',\n",
       " '#601986',\n",
       " '#BE0081',\n",
       " '#E5006A',\n",
       " '#E60033']"
      ]
     },
     "execution_count": 8,
     "metadata": {},
     "output_type": "execute_result"
    }
   ],
   "source": [
    "COLORLIST_R[::2]"
   ]
  },
  {
   "cell_type": "code",
   "execution_count": 9,
   "metadata": {},
   "outputs": [
    {
     "data": {
      "text/plain": [
       "['#EB6100',\n",
       " '#FCC800',\n",
       " '#CFDB00',\n",
       " '#22AC38',\n",
       " '#009B6B',\n",
       " '#00A0C1',\n",
       " '#0086D1',\n",
       " '#00479D',\n",
       " '#601986',\n",
       " '#BE0081',\n",
       " '#E5006A',\n",
       " '#E60033']"
      ]
     },
     "execution_count": 9,
     "metadata": {},
     "output_type": "execute_result"
    }
   ],
   "source": [
    "COLORLIST_R = [r\"#EB6100\",r\"#F39800\",r\"#FCC800\",r\"#FFF100\",r\"#CFDB00\",r\"#8FC31F\",r\"#22AC38\",r\"#009944\",r\"#009B6B\",r\"#009E96\",r\"#00A0C1\",r\"#00A0E9\",r\"#0086D1\",r\"#0068B7\",r\"#00479D\",r\"#1D2088\",r\"#601986\",r\"#920783\",r\"#BE0081\",r\"#E4007F\",r\"#E5006A\",r\"#E5004F\",r\"#E60033\"]\n",
    "COLORLIST = [c for c in COLORLIST_R[::2]]#色のステップ調整\n",
    "COLORLIST"
   ]
  },
  {
   "cell_type": "code",
   "execution_count": 10,
   "metadata": {},
   "outputs": [
    {
     "data": {
      "text/plain": [
       "12"
      ]
     },
     "execution_count": 10,
     "metadata": {},
     "output_type": "execute_result"
    }
   ],
   "source": [
    "len(COLORLIST)"
   ]
  },
  {
   "cell_type": "code",
   "execution_count": 11,
   "metadata": {
    "collapsed": true
   },
   "outputs": [],
   "source": [
    "DEFAULT_WEIGHT = 0.5"
   ]
  },
  {
   "cell_type": "code",
   "execution_count": 12,
   "metadata": {
    "collapsed": true
   },
   "outputs": [],
   "source": [
    "exp_dir = os.path.join(root_dir,exp_name)\n",
    "nx_dir = os.path.join(exp_dir,\"nx_datas\")\n",
    "if not os.path.exists(nx_dir):\n",
    "    os.mkdir(nx_dir)"
   ]
  },
  {
   "cell_type": "code",
   "execution_count": 13,
   "metadata": {
    "collapsed": true
   },
   "outputs": [],
   "source": [
    "compare = compare_selector(comp_func_name)\n",
    "weights_list = []\n",
    "G_path = G_name + \".gpkl\""
   ]
  },
  {
   "cell_type": "code",
   "execution_count": 14,
   "metadata": {
    "collapsed": true
   },
   "outputs": [],
   "source": [
    "with open(os.path.join(exp_dir,\"instance.pkl\")) as fi:\n",
    "   lda = pickle.load(fi)\n",
    "with open(os.path.join(root_dir,G_path)) as fi:\n",
    "    G = pickle.load(fi)"
   ]
  },
  {
   "cell_type": "code",
   "execution_count": 15,
   "metadata": {},
   "outputs": [
    {
     "data": {
      "text/plain": [
       "43"
      ]
     },
     "execution_count": 15,
     "metadata": {},
     "output_type": "execute_result"
    }
   ],
   "source": [
    "theta = lda.theta()\n",
    "len(theta)"
   ]
  },
  {
   "cell_type": "code",
   "execution_count": 16,
   "metadata": {},
   "outputs": [
    {
     "data": {
      "text/plain": [
       "array([  1.63624795e-01,   1.81785130e-05,   4.72659516e-01,\n",
       "         1.81785130e-05,   1.81785130e-05,   1.81785130e-05,\n",
       "         1.81785130e-05,   1.81785130e-05,   1.81785130e-05,\n",
       "         3.63588438e-01])"
      ]
     },
     "execution_count": 16,
     "metadata": {},
     "output_type": "execute_result"
    }
   ],
   "source": [
    "theta[0]"
   ]
  },
  {
   "cell_type": "code",
   "execution_count": 17,
   "metadata": {},
   "outputs": [
    {
     "data": {
      "text/plain": [
       "53"
      ]
     },
     "execution_count": 17,
     "metadata": {},
     "output_type": "execute_result"
    }
   ],
   "source": [
    "nodes = G.node#参照渡しなのでG自体に改変が伝わる\n",
    "old_node_num = len(nodes)\n",
    "old_node_num"
   ]
  },
  {
   "cell_type": "code",
   "execution_count": 18,
   "metadata": {},
   "outputs": [
    {
     "data": {
      "text/plain": [
       "53"
      ]
     },
     "execution_count": 18,
     "metadata": {},
     "output_type": "execute_result"
    }
   ],
   "source": [
    "nodes_lim = len(nodes)\n",
    "nodes_lim"
   ]
  },
  {
   "cell_type": "code",
   "execution_count": 19,
   "metadata": {
    "scrolled": true
   },
   "outputs": [
    {
     "data": {
      "text/plain": [
       "{0: 0,\n",
       " 2: 1,\n",
       " 3: 2,\n",
       " 4: 3,\n",
       " 5: 4,\n",
       " 6: 5,\n",
       " 7: 6,\n",
       " 9: 7,\n",
       " 10: 8,\n",
       " 11: 9,\n",
       " 12: 10,\n",
       " 13: 11,\n",
       " 14: 12,\n",
       " 16: 13,\n",
       " 17: 14,\n",
       " 18: 15,\n",
       " 19: 16,\n",
       " 20: 17,\n",
       " 21: 18,\n",
       " 22: 19,\n",
       " 24: 20,\n",
       " 25: 21,\n",
       " 26: 22,\n",
       " 27: 23,\n",
       " 28: 24,\n",
       " 29: 25,\n",
       " 31: 26,\n",
       " 32: 27,\n",
       " 34: 28,\n",
       " 35: 29,\n",
       " 36: 30,\n",
       " 38: 31,\n",
       " 40: 32,\n",
       " 41: 33,\n",
       " 42: 34,\n",
       " 43: 35,\n",
       " 44: 36,\n",
       " 47: 37,\n",
       " 48: 38,\n",
       " 49: 39,\n",
       " 50: 40,\n",
       " 52: 41,\n",
       " 53: 42}"
      ]
     },
     "execution_count": 19,
     "metadata": {},
     "output_type": "execute_result"
    }
   ],
   "source": [
    "file_id_dict_inv = {v:k for k, v in lda.file_id_dict.items()}#ファイル名とLDAでの文書番号(逆引き)．LDAの方に作っとけばよかった．．．\n",
    "file_id_dict_inv"
   ]
  },
  {
   "cell_type": "code",
   "execution_count": 20,
   "metadata": {
    "collapsed": true
   },
   "outputs": [],
   "source": [
    "for m,z_m in enumerate(lda.z_m_n[:nodes_lim]):\n",
    "    node_no = lda.file_id_dict.get(m)#ファイルが連番でない対象に対応\n",
    "    if node_no not in G.node:\n",
    "        continue\n",
    "    \"\"\"代表トピックの抽出\"\"\"\n",
    "    rep_topic = mode(np.array(z_m))\n",
    "    nodes[node_no][\"topic\"] = rep_topic\n",
    "    nodes[node_no][\"color\"] = COLORLIST[rep_topic]\n",
    "\n",
    "    \"\"\"トピック分布の円グラフ保存\"\"\"\n",
    "    #fig = plt.figure()\n",
    "    #ax = fig.add_subplot(1,1,1)\n",
    "    #theta_d = theta[m]\n",
    "    #plt.rcParams['font.size']=20.0\n",
    "    #ax.pie(theta_d,colors=COLORLIST[:lda.K],labels=labels,startangle=90,radius=0.2, center=(0.5, 0.5), frame=True,counterclock=False)\n",
    "    #plt.axis(\"off\")\n",
    "    #plt.axis('equal')\n",
    "    #plt.savefig(os.path.join(pie_dir,unicode(lda.file_id_dict[m])+\".png\"))\n",
    "    #plt.close()"
   ]
  },
  {
   "cell_type": "code",
   "execution_count": 21,
   "metadata": {},
   "outputs": [
    {
     "data": {
      "text/plain": [
       "9"
      ]
     },
     "execution_count": 21,
     "metadata": {},
     "output_type": "execute_result"
    }
   ],
   "source": [
    "mode(np.array(z_m))"
   ]
  },
  {
   "cell_type": "code",
   "execution_count": 22,
   "metadata": {},
   "outputs": [
    {
     "data": {
      "text/plain": [
       "{'color': '#CFDB00', 'topic': 2}"
      ]
     },
     "execution_count": 22,
     "metadata": {},
     "output_type": "execute_result"
    }
   ],
   "source": [
    "nodes[0]"
   ]
  },
  {
   "cell_type": "code",
   "execution_count": 23,
   "metadata": {
    "collapsed": true
   },
   "outputs": [],
   "source": [
    "if void_node_remove == True:\n",
    "    remove_node_list = []#LDAでの処理で文書がなくなってしまったものを排除する\n",
    "    for n, d in G.nodes(data=True):\n",
    "        if d.get(\"topic\") == None:\n",
    "            remove_node_list.append(n)\n",
    "    G.remove_nodes_from(remove_node_list)\n",
    "    if is_largest == True:\n",
    "        G_ = G.to_undirected()\n",
    "        largest = max(nx.connected_component_subgraphs(G_),key=len)\n",
    "        rem_nodes = set(G_.node.keys()) - set(largest.node.keys())\n",
    "        G.remove_nodes_from(rem_nodes)\n",
    "        with open(os.path.join(root_dir,\"file_id_list2.list\"),\"w\") as fo:\n",
    "            pickle.dump(list(G.node.keys()),fo)"
   ]
  },
  {
   "cell_type": "code",
   "execution_count": 24,
   "metadata": {},
   "outputs": [
    {
     "data": {
      "text/plain": [
       "43"
      ]
     },
     "execution_count": 24,
     "metadata": {},
     "output_type": "execute_result"
    }
   ],
   "source": [
    "new_node_num = len(G.node.keys())\n",
    "new_node_num"
   ]
  },
  {
   "cell_type": "code",
   "execution_count": 25,
   "metadata": {
    "scrolled": true
   },
   "outputs": [
    {
     "data": {
      "text/plain": [
       "[0,\n",
       " 2,\n",
       " 3,\n",
       " 4,\n",
       " 5,\n",
       " 6,\n",
       " 7,\n",
       " 9,\n",
       " 10,\n",
       " 11,\n",
       " 12,\n",
       " 13,\n",
       " 14,\n",
       " 16,\n",
       " 17,\n",
       " 18,\n",
       " 19,\n",
       " 20,\n",
       " 21,\n",
       " 22,\n",
       " 24,\n",
       " 25,\n",
       " 26,\n",
       " 27,\n",
       " 28,\n",
       " 29,\n",
       " 31,\n",
       " 32,\n",
       " 34,\n",
       " 35,\n",
       " 36,\n",
       " 38,\n",
       " 40,\n",
       " 41,\n",
       " 42,\n",
       " 43,\n",
       " 44,\n",
       " 47,\n",
       " 48,\n",
       " 49,\n",
       " 50,\n",
       " 52,\n",
       " 53]"
      ]
     },
     "execution_count": 25,
     "metadata": {},
     "output_type": "execute_result"
    }
   ],
   "source": [
    "G.node.keys()"
   ]
  },
  {
   "cell_type": "code",
   "execution_count": 26,
   "metadata": {},
   "outputs": [
    {
     "data": {
      "image/png": "[encoded data removed]",
      "text/plain": [
       "<matplotlib.figure.Figure at 0x7efeae510350>"
      ]
     },
     "metadata": {},
     "output_type": "display_data"
    }
   ],
   "source": [
    "nx.draw_networkx(G)\n",
    "plt.show()"
   ]
  },
  {
   "cell_type": "code",
   "execution_count": 27,
   "metadata": {},
   "outputs": [
    {
     "data": {
      "text/plain": [
       "{11: {},\n",
       " 12: {},\n",
       " 13: {},\n",
       " 14: {},\n",
       " 16: {},\n",
       " 17: {},\n",
       " 18: {},\n",
       " 19: {},\n",
       " 20: {},\n",
       " 21: {},\n",
       " 22: {},\n",
       " 24: {},\n",
       " 25: {},\n",
       " 26: {},\n",
       " 27: {}}"
      ]
     },
     "execution_count": 27,
     "metadata": {},
     "output_type": "execute_result"
    }
   ],
   "source": [
    "G.edge[0]"
   ]
  },
  {
   "cell_type": "code",
   "execution_count": 28,
   "metadata": {
    "collapsed": true
   },
   "outputs": [],
   "source": [
    "\"\"\"エッジごとの処理\"\"\"\n",
    "edges = G.edge\n",
    "for node_no,link_node_nos in edges.items():\n",
    "    lda_no = file_id_dict_inv.get(node_no)#ファイルが連番でない対象に対応\n",
    "    if lda_no == None:#LDA結果が存在しないノード\n",
    "        for link_node_no in link_node_nos.keys():\n",
    "            edges[node_no][link_node_no][\"weight\"] = DEFAULT_WEIGHT\n",
    "        continue\n",
    "    p_dst = theta[lda_no]\n",
    "    \"\"\"類似度による重みの算出\"\"\"\n",
    "    for link_node_no in link_node_nos.keys():\n",
    "        link_lda_no = file_id_dict_inv.get(link_node_no)#ファイルが連番でない対象に対応\n",
    "        if link_lda_no == None:#LDA結果が存在しないノード\n",
    "            weight = DEFAULT_WEIGHT\n",
    "        else:\n",
    "            q_dst = theta[link_lda_no]\n",
    "            weight = compare(p_dst,q_dst)\n",
    "        edges[node_no][link_node_no][\"weight\"] = weight"
   ]
  },
  {
   "cell_type": "code",
   "execution_count": 29,
   "metadata": {},
   "outputs": [
    {
     "data": {
      "text/plain": [
       "{11: {'weight': 0.74412964273981086},\n",
       " 12: {'weight': 0.5449028892956187},\n",
       " 13: {'weight': 0.8130260381709854},\n",
       " 14: {'weight': 0.55415315149008404},\n",
       " 16: {'weight': 0.74145929687597201},\n",
       " 17: {'weight': 0.66877867090571086},\n",
       " 18: {'weight': 0.61585193106421765},\n",
       " 19: {'weight': 0.55080918022902481},\n",
       " 20: {'weight': 0.70375625123579699},\n",
       " 21: {'weight': 0.82243308347420641},\n",
       " 22: {'weight': 0.93365685073606475},\n",
       " 24: {'weight': 0.72878962392820035},\n",
       " 25: {'weight': 0.44357611598092561},\n",
       " 26: {'weight': 0.7431124616338477},\n",
       " 27: {'weight': 0.95888708054747351}}"
      ]
     },
     "execution_count": 29,
     "metadata": {},
     "output_type": "execute_result"
    }
   ],
   "source": [
    "G.edge[0]"
   ]
  },
  {
   "cell_type": "code",
   "execution_count": 30,
   "metadata": {},
   "outputs": [
    {
     "data": {
      "text/plain": [
       "{0: {11: {'weight': 0.74412964273981086},\n",
       "  12: {'weight': 0.5449028892956187},\n",
       "  13: {'weight': 0.8130260381709854},\n",
       "  14: {'weight': 0.55415315149008404},\n",
       "  16: {'weight': 0.74145929687597201},\n",
       "  17: {'weight': 0.66877867090571086},\n",
       "  18: {'weight': 0.61585193106421765},\n",
       "  19: {'weight': 0.55080918022902481},\n",
       "  20: {'weight': 0.70375625123579699},\n",
       "  21: {'weight': 0.82243308347420641},\n",
       "  22: {'weight': 0.93365685073606475},\n",
       "  24: {'weight': 0.72878962392820035},\n",
       "  25: {'weight': 0.44357611598092561},\n",
       "  26: {'weight': 0.7431124616338477},\n",
       "  27: {'weight': 0.95888708054747351}},\n",
       " 2: {28: {'weight': 0.52198785445899054},\n",
       "  29: {'weight': 0.57877491297055539},\n",
       "  31: {'weight': 0.57330328397485408}},\n",
       " 3: {9: {'weight': 0.75808963013483777},\n",
       "  32: {'weight': 0.40073151264765439},\n",
       "  34: {'weight': 0.81798128765954947},\n",
       "  35: {'weight': 0.53183621183825114},\n",
       "  36: {'weight': 0.6441060241863521},\n",
       "  38: {'weight': 0.84225076207263605},\n",
       "  40: {'weight': 0.49505541638276601},\n",
       "  41: {'weight': 0.67536152939352956},\n",
       "  42: {'weight': 0.85800402305746359},\n",
       "  43: {'weight': 0.62131705127460957},\n",
       "  44: {'weight': 0.88554447194217023},\n",
       "  47: {'weight': 0.51125561939445596},\n",
       "  48: {'weight': 0.51515283525557576},\n",
       "  49: {'weight': 0.67302808026506278},\n",
       "  50: {'weight': 0.60483664338237419}},\n",
       " 4: {31: {'weight': 0.46491643235619429}, 52: {'weight': 0.61927871007080948}},\n",
       " 5: {28: {'weight': 0.70105252176803745},\n",
       "  29: {'weight': 0.65917941260092783},\n",
       "  31: {'weight': 0.43482446674509267},\n",
       "  53: {'weight': 0.61774798448254187}},\n",
       " 6: {31: {'weight': 0.6284217431856437}, 52: {'weight': 0.53651786190428907}},\n",
       " 7: {31: {'weight': 0.62069018304788137}},\n",
       " 9: {28: {'weight': 0.86614392265828599},\n",
       "  29: {'weight': 0.76410795417513599},\n",
       "  31: {'weight': 0.4922049735122041},\n",
       "  53: {'weight': 0.74182678872565266}},\n",
       " 10: {31: {'weight': 0.52126687936881466}},\n",
       " 11: {},\n",
       " 12: {26: {'weight': 0.2737166319955095}},\n",
       " 13: {},\n",
       " 14: {26: {'weight': 0.30326332011639795}},\n",
       " 16: {},\n",
       " 17: {0: {'weight': 0.66877867090571086}, 26: {'weight': 0.31205117465340443}},\n",
       " 18: {0: {'weight': 0.61585193106421765}, 26: {'weight': 0.3799657721175671}},\n",
       " 19: {0: {'weight': 0.55080918022902481},\n",
       "  5: {'weight': 0.47910475804134195},\n",
       "  26: {'weight': 0.27808847895789834}},\n",
       " 20: {},\n",
       " 21: {26: {'weight': 0.61129537598336903}},\n",
       " 22: {},\n",
       " 24: {},\n",
       " 25: {},\n",
       " 26: {0: {'weight': 0.7431124616338477}, 21: {'weight': 0.61129537598336903}},\n",
       " 27: {11: {'weight': 0.8889896930955361},\n",
       "  16: {'weight': 0.87040612202276957},\n",
       "  20: {'weight': 0.8574373953374167}},\n",
       " 28: {9: {'weight': 0.86614392265828599},\n",
       "  29: {'weight': 0.82436957075993045},\n",
       "  34: {'weight': 0.96370194805569054},\n",
       "  35: {'weight': 0.64256509760165414},\n",
       "  36: {'weight': 0.87605482381623534},\n",
       "  42: {'weight': 0.88243795205411257},\n",
       "  44: {'weight': 0.8970929517345575},\n",
       "  47: {'weight': 0.69904477921416641},\n",
       "  50: {'weight': 0.70832963060961185}},\n",
       " 29: {9: {'weight': 0.76410795417513599},\n",
       "  32: {'weight': 0.7163626399989137},\n",
       "  34: {'weight': 0.82198691353782549},\n",
       "  35: {'weight': 0.52122101010549815},\n",
       "  36: {'weight': 0.80801765717979845},\n",
       "  38: {'weight': 0.76509034418862887},\n",
       "  40: {'weight': 0.7774222051187365},\n",
       "  41: {'weight': 0.48316265741900377},\n",
       "  42: {'weight': 0.61783711449696366},\n",
       "  43: {'weight': 0.9136296132746875},\n",
       "  44: {'weight': 0.63873144763297951},\n",
       "  47: {'weight': 0.57391953539455232},\n",
       "  48: {'weight': 0.48341614875939309},\n",
       "  50: {'weight': 0.61092532979057734}},\n",
       " 31: {},\n",
       " 32: {29: {'weight': 0.7163626399989137}},\n",
       " 34: {28: {'weight': 0.96370194805569054},\n",
       "  29: {'weight': 0.82198691353782549},\n",
       "  53: {'weight': 0.97114524420727921}},\n",
       " 35: {29: {'weight': 0.52122101010549815}},\n",
       " 36: {},\n",
       " 38: {28: {'weight': 0.95317555825188915},\n",
       "  29: {'weight': 0.76509034418862887}},\n",
       " 40: {28: {'weight': 0.72658800505987453}, 29: {'weight': 0.7774222051187365}},\n",
       " 41: {9: {'weight': 0.61940996459881503},\n",
       "  29: {'weight': 0.48316265741900377},\n",
       "  34: {'weight': 0.59816265726675089},\n",
       "  35: {'weight': 0.57566805093507101},\n",
       "  36: {'weight': 0.67285268327331249},\n",
       "  42: {'weight': 0.61339928427492052},\n",
       "  44: {'weight': 0.67984369911539011},\n",
       "  47: {'weight': 0.71339016036490244}},\n",
       " 42: {28: {'weight': 0.88243795205411257},\n",
       "  29: {'weight': 0.61783711449696366}},\n",
       " 43: {28: {'weight': 0.87470470516782128}, 29: {'weight': 0.9136296132746875}},\n",
       " 44: {28: {'weight': 0.8970929517345575},\n",
       "  29: {'weight': 0.63873144763297951},\n",
       "  53: {'weight': 0.84989326841321045}},\n",
       " 47: {28: {'weight': 0.69904477921416641}},\n",
       " 48: {29: {'weight': 0.48341614875939309}},\n",
       " 49: {9: {'weight': 0.46198786989638135},\n",
       "  29: {'weight': 0.61413896034830462},\n",
       "  34: {'weight': 0.4364076446384384},\n",
       "  35: {'weight': 0.41225263743619434},\n",
       "  36: {'weight': 0.48949411312939428},\n",
       "  42: {'weight': 0.37792136010404709},\n",
       "  44: {'weight': 0.42753069068147254},\n",
       "  47: {'weight': 0.37925451465104504}},\n",
       " 50: {},\n",
       " 52: {},\n",
       " 53: {9: {'weight': 0.74182678872565266},\n",
       "  34: {'weight': 0.97114524420727921},\n",
       "  35: {'weight': 0.47378622607944321},\n",
       "  36: {'weight': 0.71185872044188425},\n",
       "  42: {'weight': 0.91870803688926417},\n",
       "  44: {'weight': 0.84989326841321045},\n",
       "  47: {'weight': 0.5354079931977983}}}"
      ]
     },
     "execution_count": 30,
     "metadata": {},
     "output_type": "execute_result"
    }
   ],
   "source": [
    "edges"
   ]
  },
  {
   "cell_type": "code",
   "execution_count": 31,
   "metadata": {},
   "outputs": [
    {
     "data": {
      "text/plain": [
       "43"
      ]
     },
     "execution_count": 31,
     "metadata": {},
     "output_type": "execute_result"
    }
   ],
   "source": [
    "len(edges)"
   ]
  },
  {
   "cell_type": "code",
   "execution_count": 32,
   "metadata": {},
   "outputs": [
    {
     "data": {
      "text/plain": [
       "0.52198785445899054"
      ]
     },
     "execution_count": 32,
     "metadata": {},
     "output_type": "execute_result"
    }
   ],
   "source": [
    "compare(theta[1],theta[24])"
   ]
  },
  {
   "cell_type": "code",
   "execution_count": 33,
   "metadata": {},
   "outputs": [
    {
     "data": {
      "text/plain": [
       "{'weight': 0.52198785445899054}"
      ]
     },
     "execution_count": 33,
     "metadata": {},
     "output_type": "execute_result"
    }
   ],
   "source": [
    "edges[2][28]"
   ]
  },
  {
   "cell_type": "code",
   "execution_count": 34,
   "metadata": {},
   "outputs": [
    {
     "data": {
      "text/plain": [
       "43"
      ]
     },
     "execution_count": 34,
     "metadata": {},
     "output_type": "execute_result"
    }
   ],
   "source": [
    "\"\"\"全ノード間距離の算出．上といろいろ重複するが面倒なのでもう一度ループ\"\"\"\n",
    "nodes_lim = len(nodes)#removeしている場合があるため\n",
    "nodes_lim"
   ]
  },
  {
   "cell_type": "code",
   "execution_count": 35,
   "metadata": {},
   "outputs": [
    {
     "data": {
      "text/plain": [
       "array([[ 0.5,  0.5,  0.5, ...,  0.5,  0.5,  0.5],\n",
       "       [ 0.5,  0.5,  0.5, ...,  0.5,  0.5,  0.5],\n",
       "       [ 0.5,  0.5,  0.5, ...,  0.5,  0.5,  0.5],\n",
       "       ..., \n",
       "       [ 0.5,  0.5,  0.5, ...,  0.5,  0.5,  0.5],\n",
       "       [ 0.5,  0.5,  0.5, ...,  0.5,  0.5,  0.5],\n",
       "       [ 0.5,  0.5,  0.5, ...,  0.5,  0.5,  0.5]])"
      ]
     },
     "execution_count": 35,
     "metadata": {},
     "output_type": "execute_result"
    }
   ],
   "source": [
    "all_node_weights = np.ones((nodes_lim,nodes_lim))*DEFAULT_WEIGHT#除算の都合上，自分自身との類似度は1に\n",
    "all_node_weights"
   ]
  },
  {
   "cell_type": "code",
   "execution_count": 36,
   "metadata": {},
   "outputs": [
    {
     "data": {
      "text/plain": [
       "array([[ 1.        ,  0.47019059,  0.6041772 , ...,  0.79859963,\n",
       "         0.789853  ,  0.64824594],\n",
       "       [ 0.47019059,  1.        ,  0.65786765, ...,  0.52692355,\n",
       "         0.41789448,  0.41575127],\n",
       "       [ 0.6041772 ,  0.65786765,  1.        , ...,  0.60483664,\n",
       "         0.46476017,  0.78115451],\n",
       "       ..., \n",
       "       [ 0.79859963,  0.52692355,  0.60483664, ...,  1.        ,\n",
       "         0.6501242 ,  0.56278771],\n",
       "       [ 0.789853  ,  0.41789448,  0.46476017, ...,  0.6501242 ,\n",
       "         1.        ,  0.37308651],\n",
       "       [ 0.64824594,  0.41575127,  0.78115451, ...,  0.56278771,\n",
       "         0.37308651,  1.        ]])"
      ]
     },
     "execution_count": 36,
     "metadata": {},
     "output_type": "execute_result"
    }
   ],
   "source": [
    "for i,i_node in enumerate(nodes):\n",
    "    i_lda_no = file_id_dict_inv.get(i_node)#LDA結果が存在しない場合\n",
    "    if i_lda_no == None:#LDA結果が存在しない場合\n",
    "        continue\n",
    "\n",
    "    p_dst = theta[i_lda_no]\n",
    "    for j,j_node in enumerate(nodes):\n",
    "        j_lda_no = file_id_dict_inv.get(j_node)#LDA結果が存在しない場合\n",
    "        if j_lda_no == None:#LDA結果が存在しない場合\n",
    "            continue\n",
    "        q_dst = theta[j_lda_no]\n",
    "        weight = compare(p_dst,q_dst)\n",
    "        if weight == 0:\n",
    "            weight = 0.001\n",
    "        all_node_weights[i,j] = weight\n",
    "        #all_node_weights[i,j] = all_node_weights[j,i]=weight\n",
    "        weights_list.append(weight)#ヒストグラム作成用\n",
    "\n",
    "all_node_weights"
   ]
  },
  {
   "cell_type": "code",
   "execution_count": 37,
   "metadata": {},
   "outputs": [
    {
     "data": {
      "text/plain": [
       "0.52198785445899054"
      ]
     },
     "execution_count": 37,
     "metadata": {},
     "output_type": "execute_result"
    }
   ],
   "source": [
    "all_node_weights[1,24]"
   ]
  },
  {
   "cell_type": "code",
   "execution_count": 38,
   "metadata": {},
   "outputs": [
    {
     "data": {
      "text/plain": [
       "0.52198785445899054"
      ]
     },
     "execution_count": 38,
     "metadata": {},
     "output_type": "execute_result"
    }
   ],
   "source": [
    "all_node_weights[24,1]"
   ]
  },
  {
   "cell_type": "code",
   "execution_count": 39,
   "metadata": {},
   "outputs": [
    {
     "data": {
      "text/plain": [
       "[1.0,\n",
       " 0.47019059199669067,\n",
       " 0.60417719633880551,\n",
       " 0.5671373675502589,\n",
       " 0.59234195411778268,\n",
       " 0.56067491835684458,\n",
       " 0.62118658223307932,\n",
       " 0.66280008978435401,\n",
       " 0.708611966715611,\n",
       " 0.74412964273981086,\n",
       " 0.5449028892956187,\n",
       " 0.8130260381709854,\n",
       " 0.55415315149008404,\n",
       " 0.74145929687597201,\n",
       " 0.66877867090571086,\n",
       " 0.61585193106421765,\n",
       " 0.55080918022902481,\n",
       " 0.70375625123579699,\n",
       " 0.82243308347420641,\n",
       " 0.93365685073606475,\n",
       " 0.72878962392820035,\n",
       " 0.44357611598092561,\n",
       " 0.7431124616338477,\n",
       " 0.95888708054747351,\n",
       " 0.7151553386166164,\n",
       " 0.73462034369513018,\n",
       " 0.75968509852303223,\n",
       " 0.51962557268857534,\n",
       " 0.6874282605613794,\n",
       " 0.58920834235687125,\n",
       " 0.70251717897283272,\n",
       " 0.64963031356370926,\n",
       " 0.58375040494136232,\n",
       " 0.48706431514028514,\n",
       " 0.54521994868101697,\n",
       " 0.80452964317872067,\n",
       " 0.5800479972887741,\n",
       " 0.57083541770584156,\n",
       " 0.48731985346746864,\n",
       " 0.43119102042344498,\n",
       " 0.79859962847561627,\n",
       " 0.78985299676913845,\n",
       " 0.64824594058332485,\n",
       " 0.47019059199669067,\n",
       " 1.0,\n",
       " 0.65786764884335569,\n",
       " 0.4576781081283085,\n",
       " 0.5400521730546296,\n",
       " 0.94102717859889007,\n",
       " 0.6469708395651188,\n",
       " 0.48713699052098391,\n",
       " 0.51857785059188444,\n",
       " 0.34727676684990644,\n",
       " 0.50628598921095758,\n",
       " 0.46397519946878873,\n",
       " 0.48434788892679953,\n",
       " 0.38746313942451943,\n",
       " 0.49697483503632139,\n",
       " 0.39573696843406986,\n",
       " 0.46962668748229353,\n",
       " 0.30514207917363301,\n",
       " 0.53056104875346921,\n",
       " 0.40704220844962735,\n",
       " 0.40888955166775953,\n",
       " 0.30900758383485649,\n",
       " 0.29737667779537064,\n",
       " 0.44523548152770648,\n",
       " 0.52198785445899054,\n",
       " 0.57877491297055539,\n",
       " 0.57330328397485408,\n",
       " 0.25374946675702231,\n",
       " 0.46174653955869782,\n",
       " 0.49833346417749208,\n",
       " 0.53815905373169304,\n",
       " 0.45048846626947769,\n",
       " 0.30817973143179078,\n",
       " 0.49199060270208811,\n",
       " 0.41049544424309142,\n",
       " 0.46318390524018616,\n",
       " 0.47950937795437765,\n",
       " 0.4283667079801608,\n",
       " 0.50048997210599877,\n",
       " 0.79670184666593324,\n",
       " 0.52692354970766142,\n",
       " 0.41789447744363173,\n",
       " 0.41575126535550716,\n",
       " 0.60417719633880551,\n",
       " 0.65786764884335569,\n",
       " 1.0,\n",
       " 0.50076734983743754,\n",
       " 0.56086430339498994,\n",
       " 0.6885296451414441,\n",
       " 0.66999601426639432,\n",
       " 0.75808963013483777,\n",
       " 0.68240032904885628,\n",
       " 0.39710666385887644,\n",
       " 0.48569260936685038,\n",
       " 0.50034429917037326,\n",
       " 0.63192069540769435,\n",
       " 0.43500487978331892,\n",
       " 0.56654692375414317,\n",
       " 0.42571806835457116,\n",
       " 0.48908584330338128,\n",
       " 0.35332741845692534,\n",
       " 0.84618873428903596,\n",
       " 0.50916516443322635,\n",
       " 0.45369760422659594,\n",
       " 0.33851667081597564,\n",
       " 0.35909869709450892,\n",
       " 0.54683825604491665,\n",
       " 0.83182106471016437,\n",
       " 0.69306720321477289,\n",
       " 0.49643989988073578,\n",
       " 0.40073151264765439,\n",
       " 0.81798128765954947,\n",
       " 0.53183621183825114,\n",
       " 0.6441060241863521,\n",
       " 0.84225076207263605,\n",
       " 0.49505541638276601,\n",
       " 0.67536152939352956,\n",
       " 0.85800402305746359,\n",
       " 0.62131705127460957,\n",
       " 0.88554447194217023,\n",
       " 0.51125561939445596,\n",
       " 0.51515283525557576,\n",
       " 0.67302808026506278,\n",
       " 0.60483664338237419,\n",
       " 0.46476017286550869,\n",
       " 0.78115451333521013,\n",
       " 0.5671373675502589,\n",
       " 0.4576781081283085,\n",
       " 0.50076734983743754,\n",
       " 1.0,\n",
       " 0.55145440330879236,\n",
       " 0.63795983094197106,\n",
       " 0.88176505652604054,\n",
       " 0.71834562452125905,\n",
       " 0.90184937278399768,\n",
       " 0.33925866287953388,\n",
       " 0.7580322997490232,\n",
       " 0.43960783271985859,\n",
       " 0.69237622460970805,\n",
       " 0.36840121341012472,\n",
       " 0.76854233043009079,\n",
       " 0.73102442523597855,\n",
       " 0.75788609905152049,\n",
       " 0.29267855732681164,\n",
       " 0.52761652051357744,\n",
       " 0.43449354748648022,\n",
       " 0.38748381620294359,\n",
       " 0.67374747537330104,\n",
       " 0.29200031000586973,\n",
       " 0.50574805914795107,\n",
       " 0.67531132323231891,\n",
       " 0.62699930661050984,\n",
       " 0.46491643235619429,\n",
       " 0.30350710808918402,\n",
       " 0.55979744142458343,\n",
       " 0.55967571635605839,\n",
       " 0.77663205191927487,\n",
       " 0.52019140163829169,\n",
       " 0.35975122319586617,\n",
       " 0.66799540502196342,\n",
       " 0.43168905102448113,\n",
       " 0.68072616103106287,\n",
       " 0.52864567152376896,\n",
       " 0.76291598405986571,\n",
       " 0.61194936422605251,\n",
       " 0.42141751049904708,\n",
       " 0.58683475017788489,\n",
       " 0.61927871007080948,\n",
       " 0.4561180077872371,\n",
       " 0.59234195411778268,\n",
       " 0.5400521730546296,\n",
       " 0.56086430339498994,\n",
       " 0.55145440330879236,\n",
       " 1.0,\n",
       " 0.67605581824150396,\n",
       " 0.57558385603253981,\n",
       " 0.56686323864954646,\n",
       " 0.65095717938323305,\n",
       " 0.33689627762132757,\n",
       " 0.45268784485040209,\n",
       " 0.39524360021016458,\n",
       " 0.47337411591867273,\n",
       " 0.37363920341690188,\n",
       " 0.55380750443937221,\n",
       " 0.38956979070684206,\n",
       " 0.47910475804134195,\n",
       " 0.29683990884912742,\n",
       " 0.5950749162925898,\n",
       " 0.47661740640210082,\n",
       " 0.3929931277913109,\n",
       " 0.32636443076411681,\n",
       " 0.30882454994446507,\n",
       " 0.50615862434304826,\n",
       " 0.70105252176803745,\n",
       " 0.65917941260092783,\n",
       " 0.43482446674509267,\n",
       " 0.49838744771884463,\n",
       " 0.63974247100374382,\n",
       " 0.53085825531178799,\n",
       " 0.71920003408634281,\n",
       " 0.61479490064036246,\n",
       " 0.56159207154830182,\n",
       " 0.53966111586621379,\n",
       " 0.53200832843927548,\n",
       " 0.70997609644610427,\n",
       " 0.54691280235435713,\n",
       " 0.61875171706523202,\n",
       " 0.52415852824371145,\n",
       " 0.41439790177912145,\n",
       " 0.59292199513733179,\n",
       " 0.40842632730665512,\n",
       " 0.61774798448254187,\n",
       " 0.56067491835684458,\n",
       " 0.94102717859889007,\n",
       " 0.6885296451414441,\n",
       " 0.63795983094197106,\n",
       " 0.67605581824150396,\n",
       " 1.0,\n",
       " 0.80274360984101978,\n",
       " 0.61591542760808493,\n",
       " 0.67964667107957688,\n",
       " 0.39793543795287462,\n",
       " 0.65192963900226264,\n",
       " 0.52524523891189512,\n",
       " 0.61604863489016848,\n",
       " 0.43892329322758056,\n",
       " 0.63456350719768861,\n",
       " 0.53763028132322788,\n",
       " 0.62556422010225898,\n",
       " 0.34870524623906879,\n",
       " 0.60590118096853662,\n",
       " 0.47436071608276353,\n",
       " 0.46165883063233371,\n",
       " 0.43584097567802771,\n",
       " 0.34142097202136412,\n",
       " 0.52627379939402108,\n",
       " 0.628650712634654,\n",
       " 0.65494885391777014,\n",
       " 0.6284217431856437,\n",
       " 0.29133215903938681,\n",
       " 0.54713536774674643,\n",
       " 0.57809167462932709,\n",
       " 0.66106287602748659,\n",
       " 0.52772816657554045,\n",
       " 0.35324726125042372,\n",
       " 0.61082836335861079,\n",
       " 0.47129369430709539,\n",
       " 0.5719482862408618,\n",
       " 0.56112235471723448,\n",
       " 0.55766112491644726,\n",
       " 0.59897707156765756,\n",
       " 0.74278404020471755,\n",
       " 0.61235900000986421,\n",
       " 0.53651786190428907,\n",
       " 0.47732795122676336,\n",
       " 0.62118658223307932,\n",
       " 0.6469708395651188,\n",
       " 0.66999601426639432,\n",
       " 0.88176505652604054,\n",
       " 0.57558385603253981,\n",
       " 0.80274360984101978,\n",
       " 1.0,\n",
       " 0.84778848130564566,\n",
       " 0.9101586039905285,\n",
       " 0.40750015567389997,\n",
       " 0.84792641892612175,\n",
       " 0.52101898982623251,\n",
       " 0.8294815483437229,\n",
       " 0.44829694680952575,\n",
       " 0.82017267786881831,\n",
       " 0.77837428119315233,\n",
       " 0.82941907927970837,\n",
       " 0.3511646531219772,\n",
       " 0.66601031067190508,\n",
       " 0.4924732061832563,\n",
       " 0.47405139423341525,\n",
       " 0.69437723824406872,\n",
       " 0.3427371994447006,\n",
       " 0.57148719848073137,\n",
       " 0.75673472483893023,\n",
       " 0.67564943519030107,\n",
       " 0.62069018304788137,\n",
       " 0.30610900723910628,\n",
       " 0.66500202904353511,\n",
       " 0.62585846693950253,\n",
       " 0.75941662880148431,\n",
       " 0.63688456432802232,\n",
       " 0.37740585441844171,\n",
       " 0.71653942607837118,\n",
       " 0.56621588512584675,\n",
       " 0.66522373469876062,\n",
       " 0.70086120822201425,\n",
       " 0.63859452165648578,\n",
       " 0.6504178962381898,\n",
       " 0.52948463457031802,\n",
       " 0.65335639163708381,\n",
       " 0.68867481020545895,\n",
       " 0.54590583840795148,\n",
       " 0.66280008978435401,\n",
       " 0.48713699052098391,\n",
       " 0.75808963013483777,\n",
       " 0.71834562452125905,\n",
       " 0.56686323864954646,\n",
       " 0.61591542760808493,\n",
       " 0.84778848130564566,\n",
       " 1.0,\n",
       " 0.91909371473835566,\n",
       " 0.36059333130305243,\n",
       " 0.78232659352767231,\n",
       " 0.46420166616480807,\n",
       " 0.84816725214493249,\n",
       " 0.39211370273139518,\n",
       " 0.85063733193524727,\n",
       " 0.73063870662417107,\n",
       " 0.80363981289321462,\n",
       " 0.31151708967367908,\n",
       " 0.74925837344334123,\n",
       " 0.49430939569313126,\n",
       " 0.41242457031729446,\n",
       " 0.70239605972076269,\n",
       " 0.31855166425749243,\n",
       " 0.5683273998110091,\n",
       " 0.86614392265828599,\n",
       " 0.76410795417513599,\n",
       " 0.4922049735122041,\n",
       " 0.42891800642631506,\n",
       " 0.8677406371203068,\n",
       " 0.51617866535607448,\n",
       " 0.7093395894631781,\n",
       " 0.84281239944635922,\n",
       " 0.51710970752207464,\n",
       " 0.61940996459881503,\n",
       " 0.76633728503145138,\n",
       " 0.73526129963712872,\n",
       " 0.86923029439191524,\n",
       " 0.50891335780326485,\n",
       " 0.5048836114486438,\n",
       " 0.46198786989638135,\n",
       " 0.5824356888251595,\n",
       " 0.64070263087204848,\n",
       " 0.74182678872565266,\n",
       " 0.708611966715611,\n",
       " 0.51857785059188444,\n",
       " 0.68240032904885628,\n",
       " 0.90184937278399768,\n",
       " 0.65095717938323305,\n",
       " 0.67964667107957688,\n",
       " 0.9101586039905285,\n",
       " 0.91909371473835566,\n",
       " 1.0,\n",
       " 0.38334945012917326,\n",
       " 0.80302461877689812,\n",
       " 0.49037195648551302,\n",
       " 0.79711553565608917,\n",
       " 0.41742155888984761,\n",
       " 0.88741733990825189,\n",
       " 0.75467724797964864,\n",
       " 0.8119022738637266,\n",
       " 0.33162306545101267,\n",
       " 0.70279261390349923,\n",
       " 0.52932576129569031,\n",
       " 0.43904333813684615,\n",
       " 0.71377047813400663,\n",
       " 0.34021706530177748,\n",
       " 0.60537382915055671,\n",
       " 0.87487454071688486,\n",
       " 0.81815868053375751,\n",
       " 0.52126687936881466,\n",
       " 0.47401349792222985,\n",
       " 0.80819574709530095,\n",
       " 0.59729165695384934,\n",
       " 0.85532221808964104,\n",
       " 0.76458349203141662,\n",
       " 0.55356838436401667,\n",
       " 0.68513556239868212,\n",
       " 0.65352416790958068,\n",
       " 0.84493097721261645,\n",
       " 0.74487809529747429,\n",
       " 0.7089877839756763,\n",
       " 0.60559731664828076,\n",
       " 0.4874097629864777,\n",
       " 0.65891586767726196,\n",
       " 0.66355439771305047,\n",
       " 0.69409262236816271,\n",
       " 0.74412964273981086,\n",
       " 0.34727676684990644,\n",
       " 0.39710666385887644,\n",
       " 0.33925866287953388,\n",
       " 0.33689627762132757,\n",
       " 0.39793543795287462,\n",
       " 0.40750015567389997,\n",
       " 0.36059333130305243,\n",
       " 0.38334945012917326,\n",
       " 1.0,\n",
       " 0.32574534703847835,\n",
       " 0.9305208596496225,\n",
       " 0.35896567001629115,\n",
       " 0.97223149491468464,\n",
       " 0.35521168798446773,\n",
       " 0.43534820805892482,\n",
       " 0.32970621446984638,\n",
       " 0.98906792903074048,\n",
       " 0.64102901678908009,\n",
       " 0.89947760288617395,\n",
       " 0.9306698910310558,\n",
       " 0.23390674610867468,\n",
       " 0.95802953174316396,\n",
       " 0.8889896930955361,\n",
       " 0.38791417969003,\n",
       " 0.3424735458958339,\n",
       " 0.78997086089126844,\n",
       " 0.18416615817072954,\n",
       " 0.33729531378690403,\n",
       " 0.53264128715074632,\n",
       " 0.40961528156106519,\n",
       " 0.32830352902137144,\n",
       " 0.22582298225276773,\n",
       " 0.35707668773405371,\n",
       " 0.29792917276820474,\n",
       " 0.39195815743012413,\n",
       " 0.34475660655015811,\n",
       " 0.35907092307602317,\n",
       " 0.40043211184329341,\n",
       " 0.29298413602530676,\n",
       " 0.72885116132970873,\n",
       " 0.7219440020558352,\n",
       " 0.31127621339265887,\n",
       " 0.5449028892956187,\n",
       " 0.50628598921095758,\n",
       " 0.48569260936685038,\n",
       " 0.7580322997490232,\n",
       " 0.45268784485040209,\n",
       " 0.65192963900226264,\n",
       " 0.84792641892612175,\n",
       " 0.78232659352767231,\n",
       " 0.80302461877689812,\n",
       " 0.32574534703847835,\n",
       " 1.0,\n",
       " 0.45592522012925796,\n",
       " 0.84724407345368913,\n",
       " 0.35020237555062045,\n",
       " 0.91799735671071903,\n",
       " 0.92391901380337216,\n",
       " 0.98575831265283465,\n",
       " 0.2782203804183348,\n",
       " 0.49616506941442212,\n",
       " 0.40733530617067387,\n",
       " 0.3683423086612026,\n",
       " 0.91629632597068345,\n",
       " 0.2737166319955095,\n",
       " 0.49103299595946609,\n",
       " 0.55995325772887938,\n",
       " 0.63268316349220843,\n",
       " 0.48493811435620288,\n",
       " 0.24560942708054279,\n",
       " 0.52013532921254169,\n",
       " 0.44304462467717709,\n",
       " 0.57041413700458687,\n",
       " 0.47499522572393527,\n",
       " 0.29608909834278624,\n",
       " 0.48113599038030613,\n",
       " 0.38450014382945569,\n",
       " 0.55334112237737143,\n",
       " 0.50929496303930999,\n",
       " 0.39881138603816374,\n",
       " 0.48647484961231313,\n",
       " 0.4765712095527358,\n",
       " 0.48446484234057607,\n",
       " 0.72205180560937077,\n",
       " 0.39364785264806573,\n",
       " 0.8130260381709854,\n",
       " 0.46397519946878873,\n",
       " 0.50034429917037326,\n",
       " 0.43960783271985859,\n",
       " 0.39524360021016458,\n",
       " 0.52524523891189512,\n",
       " 0.52101898982623251,\n",
       " 0.46420166616480807,\n",
       " 0.49037195648551302,\n",
       " 0.9305208596496225,\n",
       " 0.45592522012925796,\n",
       " 1.0,\n",
       " 0.46994483239811574,\n",
       " 0.88460732150297317,\n",
       " 0.47652264695519736,\n",
       " 0.56743671374497695,\n",
       " 0.45673725020036143,\n",
       " 0.91555499928282569,\n",
       " 0.7048721128604023,\n",
       " 0.91530501168393941,\n",
       " 0.84129846608644221,\n",
       " 0.33453756742147855,\n",
       " 0.91300446743068786,\n",
       " 0.92384899259509223,\n",
       " 0.45587503167524551,\n",
       " 0.4529774315404605,\n",
       " 0.83530929188054703,\n",
       " 0.21606203463492238,\n",
       " 0.40791924814768393,\n",
       " 0.5075803778961645,\n",
       " 0.46207412487096067,\n",
       " 0.39269967991169064,\n",
       " 0.26198042284183681,\n",
       " 0.42358766779171747,\n",
       " 0.34952775240077888,\n",
       " 0.46883986802976213,\n",
       " 0.41055595808347611,\n",
       " 0.41287979089968169,\n",
       " 0.42456559717337894,\n",
       " 0.43155028840967058,\n",
       " 0.70837978070941421,\n",
       " 0.83839005799594923,\n",
       " 0.36360567175375808,\n",
       " 0.55415315149008404,\n",
       " 0.48434788892679953,\n",
       " 0.63192069540769435,\n",
       " 0.69237622460970805,\n",
       " 0.47337411591867273,\n",
       " 0.61604863489016848,\n",
       " 0.8294815483437229,\n",
       " 0.84816725214493249,\n",
       " 0.79711553565608917,\n",
       " 0.35896567001629115,\n",
       " 0.84724407345368913,\n",
       " 0.46994483239811574,\n",
       " 1.0,\n",
       " 0.38986865805741899,\n",
       " 0.86800956313630673,\n",
       " 0.77020913347608067,\n",
       " 0.84170809610344743,\n",
       " 0.30973349825585594,\n",
       " 0.6714031405353823,\n",
       " 0.43571261508135073,\n",
       " 0.4100632397087059,\n",
       " 0.69157154996505321,\n",
       " 0.30326332011639795,\n",
       " 0.50996826238888582,\n",
       " 0.67409926612828586,\n",
       " 0.59086978576872962,\n",
       " 0.49168057910325763,\n",
       " 0.25877249802169294,\n",
       " 0.63706392177707194,\n",
       " 0.48929600680445079,\n",
       " 0.59046414659743163,\n",
       " 0.61654306660424496,\n",
       " 0.32496852439035129,\n",
       " 0.70701991615945048,\n",
       " 0.56381061819934897,\n",
       " 0.55276106039546169,\n",
       " 0.69682279160735305,\n",
       " 0.436846330149536,\n",
       " 0.62530873442196744,\n",
       " 0.4745968237722627,\n",
       " 0.53243097962499464,\n",
       " 0.65305230628488464,\n",
       " 0.51291516424657413,\n",
       " 0.74145929687597201,\n",
       " 0.38746313942451943,\n",
       " 0.43500487978331892,\n",
       " 0.36840121341012472,\n",
       " 0.37363920341690188,\n",
       " 0.43892329322758056,\n",
       " 0.44829694680952575,\n",
       " 0.39211370273139518,\n",
       " 0.41742155888984761,\n",
       " 0.97223149491468464,\n",
       " 0.35020237555062045,\n",
       " 0.88460732150297317,\n",
       " 0.38986865805741899,\n",
       " 1.0,\n",
       " 0.38445389772600286,\n",
       " 0.44452908598899671,\n",
       " 0.35302139866765109,\n",
       " 0.93166180464549653,\n",
       " 0.66440942079430865,\n",
       " 0.8618724115740316,\n",
       " 0.98981234905037252,\n",
       " 0.24873107685353876,\n",
       " 0.87701385964042633,\n",
       " 0.87040612202276957,\n",
       " 0.43566806523506141,\n",
       " 0.37544117164599272,\n",
       " 0.77789241885090843,\n",
       " 0.20425187346669035,\n",
       " 0.37167603521952025,\n",
       " 0.65720618491406035,\n",
       " 0.47804815671940148,\n",
       " 0.36261401724500836,\n",
       " 0.25272289185479002,\n",
       " 0.3960205461345937,\n",
       " 0.33042222665736692,\n",
       " 0.42308536439501482,\n",
       " 0.38370206087547892,\n",
       " 0.39091520036626037,\n",
       " 0.48683312233358472,\n",
       " 0.3237793462966605,\n",
       " 0.82527233432439573,\n",
       " 0.70198672635566284,\n",
       " 0.34384537964756656,\n",
       " 0.66877867090571086,\n",
       " 0.49697483503632139,\n",
       " 0.56654692375414317,\n",
       " 0.76854233043009079,\n",
       " 0.55380750443937221,\n",
       " 0.63456350719768861,\n",
       " 0.82017267786881831,\n",
       " 0.85063733193524727,\n",
       " 0.88741733990825189,\n",
       " 0.35521168798446773,\n",
       " 0.91799735671071903,\n",
       " 0.47652264695519736,\n",
       " 0.86800956313630673,\n",
       " 0.38445389772600286,\n",
       " 1.0,\n",
       " 0.83574868392949708,\n",
       " 0.90538835660361949,\n",
       " 0.30543170803168695,\n",
       " 0.60966065214893184,\n",
       " 0.48909835635215954,\n",
       " 0.40436800568473746,\n",
       " 0.82039026866211628,\n",
       " 0.31205117465340443,\n",
       " 0.57086551932116847,\n",
       " 0.71094532228586316,\n",
       " 0.79715352872268153,\n",
       " 0.4913605584517689,\n",
       " 0.4162592840015793,\n",
       " 0.68256206292608401,\n",
       " 0.50560076574750457,\n",
       " 0.70982980930017658,\n",
       " 0.62620859396182871,\n",
       " 0.47943871696858564,\n",
       " 0.55881426760004982,\n",
       " 0.50312815926087617,\n",
       " 0.74234631523253158,\n",
       " 0.60191555525994811,\n",
       " 0.49747272072307902,\n",
       " 0.57015667029840333,\n",
       " 0.50368870750044692,\n",
       " 0.57101111996450371,\n",
       " 0.69124345846211654,\n",
       " 0.56082545531127015,\n",
       " 0.61585193106421765,\n",
       " 0.39573696843406986,\n",
       " 0.42571806835457116,\n",
       " 0.73102442523597855,\n",
       " 0.38956979070684206,\n",
       " 0.53763028132322788,\n",
       " 0.77837428119315233,\n",
       " 0.73063870662417107,\n",
       " 0.75467724797964864,\n",
       " 0.43534820805892482,\n",
       " 0.92391901380337216,\n",
       " 0.56743671374497695,\n",
       " 0.77020913347608067,\n",
       " 0.44452908598899671,\n",
       " 0.83574868392949708,\n",
       " 1.0,\n",
       " 0.93359222842524681,\n",
       " 0.38570951534749126,\n",
       " 0.50952940703843685,\n",
       " 0.50549327384159193,\n",
       " 0.45212047523874754,\n",
       " 0.90251521555015823,\n",
       " 0.3799657721175671,\n",
       " 0.59469671992211304,\n",
       " 0.50638595107892281,\n",
       " 0.54936500265115917,\n",
       " 0.54406053157941359,\n",
       " 0.21143035260439527,\n",
       " 0.4663499460774172,\n",
       " 0.43374414377610121,\n",
       " 0.51932035263692311,\n",
       " 0.42435983024646989,\n",
       " 0.25636439598498539,\n",
       " 0.42694150696873046,\n",
       " 0.34203498945594707,\n",
       " 0.5209375078622378,\n",
       " 0.4594712150324608,\n",
       " 0.38318465884434738,\n",
       " 0.42665900205519536,\n",
       " 0.375876120909999,\n",
       " 0.51445837625254054,\n",
       " 0.8766548347025922,\n",
       " 0.34951883806084461,\n",
       " 0.55080918022902481,\n",
       " 0.46962668748229353,\n",
       " 0.48908584330338128,\n",
       " 0.75788609905152049,\n",
       " 0.47910475804134195,\n",
       " 0.62556422010225898,\n",
       " 0.82941907927970837,\n",
       " 0.80363981289321462,\n",
       " 0.8119022738637266,\n",
       " 0.32970621446984638,\n",
       " 0.98575831265283465,\n",
       " 0.45673725020036143,\n",
       " 0.84170809610344743,\n",
       " 0.35302139866765109,\n",
       " 0.90538835660361949,\n",
       " 0.93359222842524681,\n",
       " 1.0,\n",
       " 0.28216231919796797,\n",
       " 0.50427283392110678,\n",
       " 0.41316257729232259,\n",
       " 0.37045283539867568,\n",
       " 0.92804390731212527,\n",
       " 0.27808847895789834,\n",
       " 0.4969812301906319,\n",
       " 0.5695812979396041,\n",
       " 0.62463318838788717,\n",
       " 0.46172237990769244,\n",
       " 0.24579569467344881,\n",
       " 0.5332841052229762,\n",
       " 0.4381390990424327,\n",
       " 0.56649912109746281,\n",
       " 0.48881865528360474,\n",
       " 0.29743414784259603,\n",
       " 0.47398571148972563,\n",
       " 0.39916065964823211,\n",
       " 0.55455799351975277,\n",
       " 0.52480226961069698,\n",
       " 0.395860361195635,\n",
       " 0.46621345523832591,\n",
       " 0.44835372623678033,\n",
       " 0.48388477800188012,\n",
       " 0.73355960986261037,\n",
       " 0.4034203594502484,\n",
       " 0.70375625123579699,\n",
       " 0.30514207917363301,\n",
       " 0.35332741845692534,\n",
       " 0.29267855732681164,\n",
       " 0.29683990884912742,\n",
       " 0.34870524623906879,\n",
       " 0.3511646531219772,\n",
       " 0.31151708967367908,\n",
       " 0.33162306545101267,\n",
       " 0.98906792903074048,\n",
       " 0.2782203804183348,\n",
       " 0.91555499928282569,\n",
       " 0.30973349825585594,\n",
       " 0.93166180464549653,\n",
       " 0.30543170803168695,\n",
       " 0.38570951534749126,\n",
       " 0.28216231919796797,\n",
       " 1.0,\n",
       " 0.5958558981619233,\n",
       " 0.88521229081294073,\n",
       " 0.87382879080781384,\n",
       " 0.19760589890639232,\n",
       " 0.98236149882607837,\n",
       " 0.8574373953374167,\n",
       " 0.33733891903567848,\n",
       " 0.29827149494245409,\n",
       " 0.75878218885086912,\n",
       " 0.16226912952939621,\n",
       " 0.29528026213723746,\n",
       " 0.45156014341515877,\n",
       " 0.3497430792951608,\n",
       " 0.2880808853053996,\n",
       " 0.19814551225854982,\n",
       " 0.31462090459952713,\n",
       " 0.26250592376287246,\n",
       " 0.34755676789405665,\n",
       " 0.30081518055958584,\n",
       " 0.32104983217637623,\n",
       " 0.33817021901739303,\n",
       " 0.25722844734369249,\n",
       " 0.650607780000791,\n",
       " 0.67752558934142726,\n",
       " 0.27513545653512256,\n",
       " 0.82243308347420641,\n",
       " 0.53056104875346921,\n",
       " 0.84618873428903596,\n",
       " 0.52761652051357744,\n",
       " 0.5950749162925898,\n",
       " 0.60590118096853662,\n",
       " 0.66601031067190508,\n",
       " 0.74925837344334123,\n",
       " 0.70279261390349923,\n",
       " 0.64102901678908009,\n",
       " 0.49616506941442212,\n",
       " 0.7048721128604023,\n",
       " 0.6714031405353823,\n",
       " 0.66440942079430865,\n",
       " 0.60966065214893184,\n",
       " 0.50952940703843685,\n",
       " 0.50427283392110678,\n",
       " 0.5958558981619233,\n",
       " 1.0,\n",
       " 0.77134498680173302,\n",
       " 0.66731055736496725,\n",
       " 0.35669751572147845,\n",
       " 0.61129537598336903,\n",
       " 0.79662475395077936,\n",
       " 0.83279402868753249,\n",
       " 0.65201825003806102,\n",
       " 0.69473305368803717,\n",
       " 0.43325934358789914,\n",
       " 0.80930373974356495,\n",
       " 0.60759199623607407,\n",
       " 0.67677245316415657,\n",
       " 0.82076851390663941,\n",
       " 0.52602246244421347,\n",
       " 0.70915428924086144,\n",
       " 0.80735282615479764,\n",
       " 0.69536975374718157,\n",
       " 0.83704205102801121,\n",
       " 0.5673129884400161,\n",
       " 0.58182073058036587,\n",
       " 0.48540317614030637,\n",
       " 0.76155916139973978,\n",
       " 0.6408359279126109,\n",
       " 0.78013764924392581,\n",
       " 0.93365685073606475,\n",
       " 0.40704220844962735,\n",
       " 0.50916516443322635,\n",
       " 0.43449354748648022,\n",
       " 0.47661740640210082,\n",
       " 0.47436071608276353,\n",
       " 0.4924732061832563,\n",
       " 0.49430939569313126,\n",
       " 0.52932576129569031,\n",
       " 0.89947760288617395,\n",
       " 0.40733530617067387,\n",
       " 0.91530501168393941,\n",
       " 0.43571261508135073,\n",
       " 0.8618724115740316,\n",
       " 0.48909835635215954,\n",
       " 0.50549327384159193,\n",
       " 0.41316257729232259,\n",
       " 0.88521229081294073,\n",
       " 0.77134498680173302,\n",
       " 1.0,\n",
       " 0.82207263354412918,\n",
       " 0.30949692037633686,\n",
       " 0.92099056979100791,\n",
       " 0.9868618583726344,\n",
       " 0.54922007300128961,\n",
       " 0.53222483590137337,\n",
       " 0.80808526798149671,\n",
       " 0.3550830199220007,\n",
       " 0.51292346412225098,\n",
       " 0.53033033312409716,\n",
       " 0.54313375967683775,\n",
       " 0.49223517130031924,\n",
       " 0.40878393806589797,\n",
       " 0.42015302956178185,\n",
       " 0.42803626347157669,\n",
       " 0.6065885102929085,\n",
       " 0.45960174903390905,\n",
       " 0.47712263988943532,\n",
       " 0.42037346273021736,\n",
       " 0.35973654316018228,\n",
       " 0.76088567476003788,\n",
       " 0.76487562368302142,\n",
       " 0.49011639101733029,\n",
       " 0.72878962392820035,\n",
       " 0.40888955166775953,\n",
       " 0.45369760422659594,\n",
       " 0.38748381620294359,\n",
       " 0.3929931277913109,\n",
       " 0.46165883063233371,\n",
       " 0.47405139423341525,\n",
       " 0.41242457031729446,\n",
       " 0.43904333813684615,\n",
       " 0.9306698910310558,\n",
       " 0.3683423086612026,\n",
       " 0.84129846608644221,\n",
       " 0.4100632397087059,\n",
       " 0.98981234905037252,\n",
       " 0.40436800568473746,\n",
       " 0.45212047523874754,\n",
       " 0.37045283539867568,\n",
       " 0.87382879080781384,\n",
       " 0.66731055736496725,\n",
       " 0.82207263354412918,\n",
       " 1.0,\n",
       " 0.2616149540524571,\n",
       " 0.80934737803565682,\n",
       " 0.84349927098244148,\n",
       " 0.46273052652825558,\n",
       " 0.39488843231326265,\n",
       " 0.75668976665045695,\n",
       " 0.21483179623898099,\n",
       " 0.39092826344509612,\n",
       " 0.73041946955681358,\n",
       " 0.51880417246291366,\n",
       " 0.38139685108671206,\n",
       " 0.2671494493406843,\n",
       " 0.41653378256308904,\n",
       " 0.34753757661612356,\n",
       " 0.43936880259087441,\n",
       " 0.40561757777350693,\n",
       " 0.4059988812824793,\n",
       " 0.53885167983675253,\n",
       " 0.34055060587510261,\n",
       " 0.87047981811444974,\n",
       " 0.68561279084200322,\n",
       " 0.36067021677627398,\n",
       " 0.44357611598092561,\n",
       " 0.30900758383485649,\n",
       " 0.33851667081597564,\n",
       " 0.67374747537330104,\n",
       " 0.32636443076411681,\n",
       " 0.43584097567802771,\n",
       " 0.69437723824406872,\n",
       " 0.70239605972076269,\n",
       " 0.71377047813400663,\n",
       " 0.23390674610867468,\n",
       " 0.91629632597068345,\n",
       " 0.33453756742147855,\n",
       " 0.69157154996505321,\n",
       " 0.24873107685353876,\n",
       " 0.82039026866211628,\n",
       " 0.90251521555015823,\n",
       " 0.92804390731212527,\n",
       " 0.19760589890639232,\n",
       " 0.35669751572147845,\n",
       " 0.30949692037633686,\n",
       " 0.2616149540524571,\n",
       " 1.0,\n",
       " 0.19725056895857573,\n",
       " 0.38475996848744037,\n",
       " 0.44674375735952238,\n",
       " 0.52768068649875322,\n",
       " 0.34019906172467546,\n",
       " 0.20614668444281073,\n",
       " 0.42772334404402645,\n",
       " 0.31886041232439127,\n",
       " 0.45261298592798321,\n",
       " 0.38041077351507202,\n",
       " 0.24419504438610157,\n",
       " 0.32009693394434935,\n",
       " 0.29216670238606757,\n",
       " 0.46990728721211111,\n",
       " 0.39672546670421405,\n",
       " 0.29751648046201845,\n",
       " 0.32026487289426653,\n",
       " 0.30432658634080156,\n",
       " 0.35530523959042964,\n",
       " 0.64107362001878943,\n",
       " 0.30906216442612627,\n",
       " 0.7431124616338477,\n",
       " 0.29737667779537064,\n",
       " 0.35909869709450892,\n",
       " 0.29200031000586973,\n",
       " 0.30882454994446507,\n",
       " 0.34142097202136412,\n",
       " 0.3427371994447006,\n",
       " 0.31855166425749243,\n",
       " 0.34021706530177748,\n",
       " 0.95802953174316396,\n",
       " 0.2737166319955095,\n",
       " 0.91300446743068786,\n",
       " 0.30326332011639795,\n",
       " 0.87701385964042633,\n",
       " 0.31205117465340443,\n",
       " 0.3799657721175671,\n",
       " 0.27808847895789834,\n",
       " 0.98236149882607837,\n",
       " 0.61129537598336903,\n",
       " 0.92099056979100791,\n",
       " 0.80934737803565682,\n",
       " 0.19725056895857573,\n",
       " 1.0,\n",
       " 0.87932866200116955,\n",
       " 0.34947904184364731,\n",
       " 0.32012600693815835,\n",
       " 0.75356860641894519,\n",
       " 0.18903030968320139,\n",
       " 0.31535323538039994,\n",
       " 0.40493236965157559,\n",
       " 0.34930745399676,\n",
       " 0.30651052772139309,\n",
       " 0.22505868482538033,\n",
       " 0.30804862625995449,\n",
       " 0.27573014263810441,\n",
       " 0.37711552738824167,\n",
       " 0.30590976924688346,\n",
       " 0.33158998904580572,\n",
       " 0.308210244421185,\n",
       " 0.25518050326890823,\n",
       " 0.6161354623543428,\n",
       " 0.67237673007369614,\n",
       " 0.299149048149709,\n",
       " 0.95888708054747351,\n",
       " 0.44523548152770648,\n",
       " 0.54683825604491665,\n",
       " 0.50574805914795107,\n",
       " 0.50615862434304826,\n",
       " 0.52627379939402108,\n",
       " 0.57148719848073137,\n",
       " 0.5683273998110091,\n",
       " 0.60537382915055671,\n",
       " 0.8889896930955361,\n",
       " 0.49103299595946609,\n",
       " ...]"
      ]
     },
     "execution_count": 39,
     "metadata": {},
     "output_type": "execute_result"
    }
   ],
   "source": [
    "weights_list"
   ]
  },
  {
   "cell_type": "code",
   "execution_count": 40,
   "metadata": {},
   "outputs": [
    {
     "data": {
      "text/plain": [
       "1849"
      ]
     },
     "execution_count": 40,
     "metadata": {},
     "output_type": "execute_result"
    }
   ],
   "source": [
    "len(weights_list)"
   ]
  },
  {
   "cell_type": "code",
   "execution_count": 41,
   "metadata": {},
   "outputs": [
    {
     "data": {
      "text/plain": [
       "43"
      ]
     },
     "execution_count": 41,
     "metadata": {},
     "output_type": "execute_result"
    }
   ],
   "source": [
    "weights_list.count(1)"
   ]
  },
  {
   "cell_type": "code",
   "execution_count": 42,
   "metadata": {
    "collapsed": true
   },
   "outputs": [],
   "source": [
    "with open(os.path.join(nx_dir,\"G_with_params_\"+comp_func_name+\".gpkl\"),'w') as fo:\n",
    "    pickle.dump(G,fo)\n",
    "with open(os.path.join(nx_dir,\"all_node_weights_\"+comp_func_name+\".gpkl\"),'w') as fo:\n",
    "    pickle.dump(all_node_weights,fo)\n",
    "with open(os.path.join(nx_dir,\"G_with_params_\" + comp_func_name + \".txt\"),'w') as fo:\n",
    "    print >> fo,\"LDAを実行した後，LDAの結果がないノードを削除し，最大ノード群を再選択\"\n",
    "    print >> fo,\"この時点で、ノードには代表トピックとその色、エッジには重みの情報を渡している。\"\n",
    "    print >> fo,\"old_node_number:\" + str(old_node_num) + \"（G_myexttext_largest.gpkl）\"\n",
    "    print >> fo,\"new_node_number:\" + str(new_node_num) + \"（G_with_params_comp4_2.gpkl）\""
   ]
  },
  {
   "cell_type": "code",
   "execution_count": 43,
   "metadata": {},
   "outputs": [
    {
     "name": "stderr",
     "output_type": "stream",
     "text": [
      "/home/yukichika/.pyenv/versions/anaconda2-4.4.0/lib/python2.7/site-packages/matplotlib/figure.py:397: UserWarning: matplotlib is currently using a non-GUI backend, so cannot show the figure\n",
      "  \"matplotlib is currently using a non-GUI backend, \"\n"
     ]
    }
   ],
   "source": [
    "\"\"\"weightのヒストグラム作成\"\"\"\n",
    "fig_w = plt.figure()\n",
    "ax = fig_w.add_subplot(1,1,1)\n",
    "weights_array = np.array(weights_list,dtype=np.float)\n",
    "ax.hist(weights_array,bins=100)\n",
    "plt.text(0.5, 0.9, \"max=\"+\"{0:.3f}\".format(weights_array.max()), transform=ax.transAxes)\n",
    "plt.text(0.5, 0.85, \"min=\"+\"{0:.3g}\".format(weights_array.min()), transform=ax.transAxes)\n",
    "fig_w.show()\n",
    "fig_w.savefig(os.path.join(nx_dir,comp_func_name+\"_hist.png\"))"
   ]
  },
  {
   "cell_type": "code",
   "execution_count": 44,
   "metadata": {
    "scrolled": true
   },
   "outputs": [
    {
     "data": {
      "image/png": "[encoded data removed]"
     },
     "metadata": {},
     "output_type": "display_data"
    }
   ],
   "source": [
    "from IPython.display import Image, display_png\n",
    "display_png(Image(os.path.join(nx_dir,comp_func_name+\"_hist.png\")))"
   ]
  },
  {
   "cell_type": "code",
   "execution_count": 45,
   "metadata": {
    "collapsed": true
   },
   "outputs": [],
   "source": [
    "\"\"\"\"トピックと色の対応グラフを作成\"\"\"\n",
    "fig = plt.figure()\n",
    "ax = fig.add_subplot(1,1,1)\n",
    "sample = np.ones(lda.K)\n",
    "labels = [unicode(x+1) for x in range(lda.K)]\n",
    "plt.rcParams['font.size']=20.0\n",
    "ax.pie(sample,colors=COLORLIST[:lda.K],labels=labels,startangle=90,radius=0.2, center=(0.5, 0.5), frame=True,counterclock=False)\n",
    "plt.axis(\"off\")\n",
    "plt.axis('equal')\n",
    "plt.savefig(os.path.join(exp_dir,\"Topic\"+unicode(lda.K)+\"_pie.png\"))"
   ]
  },
  {
   "cell_type": "code",
   "execution_count": 46,
   "metadata": {},
   "outputs": [
    {
     "data": {
      "image/png": "[encoded data removed]"
     },
     "metadata": {},
     "output_type": "display_data"
    }
   ],
   "source": [
    "display_png(Image(os.path.join(exp_dir,\"Topic\"+unicode(lda.K)+\"_pie.png\")))"
   ]
  },
  {
   "cell_type": "code",
   "execution_count": 47,
   "metadata": {
    "collapsed": true
   },
   "outputs": [],
   "source": [
    "\"\"\"\"文書全体でのトピック比率をグラフ化\"\"\"\n",
    "fig = plt.figure()\n",
    "ax = fig.add_subplot(1,1,1)\n",
    "sample = lda.theta().sum(axis=0)\n",
    "labels = [unicode(x+1) for x in range(lda.K)]\n",
    "plt.rcParams['font.size']=20.0\n",
    "ax.pie(sample,colors=COLORLIST[:lda.K],labels=labels,startangle=90,radius=0.2, center=(0.5, 0.5), frame=True,counterclock=False)\n",
    "#ax.set_aspect((ax.get_xlim()[1] - ax.get_xlim()[0]) / (ax.get_ylim()[1] - ax.get_ylim()[0]))\n",
    "plt.axis(\"off\")\n",
    "plt.axis('equal')\n",
    "plt.savefig(os.path.join(exp_dir,\"Topic\"+unicode(lda.K)+\"_share_pie.png\"))"
   ]
  },
  {
   "cell_type": "code",
   "execution_count": 48,
   "metadata": {},
   "outputs": [
    {
     "data": {
      "image/png": "[encoded data removed]"
     },
     "metadata": {},
     "output_type": "display_data"
    }
   ],
   "source": [
    "display_png(Image(os.path.join(exp_dir,\"Topic\"+unicode(lda.K)+\"_share_pie.png\")))"
   ]
  }
 ],
 "metadata": {
  "kernelspec": {
   "display_name": "Python 2",
   "language": "python",
   "name": "python2"
  },
  "language_info": {
   "codemirror_mode": {
    "name": "ipython",
    "version": 2
   },
   "file_extension": ".py",
   "mimetype": "text/x-python",
   "name": "python",
   "nbconvert_exporter": "python",
   "pygments_lexer": "ipython2",
   "version": "2.7.15"
  }
 },
 "nbformat": 4,
 "nbformat_minor": 2
}
