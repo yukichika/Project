{
 "cells": [
  {
   "cell_type": "code",
   "execution_count": 15,
   "metadata": {
    "collapsed": true
   },
   "outputs": [],
   "source": [
    "import os\n",
    "import cPickle as pickle\n",
    "\n",
    "import sys\n",
    "sys.path.append(\"../../Interactive_Graph_Visualizer/networkx-master\")\n",
    "import networkx as nx"
   ]
  },
  {
   "cell_type": "code",
   "execution_count": 16,
   "metadata": {},
   "outputs": [],
   "source": [
    "G_file = \"../Data/Search_iPhone_10_add_childs/K10_myexttext_largest/nx_datas/G_with_params_comp4_2.gpkl\"\n",
    "text_file = \"../Data/Search_iPhone_10_add_childs/K10_myexttext_largest/nx_datas/G_with_params_comp4_2_hits.txt\"\n",
    "with open(G_file,'r') as fi:\n",
    "    G = pickle.load(fi)"
   ]
  },
  {
   "cell_type": "code",
   "execution_count": 17,
   "metadata": {
    "scrolled": true
   },
   "outputs": [
    {
     "data": {
      "text/plain": [
       "{0: 4.999029713779984e-15,\n",
       " 2: 0.014396614118132653,\n",
       " 3: 0.1667736070325817,\n",
       " 4: 0.0010197900420815058,\n",
       " 5: 0.015590000563581237,\n",
       " 6: 0.0010197900420815058,\n",
       " 7: 0.0009794925873430089,\n",
       " 9: 0.015590000563581237,\n",
       " 10: 0.0009794925873430089,\n",
       " 11: 0.0,\n",
       " 12: 5.250416388603686e-16,\n",
       " 13: 0.0,\n",
       " 14: 5.250416388603686e-16,\n",
       " 16: 0.0,\n",
       " 17: 6.812144522075647e-16,\n",
       " 18: 6.812144522075647e-16,\n",
       " 19: 7.25171506556065e-16,\n",
       " 20: 0.0,\n",
       " 21: 5.250416388603686e-16,\n",
       " 22: 0.0,\n",
       " 24: 0.0,\n",
       " 25: 0.0,\n",
       " 26: 4.888250583821091e-16,\n",
       " 27: 1.1111199695587126e-15,\n",
       " 28: 0.13515612612755556,\n",
       " 29: 0.16347854065286888,\n",
       " 31: 0.0,\n",
       " 32: 0.01082776402030236,\n",
       " 34: 0.014610507976238226,\n",
       " 35: 0.01082776402030236,\n",
       " 36: 0.0,\n",
       " 38: 0.013417121530789645,\n",
       " 40: 0.013417121530789645,\n",
       " 41: 0.12596071935203743,\n",
       " 42: 0.013417121530789645,\n",
       " 43: 0.013417121530789645,\n",
       " 44: 0.014610507976238226,\n",
       " 47: 0.0025893575104872823,\n",
       " 48: 0.01082776402030236,\n",
       " 49: 0.12596071935203743,\n",
       " 50: 0.0,\n",
       " 52: 0.0,\n",
       " 53: 0.11513295533173508}"
      ]
     },
     "execution_count": 17,
     "metadata": {},
     "output_type": "execute_result"
    }
   ],
   "source": [
    "weight_key = \"no_weight\"\n",
    "h_scores,a_scores = nx.hits(G,weight_key=weight_key)\n",
    "h_scores"
   ]
  },
  {
   "cell_type": "code",
   "execution_count": 18,
   "metadata": {},
   "outputs": [
    {
     "data": {
      "text/plain": [
       "43"
      ]
     },
     "execution_count": 18,
     "metadata": {},
     "output_type": "execute_result"
    }
   ],
   "source": [
    "len(h_scores)"
   ]
  },
  {
   "cell_type": "code",
   "execution_count": 19,
   "metadata": {
    "collapsed": true
   },
   "outputs": [],
   "source": [
    "nx.set_node_attributes(G,\"a_score\",a_scores)\n",
    "nx.set_node_attributes(G,\"h_score\",h_scores)"
   ]
  },
  {
   "cell_type": "code",
   "execution_count": 20,
   "metadata": {},
   "outputs": [
    {
     "data": {
      "text/plain": [
       "{'a_score': 8.561922690394718e-16,\n",
       " 'color': '#BE0081',\n",
       " 'h_score': 4.999029713779984e-15,\n",
       " 'topic': 9}"
      ]
     },
     "execution_count": 20,
     "metadata": {},
     "output_type": "execute_result"
    }
   ],
   "source": [
    "G.node[0]"
   ]
  },
  {
   "cell_type": "code",
   "execution_count": 21,
   "metadata": {},
   "outputs": [],
   "source": [
    "with open(G_file,\"w\") as fo:\n",
    "    pickle.dump(G,fo)\n",
    "\n",
    "with open(text_file,\"w\") as fo:\n",
    "    print >> fo,\"この時点で、ノードには代表トピックとその色とオーソリティ・ハブスコア、エッジには重みの情報を渡している。\"\n",
    "    print >> fo,\"ノード数：\" + str(len(G.node.keys())) + \"（変化なし）\"\n",
    "    print >> fo,\"weight_key:\" + weight_key"
   ]
  }
 ],
 "metadata": {
  "kernelspec": {
   "display_name": "Python 2",
   "language": "python",
   "name": "python2"
  },
  "language_info": {
   "codemirror_mode": {
    "name": "ipython",
    "version": 2
   },
   "file_extension": ".py",
   "mimetype": "text/x-python",
   "name": "python",
   "nbconvert_exporter": "python",
   "pygments_lexer": "ipython2",
   "version": "2.7.15"
  }
 },
 "nbformat": 4,
 "nbformat_minor": 2
}
