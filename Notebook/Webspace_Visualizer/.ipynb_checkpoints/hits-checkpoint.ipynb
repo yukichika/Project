{
 "cells": [
  {
   "cell_type": "code",
   "execution_count": 48,
   "metadata": {
    "collapsed": true
   },
   "outputs": [],
   "source": [
    "import pickle\n",
    "\n",
    "import sys\n",
    "sys.path.append(\"../../Interactive_Graph_Visualizer/networkx-master\")\n",
    "import networkx as nx\n",
    "from networkx.exception import NetworkXError"
   ]
  },
  {
   "cell_type": "code",
   "execution_count": 49,
   "metadata": {
    "collapsed": true
   },
   "outputs": [],
   "source": [
    "G_file = \"../Data/Search_iPhone_5_add_childs_append/K10_myexttext_largest/nx_datas/G_with_params_comp4_2.gpkl\"\n",
    "with open(G_file,'r') as fi:\n",
    "    G = pickle.load(fi)"
   ]
  },
  {
   "cell_type": "code",
   "execution_count": 50,
   "metadata": {
    "collapsed": true
   },
   "outputs": [],
   "source": [
    "max_iter = 100\n",
    "tol = 1.0e-8\n",
    "nstart = None\n",
    "normalized = True\n",
    "weight_key = \"weight\""
   ]
  },
  {
   "cell_type": "code",
   "execution_count": 70,
   "metadata": {
    "scrolled": true
   },
   "outputs": [
    {
     "data": {
      "text/plain": [
       "{0: 0.023809523809523808,\n",
       " 1: 0.023809523809523808,\n",
       " 2: 0.023809523809523808,\n",
       " 3: 0.023809523809523808,\n",
       " 4: 0.023809523809523808,\n",
       " 6: 0.023809523809523808,\n",
       " 8: 0.023809523809523808,\n",
       " 9: 0.023809523809523808,\n",
       " 10: 0.023809523809523808,\n",
       " 12: 0.023809523809523808,\n",
       " 13: 0.023809523809523808,\n",
       " 14: 0.023809523809523808,\n",
       " 31: 0.023809523809523808,\n",
       " 32: 0.023809523809523808,\n",
       " 33: 0.023809523809523808,\n",
       " 34: 0.023809523809523808,\n",
       " 35: 0.023809523809523808,\n",
       " 36: 0.023809523809523808,\n",
       " 37: 0.023809523809523808,\n",
       " 38: 0.023809523809523808,\n",
       " 39: 0.023809523809523808,\n",
       " 40: 0.023809523809523808,\n",
       " 41: 0.023809523809523808,\n",
       " 42: 0.023809523809523808,\n",
       " 43: 0.023809523809523808,\n",
       " 44: 0.023809523809523808,\n",
       " 45: 0.023809523809523808,\n",
       " 47: 0.023809523809523808,\n",
       " 48: 0.023809523809523808,\n",
       " 49: 0.023809523809523808,\n",
       " 50: 0.023809523809523808,\n",
       " 52: 0.023809523809523808,\n",
       " 53: 0.023809523809523808,\n",
       " 59: 0.023809523809523808,\n",
       " 60: 0.023809523809523808,\n",
       " 61: 0.023809523809523808,\n",
       " 62: 0.023809523809523808,\n",
       " 63: 0.023809523809523808,\n",
       " 65: 0.023809523809523808,\n",
       " 66: 0.023809523809523808,\n",
       " 67: 0.023809523809523808,\n",
       " 68: 0.023809523809523808}"
      ]
     },
     "execution_count": 70,
     "metadata": {},
     "output_type": "execute_result"
    }
   ],
   "source": [
    "h=dict.fromkeys(G,1.0/G.number_of_nodes())\n",
    "h"
   ]
  },
  {
   "cell_type": "code",
   "execution_count": 71,
   "metadata": {
    "collapsed": true
   },
   "outputs": [],
   "source": [
    "i=0"
   ]
  },
  {
   "cell_type": "code",
   "execution_count": 72,
   "metadata": {
    "scrolled": true
   },
   "outputs": [
    {
     "data": {
      "text/plain": [
       "{0: 0.023809523809523808,\n",
       " 1: 0.023809523809523808,\n",
       " 2: 0.023809523809523808,\n",
       " 3: 0.023809523809523808,\n",
       " 4: 0.023809523809523808,\n",
       " 6: 0.023809523809523808,\n",
       " 8: 0.023809523809523808,\n",
       " 9: 0.023809523809523808,\n",
       " 10: 0.023809523809523808,\n",
       " 12: 0.023809523809523808,\n",
       " 13: 0.023809523809523808,\n",
       " 14: 0.023809523809523808,\n",
       " 31: 0.023809523809523808,\n",
       " 32: 0.023809523809523808,\n",
       " 33: 0.023809523809523808,\n",
       " 34: 0.023809523809523808,\n",
       " 35: 0.023809523809523808,\n",
       " 36: 0.023809523809523808,\n",
       " 37: 0.023809523809523808,\n",
       " 38: 0.023809523809523808,\n",
       " 39: 0.023809523809523808,\n",
       " 40: 0.023809523809523808,\n",
       " 41: 0.023809523809523808,\n",
       " 42: 0.023809523809523808,\n",
       " 43: 0.023809523809523808,\n",
       " 44: 0.023809523809523808,\n",
       " 45: 0.023809523809523808,\n",
       " 47: 0.023809523809523808,\n",
       " 48: 0.023809523809523808,\n",
       " 49: 0.023809523809523808,\n",
       " 50: 0.023809523809523808,\n",
       " 52: 0.023809523809523808,\n",
       " 53: 0.023809523809523808,\n",
       " 59: 0.023809523809523808,\n",
       " 60: 0.023809523809523808,\n",
       " 61: 0.023809523809523808,\n",
       " 62: 0.023809523809523808,\n",
       " 63: 0.023809523809523808,\n",
       " 65: 0.023809523809523808,\n",
       " 66: 0.023809523809523808,\n",
       " 67: 0.023809523809523808,\n",
       " 68: 0.023809523809523808}"
      ]
     },
     "execution_count": 72,
     "metadata": {},
     "output_type": "execute_result"
    }
   ],
   "source": [
    "hlast=h\n",
    "hlast"
   ]
  },
  {
   "cell_type": "code",
   "execution_count": 73,
   "metadata": {
    "scrolled": true
   },
   "outputs": [
    {
     "data": {
      "text/plain": [
       "{0: 0,\n",
       " 1: 0,\n",
       " 2: 0,\n",
       " 3: 0,\n",
       " 4: 0,\n",
       " 6: 0,\n",
       " 8: 0,\n",
       " 9: 0,\n",
       " 10: 0,\n",
       " 12: 0,\n",
       " 13: 0,\n",
       " 14: 0,\n",
       " 31: 0,\n",
       " 32: 0,\n",
       " 33: 0,\n",
       " 34: 0,\n",
       " 35: 0,\n",
       " 36: 0,\n",
       " 37: 0,\n",
       " 38: 0,\n",
       " 39: 0,\n",
       " 40: 0,\n",
       " 41: 0,\n",
       " 42: 0,\n",
       " 43: 0,\n",
       " 44: 0,\n",
       " 45: 0,\n",
       " 47: 0,\n",
       " 48: 0,\n",
       " 49: 0,\n",
       " 50: 0,\n",
       " 52: 0,\n",
       " 53: 0,\n",
       " 59: 0,\n",
       " 60: 0,\n",
       " 61: 0,\n",
       " 62: 0,\n",
       " 63: 0,\n",
       " 65: 0,\n",
       " 66: 0,\n",
       " 67: 0,\n",
       " 68: 0}"
      ]
     },
     "execution_count": 73,
     "metadata": {},
     "output_type": "execute_result"
    }
   ],
   "source": [
    "h=dict.fromkeys(hlast.keys(),0)\n",
    "a=dict.fromkeys(hlast.keys(),0)\n",
    "h"
   ]
  },
  {
   "cell_type": "code",
   "execution_count": 74,
   "metadata": {
    "scrolled": true
   },
   "outputs": [
    {
     "data": {
      "text/plain": [
       "{0: 0,\n",
       " 1: 0,\n",
       " 2: 0,\n",
       " 3: 0,\n",
       " 4: 0,\n",
       " 6: 0,\n",
       " 8: 0,\n",
       " 9: 0,\n",
       " 10: 0,\n",
       " 12: 0,\n",
       " 13: 0,\n",
       " 14: 0,\n",
       " 31: 0,\n",
       " 32: 0,\n",
       " 33: 0,\n",
       " 34: 0,\n",
       " 35: 0,\n",
       " 36: 0,\n",
       " 37: 0,\n",
       " 38: 0,\n",
       " 39: 0,\n",
       " 40: 0,\n",
       " 41: 0,\n",
       " 42: 0,\n",
       " 43: 0,\n",
       " 44: 0,\n",
       " 45: 0,\n",
       " 47: 0,\n",
       " 48: 0,\n",
       " 49: 0,\n",
       " 50: 0,\n",
       " 52: 0,\n",
       " 53: 0,\n",
       " 59: 0,\n",
       " 60: 0,\n",
       " 61: 0,\n",
       " 62: 0,\n",
       " 63: 0,\n",
       " 65: 0,\n",
       " 66: 0,\n",
       " 67: 0,\n",
       " 68: 0}"
      ]
     },
     "execution_count": 74,
     "metadata": {},
     "output_type": "execute_result"
    }
   ],
   "source": [
    "a"
   ]
  },
  {
   "cell_type": "code",
   "execution_count": 75,
   "metadata": {
    "collapsed": true
   },
   "outputs": [],
   "source": [
    "#nはリンク元、nbrはリンク先\n",
    "#オーソリティスコアはリンクされているページのハブスコアの総和\n",
    "#それにエッジの重みをつけるかどうか\n",
    "for n in h:\n",
    "    for nbr in G[n]:\n",
    "        a[nbr] += hlast[n]*G[n][nbr].get(weight_key,1)"
   ]
  },
  {
   "cell_type": "code",
   "execution_count": 76,
   "metadata": {},
   "outputs": [
    {
     "data": {
      "text/plain": [
       "68"
      ]
     },
     "execution_count": 76,
     "metadata": {},
     "output_type": "execute_result"
    }
   ],
   "source": [
    "n"
   ]
  },
  {
   "cell_type": "code",
   "execution_count": 77,
   "metadata": {},
   "outputs": [
    {
     "data": {
      "text/plain": [
       "{49: {'weight': 0.48360081816684575},\n",
       " 59: {'weight': 0.9389504457535407},\n",
       " 60: {'weight': 0.53544613147855558},\n",
       " 61: {'weight': 0.2361453374070579},\n",
       " 62: {'weight': 0.37159071744164657},\n",
       " 63: {'weight': 0.23605469122698627},\n",
       " 65: {'weight': 0.23601953195946543},\n",
       " 66: {'weight': 0.89957487509048684},\n",
       " 67: {'weight': 0.23605569455827266}}"
      ]
     },
     "execution_count": 77,
     "metadata": {},
     "output_type": "execute_result"
    }
   ],
   "source": [
    "G[n]"
   ]
  },
  {
   "cell_type": "code",
   "execution_count": 78,
   "metadata": {},
   "outputs": [
    {
     "data": {
      "text/plain": [
       "63"
      ]
     },
     "execution_count": 78,
     "metadata": {},
     "output_type": "execute_result"
    }
   ],
   "source": [
    "nbr"
   ]
  },
  {
   "cell_type": "code",
   "execution_count": 79,
   "metadata": {},
   "outputs": [
    {
     "data": {
      "text/plain": [
       "0.23605469122698627"
      ]
     },
     "execution_count": 79,
     "metadata": {},
     "output_type": "execute_result"
    }
   ],
   "source": [
    "G[n][nbr].get(weight_key,1)"
   ]
  },
  {
   "cell_type": "code",
   "execution_count": 80,
   "metadata": {},
   "outputs": [
    {
     "data": {
      "text/plain": [
       "0.023809523809523808"
      ]
     },
     "execution_count": 80,
     "metadata": {},
     "output_type": "execute_result"
    }
   ],
   "source": [
    "hlast[n]"
   ]
  },
  {
   "cell_type": "code",
   "execution_count": 81,
   "metadata": {
    "collapsed": true
   },
   "outputs": [],
   "source": [
    "#nはリンク元、nbrはリンク先\n",
    "#ハブスコアはリンク先のオーソリティスコアの総和\n",
    "#それにエッジの重みをつけるかどうか\n",
    "for n in h:\n",
    "    for nbr in G[n]:\n",
    "        h[n] += a[nbr]*G[n][nbr].get(weight_key,1)"
   ]
  },
  {
   "cell_type": "code",
   "execution_count": 82,
   "metadata": {},
   "outputs": [
    {
     "data": {
      "text/plain": [
       "1.7896645578903636"
      ]
     },
     "execution_count": 82,
     "metadata": {},
     "output_type": "execute_result"
    }
   ],
   "source": [
    "s=1.0/max(h.values())#ハブスコアの最大値\n",
    "s"
   ]
  },
  {
   "cell_type": "code",
   "execution_count": 83,
   "metadata": {
    "collapsed": true,
    "scrolled": true
   },
   "outputs": [],
   "source": [
    "for n in h: h[n]*=s"
   ]
  },
  {
   "cell_type": "code",
   "execution_count": 84,
   "metadata": {
    "scrolled": true
   },
   "outputs": [
    {
     "data": {
      "text/plain": [
       "{0: 0.2674251008956115,\n",
       " 1: 0.18521527081794503,\n",
       " 2: 0.20483924551926644,\n",
       " 3: 0.28070308468412214,\n",
       " 4: 0.011707813687568413,\n",
       " 6: 0.67960837954173647,\n",
       " 8: 0.92243102470404403,\n",
       " 9: 0.37113237437715096,\n",
       " 10: 0.11619230562514339,\n",
       " 12: 0.31106500635536172,\n",
       " 13: 0.0,\n",
       " 14: 0.13111632465355719,\n",
       " 31: 0.88018421963090787,\n",
       " 32: 0.0,\n",
       " 33: 0.10182547395398148,\n",
       " 34: 0.0,\n",
       " 35: 0.17120476296723872,\n",
       " 36: 0.12996034916147539,\n",
       " 37: 0.70989140274621665,\n",
       " 38: 1.0,\n",
       " 39: 0.84423692407789652,\n",
       " 40: 0.97728708838607403,\n",
       " 41: 0.82073178441723393,\n",
       " 42: 0.12913113611572388,\n",
       " 43: 0.40133762296898967,\n",
       " 44: 0.24405182391762056,\n",
       " 45: 0.095409506356906759,\n",
       " 47: 0.0,\n",
       " 48: 0.0,\n",
       " 49: 0.2034843033781317,\n",
       " 50: 0.0,\n",
       " 52: 0.0,\n",
       " 53: 0.0,\n",
       " 59: 0.085289820976382852,\n",
       " 60: 0.0,\n",
       " 61: 0.0,\n",
       " 62: 0.0,\n",
       " 63: 0.0,\n",
       " 65: 0.0,\n",
       " 66: 0.15732499442362904,\n",
       " 67: 0.0,\n",
       " 68: 0.91762698012605648}"
      ]
     },
     "execution_count": 84,
     "metadata": {},
     "output_type": "execute_result"
    }
   ],
   "source": [
    "h"
   ]
  },
  {
   "cell_type": "code",
   "execution_count": 85,
   "metadata": {},
   "outputs": [
    {
     "data": {
      "text/plain": [
       "5.7060384787711378"
      ]
     },
     "execution_count": 85,
     "metadata": {},
     "output_type": "execute_result"
    }
   ],
   "source": [
    "s=1.0/max(a.values())#オーソリティスコアの最大値\n",
    "s"
   ]
  },
  {
   "cell_type": "code",
   "execution_count": 86,
   "metadata": {
    "collapsed": true,
    "scrolled": true
   },
   "outputs": [],
   "source": [
    "for n in a: a[n]*=s"
   ]
  },
  {
   "cell_type": "code",
   "execution_count": 87,
   "metadata": {
    "scrolled": true
   },
   "outputs": [
    {
     "data": {
      "text/plain": [
       "{0: 0.0,\n",
       " 1: 0.0,\n",
       " 2: 0.0,\n",
       " 3: 0.56535733751527895,\n",
       " 4: 0.0,\n",
       " 6: 0.0,\n",
       " 8: 0.0,\n",
       " 9: 0.0,\n",
       " 10: 0.63607771060572227,\n",
       " 12: 0.43106777028504167,\n",
       " 13: 0.16170665129954417,\n",
       " 14: 0.2010001712459627,\n",
       " 31: 0.087861394714712784,\n",
       " 32: 0.15156459054340782,\n",
       " 33: 0.083213233875676154,\n",
       " 34: 0.1515641165141875,\n",
       " 35: 0.093056454243540962,\n",
       " 36: 0.13100023311209019,\n",
       " 37: 0.21933763569919354,\n",
       " 38: 0.10092957570674722,\n",
       " 39: 0.0837696902917799,\n",
       " 40: 0.099862102781714993,\n",
       " 41: 0.13980012845435033,\n",
       " 42: 0.06906487769974394,\n",
       " 43: 0.17746036336498142,\n",
       " 44: 0.30457792890402446,\n",
       " 45: 0.075605200440927653,\n",
       " 47: 0.12661354725446805,\n",
       " 48: 0.15311140115378416,\n",
       " 49: 0.85223456903617067,\n",
       " 50: 0.15154750488201418,\n",
       " 52: 0.1515641165141875,\n",
       " 53: 0.24939294493305217,\n",
       " 59: 0.87896398220190319,\n",
       " 60: 0.63270665731610554,\n",
       " 61: 0.27769756572947918,\n",
       " 62: 0.47025716749088264,\n",
       " 63: 0.3051602417349682,\n",
       " 65: 0.305116128442457,\n",
       " 66: 0.99999999999999989,\n",
       " 67: 0.27759556293333798,\n",
       " 68: 0.12500221146485363}"
      ]
     },
     "execution_count": 87,
     "metadata": {},
     "output_type": "execute_result"
    }
   ],
   "source": [
    "a"
   ]
  },
  {
   "cell_type": "code",
   "execution_count": 88,
   "metadata": {},
   "outputs": [
    {
     "data": {
      "text/plain": [
       "11.041284211376551"
      ]
     },
     "execution_count": 88,
     "metadata": {},
     "output_type": "execute_result"
    }
   ],
   "source": [
    "err=sum([abs(h[n]-hlast[n]) for n in h])\n",
    "err#L1ノルム"
   ]
  },
  {
   "cell_type": "code",
   "execution_count": 89,
   "metadata": {
    "collapsed": true
   },
   "outputs": [],
   "source": [
    "i+=1"
   ]
  }
 ],
 "metadata": {
  "kernelspec": {
   "display_name": "Python 2",
   "language": "python",
   "name": "python2"
  },
  "language_info": {
   "codemirror_mode": {
    "name": "ipython",
    "version": 2
   },
   "file_extension": ".py",
   "mimetype": "text/x-python",
   "name": "python",
   "nbconvert_exporter": "python",
   "pygments_lexer": "ipython2",
   "version": "2.7.15"
  }
 },
 "nbformat": 4,
 "nbformat_minor": 2
}
