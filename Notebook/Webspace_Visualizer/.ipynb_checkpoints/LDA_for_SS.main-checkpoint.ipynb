{
 "cells": [
  {
   "cell_type": "code",
   "execution_count": 6,
   "metadata": {
    "collapsed": true
   },
   "outputs": [],
   "source": [
    "import numpy\n",
    "import os\n",
    "import cPickle as pickle\n",
    "import os.path\n",
    "import matplotlib.pyplot as plt\n",
    "import time\n",
    "import json\n",
    "import MeCab\n",
    "import re\n",
    "import codecs\n",
    "\n",
    "import sys\n",
    "sys.path.append(\"../../MyPythonModule\")\n",
    "import mymodule\n",
    "from LDA_kai import LDA"
   ]
  },
  {
   "cell_type": "code",
   "execution_count": 7,
   "metadata": {
    "collapsed": true
   },
   "outputs": [],
   "source": [
    "def status_writer(dst_dir,opt,comment=None):\n",
    "    status_file_path = os.path.join(dst_dir,\"status.txt\")\n",
    "    with open(status_file_path,\"w\") as fo:\n",
    "        for k,v in opt.items():\n",
    "            print >> fo,k,\"=\",v\n",
    "        print >> fo,\"\"\n",
    "        if comment != None:\n",
    "            print >> fo,\"comment\"\n",
    "            print >> fo,comment"
   ]
  },
  {
   "cell_type": "code",
   "execution_count": 8,
   "metadata": {
    "collapsed": true
   },
   "outputs": [],
   "source": [
    "def suffix_generator(target=None,is_largest=False):\n",
    "    suffix = \"\"\n",
    "    if target != None:\n",
    "        suffix += \"_\" + target\n",
    "    if is_largest == True:\n",
    "        suffix += \"_largest\"\n",
    "    return suffix"
   ]
  },
  {
   "cell_type": "code",
   "execution_count": 9,
   "metadata": {
    "collapsed": true
   },
   "outputs": [],
   "source": [
    "def perp_graph(perp_path,opt=\"perp\"):\n",
    "    dir = os.path.dirname(perp_path)\n",
    "    f = open(perp_path)\n",
    "    perplist = []\n",
    "    for line in f:\n",
    "        elm = line.split(\",\")\n",
    "        elm[1].rstrip()#改行記号除去\n",
    "        elm = float(elm[1])\n",
    "        perplist.append(elm)\n",
    "    plt.plot(perplist)\n",
    "    plt.savefig(os.path.join(dir,opt+\".png\"))\n",
    "    plt.clf()#現在描画したグラフを消す(消さないと次回の描画時に残る)"
   ]
  },
  {
   "cell_type": "code",
   "execution_count": 10,
   "metadata": {
    "collapsed": true
   },
   "outputs": [],
   "source": [
    "def output_summary(exp_dir,lda):\n",
    "    with open(os.path.join(exp_dir,\"summary.txt\"),\"w\") as fout:\n",
    "        phi = lda.phi()\n",
    "        for k in xrange(lda.K):\n",
    "            print \"\\nTopic %d\" % (k)\n",
    "            print >> fout, \"\\nTopic %d\" % (k+1)\n",
    "            for w in numpy.argsort(-phi[k])[:20]:\n",
    "                try:\n",
    "                    print >> fout, \"%s\\t%f\" % (lda.vocas[w], phi[k,w])\n",
    "                    print \"%s: %f\" % (lda.vocas[w], phi[k,w])\n",
    "                except:\n",
    "                    print \"cdecs_error\""
   ]
  },
  {
   "cell_type": "code",
   "execution_count": null,
   "metadata": {
    "collapsed": true
   },
   "outputs": [],
   "source": []
  },
  {
   "cell_type": "code",
   "execution_count": 11,
   "metadata": {
    "collapsed": true
   },
   "outputs": [],
   "source": [
    "search_word = u\"iPhone\"\n",
    "max_page = 10\n",
    "root_dir = \"../Data/Search_\" + search_word + \"_\" + unicode(max_page) + \"_add_childs\" \n",
    "is_largest = True\n",
    "target = \"myexttext\"\n",
    "G_name = \"G\" + suffix_generator(target=target,is_largest=is_largest)\n",
    "use_to_link = \"to_ext_links\"\n",
    "K = 10\n",
    "iteration = 50\n",
    "alpha = 0.001\n",
    "beta = 0.001\n",
    "no_below = 5#単語の最低出現文書数\n",
    "no_above = 0.2#単語の最大出現文書比率\n",
    "no_less = 20#文書に含まれる最低単語数\n",
    "do_hparam_update = False#パラメータを更新するか否か\n",
    "chasen_dir_name = \"Chasen\" + suffix_generator(target,is_largest)\n",
    "exp_name = \"K\" + unicode(K) + suffix_generator(target,is_largest)\n",
    "comment = None"
   ]
  },
  {
   "cell_type": "code",
   "execution_count": 12,
   "metadata": {
    "collapsed": true
   },
   "outputs": [],
   "source": [
    "chasen_dir = os.path.join(root_dir,chasen_dir_name)\n",
    "if exp_name == None:\n",
    "    exp_name = \"K\" + unicode(K) + \"_freqcut3\" #+\"_\"+unicode(try_no)\n",
    "exp_dir = os.path.join(root_dir,exp_name)\n",
    "if not os.path.exists(exp_dir):\n",
    "    os.mkdir(exp_dir)"
   ]
  },
  {
   "cell_type": "code",
   "execution_count": 13,
   "metadata": {
    "scrolled": true
   },
   "outputs": [
    {
     "data": {
      "text/plain": [
       "[u'0.txt',\n",
       " u'2.txt',\n",
       " u'3.txt',\n",
       " u'4.txt',\n",
       " u'5.txt',\n",
       " u'6.txt',\n",
       " u'7.txt',\n",
       " u'9.txt',\n",
       " u'10.txt',\n",
       " u'11.txt',\n",
       " u'12.txt',\n",
       " u'13.txt',\n",
       " u'14.txt',\n",
       " u'15.txt',\n",
       " u'16.txt',\n",
       " u'17.txt',\n",
       " u'18.txt',\n",
       " u'19.txt',\n",
       " u'20.txt',\n",
       " u'21.txt',\n",
       " u'22.txt',\n",
       " u'23.txt',\n",
       " u'24.txt',\n",
       " u'25.txt',\n",
       " u'26.txt',\n",
       " u'27.txt',\n",
       " u'28.txt',\n",
       " u'29.txt',\n",
       " u'30.txt',\n",
       " u'31.txt',\n",
       " u'32.txt',\n",
       " u'33.txt',\n",
       " u'34.txt',\n",
       " u'35.txt',\n",
       " u'36.txt',\n",
       " u'37.txt',\n",
       " u'38.txt',\n",
       " u'39.txt',\n",
       " u'40.txt',\n",
       " u'41.txt',\n",
       " u'42.txt',\n",
       " u'43.txt',\n",
       " u'44.txt',\n",
       " u'45.txt',\n",
       " u'46.txt',\n",
       " u'47.txt',\n",
       " u'48.txt',\n",
       " u'49.txt',\n",
       " u'50.txt',\n",
       " u'51.txt',\n",
       " u'52.txt',\n",
       " u'53.txt',\n",
       " u'56.txt']"
      ]
     },
     "execution_count": 13,
     "metadata": {},
     "output_type": "execute_result"
    }
   ],
   "source": [
    "files = os.listdir(chasen_dir)\n",
    "files = [file for file in files if os.path.splitext(file)[1] == \".txt\"]\n",
    "mymodule.sort_nicely(files)\n",
    "files"
   ]
  },
  {
   "cell_type": "code",
   "execution_count": 14,
   "metadata": {},
   "outputs": [
    {
     "data": {
      "text/plain": [
       "53"
      ]
     },
     "execution_count": 14,
     "metadata": {},
     "output_type": "execute_result"
    }
   ],
   "source": [
    "len(files)"
   ]
  },
  {
   "cell_type": "code",
   "execution_count": 15,
   "metadata": {
    "collapsed": true
   },
   "outputs": [],
   "source": [
    "with open(os.path.join(root_dir,\"file_id_dict.dict\"),\"r\") as fi:\n",
    "    file_id_dict = pickle.load(fi)"
   ]
  },
  {
   "cell_type": "code",
   "execution_count": 16,
   "metadata": {},
   "outputs": [
    {
     "data": {
      "text/plain": [
       "53"
      ]
     },
     "execution_count": 16,
     "metadata": {},
     "output_type": "execute_result"
    }
   ],
   "source": [
    "corpus = []\n",
    "for i,file in enumerate(files):\n",
    "    with open(os.path.join(chasen_dir,file),\"r\") as fi:\n",
    "        doc = [word.rstrip() for word in fi.readlines()]\n",
    "        corpus.append(doc)\n",
    "len(corpus)"
   ]
  },
  {
   "cell_type": "code",
   "execution_count": 17,
   "metadata": {},
   "outputs": [
    {
     "name": "stdout",
     "output_type": "stream",
     "text": [
      "made words 2018-12-03 14:23:13.000946\n",
      "made corpus 2018-12-03 14:23:13.387619\n"
     ]
    }
   ],
   "source": [
    "smartinit = True\n",
    "lda = LDA(K, alpha, beta)\n",
    "lda.set_corpus(corpus,no_below=no_below,no_above=no_above,no_less=no_less,smartinit=smartinit,file_id_dict=file_id_dict)"
   ]
  },
  {
   "cell_type": "code",
   "execution_count": 18,
   "metadata": {},
   "outputs": [
    {
     "data": {
      "text/plain": [
       "43"
      ]
     },
     "execution_count": 18,
     "metadata": {},
     "output_type": "execute_result"
    }
   ],
   "source": [
    "M = len(lda.docs)\n",
    "M"
   ]
  },
  {
   "cell_type": "code",
   "execution_count": 19,
   "metadata": {},
   "outputs": [
    {
     "data": {
      "text/plain": [
       "157"
      ]
     },
     "execution_count": 19,
     "metadata": {},
     "output_type": "execute_result"
    }
   ],
   "source": [
    "V = len(lda.vocas)\n",
    "V"
   ]
  },
  {
   "cell_type": "code",
   "execution_count": 20,
   "metadata": {},
   "outputs": [
    {
     "data": {
      "text/plain": [
       "['\\xe3\\x83\\xad\\xe3\\x82\\xb0\\xe3\\x82\\xa4\\xe3\\x83\\xb3',\n",
       " '\\xe3\\x83\\x9d\\xe3\\x82\\xa4\\xe3\\x83\\xb3\\xe3\\x83\\x88',\n",
       " 'iPhone',\n",
       " 'Plus',\n",
       " 'with',\n",
       " 'AppleCare',\n",
       " '\\xe3\\x83\\xa1\\xe3\\x83\\x83\\xe3\\x82\\xbb\\xe3\\x83\\xbc\\xe3\\x82\\xb8',\n",
       " 'au',\n",
       " 'iPad',\n",
       " '\\xe3\\x82\\xb3\\xe3\\x83\\xb3\\xe3\\x83\\x94\\xe3\\x83\\xa5\\xe3\\x83\\xbc\\xe3\\x82\\xbf',\n",
       " 'Apple',\n",
       " 'Pay',\n",
       " '\\xe3\\x82\\xab\\xe3\\x83\\xbc\\xe3\\x83\\x89',\n",
       " '\\xe6\\x83\\x85\\xe5\\xa0\\xb1',\n",
       " '\\xe6\\xb3\\x95\\xe4\\xba\\xba',\n",
       " '\\xe3\\x81\\x8a\\xe5\\xae\\xa2',\n",
       " '\\xe5\\x86\\x85\\xe5\\xae\\xb9',\n",
       " 'ID',\n",
       " '\\xe3\\x83\\x9c\\xe3\\x82\\xbf\\xe3\\x83\\xb3',\n",
       " '\\xe7\\x94\\xbb\\xe9\\x9d\\xa2',\n",
       " '\\xe6\\xa9\\x9f\\xe7\\xa8\\xae',\n",
       " '\\xe3\\x82\\xaf\\xe3\\x83\\xac\\xe3\\x82\\xb8\\xe3\\x83\\x83\\xe3\\x83\\x88\\xe3\\x82\\xab\\xe3\\x83\\xbc\\xe3\\x83\\x89',\n",
       " '\\xe3\\x82\\xb9\\xe3\\x83\\x9e\\xe3\\x83\\xbc\\xe3\\x83\\x88',\n",
       " '\\xe3\\x83\\x95\\xe3\\x82\\xa9\\xe3\\x83\\xb3',\n",
       " '\\xe3\\x82\\xa4\\xe3\\x83\\xb3\\xe3\\x82\\xbf\\xe3\\x83\\xbc\\xe3\\x83\\x8d\\xe3\\x83\\x83\\xe3\\x83\\x88',\n",
       " 'XR',\n",
       " '\\xe6\\x97\\xa5\\xe6\\x9c\\xac',\n",
       " '\\xe3\\x83\\x87\\xe3\\x82\\xa3\\xe3\\x82\\xb9\\xe3\\x83\\x97\\xe3\\x83\\xac\\xe3\\x82\\xa4',\n",
       " '\\xe6\\xa5\\xad\\xe7\\x95\\x8c',\n",
       " 'Face',\n",
       " '\\xe6\\xb7\\xb1\\xe5\\xba\\xa6',\n",
       " '\\xe3\\x82\\xab\\xe3\\x83\\xa1\\xe3\\x83\\xa9',\n",
       " '\\xe3\\x82\\xb7\\xe3\\x82\\xb9\\xe3\\x83\\x86\\xe3\\x83\\xa0',\n",
       " '\\xe3\\x82\\xb9\\xe3\\x82\\xaf\\xe3\\x83\\xaa\\xe3\\x83\\xbc\\xe3\\x83\\xb3',\n",
       " '\\xe4\\xb8\\x96\\xe7\\x95\\x8c',\n",
       " '\\xe8\\x89\\xb2',\n",
       " '\\xe6\\x80\\xa7\\xe8\\x83\\xbd',\n",
       " '\\xe7\\x9b\\xae',\n",
       " '\\xe3\\x83\\xac\\xe3\\x83\\x99\\xe3\\x83\\xab',\n",
       " '\\xe3\\x83\\xaf\\xe3\\x82\\xa4\\xe3\\x83\\xa4\\xe3\\x83\\xac\\xe3\\x82\\xb9',\n",
       " '\\xe9\\xa1\\x94',\n",
       " '\\xe3\\x83\\x91\\xe3\\x82\\xb9\\xe3\\x83\\xaf\\xe3\\x83\\xbc\\xe3\\x83\\x89',\n",
       " '\\xe3\\x82\\xbb\\xe3\\x82\\xad\\xe3\\x83\\xa5\\xe3\\x83\\xaa\\xe3\\x83\\x86\\xe3\\x82\\xa3',\n",
       " '\\xe3\\x82\\xa2\\xe3\\x83\\x97\\xe3\\x83\\xaa\\xe3\\x82\\xb1\\xe3\\x83\\xbc\\xe3\\x82\\xb7\\xe3\\x83\\xa7\\xe3\\x83\\xb3',\n",
       " '\\xe6\\x94\\xaf\\xe6\\x89\\x95\\xe3\\x81\\x84',\n",
       " 'Bionic',\n",
       " '\\xe3\\x83\\x9d\\xe3\\x83\\xbc\\xe3\\x83\\x88\\xe3\\x83\\xac\\xe3\\x83\\xbc\\xe3\\x83\\x88',\n",
       " '\\xe9\\xab\\x98\\xe9\\x80\\x9f',\n",
       " '\\xe7\\x90\\x86\\xe7\\x94\\xb1',\n",
       " '\\xe4\\xb8\\x96\\xe7\\x95\\x8c\\xe4\\xb8\\xad',\n",
       " '\\xe5\\x86\\x99\\xe7\\x9c\\x9f',\n",
       " '\\xe3\\x82\\xbb\\xe3\\x83\\xb3\\xe3\\x82\\xb5\\xe3\\x83\\xbc',\n",
       " '\\xe6\\x96\\xb9\\xe6\\xb3\\x95',\n",
       " '\\xe8\\x83\\x8c\\xe6\\x99\\xaf',\n",
       " '\\xe3\\x83\\xa2\\xe3\\x83\\xbc\\xe3\\x83\\x89',\n",
       " '\\xe4\\xbd\\x9c\\xe5\\x93\\x81',\n",
       " '\\xe5\\x86\\x99',\n",
       " '\\xe3\\x83\\x97\\xe3\\x83\\xa9\\xe3\\x82\\xa4\\xe3\\x83\\x90\\xe3\\x82\\xb7\\xe3\\x83\\xbc',\n",
       " '\\xe6\\x9d\\xa1\\xe4\\xbb\\xb6',\n",
       " '\\xe6\\x9c\\x80\\xe5\\xa4\\xa7',\n",
       " '\\xe3\\x82\\xb5\\xe3\\x82\\xa4\\xe3\\x83\\x88',\n",
       " '\\xe6\\x96\\x87\\xe5\\xad\\x97',\n",
       " '\\xe3\\x82\\xb3\\xe3\\x83\\xb3\\xe3\\x83\\x86\\xe3\\x83\\xb3\\xe3\\x83\\x84',\n",
       " 'App',\n",
       " '\\xe8\\x87\\xaa\\xe5\\x88\\x86',\n",
       " '\\xe4\\xbd\\xbf\\xe3\\x81\\x84\\xe6\\x96\\xb9',\n",
       " '\\xe3\\x83\\x93\\xe3\\x83\\x87\\xe3\\x82\\xaa',\n",
       " '\\xe3\\x83\\xa6\\xe3\\x83\\xbc\\xe3\\x82\\xb6',\n",
       " 'HDR',\n",
       " '\\xe5\\xaf\\xbe\\xe8\\xb1\\xa1',\n",
       " '\\xe5\\x8b\\x95\\xe7\\x94\\xbb',\n",
       " '\\xe7\\x95\\xaa\\xe5\\x8f\\xb7',\n",
       " '\\xe8\\xa3\\xbd\\xe5\\x93\\x81',\n",
       " '\\xe3\\x83\\xa6\\xe3\\x83\\xbc\\xe3\\x82\\xb6\\xe3\\x83\\xbc',\n",
       " '\\xe3\\x82\\xa2\\xe3\\x82\\xab\\xe3\\x82\\xa6\\xe3\\x83\\xb3\\xe3\\x83\\x88',\n",
       " '\\xe3\\x83\\xad\\xe3\\x82\\xb4',\n",
       " 'Watch',\n",
       " '\\xe7\\xb1\\xb3\\xe5\\x9b\\xbd',\n",
       " '\\xe4\\xbb\\x96',\n",
       " 'Inc',\n",
       " '\\xe5\\x95\\x86\\xe6\\xa8\\x99',\n",
       " '\\xe3\\x83\\xa9\\xe3\\x82\\xa4\\xe3\\x82\\xbb\\xe3\\x83\\xb3\\xe3\\x82\\xb9',\n",
       " 'All',\n",
       " 'rights',\n",
       " 'reserved',\n",
       " 'XS',\n",
       " '\\xe3\\x83\\xa2\\xe3\\x83\\x87\\xe3\\x83\\xab',\n",
       " '\\xe6\\xa8\\x99\\xe6\\xba\\x96',\n",
       " 'IP',\n",
       " '\\xe6\\x89\\x8b',\n",
       " '\\xe3\\x83\\x9b\\xe3\\x83\\xbc\\xe3\\x83\\xa0',\n",
       " '\\xe6\\xa9\\x9f\\xe9\\x96\\xa2',\n",
       " '\\xe3\\x83\\x87\\xe3\\x83\\x90\\xe3\\x82\\xa4\\xe3\\x82\\xb9',\n",
       " '\\xe3\\x83\\x8d\\xe3\\x83\\x83\\xe3\\x83\\x88\\xe3\\x83\\xaf\\xe3\\x83\\xbc\\xe3\\x82\\xaf',\n",
       " 'iTunes',\n",
       " 'Store',\n",
       " '\\xe3\\x83\\xaa\\xe3\\x83\\xb3\\xe3\\x82\\xb0',\n",
       " '\\xe5\\xa3\\xb0',\n",
       " '\\xe3\\x83\\x90\\xe3\\x83\\x83\\xe3\\x83\\x86\\xe3\\x83\\xaa\\xe3\\x83\\xbc',\n",
       " '\\xe3\\x82\\xb4\\xe3\\x83\\xbc\\xe3\\x83\\xab\\xe3\\x83\\x89',\n",
       " '\\xe3\\x83\\xa2\\xe3\\x83\\x90\\xe3\\x82\\xa4\\xe3\\x83\\xab',\n",
       " '\\xe4\\xba\\xba',\n",
       " '\\xe5\\x9b\\xbd',\n",
       " '\\xe5\\x9c\\xb0\\xe5\\x9f\\x9f',\n",
       " '\\xe7\\x94\\xbb\\xe5\\x83\\x8f',\n",
       " '\\xe9\\xad\\x85\\xe5\\x8a\\x9b',\n",
       " '\\xe5\\xa0\\xb4\\xe6\\x89\\x80',\n",
       " '\\xe3\\x83\\x87\\xe3\\x83\\xbc\\xe3\\x82\\xbf',\n",
       " 'com',\n",
       " '\\xe5\\xae\\xb9\\xe9\\x87\\x8f',\n",
       " '\\xe5\\x85\\xa8\\xe5\\x9b\\xbd',\n",
       " '\\xe9\\x80\\x81\\xe6\\x96\\x99',\n",
       " '\\xe7\\x84\\xa1\\xe6\\x96\\x99',\n",
       " '\\xe5\\xb1\\x8a\\xe3\\x81\\x91',\n",
       " '\\xe3\\x82\\xaa\\xe3\\x83\\xb3\\xe3\\x83\\xa9\\xe3\\x82\\xa4\\xe3\\x83\\xb3',\n",
       " '\\xe3\\x82\\xb1\\xe3\\x83\\xbc\\xe3\\x82\\xb9',\n",
       " 'iOS',\n",
       " 'Series',\n",
       " '\\xe7\\xab\\xaf\\xe6\\x9c\\xab',\n",
       " '\\xe6\\x9c\\x88',\n",
       " '\\xe6\\x96\\x99\\xe9\\x87\\x91',\n",
       " '\\xe6\\x9c\\x80\\xe6\\x96\\xb0',\n",
       " '\\xe5\\x95\\x86\\xe5\\x93\\x81',\n",
       " '\\xe7\\x92\\xb0\\xe5\\xa2\\x83',\n",
       " 'Cookie',\n",
       " 'KDDI',\n",
       " '\\xe6\\xa0\\xaa\\xe5\\xbc\\x8f\\xe4\\xbc\\x9a\\xe7\\xa4\\xbe',\n",
       " '\\xe3\\x83\\x9a\\xe3\\x83\\xbc\\xe3\\x82\\xb8',\n",
       " '\\xe5\\x80\\x8b\\xe4\\xba\\xba',\n",
       " '\\xe4\\xbc\\x9a\\xe7\\xa4\\xbe',\n",
       " '\\xe9\\x9b\\xbb\\xe5\\xad\\x90',\n",
       " '\\xe8\\xb2\\xac\\xe4\\xbb\\xbb',\n",
       " '\\xe7\\x9b\\xae\\xe7\\x9a\\x84',\n",
       " '\\xe7\\x8a\\xb6\\xe6\\xb3\\x81',\n",
       " 'TIME',\n",
       " 'SPACE',\n",
       " 'by',\n",
       " '\\xe3\\x82\\xa2\\xe3\\x83\\x97\\xe3\\x83\\xaa',\n",
       " '\\xe3\\x82\\xb9\\xe3\\x83\\x9e',\n",
       " '\\xe3\\x83\\x9b',\n",
       " '\\xe4\\xbb\\x95\\xe6\\xa7\\x98',\n",
       " '\\xe3\\x83\\xa1\\xe3\\x83\\xb3\\xe3\\x83\\x90\\xe3\\x83\\xbc',\n",
       " '\\xe6\\x8a\\x80\\xe8\\xa1\\x93',\n",
       " '\\xe6\\x9d\\xb1\\xe4\\xba\\xac',\n",
       " '\\xe6\\x9c\\x9f\\xe9\\x96\\x93',\n",
       " '\\xe3\\x82\\xa2\\xe3\\x82\\xaf\\xe3\\x82\\xbb\\xe3\\x82\\xb5\\xe3\\x83\\xaa',\n",
       " '\\xe7\\x94\\xb3\\xe3\\x81\\x97\\xe8\\xbe\\xbc\\xe3\\x81\\xbf',\n",
       " '\\xe4\\xba\\xba\\xe6\\xb0\\x97',\n",
       " '\\xe6\\x9c\\x80\\xe5\\x88\\x9d',\n",
       " '\\xe9\\x9f\\xb3\\xe6\\xa5\\xbd',\n",
       " '\\xe3\\x82\\xbd\\xe3\\x83\\x95\\xe3\\x83\\x88\\xe3\\x82\\xa6\\xe3\\x82\\xa7\\xe3\\x82\\xa2',\n",
       " '\\xe8\\xa6\\x8f\\xe7\\xb4\\x84',\n",
       " '\\xe3\\x81\\x8a\\xe5\\xae\\xa2\\xe6\\xa7\\x98',\n",
       " '\\xe3\\x83\\x93\\xe3\\x82\\xb8\\xe3\\x83\\x8d\\xe3\\x82\\xb9',\n",
       " '\\xe3\\x82\\xb3\\xe3\\x83\\x9f\\xe3\\x83\\xa5\\xe3\\x83\\x8b\\xe3\\x82\\xb1\\xe3\\x83\\xbc\\xe3\\x82\\xb7\\xe3\\x83\\xa7\\xe3\\x83\\xb3',\n",
       " 'Mac',\n",
       " '\\xe3\\x83\\x8f\\xe3\\x83\\xbc\\xe3\\x83\\x89\\xe3\\x82\\xa6\\xe3\\x82\\xa7\\xe3\\x82\\xa2']"
      ]
     },
     "execution_count": 20,
     "metadata": {},
     "output_type": "execute_result"
    }
   ],
   "source": [
    "lda.vocas"
   ]
  },
  {
   "cell_type": "code",
   "execution_count": 21,
   "metadata": {},
   "outputs": [
    {
     "data": {
      "text/plain": [
       "[u'\\u30ed\\u30b0\\u30a4\\u30f3',\n",
       " u'\\u30dd\\u30a4\\u30f3\\u30c8',\n",
       " u'iPhone',\n",
       " u'Plus',\n",
       " u'with',\n",
       " u'AppleCare',\n",
       " u'\\u30e1\\u30c3\\u30bb\\u30fc\\u30b8',\n",
       " u'au',\n",
       " u'iPad',\n",
       " u'\\u30b3\\u30f3\\u30d4\\u30e5\\u30fc\\u30bf',\n",
       " u'Apple',\n",
       " u'Pay',\n",
       " u'\\u30ab\\u30fc\\u30c9',\n",
       " u'\\u60c5\\u5831',\n",
       " u'\\u6cd5\\u4eba',\n",
       " u'\\u304a\\u5ba2',\n",
       " u'\\u5185\\u5bb9',\n",
       " u'ID',\n",
       " u'\\u30dc\\u30bf\\u30f3',\n",
       " u'\\u753b\\u9762',\n",
       " u'\\u6a5f\\u7a2e',\n",
       " u'\\u30af\\u30ec\\u30b8\\u30c3\\u30c8\\u30ab\\u30fc\\u30c9',\n",
       " u'\\u30b9\\u30de\\u30fc\\u30c8',\n",
       " u'\\u30d5\\u30a9\\u30f3',\n",
       " u'\\u30a4\\u30f3\\u30bf\\u30fc\\u30cd\\u30c3\\u30c8',\n",
       " u'XR',\n",
       " u'\\u65e5\\u672c',\n",
       " u'\\u30c7\\u30a3\\u30b9\\u30d7\\u30ec\\u30a4',\n",
       " u'\\u696d\\u754c',\n",
       " u'Face',\n",
       " u'\\u6df1\\u5ea6',\n",
       " u'\\u30ab\\u30e1\\u30e9',\n",
       " u'\\u30b7\\u30b9\\u30c6\\u30e0',\n",
       " u'\\u30b9\\u30af\\u30ea\\u30fc\\u30f3',\n",
       " u'\\u4e16\\u754c',\n",
       " u'\\u8272',\n",
       " u'\\u6027\\u80fd',\n",
       " u'\\u76ee',\n",
       " u'\\u30ec\\u30d9\\u30eb',\n",
       " u'\\u30ef\\u30a4\\u30e4\\u30ec\\u30b9',\n",
       " u'\\u9854',\n",
       " u'\\u30d1\\u30b9\\u30ef\\u30fc\\u30c9',\n",
       " u'\\u30bb\\u30ad\\u30e5\\u30ea\\u30c6\\u30a3',\n",
       " u'\\u30a2\\u30d7\\u30ea\\u30b1\\u30fc\\u30b7\\u30e7\\u30f3',\n",
       " u'\\u652f\\u6255\\u3044',\n",
       " u'Bionic',\n",
       " u'\\u30dd\\u30fc\\u30c8\\u30ec\\u30fc\\u30c8',\n",
       " u'\\u9ad8\\u901f',\n",
       " u'\\u7406\\u7531',\n",
       " u'\\u4e16\\u754c\\u4e2d',\n",
       " u'\\u5199\\u771f',\n",
       " u'\\u30bb\\u30f3\\u30b5\\u30fc',\n",
       " u'\\u65b9\\u6cd5',\n",
       " u'\\u80cc\\u666f',\n",
       " u'\\u30e2\\u30fc\\u30c9',\n",
       " u'\\u4f5c\\u54c1',\n",
       " u'\\u5199',\n",
       " u'\\u30d7\\u30e9\\u30a4\\u30d0\\u30b7\\u30fc',\n",
       " u'\\u6761\\u4ef6',\n",
       " u'\\u6700\\u5927',\n",
       " u'\\u30b5\\u30a4\\u30c8',\n",
       " u'\\u6587\\u5b57',\n",
       " u'\\u30b3\\u30f3\\u30c6\\u30f3\\u30c4',\n",
       " u'App',\n",
       " u'\\u81ea\\u5206',\n",
       " u'\\u4f7f\\u3044\\u65b9',\n",
       " u'\\u30d3\\u30c7\\u30aa',\n",
       " u'\\u30e6\\u30fc\\u30b6',\n",
       " u'HDR',\n",
       " u'\\u5bfe\\u8c61',\n",
       " u'\\u52d5\\u753b',\n",
       " u'\\u756a\\u53f7',\n",
       " u'\\u88fd\\u54c1',\n",
       " u'\\u30e6\\u30fc\\u30b6\\u30fc',\n",
       " u'\\u30a2\\u30ab\\u30a6\\u30f3\\u30c8',\n",
       " u'\\u30ed\\u30b4',\n",
       " u'Watch',\n",
       " u'\\u7c73\\u56fd',\n",
       " u'\\u4ed6',\n",
       " u'Inc',\n",
       " u'\\u5546\\u6a19',\n",
       " u'\\u30e9\\u30a4\\u30bb\\u30f3\\u30b9',\n",
       " u'All',\n",
       " u'rights',\n",
       " u'reserved',\n",
       " u'XS',\n",
       " u'\\u30e2\\u30c7\\u30eb',\n",
       " u'\\u6a19\\u6e96',\n",
       " u'IP',\n",
       " u'\\u624b',\n",
       " u'\\u30db\\u30fc\\u30e0',\n",
       " u'\\u6a5f\\u95a2',\n",
       " u'\\u30c7\\u30d0\\u30a4\\u30b9',\n",
       " u'\\u30cd\\u30c3\\u30c8\\u30ef\\u30fc\\u30af',\n",
       " u'iTunes',\n",
       " u'Store',\n",
       " u'\\u30ea\\u30f3\\u30b0',\n",
       " u'\\u58f0',\n",
       " u'\\u30d0\\u30c3\\u30c6\\u30ea\\u30fc',\n",
       " u'\\u30b4\\u30fc\\u30eb\\u30c9',\n",
       " u'\\u30e2\\u30d0\\u30a4\\u30eb',\n",
       " u'\\u4eba',\n",
       " u'\\u56fd',\n",
       " u'\\u5730\\u57df',\n",
       " u'\\u753b\\u50cf',\n",
       " u'\\u9b45\\u529b',\n",
       " u'\\u5834\\u6240',\n",
       " u'\\u30c7\\u30fc\\u30bf',\n",
       " u'com',\n",
       " u'\\u5bb9\\u91cf',\n",
       " u'\\u5168\\u56fd',\n",
       " u'\\u9001\\u6599',\n",
       " u'\\u7121\\u6599',\n",
       " u'\\u5c4a\\u3051',\n",
       " u'\\u30aa\\u30f3\\u30e9\\u30a4\\u30f3',\n",
       " u'\\u30b1\\u30fc\\u30b9',\n",
       " u'iOS',\n",
       " u'Series',\n",
       " u'\\u7aef\\u672b',\n",
       " u'\\u6708',\n",
       " u'\\u6599\\u91d1',\n",
       " u'\\u6700\\u65b0',\n",
       " u'\\u5546\\u54c1',\n",
       " u'\\u74b0\\u5883',\n",
       " u'Cookie',\n",
       " u'KDDI',\n",
       " u'\\u682a\\u5f0f\\u4f1a\\u793e',\n",
       " u'\\u30da\\u30fc\\u30b8',\n",
       " u'\\u500b\\u4eba',\n",
       " u'\\u4f1a\\u793e',\n",
       " u'\\u96fb\\u5b50',\n",
       " u'\\u8cac\\u4efb',\n",
       " u'\\u76ee\\u7684',\n",
       " u'\\u72b6\\u6cc1',\n",
       " u'TIME',\n",
       " u'SPACE',\n",
       " u'by',\n",
       " u'\\u30a2\\u30d7\\u30ea',\n",
       " u'\\u30b9\\u30de',\n",
       " u'\\u30db',\n",
       " u'\\u4ed5\\u69d8',\n",
       " u'\\u30e1\\u30f3\\u30d0\\u30fc',\n",
       " u'\\u6280\\u8853',\n",
       " u'\\u6771\\u4eac',\n",
       " u'\\u671f\\u9593',\n",
       " u'\\u30a2\\u30af\\u30bb\\u30b5\\u30ea',\n",
       " u'\\u7533\\u3057\\u8fbc\\u307f',\n",
       " u'\\u4eba\\u6c17',\n",
       " u'\\u6700\\u521d',\n",
       " u'\\u97f3\\u697d',\n",
       " u'\\u30bd\\u30d5\\u30c8\\u30a6\\u30a7\\u30a2',\n",
       " u'\\u898f\\u7d04',\n",
       " u'\\u304a\\u5ba2\\u69d8',\n",
       " u'\\u30d3\\u30b8\\u30cd\\u30b9',\n",
       " u'\\u30b3\\u30df\\u30e5\\u30cb\\u30b1\\u30fc\\u30b7\\u30e7\\u30f3',\n",
       " u'Mac',\n",
       " u'\\u30cf\\u30fc\\u30c9\\u30a6\\u30a7\\u30a2']"
      ]
     },
     "execution_count": 21,
     "metadata": {},
     "output_type": "execute_result"
    }
   ],
   "source": [
    "[word.decode(\"utf-8\") for word in lda.vocas]"
   ]
  },
  {
   "cell_type": "code",
   "execution_count": 22,
   "metadata": {},
   "outputs": [
    {
     "data": {
      "text/plain": [
       "136.90697674418604"
      ]
     },
     "execution_count": 22,
     "metadata": {},
     "output_type": "execute_result"
    }
   ],
   "source": [
    "doclen_ave = sum([len(_doc) for _doc in lda.docs]) / float(len(lda.docs))\n",
    "doclen_ave"
   ]
  },
  {
   "cell_type": "code",
   "execution_count": 23,
   "metadata": {
    "collapsed": true
   },
   "outputs": [],
   "source": [
    "fp = open(os.path.join(exp_dir,\"_perp.txt\"),\"w\")\n",
    "ft = open(os.path.join(exp_dir,\"_time.txt\"), 'w')\n",
    "start_time = time.time()"
   ]
  },
  {
   "cell_type": "code",
   "execution_count": 24,
   "metadata": {},
   "outputs": [
    {
     "name": "stderr",
     "output_type": "stream",
     "text": [
      "-- 0-- 1-- 2-- 3-- 4-- 5-- 6-- 7-- 8-- 9-- 10-- 11-- 12-- 13-- 14-- 15-- 16-- 17-- 18-- 19-- 20-- 21-- 22-- 23-- 24-- 25-- 26-- 27-- 28-- 29-- 30-- 31-- 32-- 33-- 34-- 35-- 36-- 37-- 38-- 39-- 40-- 41-- 42-- 43-- 44-- 45-- 46-- 47-- 48-- 49"
     ]
    }
   ],
   "source": [
    "for i in range(iteration):\n",
    "    #sys.stderr.write(\"-- %d : %.4f\\n\" % (i, natm.perplexity()))\n",
    "    lda.inference()\n",
    "    perp = lda.perplexity()\n",
    "    print >> fp,(\"%d,%f\" % (i, perp))\n",
    "    if i != 0 and i%5 == 0:\n",
    "        lda.hparam_update(do_alpha=do_hparam_update,do_beta=do_hparam_update)\n",
    "    if i%100 == 0:\n",
    "        with open(os.path.join(exp_dir,\"instance.pkl\"), 'w') as fs:\n",
    "            pickle.dump(lda,fs)\n",
    "    sys.stderr.write(\"-- %d\" % (i))\n",
    "elapsed_time = time.time() - start_time\n",
    "fp.close()"
   ]
  },
  {
   "cell_type": "code",
   "execution_count": 25,
   "metadata": {
    "collapsed": true
   },
   "outputs": [],
   "source": [
    "with open(os.path.join(exp_dir,\"instance.pkl\"), 'w') as fs:\n",
    "    pickle.dump(lda,fs)"
   ]
  },
  {
   "cell_type": "code",
   "execution_count": 26,
   "metadata": {
    "collapsed": true
   },
   "outputs": [],
   "source": [
    "print >> ft,\"alpha=\", lda.alpha\n",
    "print >> ft,\"beta=\" ,lda.beta\n",
    "print >> ft,\"time=\" ,elapsed_time\n",
    "ft.close()"
   ]
  },
  {
   "cell_type": "code",
   "execution_count": 27,
   "metadata": {},
   "outputs": [
    {
     "data": {
      "image/png": "[encoded data removed]"
     },
     "metadata": {},
     "output_type": "display_data"
    }
   ],
   "source": [
    "perp_graph(os.path.join(exp_dir,\"_perp.txt\"),\"perp\")\n",
    "from IPython.display import Image, display_png\n",
    "display_png(Image(os.path.join(exp_dir,\"perp.png\")))"
   ]
  },
  {
   "cell_type": "code",
   "execution_count": 28,
   "metadata": {
    "scrolled": true
   },
   "outputs": [
    {
     "name": "stdout",
     "output_type": "stream",
     "text": [
      "\n",
      "Topic 0\n",
      "情報: 0.163841\n",
      "お客様: 0.134325\n",
      "個人: 0.083125\n",
      "サイト: 0.081318\n",
      "お客: 0.039756\n",
      "データ: 0.034335\n",
      "au: 0.027709\n",
      "目的: 0.027106\n",
      "プライバシー: 0.026504\n",
      "規約: 0.026504\n",
      "Cookie: 0.019276\n",
      "商品: 0.018674\n",
      "アカウント: 0.018674\n",
      "責任: 0.018674\n",
      "コンテンツ: 0.015662\n",
      "KDDI: 0.014457\n",
      "月: 0.014457\n",
      "内容: 0.012650\n",
      "最新: 0.012048\n",
      "アプリケーション: 0.012048\n",
      "\n",
      "Topic 1\n",
      "性能: 0.091946\n",
      "方法: 0.071959\n",
      "最大: 0.071959\n",
      "色: 0.063964\n",
      "地域: 0.059966\n",
      "ポートレート: 0.051971\n",
      "高速: 0.047974\n",
      "深度: 0.043976\n",
      "ディスプレイ: 0.043976\n",
      "センサー: 0.039979\n",
      "Bionic: 0.035981\n",
      "業界: 0.035981\n",
      "理由: 0.031984\n",
      "目: 0.031984\n",
      "世界: 0.027986\n",
      "背景: 0.027986\n",
      "レベル: 0.027986\n",
      "システム: 0.027986\n",
      "カメラ: 0.027986\n",
      "顔: 0.023989\n",
      "\n",
      "Topic 2\n",
      "人: 0.180074\n",
      "Face: 0.121987\n",
      "バッテリー: 0.104562\n",
      "ワイヤレス: 0.087136\n",
      "使い方: 0.063901\n",
      "自分: 0.052284\n",
      "内容: 0.052284\n",
      "文字: 0.052284\n",
      "容量: 0.046475\n",
      "Bionic: 0.040666\n",
      "ゴールド: 0.034858\n",
      "ビデオ: 0.034858\n",
      "標準: 0.029049\n",
      "画像: 0.023240\n",
      "ユーザ: 0.023240\n",
      "電子: 0.017432\n",
      "ページ: 0.017432\n",
      "App: 0.017432\n",
      "届け: 0.000006\n",
      "com: 0.000006\n",
      "\n",
      "Topic 3\n",
      "KDDI: 0.167081\n",
      "Watch: 0.090870\n",
      "商品: 0.064489\n",
      "Series: 0.064489\n",
      "アプリ: 0.061558\n",
      "月: 0.055696\n",
      "ビジネス: 0.046902\n",
      "日本: 0.043971\n",
      "Apple: 0.038109\n",
      "法人: 0.032246\n",
      "スマ: 0.032246\n",
      "会社: 0.029315\n",
      "SPACE: 0.029315\n",
      "地域: 0.026384\n",
      "全国: 0.026384\n",
      "by: 0.026384\n",
      "声: 0.023453\n",
      "届け: 0.020521\n",
      "データ: 0.017590\n",
      "申し込み: 0.017590\n",
      "\n",
      "Topic 4\n",
      "HDR: 0.200947\n",
      "リング: 0.128385\n",
      "Plus: 0.083731\n",
      "バッテリー: 0.083731\n",
      "カメラ: 0.072568\n",
      "ゴールド: 0.066986\n",
      "スマート: 0.055823\n",
      "Face: 0.050241\n",
      "人気: 0.039077\n",
      "容量: 0.033496\n",
      "世界: 0.033496\n",
      "フォン: 0.027914\n",
      "iTunes: 0.027914\n",
      "対象: 0.027914\n",
      "ライセンス: 0.016751\n",
      "レベル: 0.016751\n",
      "声: 0.016751\n",
      "デバイス: 0.011169\n",
      "日本: 0.005587\n",
      "無料: 0.000006\n",
      "\n",
      "Topic 5\n",
      "iPhone: 0.276926\n",
      "XS: 0.075858\n",
      "Apple: 0.065805\n",
      "画面: 0.052096\n",
      "XR: 0.042956\n",
      "製品: 0.040215\n",
      "モデル: 0.031075\n",
      "写真: 0.026505\n",
      "カメラ: 0.024677\n",
      "最新: 0.023764\n",
      "ホーム: 0.021022\n",
      "ディスプレイ: 0.019194\n",
      "最大: 0.018280\n",
      "商標: 0.014624\n",
      "方法: 0.012796\n",
      "情報: 0.011882\n",
      "ユーザー: 0.011882\n",
      "モバイル: 0.011882\n",
      "深度: 0.011882\n",
      "Plus: 0.011882\n",
      "\n",
      "Topic 6\n",
      "ビデオ: 0.243593\n",
      "最大: 0.170796\n",
      "ディスプレイ: 0.083999\n",
      "写真: 0.083999\n",
      "色: 0.047601\n",
      "IP: 0.044801\n",
      "スクリーン: 0.042001\n",
      "Bionic: 0.036401\n",
      "ポートレート: 0.036401\n",
      "性能: 0.036401\n",
      "モデル: 0.033601\n",
      "深度: 0.033601\n",
      "コンテンツ: 0.033601\n",
      "機関: 0.022402\n",
      "アプリケーション: 0.019602\n",
      "標準: 0.014002\n",
      "センサー: 0.008402\n",
      "ネットワーク: 0.005603\n",
      "ホーム: 0.002803\n",
      "オンライン: 0.000003\n",
      "\n",
      "Topic 7\n",
      "製品: 0.299137\n",
      "デバイス: 0.094728\n",
      "ユーザ: 0.082265\n",
      "App: 0.069801\n",
      "支払い: 0.052351\n",
      "方法: 0.052351\n",
      "カード: 0.029916\n",
      "iTunes: 0.027423\n",
      "Watch: 0.027423\n",
      "レベル: 0.024930\n",
      "音楽: 0.022438\n",
      "場所: 0.022438\n",
      "モデル: 0.017452\n",
      "アクセサリ: 0.017452\n",
      "アカウント: 0.017452\n",
      "自分: 0.014959\n",
      "クレジットカード: 0.014959\n",
      "世界: 0.014959\n",
      "対象: 0.012466\n",
      "メッセージ: 0.012466\n",
      "\n",
      "Topic 8\n",
      "Store: 0.260426\n",
      "Mac: 0.106300\n",
      "ハードウェア: 0.063782\n",
      "ソフトウェア: 0.058467\n",
      "iOS: 0.058467\n",
      "写真: 0.053152\n",
      "AppleCare: 0.047838\n",
      "日本: 0.047838\n",
      "条件: 0.037208\n",
      "オンライン: 0.037208\n",
      "ケース: 0.037208\n",
      "ユーザー: 0.026579\n",
      "送料: 0.026579\n",
      "届け: 0.021264\n",
      "無料: 0.021264\n",
      "Pay: 0.021264\n",
      "全国: 0.015949\n",
      "ビジネス: 0.015949\n",
      "ビデオ: 0.015949\n",
      "場所: 0.010635\n",
      "\n",
      "Topic 9\n",
      "Apple: 0.330080\n",
      "iPhone: 0.086737\n",
      "ID: 0.052203\n",
      "au: 0.030519\n",
      "Pay: 0.024897\n",
      "スマート: 0.024897\n",
      "アプリケーション: 0.023291\n",
      "コンピュータ: 0.023291\n",
      "写真: 0.022488\n",
      "with: 0.022488\n",
      "機種: 0.021685\n",
      "カード: 0.019275\n",
      "Store: 0.019275\n",
      "ポイント: 0.019275\n",
      "フォン: 0.018472\n",
      "ボタン: 0.018472\n",
      "iPad: 0.018472\n",
      "お客: 0.016063\n",
      "モード: 0.014457\n",
      "AppleCare: 0.013654\n"
     ]
    }
   ],
   "source": [
    "output_summary(exp_dir,lda)"
   ]
  },
  {
   "cell_type": "code",
   "execution_count": 29,
   "metadata": {
    "collapsed": true
   },
   "outputs": [],
   "source": [
    "status_writer(os.path.join(root_dir,exp_name),{\"topic_num\":K,\"M\":M,\"V\":V,\"doclen_ave\":doclen_ave,\"iteration\":iteration,\"alpha\":alpha,\"beta\":beta,\"no_below\":no_below,\"no_above\":no_above,\"no_less\":no_less,\"is_largest\":is_largest,\"do_hparam_update\":do_hparam_update},comment=comment)"
   ]
  }
 ],
 "metadata": {
  "kernelspec": {
   "display_name": "Python 2",
   "language": "python",
   "name": "python2"
  },
  "language_info": {
   "codemirror_mode": {
    "name": "ipython",
    "version": 2
   },
   "file_extension": ".py",
   "mimetype": "text/x-python",
   "name": "python",
   "nbconvert_exporter": "python",
   "pygments_lexer": "ipython2",
   "version": "2.7.15"
  }
 },
 "nbformat": 4,
 "nbformat_minor": 2
}
