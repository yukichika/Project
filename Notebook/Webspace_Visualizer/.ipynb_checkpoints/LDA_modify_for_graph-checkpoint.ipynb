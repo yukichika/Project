{
 "cells": [
  {
   "cell_type": "code",
   "execution_count": 1,
   "metadata": {
    "collapsed": true
   },
   "outputs": [],
   "source": [
    "import numpy as np\n",
    "import os\n",
    "import cPickle as pickle\n",
    "import os.path\n",
    "import matplotlib.pyplot as plt\n",
    "\n",
    "import sys\n",
    "sys.path.append(\"../../Interactive_Graph_Visualizer/networkx-master\")\n",
    "import networkx as nx\n",
    "sys.path.append(\"../../MyPythonModule\")\n",
    "from LDA_kai import LDA"
   ]
  },
  {
   "cell_type": "code",
   "execution_count": 2,
   "metadata": {
    "collapsed": true
   },
   "outputs": [],
   "source": [
    "def suffix_generator(target=None,is_largest=False):\n",
    "    suffix = \"\"\n",
    "    if target != None:\n",
    "        suffix += \"_\" + target\n",
    "    if is_largest == True:\n",
    "        suffix += \"_largest\"\n",
    "    return suffix"
   ]
  },
  {
   "cell_type": "code",
   "execution_count": 3,
   "metadata": {
    "collapsed": true
   },
   "outputs": [],
   "source": [
    "def compare4_2(p,q):\n",
    "    weight = np.exp(-((p-q)**2).sum())\n",
    "    return weight"
   ]
  },
  {
   "cell_type": "code",
   "execution_count": 4,
   "metadata": {
    "collapsed": true
   },
   "outputs": [],
   "source": [
    "def compare_selector(name):\n",
    "    if name == \"comp1\":\n",
    "        return compare1\n",
    "    elif name == \"comp1_1\":\n",
    "        return compare1_1\n",
    "    elif name == \"comp1_2\" or name == \"softmax\":\n",
    "        return compare1_2\n",
    "    elif name == \"comp2\":\n",
    "        return compare2\n",
    "    elif name == \"comp3\":\n",
    "        return compare3\n",
    "    elif name == \"comp4_1\":\n",
    "        return compare4_1\n",
    "    elif name == \"comp4_2\":\n",
    "        return compare4_2\n",
    "    else:\n",
    "        print \"invalid comp_func\"\n",
    "        exit()"
   ]
  },
  {
   "cell_type": "code",
   "execution_count": 5,
   "metadata": {
    "collapsed": true
   },
   "outputs": [],
   "source": [
    "def mode(a, axis=0):\n",
    "    scores = np.unique(np.ravel(a))       # get ALL unique values\n",
    "    testshape = list(a.shape)\n",
    "    testshape[axis] = 1\n",
    "    oldmostfreq = np.zeros(testshape)\n",
    "    oldcounts = np.zeros(testshape)\n",
    "\n",
    "    for score in scores:\n",
    "        template = (a == score)\n",
    "        counts = np.expand_dims(np.sum(template, axis),axis)\n",
    "        mostfrequent = np.where(counts > oldcounts, score, oldmostfreq)\n",
    "        oldcounts = np.maximum(counts, oldcounts)\n",
    "        oldmostfreq = mostfrequent\n",
    "\n",
    "    return int(mostfrequent)"
   ]
  },
  {
   "cell_type": "code",
   "execution_count": null,
   "metadata": {
    "collapsed": true
   },
   "outputs": [],
   "source": []
  },
  {
   "cell_type": "code",
   "execution_count": 6,
   "metadata": {
    "collapsed": true
   },
   "outputs": [],
   "source": [
    "search_word = u\"iPhone\"\n",
    "max_page = 10\n",
    "root_dir = \"../Data/Search_\" + search_word + \"_\" + unicode(max_page) + \"_add_childs\" \n",
    "is_largest = True\n",
    "target = \"myexttext\"\n",
    "G_name = \"G\" + suffix_generator(target=target,is_largest=is_largest)\n",
    "use_to_link = \"to_ext_links\"\n",
    "K = 10\n",
    "iteration = 50\n",
    "alpha = 0.001\n",
    "beta = 0.001\n",
    "no_below = 5#単語の最低出現文書数\n",
    "no_above = 0.2#単語の最大出現文書比率\n",
    "no_less = 20#文書に含まれる最低単語数\n",
    "do_hparam_update = False#パラメータを更新するか否か\n",
    "chasen_dir_name = \"Chasen\" + suffix_generator(target,is_largest)\n",
    "exp_name = \"K\" + unicode(K) + suffix_generator(target,is_largest)\n",
    "comment = None\n",
    "comp_func_name = \"comp4_2\"\n",
    "void_node_remove = True#空のノード(LDA結果のないノード)を除去するかどうか"
   ]
  },
  {
   "cell_type": "code",
   "execution_count": 7,
   "metadata": {},
   "outputs": [
    {
     "data": {
      "text/plain": [
       "23"
      ]
     },
     "execution_count": 7,
     "metadata": {},
     "output_type": "execute_result"
    }
   ],
   "source": [
    "COLORLIST_R = [r\"#EB6100\",r\"#F39800\",r\"#FCC800\",r\"#FFF100\",r\"#CFDB00\",r\"#8FC31F\",r\"#22AC38\",r\"#009944\",r\"#009B6B\",r\"#009E96\",r\"#00A0C1\",r\"#00A0E9\",r\"#0086D1\",r\"#0068B7\",r\"#00479D\",r\"#1D2088\",r\"#601986\",r\"#920783\",r\"#BE0081\",r\"#E4007F\",r\"#E5006A\",r\"#E5004F\",r\"#E60033\"]\n",
    "len(COLORLIST_R)"
   ]
  },
  {
   "cell_type": "code",
   "execution_count": 8,
   "metadata": {},
   "outputs": [
    {
     "data": {
      "text/plain": [
       "['#EB6100',\n",
       " '#FCC800',\n",
       " '#CFDB00',\n",
       " '#22AC38',\n",
       " '#009B6B',\n",
       " '#00A0C1',\n",
       " '#0086D1',\n",
       " '#00479D',\n",
       " '#601986',\n",
       " '#BE0081',\n",
       " '#E5006A',\n",
       " '#E60033']"
      ]
     },
     "execution_count": 8,
     "metadata": {},
     "output_type": "execute_result"
    }
   ],
   "source": [
    "COLORLIST_R[::2]"
   ]
  },
  {
   "cell_type": "code",
   "execution_count": 9,
   "metadata": {},
   "outputs": [
    {
     "data": {
      "text/plain": [
       "['#EB6100',\n",
       " '#FCC800',\n",
       " '#CFDB00',\n",
       " '#22AC38',\n",
       " '#009B6B',\n",
       " '#00A0C1',\n",
       " '#0086D1',\n",
       " '#00479D',\n",
       " '#601986',\n",
       " '#BE0081',\n",
       " '#E5006A',\n",
       " '#E60033']"
      ]
     },
     "execution_count": 9,
     "metadata": {},
     "output_type": "execute_result"
    }
   ],
   "source": [
    "COLORLIST_R = [r\"#EB6100\",r\"#F39800\",r\"#FCC800\",r\"#FFF100\",r\"#CFDB00\",r\"#8FC31F\",r\"#22AC38\",r\"#009944\",r\"#009B6B\",r\"#009E96\",r\"#00A0C1\",r\"#00A0E9\",r\"#0086D1\",r\"#0068B7\",r\"#00479D\",r\"#1D2088\",r\"#601986\",r\"#920783\",r\"#BE0081\",r\"#E4007F\",r\"#E5006A\",r\"#E5004F\",r\"#E60033\"]\n",
    "COLORLIST = [c for c in COLORLIST_R[::2]]#色のステップ調整\n",
    "COLORLIST"
   ]
  },
  {
   "cell_type": "code",
   "execution_count": 10,
   "metadata": {},
   "outputs": [
    {
     "data": {
      "text/plain": [
       "12"
      ]
     },
     "execution_count": 10,
     "metadata": {},
     "output_type": "execute_result"
    }
   ],
   "source": [
    "len(COLORLIST)"
   ]
  },
  {
   "cell_type": "code",
   "execution_count": 11,
   "metadata": {
    "collapsed": true
   },
   "outputs": [],
   "source": [
    "DEFAULT_WEIGHT = 0.5"
   ]
  },
  {
   "cell_type": "code",
   "execution_count": 12,
   "metadata": {
    "collapsed": true
   },
   "outputs": [],
   "source": [
    "exp_dir = os.path.join(root_dir,exp_name)\n",
    "nx_dir = os.path.join(exp_dir,\"nx_datas\")\n",
    "if not os.path.exists(nx_dir):\n",
    "    os.mkdir(nx_dir)"
   ]
  },
  {
   "cell_type": "code",
   "execution_count": 13,
   "metadata": {
    "collapsed": true
   },
   "outputs": [],
   "source": [
    "compare = compare_selector(comp_func_name)\n",
    "weights_list = []\n",
    "G_path = G_name + \".gpkl\""
   ]
  },
  {
   "cell_type": "code",
   "execution_count": 14,
   "metadata": {
    "collapsed": true
   },
   "outputs": [],
   "source": [
    "with open(os.path.join(exp_dir,\"instance.pkl\")) as fi:\n",
    "   lda = pickle.load(fi)\n",
    "with open(os.path.join(root_dir,G_path)) as fi:\n",
    "    G = pickle.load(fi)"
   ]
  },
  {
   "cell_type": "code",
   "execution_count": 15,
   "metadata": {},
   "outputs": [
    {
     "data": {
      "text/plain": [
       "43"
      ]
     },
     "execution_count": 15,
     "metadata": {},
     "output_type": "execute_result"
    }
   ],
   "source": [
    "theta = lda.theta()\n",
    "len(theta)"
   ]
  },
  {
   "cell_type": "code",
   "execution_count": 16,
   "metadata": {},
   "outputs": [
    {
     "data": {
      "text/plain": [
       "array([[  1.81785130e-05,   1.81785130e-05,   1.81785130e-05,\n",
       "          1.81785130e-05,   1.81785130e-05,   1.81785130e-05,\n",
       "          1.81803308e-01,   7.27158698e-01,   1.81785130e-05,\n",
       "          9.09107435e-02],\n",
       "       [  8.13975119e-02,   1.16265551e-05,   2.32542728e-01,\n",
       "          1.16265551e-05,   1.16265551e-05,   1.16265551e-05,\n",
       "          1.16265551e-05,   3.83687943e-01,   1.16265551e-05,\n",
       "          3.02302058e-01],\n",
       "       [  1.47044987e-01,   2.94031167e-05,   2.94031167e-05,\n",
       "          2.94031167e-05,   2.35254337e-01,   1.17641870e-01,\n",
       "          2.94031167e-05,   4.11673037e-01,   2.94031167e-05,\n",
       "          8.82387533e-02],\n",
       "       [  1.35116876e-05,   1.62153763e-01,   4.05364140e-01,\n",
       "          1.35116876e-05,   1.35116876e-05,   1.35116876e-05,\n",
       "          1.35116876e-05,   4.32387515e-01,   1.35116876e-05,\n",
       "          1.35116876e-05],\n",
       "       [  1.57975387e-06,   1.57975387e-06,   1.57975387e-06,\n",
       "          4.20216110e-01,   1.57975387e-06,   1.57975387e-06,\n",
       "          1.57975387e-06,   2.52762200e-01,   1.57975387e-06,\n",
       "          3.27010632e-01],\n",
       "       [  8.42110803e-02,   3.50864882e-06,   2.80695414e-01,\n",
       "          3.50864882e-06,   3.50864882e-06,   3.50864882e-06,\n",
       "          3.50864882e-06,   3.12273254e-01,   3.50864882e-06,\n",
       "          3.22799200e-01],\n",
       "       [  6.24960940e-06,   1.56246485e-01,   6.24960940e-06,\n",
       "          1.24998438e-01,   3.12542966e-02,   2.24992188e-01,\n",
       "          6.24960940e-06,   4.31229298e-01,   3.12542966e-02,\n",
       "          6.24960940e-06],\n",
       "       [  4.16493128e-05,   4.16493128e-05,   4.16493128e-05,\n",
       "          4.16493128e-05,   4.16493128e-05,   4.58184090e-01,\n",
       "          4.16493128e-05,   5.41482716e-01,   4.16493128e-05,\n",
       "          4.16493128e-05],\n",
       "       [  2.38785256e-01,   1.49231458e-05,   1.94015819e-01,\n",
       "          1.49231458e-05,   1.49231458e-05,   1.49231458e-05,\n",
       "          5.97075063e-02,   4.77555589e-01,   2.98612147e-02,\n",
       "          1.49231458e-05],\n",
       "       [  5.91680966e-06,   5.91680966e-06,   5.91680966e-06,\n",
       "          5.91680966e-06,   7.86941601e-01,   5.91680966e-06,\n",
       "          2.13011064e-01,   5.91680966e-06,   5.91680966e-06,\n",
       "          5.91680966e-06],\n",
       "       [  3.93685288e-06,   2.87394197e-01,   3.93685288e-06,\n",
       "          5.51198772e-02,   3.93685288e-06,   3.93685288e-06,\n",
       "          1.18144955e-02,   6.06279280e-01,   3.93724657e-02,\n",
       "          3.93685288e-06],\n",
       "       [  5.40500856e-01,   9.00819746e-06,   9.00819746e-06,\n",
       "          9.00819746e-06,   1.35131970e-01,   3.24304117e-01,\n",
       "          9.00819746e-06,   9.00819746e-06,   9.00819746e-06,\n",
       "          9.00819746e-06],\n",
       "       [  1.92270717e-05,   1.92289944e-01,   1.92270717e-05,\n",
       "          1.92270717e-05,   1.92270717e-05,   1.73062873e-01,\n",
       "          1.92270717e-05,   6.34512594e-01,   1.92270717e-05,\n",
       "          1.92270717e-05],\n",
       "       [  1.34608729e-01,   1.92270717e-05,   1.92270717e-05,\n",
       "          1.92270717e-05,   3.26879446e-01,   1.53835801e-01,\n",
       "          3.84560661e-01,   1.92270717e-05,   1.92270717e-05,\n",
       "          1.92270717e-05],\n",
       "       [  1.40622884e-01,   2.08327691e-01,   5.20806208e-06,\n",
       "          5.20806208e-06,   5.20806208e-06,   5.72938909e-02,\n",
       "          5.20806208e-06,   5.83308161e-01,   1.04213322e-02,\n",
       "          5.20806208e-06],\n",
       "       [  5.70583466e-02,   3.12305937e-01,   3.00291283e-06,\n",
       "          3.00291283e-06,   3.00291283e-06,   3.00291283e-06,\n",
       "          2.70292183e-02,   5.49536050e-01,   5.40554338e-02,\n",
       "          3.00291283e-06],\n",
       "       [  6.10944986e-02,   4.05134883e-01,   3.21533070e-06,\n",
       "          7.71711521e-02,   3.21533070e-06,   1.92951995e-02,\n",
       "          3.21533070e-06,   4.11565545e-01,   2.57258609e-02,\n",
       "          3.21533070e-06],\n",
       "       [  9.31902082e-02,   3.58410093e-06,   3.58410093e-06,\n",
       "          3.58410093e-06,   1.72040429e-01,   3.58410093e-06,\n",
       "          7.34744274e-01,   3.58410093e-06,   3.58410093e-06,\n",
       "          3.58410093e-06],\n",
       "       [  3.55888832e-01,   1.18640908e-01,   1.69462803e-05,\n",
       "          1.69462803e-05,   4.91459075e-01,   1.69462803e-05,\n",
       "          3.39095069e-02,   1.69462803e-05,   1.69462803e-05,\n",
       "          1.69462803e-05],\n",
       "       [  6.35231149e-01,   1.17633220e-05,   1.17633220e-05,\n",
       "          1.17633220e-05,   2.94094812e-01,   1.17633220e-05,\n",
       "          5.88283731e-02,   1.17633220e-05,   1.17633220e-05,\n",
       "          1.17750853e-02],\n",
       "       [  2.79928029e-01,   3.99840064e-05,   3.99840064e-05,\n",
       "          3.99840064e-05,   5.19832067e-01,   3.99840064e-05,\n",
       "          1.99960016e-01,   3.99840064e-05,   3.99840064e-05,\n",
       "          3.99840064e-05],\n",
       "       [  3.77716063e-01,   2.22172850e-05,   2.22172850e-05,\n",
       "          2.22172850e-05,   2.22172850e-05,   2.22172850e-05,\n",
       "          2.22172850e-05,   6.22106199e-01,   2.22172850e-05,\n",
       "          2.22172850e-05],\n",
       "       [  4.34637114e-01,   4.34593655e-05,   4.34593655e-05,\n",
       "          4.34593655e-05,   4.78096480e-01,   4.34593655e-05,\n",
       "          8.69621904e-02,   4.34593655e-05,   4.34593655e-05,\n",
       "          4.34593655e-05],\n",
       "       [  3.71402724e-01,   9.52290258e-06,   9.52290258e-06,\n",
       "          9.52290258e-06,   9.52290258e-06,   9.52290258e-06,\n",
       "          1.71421769e-01,   4.57108847e-01,   9.52290258e-06,\n",
       "          9.52290258e-06],\n",
       "       [  2.98124340e-01,   6.21079436e-06,   6.21079436e-06,\n",
       "          6.21079436e-06,   1.67697659e-01,   1.61486864e-01,\n",
       "          1.67697659e-01,   2.04962425e-01,   6.21079436e-06,\n",
       "          6.21079436e-06],\n",
       "       [  3.58441803e-01,   1.88643652e-05,   2.07526882e-01,\n",
       "          1.88643652e-05,   1.88643652e-05,   9.43406904e-02,\n",
       "          1.88643652e-05,   2.82984343e-01,   5.66119600e-02,\n",
       "          1.88643652e-05],\n",
       "       [  5.90686052e-01,   4.54338937e-05,   2.72648796e-01,\n",
       "          4.54338937e-05,   4.54338937e-05,   4.54338937e-05,\n",
       "          4.54338937e-05,   1.36347115e-01,   4.54338937e-05,\n",
       "          4.54338937e-05],\n",
       "       [  4.34593655e-05,   4.34593655e-05,   4.34593655e-05,\n",
       "          4.34593655e-05,   4.34593655e-05,   2.60799652e-01,\n",
       "          4.34593655e-05,   7.38852673e-01,   4.34593655e-05,\n",
       "          4.34593655e-05],\n",
       "       [  4.54338937e-05,   4.54338937e-05,   4.54338937e-05,\n",
       "          4.54338937e-05,   4.54338937e-05,   4.54384371e-01,\n",
       "          4.54338937e-05,   5.45252158e-01,   4.54338937e-05,\n",
       "          4.54338937e-05],\n",
       "       [  2.13412329e-01,   2.03247901e-06,   2.03247901e-06,\n",
       "          2.03247901e-06,   3.25198675e-01,   6.30088819e-02,\n",
       "          3.76010650e-01,   2.23593016e-02,   2.03247901e-06,\n",
       "          2.03247901e-06],\n",
       "       [  4.53692787e-01,   3.08632450e-06,   2.65426993e-01,\n",
       "          3.08632450e-06,   3.08632450e-06,   3.08632450e-06,\n",
       "          1.94441530e-01,   8.64201722e-02,   3.08632450e-06,\n",
       "          3.08632450e-06],\n",
       "       [  2.60834601e-01,   2.17344056e-05,   2.17344056e-05,\n",
       "          2.17344056e-05,   2.17344056e-05,   1.73896979e-01,\n",
       "          2.17344056e-05,   2.39100196e-01,   3.26037818e-01,\n",
       "          2.17344056e-05],\n",
       "       [  1.57884582e-01,   1.75407823e-05,   1.75407823e-05,\n",
       "          1.75407823e-05,   1.75407823e-05,   1.75425364e-01,\n",
       "          1.75407823e-05,   3.15751623e-01,   3.50833187e-01,\n",
       "          1.75407823e-05],\n",
       "       [  3.84467512e-05,   3.84467512e-05,   3.84467512e-05,\n",
       "          3.84467512e-05,   3.07612457e-01,   4.22952710e-01,\n",
       "          3.84467512e-05,   2.69165705e-01,   3.84467512e-05,\n",
       "          3.84467512e-05],\n",
       "       [  5.31823016e-01,   2.12720698e-05,   2.12720698e-05,\n",
       "          2.12720698e-05,   2.12720698e-05,   2.12720698e-05,\n",
       "          2.12720698e-05,   2.12720698e-05,   4.68006807e-01,\n",
       "          2.12720698e-05],\n",
       "       [  4.66585203e-01,   2.22172850e-05,   3.11064208e-01,\n",
       "          2.22172850e-05,   2.22172850e-05,   2.22172850e-05,\n",
       "          8.88913575e-02,   1.33325928e-01,   2.22172850e-05,\n",
       "          2.22172850e-05],\n",
       "       [  7.05916951e-02,   3.53017292e-02,   1.17633220e-05,\n",
       "          1.88224915e-01,   1.17633220e-05,   2.70568168e-01,\n",
       "          1.17633220e-05,   9.41183390e-02,   3.41148100e-01,\n",
       "          1.17633220e-05],\n",
       "       [  5.58688621e-01,   2.94031167e-05,   3.82269921e-01,\n",
       "          2.94031167e-05,   2.94031167e-05,   2.94031167e-05,\n",
       "          5.88356366e-02,   2.94031167e-05,   2.94031167e-05,\n",
       "          2.94031167e-05],\n",
       "       [  1.07140307e-01,   3.57015352e-05,   7.14066405e-01,\n",
       "          3.57015352e-05,   3.57015352e-05,   3.57015352e-05,\n",
       "          1.78543377e-01,   3.57015352e-05,   3.57015352e-05,\n",
       "          3.57015352e-05],\n",
       "       [  1.88643652e-05,   1.88643652e-05,   1.88643652e-05,\n",
       "          1.88643652e-05,   7.54763252e-02,   4.90492360e-01,\n",
       "          1.88643652e-05,   4.33899264e-01,   1.88643652e-05,\n",
       "          1.88643652e-05],\n",
       "       [  3.15786485e-01,   1.38502237e-06,   1.21883353e-01,\n",
       "          1.38502237e-06,   1.38502237e-06,   1.38502237e-06,\n",
       "          5.62320466e-01,   1.38502237e-06,   1.38502237e-06,\n",
       "          1.38502237e-06],\n",
       "       [  3.44708721e-05,   6.89762151e-02,   3.44708721e-05,\n",
       "          3.44708721e-05,   3.10272320e-01,   3.44708721e-05,\n",
       "          6.20510169e-01,   3.44708721e-05,   3.44708721e-05,\n",
       "          3.44708721e-05],\n",
       "       [  4.19017236e-01,   3.81011332e-02,   9.52290258e-06,\n",
       "          9.52290258e-06,   9.52290258e-06,   9.52290258e-06,\n",
       "          1.90553281e-02,   1.42853062e-01,   3.80925626e-01,\n",
       "          9.52290258e-06]])"
      ]
     },
     "execution_count": 16,
     "metadata": {},
     "output_type": "execute_result"
    }
   ],
   "source": [
    "theta"
   ]
  },
  {
   "cell_type": "code",
   "execution_count": 17,
   "metadata": {},
   "outputs": [
    {
     "data": {
      "text/plain": [
       "(43, 10)"
      ]
     },
     "execution_count": 17,
     "metadata": {},
     "output_type": "execute_result"
    }
   ],
   "source": [
    "theta.shape"
   ]
  },
  {
   "cell_type": "code",
   "execution_count": 18,
   "metadata": {},
   "outputs": [
    {
     "data": {
      "text/plain": [
       "array([  1.81785130e-05,   1.81785130e-05,   1.81785130e-05,\n",
       "         1.81785130e-05,   1.81785130e-05,   1.81785130e-05,\n",
       "         1.81803308e-01,   7.27158698e-01,   1.81785130e-05,\n",
       "         9.09107435e-02])"
      ]
     },
     "execution_count": 18,
     "metadata": {},
     "output_type": "execute_result"
    }
   ],
   "source": [
    "theta[0]"
   ]
  },
  {
   "cell_type": "code",
   "execution_count": 19,
   "metadata": {},
   "outputs": [
    {
     "data": {
      "text/plain": [
       "53"
      ]
     },
     "execution_count": 19,
     "metadata": {},
     "output_type": "execute_result"
    }
   ],
   "source": [
    "nodes = G.node#参照渡しなのでG自体に改変が伝わる\n",
    "old_node_num = len(nodes)\n",
    "old_node_num"
   ]
  },
  {
   "cell_type": "code",
   "execution_count": 20,
   "metadata": {},
   "outputs": [
    {
     "data": {
      "text/plain": [
       "53"
      ]
     },
     "execution_count": 20,
     "metadata": {},
     "output_type": "execute_result"
    }
   ],
   "source": [
    "nodes_lim = len(nodes)\n",
    "nodes_lim"
   ]
  },
  {
   "cell_type": "code",
   "execution_count": 21,
   "metadata": {
    "scrolled": true
   },
   "outputs": [
    {
     "data": {
      "text/plain": [
       "{0: 0,\n",
       " 2: 1,\n",
       " 3: 2,\n",
       " 4: 3,\n",
       " 5: 4,\n",
       " 6: 5,\n",
       " 7: 6,\n",
       " 9: 7,\n",
       " 10: 8,\n",
       " 11: 9,\n",
       " 12: 10,\n",
       " 13: 11,\n",
       " 14: 12,\n",
       " 16: 13,\n",
       " 17: 14,\n",
       " 18: 15,\n",
       " 19: 16,\n",
       " 20: 17,\n",
       " 21: 18,\n",
       " 22: 19,\n",
       " 24: 20,\n",
       " 25: 21,\n",
       " 26: 22,\n",
       " 27: 23,\n",
       " 28: 24,\n",
       " 29: 25,\n",
       " 31: 26,\n",
       " 32: 27,\n",
       " 34: 28,\n",
       " 35: 29,\n",
       " 36: 30,\n",
       " 38: 31,\n",
       " 40: 32,\n",
       " 41: 33,\n",
       " 42: 34,\n",
       " 43: 35,\n",
       " 44: 36,\n",
       " 47: 37,\n",
       " 48: 38,\n",
       " 49: 39,\n",
       " 50: 40,\n",
       " 52: 41,\n",
       " 53: 42}"
      ]
     },
     "execution_count": 21,
     "metadata": {},
     "output_type": "execute_result"
    }
   ],
   "source": [
    "file_id_dict_inv = {v:k for k, v in lda.file_id_dict.items()}#ファイル名とLDAでの文書番号(逆引き)．LDAの方に作っとけばよかった．．．\n",
    "file_id_dict_inv"
   ]
  },
  {
   "cell_type": "code",
   "execution_count": 22,
   "metadata": {
    "collapsed": true
   },
   "outputs": [],
   "source": [
    "for m,z_m in enumerate(lda.z_m_n[:nodes_lim]):\n",
    "    node_no = lda.file_id_dict.get(m)#ファイルが連番でない対象に対応\n",
    "    if node_no not in G.node:\n",
    "        continue\n",
    "    \"\"\"代表トピックの抽出\"\"\"\n",
    "    rep_topic = mode(np.array(z_m))\n",
    "    nodes[node_no][\"topic\"] = rep_topic\n",
    "    nodes[node_no][\"color\"] = COLORLIST[rep_topic]\n",
    "\n",
    "    \"\"\"トピック分布の円グラフ保存\"\"\"\n",
    "    #fig = plt.figure()\n",
    "    #ax = fig.add_subplot(1,1,1)\n",
    "    #theta_d = theta[m]\n",
    "    #plt.rcParams['font.size']=20.0\n",
    "    #ax.pie(theta_d,colors=COLORLIST[:lda.K],labels=labels,startangle=90,radius=0.2, center=(0.5, 0.5), frame=True,counterclock=False)\n",
    "    #plt.axis(\"off\")\n",
    "    #plt.axis('equal')\n",
    "    #plt.savefig(os.path.join(pie_dir,unicode(lda.file_id_dict[m])+\".png\"))\n",
    "    #plt.close()"
   ]
  },
  {
   "cell_type": "code",
   "execution_count": 23,
   "metadata": {},
   "outputs": [
    {
     "data": {
      "text/plain": [
       "0"
      ]
     },
     "execution_count": 23,
     "metadata": {},
     "output_type": "execute_result"
    }
   ],
   "source": [
    "mode(np.array(z_m))"
   ]
  },
  {
   "cell_type": "code",
   "execution_count": 24,
   "metadata": {},
   "outputs": [
    {
     "data": {
      "text/plain": [
       "{'color': '#00479D', 'topic': 7}"
      ]
     },
     "execution_count": 24,
     "metadata": {},
     "output_type": "execute_result"
    }
   ],
   "source": [
    "nodes[0]"
   ]
  },
  {
   "cell_type": "code",
   "execution_count": 25,
   "metadata": {
    "collapsed": true
   },
   "outputs": [],
   "source": [
    "if void_node_remove == True:\n",
    "    remove_node_list = []#LDAでの処理で文書がなくなってしまったものを排除する\n",
    "    for n, d in G.nodes(data=True):\n",
    "        if d.get(\"topic\") == None:\n",
    "            remove_node_list.append(n)\n",
    "    G.remove_nodes_from(remove_node_list)\n",
    "    if is_largest == True:\n",
    "        G_ = G.to_undirected()\n",
    "        largest = max(nx.connected_component_subgraphs(G_),key=len)\n",
    "        rem_nodes = set(G_.node.keys()) - set(largest.node.keys())\n",
    "        G.remove_nodes_from(rem_nodes)\n",
    "        with open(os.path.join(root_dir,\"file_id_list2.list\"),\"w\") as fo:\n",
    "            pickle.dump(list(G.node.keys()),fo)"
   ]
  },
  {
   "cell_type": "code",
   "execution_count": 26,
   "metadata": {},
   "outputs": [
    {
     "data": {
      "text/plain": [
       "43"
      ]
     },
     "execution_count": 26,
     "metadata": {},
     "output_type": "execute_result"
    }
   ],
   "source": [
    "new_node_num = len(G.node.keys())\n",
    "new_node_num"
   ]
  },
  {
   "cell_type": "code",
   "execution_count": 30,
   "metadata": {},
   "outputs": [
    {
     "data": {
      "text/plain": [
       "43"
      ]
     },
     "execution_count": 30,
     "metadata": {},
     "output_type": "execute_result"
    }
   ],
   "source": [
    "len(lda.theta())"
   ]
  },
  {
   "cell_type": "code",
   "execution_count": 31,
   "metadata": {
    "scrolled": true
   },
   "outputs": [
    {
     "data": {
      "text/plain": [
       "[0,\n",
       " 2,\n",
       " 3,\n",
       " 4,\n",
       " 5,\n",
       " 6,\n",
       " 7,\n",
       " 9,\n",
       " 10,\n",
       " 11,\n",
       " 12,\n",
       " 13,\n",
       " 14,\n",
       " 16,\n",
       " 17,\n",
       " 18,\n",
       " 19,\n",
       " 20,\n",
       " 21,\n",
       " 22,\n",
       " 24,\n",
       " 25,\n",
       " 26,\n",
       " 27,\n",
       " 28,\n",
       " 29,\n",
       " 31,\n",
       " 32,\n",
       " 34,\n",
       " 35,\n",
       " 36,\n",
       " 38,\n",
       " 40,\n",
       " 41,\n",
       " 42,\n",
       " 43,\n",
       " 44,\n",
       " 47,\n",
       " 48,\n",
       " 49,\n",
       " 50,\n",
       " 52,\n",
       " 53]"
      ]
     },
     "execution_count": 31,
     "metadata": {},
     "output_type": "execute_result"
    }
   ],
   "source": [
    "G.node.keys()"
   ]
  },
  {
   "cell_type": "code",
   "execution_count": 32,
   "metadata": {},
   "outputs": [
    {
     "name": "stdout",
     "output_type": "stream",
     "text": [
      "simple\n"
     ]
    },
    {
     "data": {
      "image/png": "[encoded data removed]",
      "text/plain": [
       "<matplotlib.figure.Figure at 0x7f9702294990>"
      ]
     },
     "metadata": {},
     "output_type": "display_data"
    }
   ],
   "source": [
    "nx.draw_networkx(G)\n",
    "plt.show()"
   ]
  },
  {
   "cell_type": "code",
   "execution_count": 33,
   "metadata": {},
   "outputs": [
    {
     "data": {
      "text/plain": [
       "{11: {},\n",
       " 12: {},\n",
       " 13: {},\n",
       " 14: {},\n",
       " 16: {},\n",
       " 17: {},\n",
       " 18: {},\n",
       " 19: {},\n",
       " 20: {},\n",
       " 21: {},\n",
       " 22: {},\n",
       " 24: {},\n",
       " 25: {},\n",
       " 26: {},\n",
       " 27: {}}"
      ]
     },
     "execution_count": 33,
     "metadata": {},
     "output_type": "execute_result"
    }
   ],
   "source": [
    "G.edge[0]"
   ]
  },
  {
   "cell_type": "code",
   "execution_count": 34,
   "metadata": {
    "collapsed": true
   },
   "outputs": [],
   "source": [
    "\"\"\"エッジごとの処理\"\"\"\n",
    "edges = G.edge\n",
    "for node_no,link_node_nos in edges.items():\n",
    "    lda_no = file_id_dict_inv.get(node_no)#ファイルが連番でない対象に対応\n",
    "    if lda_no == None:#LDA結果が存在しないノード\n",
    "        for link_node_no in link_node_nos.keys():\n",
    "            edges[node_no][link_node_no][\"weight\"] = DEFAULT_WEIGHT\n",
    "        continue\n",
    "    p_dst = theta[lda_no]\n",
    "    \"\"\"類似度による重みの算出\"\"\"\n",
    "    for link_node_no in link_node_nos.keys():\n",
    "        link_lda_no = file_id_dict_inv.get(link_node_no)#ファイルが連番でない対象に対応\n",
    "        if link_lda_no == None:#LDA結果が存在しないノード\n",
    "            weight = DEFAULT_WEIGHT\n",
    "        else:\n",
    "            q_dst = theta[link_lda_no]\n",
    "            weight = compare(p_dst,q_dst)\n",
    "        edges[node_no][link_node_no][\"weight\"] = weight"
   ]
  },
  {
   "cell_type": "code",
   "execution_count": 35,
   "metadata": {},
   "outputs": [
    {
     "data": {
      "text/plain": [
       "{11: {'weight': 0.31435346129684483},\n",
       " 12: {'weight': 0.87027849294586324},\n",
       " 13: {'weight': 0.37321612771958007},\n",
       " 14: {'weight': 0.88976053099665342},\n",
       " 16: {'weight': 0.48349399292921824},\n",
       " 17: {'weight': 0.8793620192871594},\n",
       " 18: {'weight': 0.84580512710240618},\n",
       " 19: {'weight': 0.72924215872461795},\n",
       " 20: {'weight': 0.41435380593204635},\n",
       " 21: {'weight': 0.39019884319462456},\n",
       " 22: {'weight': 0.35341773466948156},\n",
       " 24: {'weight': 0.41236566316207079},\n",
       " 25: {'weight': 0.82283728360405384},\n",
       " 26: {'weight': 0.3815929720754514},\n",
       " 27: {'weight': 0.80314162447697601}}"
      ]
     },
     "execution_count": 35,
     "metadata": {},
     "output_type": "execute_result"
    }
   ],
   "source": [
    "G.edge[0]"
   ]
  },
  {
   "cell_type": "code",
   "execution_count": 36,
   "metadata": {},
   "outputs": [
    {
     "data": {
      "text/plain": [
       "{0: {11: {'weight': 0.31435346129684483},\n",
       "  12: {'weight': 0.87027849294586324},\n",
       "  13: {'weight': 0.37321612771958007},\n",
       "  14: {'weight': 0.88976053099665342},\n",
       "  16: {'weight': 0.48349399292921824},\n",
       "  17: {'weight': 0.8793620192871594},\n",
       "  18: {'weight': 0.84580512710240618},\n",
       "  19: {'weight': 0.72924215872461795},\n",
       "  20: {'weight': 0.41435380593204635},\n",
       "  21: {'weight': 0.39019884319462456},\n",
       "  22: {'weight': 0.35341773466948156},\n",
       "  24: {'weight': 0.41236566316207079},\n",
       "  25: {'weight': 0.82283728360405384},\n",
       "  26: {'weight': 0.3815929720754514},\n",
       "  27: {'weight': 0.80314162447697601}},\n",
       " 2: {28: {'weight': 0.73588545588648302},\n",
       "  29: {'weight': 0.82613486287730031},\n",
       "  31: {'weight': 0.66131839217445554}},\n",
       " 3: {9: {'weight': 0.80450083417835749},\n",
       "  32: {'weight': 0.80876031312638241},\n",
       "  34: {'weight': 0.80577635288837068},\n",
       "  35: {'weight': 0.72891935569909883},\n",
       "  36: {'weight': 0.68043578565912421},\n",
       "  38: {'weight': 0.80630579853967133},\n",
       "  40: {'weight': 0.81968105239158184},\n",
       "  41: {'weight': 0.86230265356059221},\n",
       "  42: {'weight': 0.54147104669871338},\n",
       "  43: {'weight': 0.6968585357330731},\n",
       "  44: {'weight': 0.70735736862386878},\n",
       "  47: {'weight': 0.56812642781784861},\n",
       "  48: {'weight': 0.45398434935068599},\n",
       "  49: {'weight': 0.82329562716481397},\n",
       "  50: {'weight': 0.54556357377182141}},\n",
       " 4: {31: {'weight': 0.61851956960149923}, 52: {'weight': 0.43120141281579166}},\n",
       " 5: {28: {'weight': 0.63318559767632909},\n",
       "  29: {'weight': 0.62622003994575914},\n",
       "  31: {'weight': 0.48663215514801794},\n",
       "  53: {'weight': 0.53898087499810943}},\n",
       " 6: {31: {'weight': 0.67590573687650579}, 52: {'weight': 0.46135896074989385}},\n",
       " 7: {31: {'weight': 0.54730275795628347}},\n",
       " 9: {28: {'weight': 0.70726806847230195},\n",
       "  29: {'weight': 0.68804266974756734},\n",
       "  31: {'weight': 0.4505882400526881},\n",
       "  53: {'weight': 0.50094812321926763}},\n",
       " 10: {31: {'weight': 0.77810866977955695}},\n",
       " 11: {},\n",
       " 12: {26: {'weight': 0.41569720393243542}},\n",
       " 13: {},\n",
       " 14: {26: {'weight': 0.40883028530125282}},\n",
       " 16: {},\n",
       " 17: {0: {'weight': 0.8793620192871594}, 26: {'weight': 0.49186917693870463}},\n",
       " 18: {0: {'weight': 0.84580512710240618}, 26: {'weight': 0.45973808990260451}},\n",
       " 19: {0: {'weight': 0.72924215872461795},\n",
       "  5: {'weight': 0.65788080152187056},\n",
       "  26: {'weight': 0.48865551490462411}},\n",
       " 20: {},\n",
       " 21: {26: {'weight': 0.97700862670616728}},\n",
       " 22: {},\n",
       " 24: {},\n",
       " 25: {},\n",
       " 26: {0: {'weight': 0.3815929720754514}, 21: {'weight': 0.97700862670616728}},\n",
       " 27: {11: {'weight': 0.37989117765654307},\n",
       "  16: {'weight': 0.64343325793243322},\n",
       "  20: {'weight': 0.53085078631913252}},\n",
       " 28: {9: {'weight': 0.70726806847230195},\n",
       "  29: {'weight': 0.88982041197826112},\n",
       "  34: {'weight': 0.70705160029226444},\n",
       "  35: {'weight': 0.88832393479766447},\n",
       "  36: {'weight': 0.84906824446420981},\n",
       "  42: {'weight': 0.67170072663008296},\n",
       "  44: {'weight': 0.75183138020048423},\n",
       "  47: {'weight': 0.72466273227246547},\n",
       "  50: {'weight': 0.76559514690620134}},\n",
       " 29: {9: {'weight': 0.68804266974756734},\n",
       "  32: {'weight': 0.66350209858000286},\n",
       "  34: {'weight': 0.68858800812717935},\n",
       "  35: {'weight': 0.68159228494207114},\n",
       "  36: {'weight': 0.9039628923211751},\n",
       "  38: {'weight': 0.87508796485818952},\n",
       "  40: {'weight': 0.83736277854689378},\n",
       "  41: {'weight': 0.6855762090659363},\n",
       "  42: {'weight': 0.71796849106811966},\n",
       "  43: {'weight': 0.93724617217846151},\n",
       "  44: {'weight': 0.73324608255062762},\n",
       "  47: {'weight': 0.84683193052944727},\n",
       "  48: {'weight': 0.64161940968268061},\n",
       "  50: {'weight': 0.65867739659016211}},\n",
       " 31: {},\n",
       " 32: {29: {'weight': 0.66350209858000286}},\n",
       " 34: {28: {'weight': 0.70705160029226444},\n",
       "  29: {'weight': 0.68858800812717935},\n",
       "  53: {'weight': 0.50117584829804884}},\n",
       " 35: {29: {'weight': 0.68159228494207114}},\n",
       " 36: {},\n",
       " 38: {28: {'weight': 0.84769280776348432},\n",
       "  29: {'weight': 0.87508796485818952}},\n",
       " 40: {28: {'weight': 0.80941094067090635},\n",
       "  29: {'weight': 0.83736277854689378}},\n",
       " 41: {9: {'weight': 0.84366683657488128},\n",
       "  29: {'weight': 0.6855762090659363},\n",
       "  34: {'weight': 0.84213987814818592},\n",
       "  35: {'weight': 0.6854595746425064},\n",
       "  36: {'weight': 0.53744344450192094},\n",
       "  42: {'weight': 0.42839428502823146},\n",
       "  44: {'weight': 0.73603911207732697},\n",
       "  47: {'weight': 0.44594759462168648}},\n",
       " 42: {28: {'weight': 0.67170072663008296},\n",
       "  29: {'weight': 0.71796849106811966}},\n",
       " 43: {28: {'weight': 0.82641001068480546},\n",
       "  29: {'weight': 0.93724617217846151}},\n",
       " 44: {28: {'weight': 0.75183138020048423},\n",
       "  29: {'weight': 0.73324608255062762},\n",
       "  53: {'weight': 0.79108078116899083}},\n",
       " 47: {28: {'weight': 0.72466273227246547}},\n",
       " 48: {29: {'weight': 0.64161940968268061}},\n",
       " 49: {9: {'weight': 0.98185816365722056},\n",
       "  29: {'weight': 0.69758239290761748},\n",
       "  34: {'weight': 0.980793757861944},\n",
       "  35: {'weight': 0.54805747733250088},\n",
       "  36: {'weight': 0.50607047864005317},\n",
       "  42: {'weight': 0.39206256950439305},\n",
       "  44: {'weight': 0.72070260294721122},\n",
       "  47: {'weight': 0.4081272007560437}},\n",
       " 50: {},\n",
       " 52: {},\n",
       " 53: {9: {'weight': 0.50094812321926763},\n",
       "  34: {'weight': 0.50117584829804884},\n",
       "  35: {'weight': 0.64372706439680394},\n",
       "  36: {'weight': 0.777130288955591},\n",
       "  42: {'weight': 0.95836979521212184},\n",
       "  44: {'weight': 0.79108078116899083},\n",
       "  47: {'weight': 0.71595098676134239}}}"
      ]
     },
     "execution_count": 36,
     "metadata": {},
     "output_type": "execute_result"
    }
   ],
   "source": [
    "edges"
   ]
  },
  {
   "cell_type": "code",
   "execution_count": 37,
   "metadata": {},
   "outputs": [
    {
     "data": {
      "text/plain": [
       "43"
      ]
     },
     "execution_count": 37,
     "metadata": {},
     "output_type": "execute_result"
    }
   ],
   "source": [
    "len(edges)"
   ]
  },
  {
   "cell_type": "code",
   "execution_count": 38,
   "metadata": {},
   "outputs": [
    {
     "data": {
      "text/plain": [
       "0.73588545588648302"
      ]
     },
     "execution_count": 38,
     "metadata": {},
     "output_type": "execute_result"
    }
   ],
   "source": [
    "compare(theta[1],theta[24])"
   ]
  },
  {
   "cell_type": "code",
   "execution_count": 39,
   "metadata": {},
   "outputs": [
    {
     "data": {
      "text/plain": [
       "{'weight': 0.73588545588648302}"
      ]
     },
     "execution_count": 39,
     "metadata": {},
     "output_type": "execute_result"
    }
   ],
   "source": [
    "edges[2][28]"
   ]
  },
  {
   "cell_type": "code",
   "execution_count": 40,
   "metadata": {},
   "outputs": [
    {
     "data": {
      "text/plain": [
       "43"
      ]
     },
     "execution_count": 40,
     "metadata": {},
     "output_type": "execute_result"
    }
   ],
   "source": [
    "\"\"\"全ノード間距離の算出．上といろいろ重複するが面倒なのでもう一度ループ\"\"\"\n",
    "nodes_lim = len(nodes)#removeしている場合があるため\n",
    "nodes_lim"
   ]
  },
  {
   "cell_type": "code",
   "execution_count": 41,
   "metadata": {},
   "outputs": [
    {
     "data": {
      "text/plain": [
       "array([[ 0.5,  0.5,  0.5, ...,  0.5,  0.5,  0.5],\n",
       "       [ 0.5,  0.5,  0.5, ...,  0.5,  0.5,  0.5],\n",
       "       [ 0.5,  0.5,  0.5, ...,  0.5,  0.5,  0.5],\n",
       "       ..., \n",
       "       [ 0.5,  0.5,  0.5, ...,  0.5,  0.5,  0.5],\n",
       "       [ 0.5,  0.5,  0.5, ...,  0.5,  0.5,  0.5],\n",
       "       [ 0.5,  0.5,  0.5, ...,  0.5,  0.5,  0.5]])"
      ]
     },
     "execution_count": 41,
     "metadata": {},
     "output_type": "execute_result"
    }
   ],
   "source": [
    "all_node_weights = np.ones((nodes_lim,nodes_lim))*DEFAULT_WEIGHT#除算の都合上，自分自身との類似度は1に\n",
    "all_node_weights"
   ]
  },
  {
   "cell_type": "code",
   "execution_count": 42,
   "metadata": {},
   "outputs": [
    {
     "data": {
      "text/plain": [
       "array([[ 1.        ,  0.77383475,  0.79982017, ...,  0.45096014,\n",
       "         0.43585542,  0.49744811],\n",
       "       [ 0.77383475,  1.        ,  0.84016724, ...,  0.53688251,\n",
       "         0.45599567,  0.62854357],\n",
       "       [ 0.79982017,  0.84016724,  1.        , ...,  0.54556357,\n",
       "         0.54441272,  0.69067331],\n",
       "       ..., \n",
       "       [ 0.45096014,  0.53688251,  0.54556357, ...,  1.        ,\n",
       "         0.80335537,  0.61409337],\n",
       "       [ 0.43585542,  0.45599567,  0.54441272, ...,  0.80335537,\n",
       "         1.        ,  0.44933526],\n",
       "       [ 0.49744811,  0.62854357,  0.69067331, ...,  0.61409337,\n",
       "         0.44933526,  1.        ]])"
      ]
     },
     "execution_count": 42,
     "metadata": {},
     "output_type": "execute_result"
    }
   ],
   "source": [
    "for i,i_node in enumerate(nodes):\n",
    "    i_lda_no = file_id_dict_inv.get(i_node)#LDA結果が存在しない場合\n",
    "    if i_lda_no == None:#LDA結果が存在しない場合\n",
    "        continue\n",
    "\n",
    "    p_dst = theta[i_lda_no]\n",
    "    for j,j_node in enumerate(nodes):\n",
    "        j_lda_no = file_id_dict_inv.get(j_node)#LDA結果が存在しない場合\n",
    "        if j_lda_no == None:#LDA結果が存在しない場合\n",
    "            continue\n",
    "        q_dst = theta[j_lda_no]\n",
    "        weight = compare(p_dst,q_dst)\n",
    "        if weight == 0:\n",
    "            weight = 0.001\n",
    "        all_node_weights[i,j] = weight\n",
    "        #all_node_weights[i,j] = all_node_weights[j,i]=weight\n",
    "        weights_list.append(weight)#ヒストグラム作成用\n",
    "\n",
    "all_node_weights"
   ]
  },
  {
   "cell_type": "code",
   "execution_count": 43,
   "metadata": {},
   "outputs": [
    {
     "data": {
      "text/plain": [
       "0.73588545588648302"
      ]
     },
     "execution_count": 43,
     "metadata": {},
     "output_type": "execute_result"
    }
   ],
   "source": [
    "all_node_weights[1,24]"
   ]
  },
  {
   "cell_type": "code",
   "execution_count": 44,
   "metadata": {},
   "outputs": [
    {
     "data": {
      "text/plain": [
       "0.73588545588648302"
      ]
     },
     "execution_count": 44,
     "metadata": {},
     "output_type": "execute_result"
    }
   ],
   "source": [
    "all_node_weights[24,1]"
   ]
  },
  {
   "cell_type": "code",
   "execution_count": 45,
   "metadata": {},
   "outputs": [
    {
     "data": {
      "text/plain": [
       "[1.0,\n",
       " 0.77383475337730001,\n",
       " 0.79982017290592455,\n",
       " 0.72702589451046862,\n",
       " 0.61237320673791651,\n",
       " 0.70834677340017338,\n",
       " 0.80133190718791436,\n",
       " 0.75149849732055674,\n",
       " 0.83442988825639652,\n",
       " 0.31435346129684483,\n",
       " 0.87027849294586324,\n",
       " 0.37321612771958007,\n",
       " 0.88976053099665342,\n",
       " 0.48349399292921824,\n",
       " 0.8793620192871594,\n",
       " 0.84580512710240618,\n",
       " 0.72924215872461795,\n",
       " 0.41435380593204635,\n",
       " 0.39019884319462456,\n",
       " 0.35341773466948156,\n",
       " 0.41236566316207079,\n",
       " 0.82283728360405384,\n",
       " 0.3815929720754514,\n",
       " 0.80314162447697601,\n",
       " 0.65428818133523892,\n",
       " 0.65558669587257967,\n",
       " 0.44327419482477565,\n",
       " 0.89633842035103228,\n",
       " 0.75515590076413164,\n",
       " 0.49759423490815075,\n",
       " 0.49895853828636361,\n",
       " 0.61627973475309583,\n",
       " 0.67751466955500783,\n",
       " 0.59182654742500451,\n",
       " 0.34236968218460651,\n",
       " 0.5046121645815933,\n",
       " 0.51004050569356185,\n",
       " 0.36410006811589041,\n",
       " 0.34703946465894964,\n",
       " 0.68827496113949838,\n",
       " 0.45096014078387642,\n",
       " 0.4358554213786498,\n",
       " 0.49744811454881444,\n",
       " 0.77383475337730001,\n",
       " 1.0,\n",
       " 0.84016724218737149,\n",
       " 0.85510528097478589,\n",
       " 0.77489746945299021,\n",
       " 0.99218391714978749,\n",
       " 0.78118742040221656,\n",
       " 0.67918747615454533,\n",
       " 0.87730684510455292,\n",
       " 0.38139474658147698,\n",
       " 0.74905377283420216,\n",
       " 0.53426593916596699,\n",
       " 0.75435273350276433,\n",
       " 0.56334806226134293,\n",
       " 0.79009810143117942,\n",
       " 0.7597727896102886,\n",
       " 0.72777735285980094,\n",
       " 0.42221629515767217,\n",
       " 0.535402748794365,\n",
       " 0.50542278095484228,\n",
       " 0.52612699396095752,\n",
       " 0.74819859217179818,\n",
       " 0.52022024535436151,\n",
       " 0.76772202580311255,\n",
       " 0.73588545588648302,\n",
       " 0.82613486287730031,\n",
       " 0.66131839217445554,\n",
       " 0.70738016881895294,\n",
       " 0.68072980694334606,\n",
       " 0.58011012890693059,\n",
       " 0.69960392155595919,\n",
       " 0.71528666568537069,\n",
       " 0.73362648632764837,\n",
       " 0.64490413202168406,\n",
       " 0.48941589994262374,\n",
       " 0.72870300645565278,\n",
       " 0.63402812639261752,\n",
       " 0.61125079711181729,\n",
       " 0.60474081059500784,\n",
       " 0.66974890341227356,\n",
       " 0.53688251345567006,\n",
       " 0.45599566784025447,\n",
       " 0.62854356672130907,\n",
       " 0.79982017290592455,\n",
       " 0.84016724218737149,\n",
       " 1.0,\n",
       " 0.74857320935559202,\n",
       " 0.70495141213605428,\n",
       " 0.80508922537665217,\n",
       " 0.88344702388226926,\n",
       " 0.80450083417835749,\n",
       " 0.87651973867625932,\n",
       " 0.56982066821858124,\n",
       " 0.7995072106131601,\n",
       " 0.68059146573913232,\n",
       " 0.83993742224747903,\n",
       " 0.71536265497302032,\n",
       " 0.86956236762402916,\n",
       " 0.81445517729072225,\n",
       " 0.77809257207107241,\n",
       " 0.47816556782699943,\n",
       " 0.72938569135234577,\n",
       " 0.6476571643526432,\n",
       " 0.71916415662602062,\n",
       " 0.83992560953188811,\n",
       " 0.71156710293752157,\n",
       " 0.85321983886704766,\n",
       " 0.89768310359579373,\n",
       " 0.84268032394351444,\n",
       " 0.65450680005655859,\n",
       " 0.80876031312638241,\n",
       " 0.80577635288837068,\n",
       " 0.72891935569909883,\n",
       " 0.68043578565912421,\n",
       " 0.80630579853967133,\n",
       " 0.81968105239158184,\n",
       " 0.86230265356059221,\n",
       " 0.54147104669871338,\n",
       " 0.6968585357330731,\n",
       " 0.70735736862386878,\n",
       " 0.56812642781784861,\n",
       " 0.45398434935068599,\n",
       " 0.82329562716481397,\n",
       " 0.54556357377182141,\n",
       " 0.54441272266688157,\n",
       " 0.6906733079003039,\n",
       " 0.72702589451046862,\n",
       " 0.85510528097478589,\n",
       " 0.74857320935559202,\n",
       " 1.0,\n",
       " 0.60267648768309423,\n",
       " 0.84574087240862994,\n",
       " 0.79251815368966916,\n",
       " 0.66206687723735291,\n",
       " 0.87418480748491567,\n",
       " 0.35268328465281112,\n",
       " 0.8065692591175484,\n",
       " 0.45243876940596489,\n",
       " 0.78977015673497553,\n",
       " 0.50965081635998155,\n",
       " 0.80865306579462126,\n",
       " 0.81262006994185632,\n",
       " 0.79095994133621905,\n",
       " 0.38455433921483573,\n",
       " 0.48555682748457835,\n",
       " 0.41847750198115552,\n",
       " 0.46485255421576327,\n",
       " 0.69125872162390667,\n",
       " 0.44820387859280836,\n",
       " 0.6987061565799052,\n",
       " 0.66132577607307175,\n",
       " 0.79586917827582182,\n",
       " 0.61851956960149923,\n",
       " 0.70293214491248346,\n",
       " 0.66381374381254732,\n",
       " 0.5192543345134536,\n",
       " 0.66418417947838337,\n",
       " 0.64888212927978328,\n",
       " 0.68183677071223325,\n",
       " 0.61219382902604902,\n",
       " 0.41504454486814618,\n",
       " 0.70454338719097076,\n",
       " 0.59167045360616755,\n",
       " 0.58899999164253436,\n",
       " 0.7033810424207696,\n",
       " 0.64606255847003258,\n",
       " 0.49188309702800848,\n",
       " 0.43120141281579166,\n",
       " 0.55735529410229978,\n",
       " 0.61237320673791651,\n",
       " 0.77489746945299021,\n",
       " 0.70495141213605428,\n",
       " 0.60267648768309423,\n",
       " 1.0,\n",
       " 0.76642517766606544,\n",
       " 0.73865629994531612,\n",
       " 0.56172321424478389,\n",
       " 0.64846784261602541,\n",
       " 0.3634759790161779,\n",
       " 0.63795527979267252,\n",
       " 0.46628414765365422,\n",
       " 0.60887201427549698,\n",
       " 0.52524697960552025,\n",
       " 0.63170328407595089,\n",
       " 0.62124511695992968,\n",
       " 0.65788080152187056,\n",
       " 0.39632234056916138,\n",
       " 0.4815315067131975,\n",
       " 0.43461445399179605,\n",
       " 0.47907781845034392,\n",
       " 0.56974433492058407,\n",
       " 0.46191966594130612,\n",
       " 0.61104507817933029,\n",
       " 0.63318559767632909,\n",
       " 0.62622003994575914,\n",
       " 0.48663215514801794,\n",
       " 0.55557471324706786,\n",
       " 0.56244397715849315,\n",
       " 0.53086367124762657,\n",
       " 0.5351137990207534,\n",
       " 0.61370261534434423,\n",
       " 0.62735522551120826,\n",
       " 0.5727870503789505,\n",
       " 0.42774559895171227,\n",
       " 0.5378847372892982,\n",
       " 0.68267775298319211,\n",
       " 0.44527233152417722,\n",
       " 0.40633419269606585,\n",
       " 0.56973859889417489,\n",
       " 0.4592404748880165,\n",
       " 0.43457198671960345,\n",
       " 0.53898087499810943,\n",
       " 0.70834677340017338,\n",
       " 0.99218391714978749,\n",
       " 0.80508922537665217,\n",
       " 0.84574087240862994,\n",
       " 0.76642517766606544,\n",
       " 1.0,\n",
       " 0.74316928591484421,\n",
       " 0.63604249920663947,\n",
       " 0.84588613700567705,\n",
       " 0.38588060262931012,\n",
       " 0.69500550663605354,\n",
       " 0.54220112327954706,\n",
       " 0.69710717689266455,\n",
       " 0.57040708422536579,\n",
       " 0.73608119298919517,\n",
       " 0.71091576773903375,\n",
       " 0.69454468462331143,\n",
       " 0.42740699105749297,\n",
       " 0.54278900277751763,\n",
       " 0.51345148846471045,\n",
       " 0.53315661512330748,\n",
       " 0.69412442006462904,\n",
       " 0.52763139989333097,\n",
       " 0.72919189255041694,\n",
       " 0.72428105134792631,\n",
       " 0.82061179075484769,\n",
       " 0.67590573687650579,\n",
       " 0.64403280566459598,\n",
       " 0.63714411575868823,\n",
       " 0.58576722705751805,\n",
       " 0.71909417751052962,\n",
       " 0.70043725952530866,\n",
       " 0.71016194496452545,\n",
       " 0.62788677249234592,\n",
       " 0.49666059232729565,\n",
       " 0.7473359885931451,\n",
       " 0.63317386565780864,\n",
       " 0.64366034697513708,\n",
       " 0.65581193227490642,\n",
       " 0.63691240372387958,\n",
       " 0.55059214698592518,\n",
       " 0.46135896074989385,\n",
       " 0.62456981053488714,\n",
       " 0.80133190718791436,\n",
       " 0.78118742040221656,\n",
       " 0.88344702388226926,\n",
       " 0.79251815368966916,\n",
       " 0.73865629994531612,\n",
       " 0.74316928591484421,\n",
       " 1.0,\n",
       " 0.89718168288908406,\n",
       " 0.82531736602731698,\n",
       " 0.40900925834351942,\n",
       " 0.90075059441253913,\n",
       " 0.5828953784044586,\n",
       " 0.93904587489136659,\n",
       " 0.61544979898450569,\n",
       " 0.91322771565043215,\n",
       " 0.89576538260385108,\n",
       " 0.89433954978830765,\n",
       " 0.42915736765410828,\n",
       " 0.55202686907811982,\n",
       " 0.47059088854596043,\n",
       " 0.53016707338835256,\n",
       " 0.7620934098432145,\n",
       " 0.50984747340796865,\n",
       " 0.77059659866775709,\n",
       " 0.79306369223999817,\n",
       " 0.77706376499220498,\n",
       " 0.54730275795628347,\n",
       " 0.87120698908652927,\n",
       " 0.89800288334154199,\n",
       " 0.60184751618609145,\n",
       " 0.59120806575979079,\n",
       " 0.79021210011355492,\n",
       " 0.83205923782845892,\n",
       " 0.83292040546319057,\n",
       " 0.4718306193930531,\n",
       " 0.60429825397732762,\n",
       " 0.78951317263020759,\n",
       " 0.47700656183900159,\n",
       " 0.43529333034930501,\n",
       " 0.89274376751946127,\n",
       " 0.49197020575483191,\n",
       " 0.48499441790532094,\n",
       " 0.62968350721357058,\n",
       " 0.75149849732055674,\n",
       " 0.67918747615454533,\n",
       " 0.80450083417835749,\n",
       " 0.66206687723735291,\n",
       " 0.56172321424478389,\n",
       " 0.63604249920663947,\n",
       " 0.89718168288908406,\n",
       " 1.0,\n",
       " 0.73119187203771274,\n",
       " 0.31108413418758224,\n",
       " 0.73976828949871765,\n",
       " 0.53715790469750846,\n",
       " 0.88081463574166963,\n",
       " 0.51757713691856089,\n",
       " 0.79794450791815663,\n",
       " 0.73022653031583051,\n",
       " 0.68117328208807648,\n",
       " 0.33919598411796353,\n",
       " 0.41212299897046994,\n",
       " 0.36911789307119458,\n",
       " 0.41002298059889508,\n",
       " 0.69833914504325012,\n",
       " 0.39533802318721939,\n",
       " 0.68091140085776425,\n",
       " 0.70726806847230195,\n",
       " 0.68804266974756734,\n",
       " 0.4505882400526881,\n",
       " 0.92504257429962888,\n",
       " 0.99997135373223778,\n",
       " 0.48760023493313004,\n",
       " 0.48141200950149998,\n",
       " 0.7071299551427298,\n",
       " 0.75663362821565894,\n",
       " 0.84366683657488128,\n",
       " 0.36608985282925821,\n",
       " 0.49718332515681041,\n",
       " 0.67481158704466093,\n",
       " 0.38109025938296859,\n",
       " 0.34776470745229765,\n",
       " 0.98185816365722056,\n",
       " 0.39304502712932354,\n",
       " 0.3719322732226949,\n",
       " 0.50094812321926763,\n",
       " 0.83442988825639652,\n",
       " 0.87730684510455292,\n",
       " 0.87651973867625932,\n",
       " 0.87418480748491567,\n",
       " 0.64846784261602541,\n",
       " 0.84588613700567705,\n",
       " 0.82531736602731698,\n",
       " 0.73119187203771274,\n",
       " 1.0,\n",
       " 0.38046692885690048,\n",
       " 0.81935771080883335,\n",
       " 0.61594546839613795,\n",
       " 0.82642351490962307,\n",
       " 0.59842755926795821,\n",
       " 0.89666142751117284,\n",
       " 0.83943541552495604,\n",
       " 0.78067349255417684,\n",
       " 0.46160142646347485,\n",
       " 0.58476942150794675,\n",
       " 0.60027459490734258,\n",
       " 0.57228941637172781,\n",
       " 0.92101139987012803,\n",
       " 0.5861409703350875,\n",
       " 0.93331258235006909,\n",
       " 0.83342482750000213,\n",
       " 0.93656730145697498,\n",
       " 0.77810866977955695,\n",
       " 0.79028893258185873,\n",
       " 0.73337054928993328,\n",
       " 0.63372463050438776,\n",
       " 0.79986166705087314,\n",
       " 0.80533350621993449,\n",
       " 0.81243814558283312,\n",
       " 0.65968290026794274,\n",
       " 0.57863809797122712,\n",
       " 0.83041536443046993,\n",
       " 0.65489451849359859,\n",
       " 0.69301770896828641,\n",
       " 0.58812264364980382,\n",
       " 0.7066173983470676,\n",
       " 0.61097349692671932,\n",
       " 0.47756180506088353,\n",
       " 0.73455003005166308,\n",
       " 0.31435346129684483,\n",
       " 0.38139474658147698,\n",
       " 0.56982066821858124,\n",
       " 0.35268328465281112,\n",
       " 0.3634759790161779,\n",
       " 0.38588060262931012,\n",
       " 0.40900925834351942,\n",
       " 0.31108413418758224,\n",
       " 0.38046692885690048,\n",
       " 1.0,\n",
       " 0.32808005327200301,\n",
       " 0.41998773411860135,\n",
       " 0.32170093877155564,\n",
       " 0.75361925762283044,\n",
       " 0.34251378437732832,\n",
       " 0.34661084790190821,\n",
       " 0.36462893695532655,\n",
       " 0.51737242475699585,\n",
       " 0.77096353453792232,\n",
       " 0.5115449242831227,\n",
       " 0.86081623458450895,\n",
       " 0.30292195453289594,\n",
       " 0.74068642950780061,\n",
       " 0.37989117765654307,\n",
       " 0.58130818379275828,\n",
       " 0.39521143051691254,\n",
       " 0.33075213225012617,\n",
       " 0.27846252300916741,\n",
       " 0.31089091307342626,\n",
       " 0.74842315989203889,\n",
       " 0.40520401364115144,\n",
       " 0.39600045805786144,\n",
       " 0.38942324325707345,\n",
       " 0.59070133007237424,\n",
       " 0.31146680296911505,\n",
       " 0.38026932172464162,\n",
       " 0.40465481704574102,\n",
       " 0.33245425551855123,\n",
       " 0.31925373664709139,\n",
       " 0.37516516689158669,\n",
       " 0.42491614351161444,\n",
       " 0.67164454349357994,\n",
       " 0.36809736881755101,\n",
       " 0.87027849294586324,\n",
       " 0.74905377283420216,\n",
       " 0.7995072106131601,\n",
       " 0.8065692591175484,\n",
       " 0.63795527979267252,\n",
       " 0.69500550663605354,\n",
       " 0.90075059441253913,\n",
       " 0.73976828949871765,\n",
       " 0.81935771080883335,\n",
       " 0.32808005327200301,\n",
       " 1.0,\n",
       " 0.41876429448829827,\n",
       " 0.95646104032283052,\n",
       " 0.47602239364064863,\n",
       " 0.96671624407603407,\n",
       " 0.98947523522811676,\n",
       " 0.94488456489383466,\n",
       " 0.36216368538028199,\n",
       " 0.46334318390197649,\n",
       " 0.38786922166320725,\n",
       " 0.43229074769910725,\n",
       " 0.79435656060986282,\n",
       " 0.41569720393243542,\n",
       " 0.7612146465377283,\n",
       " 0.65993921479411399,\n",
       " 0.69003044602070041,\n",
       " 0.48125189409032509,\n",
       " 0.84123914449796411,\n",
       " 0.74269224389576627,\n",
       " 0.48867969368277203,\n",
       " 0.51320979679356793,\n",
       " 0.6696321563359523,\n",
       " 0.72406518591754732,\n",
       " 0.62222882742572505,\n",
       " 0.39857250990019,\n",
       " 0.53192693625361764,\n",
       " 0.59871363526614574,\n",
       " 0.40044969588961526,\n",
       " 0.36646591537306739,\n",
       " 0.69537890738603469,\n",
       " 0.41795325664591082,\n",
       " 0.41205519928529821,\n",
       " 0.56426505652813186,\n",
       " 0.37321612771958007,\n",
       " 0.53426593916596699,\n",
       " 0.68059146573913232,\n",
       " 0.45243876940596489,\n",
       " 0.46628414765365422,\n",
       " 0.54220112327954706,\n",
       " 0.5828953784044586,\n",
       " 0.53715790469750846,\n",
       " 0.61594546839613795,\n",
       " 0.41998773411860135,\n",
       " 0.41876429448829827,\n",
       " 1.0,\n",
       " 0.4617108188079892,\n",
       " 0.68491883658373276,\n",
       " 0.53089071612366456,\n",
       " 0.46752233354883432,\n",
       " 0.50598827319444717,\n",
       " 0.42893246496568405,\n",
       " 0.75469955792248811,\n",
       " 0.86674825947725209,\n",
       " 0.69696505769052963,\n",
       " 0.58454752081023376,\n",
       " 0.78541925292842429,\n",
       " 0.67682547246861302,\n",
       " 0.85518133605973912,\n",
       " 0.79403572141323508,\n",
       " 0.80345736288751002,\n",
       " 0.42304958362158335,\n",
       " 0.53550159623169091,\n",
       " 0.70239157806229824,\n",
       " 0.78138740440784105,\n",
       " 0.75385919058323092,\n",
       " 0.66392438853913815,\n",
       " 0.66762675487032652,\n",
       " 0.7099849476864396,\n",
       " 0.77778454290102961,\n",
       " 0.66773566715285537,\n",
       " 0.76084808407823523,\n",
       " 0.42615384374730009,\n",
       " 0.59956021585632735,\n",
       " 0.6035196869373648,\n",
       " 0.44144271072587915,\n",
       " 0.73675564541615579,\n",
       " 0.88976053099665342,\n",
       " 0.75435273350276433,\n",
       " 0.83993742224747903,\n",
       " 0.78977015673497553,\n",
       " 0.60887201427549698,\n",
       " 0.69710717689266455,\n",
       " 0.93904587489136659,\n",
       " 0.88081463574166963,\n",
       " 0.82642351490962307,\n",
       " 0.32170093877155564,\n",
       " 0.95646104032283052,\n",
       " 0.4617108188079892,\n",
       " 1.0,\n",
       " 0.49029717458362199,\n",
       " 0.96448677978874808,\n",
       " 0.94319947781372326,\n",
       " 0.87897722444376281,\n",
       " 0.35077220086815114,\n",
       " 0.44607925066700876,\n",
       " 0.38171529814539074,\n",
       " 0.42401641644694521,\n",
       " 0.81081224201520641,\n",
       " 0.40883028530125282,\n",
       " 0.76667227916626557,\n",
       " 0.69300424263374061,\n",
       " 0.71072736977898721,\n",
       " 0.4779371630440864,\n",
       " 0.94597105308240292,\n",
       " 0.88332050864328271,\n",
       " 0.48847547400083247,\n",
       " 0.50591316149039511,\n",
       " 0.69237226986716616,\n",
       " 0.75083097430838985,\n",
       " 0.72072508205196051,\n",
       " 0.37858391733301999,\n",
       " 0.52706622857061847,\n",
       " 0.61696110538050253,\n",
       " 0.39409626534505982,\n",
       " 0.35963336621297404,\n",
       " 0.83221111259789704,\n",
       " 0.40645902524166011,\n",
       " 0.39495889466854189,\n",
       " 0.53985098186921465,\n",
       " 0.48349399292921824,\n",
       " 0.56334806226134293,\n",
       " 0.71536265497302032,\n",
       " 0.50965081635998155,\n",
       " 0.52524697960552025,\n",
       " 0.57040708422536579,\n",
       " 0.61544979898450569,\n",
       " 0.51757713691856089,\n",
       " 0.59842755926795821,\n",
       " 0.75361925762283044,\n",
       " 0.47602239364064863,\n",
       " 0.68491883658373276,\n",
       " 0.49029717458362199,\n",
       " 1.0,\n",
       " 0.52318885752847732,\n",
       " 0.51336551962000276,\n",
       " 0.53883798783444359,\n",
       " 0.8419930403330057,\n",
       " 0.78919730971804791,\n",
       " 0.6827686531213244,\n",
       " 0.89040490798713456,\n",
       " 0.48458740682153012,\n",
       " 0.79843592325002799,\n",
       " 0.64343325793243322,\n",
       " 0.86834514360253168,\n",
       " 0.64747016236985311,\n",
       " 0.56032258823427672,\n",
       " 0.43600604034072027,\n",
       " 0.51665077945165105,\n",
       " 0.98507790984548038,\n",
       " 0.70724440074468431,\n",
       " 0.6475952429170605,\n",
       " 0.61972628664936114,\n",
       " 0.73256628470711216,\n",
       " 0.51936036996204094,\n",
       " 0.64233671159829675,\n",
       " 0.64769540291874828,\n",
       " 0.56975804061578939,\n",
       " 0.50482557117001303,\n",
       " 0.58814610731089734,\n",
       " 0.81075522530001265,\n",
       " 0.90260692967566825,\n",
       " 0.59933759658033248,\n",
       " 0.8793620192871594,\n",
       " 0.79009810143117942,\n",
       " 0.86956236762402916,\n",
       " 0.80865306579462126,\n",
       " 0.63170328407595089,\n",
       " 0.73608119298919517,\n",
       " 0.91322771565043215,\n",
       " 0.79794450791815663,\n",
       " 0.89666142751117284,\n",
       " 0.34251378437732832,\n",
       " 0.96671624407603407,\n",
       " 0.53089071612366456,\n",
       " 0.96448677978874808,\n",
       " 0.52318885752847732,\n",
       " 1.0,\n",
       " 0.97545471651504767,\n",
       " 0.92110055053401096,\n",
       " 0.38338278766404482,\n",
       " 0.52693551872852351,\n",
       " 0.48590383707776169,\n",
       " 0.4884202219218825,\n",
       " 0.90077675990845674,\n",
       " 0.49186917693870463,\n",
       " 0.86471474363452383,\n",
       " 0.75687572230402733,\n",
       " 0.79644012101293071,\n",
       " 0.5924835868504208,\n",
       " 0.87909589335622973,\n",
       " 0.80061083882433626,\n",
       " 0.54300670420055752,\n",
       " 0.60655821997709203,\n",
       " 0.74861428641474825,\n",
       " 0.78261620487959749,\n",
       " 0.67687390679789294,\n",
       " 0.47268913640225879,\n",
       " 0.63117428483329818,\n",
       " 0.62848582580596379,\n",
       " 0.49097808193111631,\n",
       " 0.39460933334368536,\n",
       " 0.75657766205406773,\n",
       " 0.47294665802991692,\n",
       " 0.42144299609249419,\n",
       " 0.64313602557243943,\n",
       " 0.84580512710240618,\n",
       " 0.7597727896102886,\n",
       " 0.81445517729072225,\n",
       " 0.81262006994185632,\n",
       " 0.62124511695992968,\n",
       " 0.71091576773903375,\n",
       " 0.89576538260385108,\n",
       " 0.73022653031583051,\n",
       " 0.83943541552495604,\n",
       " 0.34661084790190821,\n",
       " 0.98947523522811676,\n",
       " 0.46752233354883432,\n",
       " 0.94319947781372326,\n",
       " 0.51336551962000276,\n",
       " 0.97545471651504767,\n",
       " 1.0,\n",
       " 0.96509431582820504,\n",
       " 0.39289877085086594,\n",
       " 0.5100361794857593,\n",
       " 0.43852043717499523,\n",
       " 0.47134176230383967,\n",
       " 0.81118601392437162,\n",
       " 0.45973808990260451,\n",
       " 0.7956034506839571,\n",
       " 0.70378499178514031,\n",
       " 0.7319033042847688,\n",
       " 0.53207480648666394,\n",
       " 0.81199608580143801,\n",
       " 0.73279954616832288,\n",
       " 0.5302920448300541,\n",
       " 0.56511462129325507,\n",
       " 0.71151445716593498,\n",
       " 0.75433040677249552,\n",
       " 0.63348043986751845,\n",
       " 0.45069030302410645,\n",
       " 0.58160147230866233,\n",
       " 0.62119830699414647,\n",
       " 0.44880554038032372,\n",
       " 0.39151448965541508,\n",
       " 0.69483968655062078,\n",
       " 0.46265385820877375,\n",
       " 0.44227738874138312,\n",
       " 0.61971147569640816,\n",
       " 0.72924215872461795,\n",
       " 0.72777735285980094,\n",
       " 0.77809257207107241,\n",
       " 0.79095994133621905,\n",
       " 0.65788080152187056,\n",
       " 0.69454468462331143,\n",
       " 0.89433954978830765,\n",
       " 0.68117328208807648,\n",
       " 0.78067349255417684,\n",
       " 0.36462893695532655,\n",
       " 0.94488456489383466,\n",
       " 0.50598827319444717,\n",
       " 0.87897722444376281,\n",
       " 0.53883798783444359,\n",
       " 0.92110055053401096,\n",
       " 0.96509431582820504,\n",
       " 1.0,\n",
       " 0.40213210962996815,\n",
       " 0.55542670927907301,\n",
       " 0.46756839974960379,\n",
       " 0.49731692357938395,\n",
       " 0.72929501896721172,\n",
       " 0.48865551490462411,\n",
       " 0.74166067663924118,\n",
       " 0.70745978881425098,\n",
       " 0.72276448337699262,\n",
       " 0.54792114886768595,\n",
       " 0.71185870931691808,\n",
       " 0.68276331581404892,\n",
       " 0.55185155002938591,\n",
       " 0.58319743344193553,\n",
       " 0.70201670135881156,\n",
       " 0.72709890065318239,\n",
       " 0.6361754994644051,\n",
       " 0.46906820793056325,\n",
       " 0.59594887546570252,\n",
       " 0.66192586268085685,\n",
       " 0.47823942934327091,\n",
       " 0.41299243823560905,\n",
       " 0.66852312077139675,\n",
       " 0.47881984993967175,\n",
       " 0.46099610223048049,\n",
       " 0.62632581690206135,\n",
       " 0.41435380593204635,\n",
       " 0.42221629515767217,\n",
       " 0.47816556782699943,\n",
       " 0.38455433921483573,\n",
       " 0.39632234056916138,\n",
       " 0.42740699105749297,\n",
       " 0.42915736765410828,\n",
       " 0.33919598411796353,\n",
       " 0.46160142646347485,\n",
       " 0.51737242475699585,\n",
       " 0.36216368538028199,\n",
       " 0.42893246496568405,\n",
       " 0.35077220086815114,\n",
       " 0.8419930403330057,\n",
       " 0.38338278766404482,\n",
       " 0.39289877085086594,\n",
       " 0.40213210962996815,\n",
       " 1.0,\n",
       " 0.50850357870303298,\n",
       " 0.46500527537146374,\n",
       " 0.64286260878680179,\n",
       " 0.35438428867481148,\n",
       " 0.53265681545398336,\n",
       " 0.53085078631913252,\n",
       " 0.6494407320192298,\n",
       " 0.46069489744287673,\n",
       " 0.40260805539062328,\n",
       " 0.30362644429524949,\n",
       " 0.33898530218292938,\n",
       " 0.84276252282101227,\n",
       " 0.58895622122368263,\n",
       " 0.45329293369977636,\n",
       " 0.43729308012593432,\n",
       " 0.44123225103038832,\n",
       " 0.3749981301301053,\n",
       " 0.49625089751513324,\n",
       " 0.44706467497693902,\n",
       " 0.42773278696415751,\n",
       " 0.4278316989685873,\n",
       " 0.37281548679160109,\n",
       " 0.88361734060566999,\n",
       " 0.95543102278206749,\n",
       " 0.44267139708804537,\n",
       " 0.39019884319462456,\n",
       " 0.535402748794365,\n",
       " 0.72938569135234577,\n",
       " 0.48555682748457835,\n",
       " 0.4815315067131975,\n",
       " 0.54278900277751763,\n",
       " 0.55202686907811982,\n",
       " 0.41212299897046994,\n",
       " 0.58476942150794675,\n",
       " 0.77096353453792232,\n",
       " 0.46334318390197649,\n",
       " 0.75469955792248811,\n",
       " 0.44607925066700876,\n",
       " 0.78919730971804791,\n",
       " 0.52693551872852351,\n",
       " 0.5100361794857593,\n",
       " 0.55542670927907301,\n",
       " 0.50850357870303298,\n",
       " 1.0,\n",
       " 0.87650150290169515,\n",
       " 0.9529298150183434,\n",
       " 0.52508223364890516,\n",
       " 0.97700862670616728,\n",
       " 0.61651083807161344,\n",
       " 0.81203906031417727,\n",
       " 0.67572394754622345,\n",
       " 0.66714837518852121,\n",
       " 0.36890602067285067,\n",
       " 0.41186702007845011,\n",
       " 0.83233721364669866,\n",
       " 0.69153046228677817,\n",
       " 0.63163124354749278,\n",
       " 0.57725615571447131,\n",
       " 0.65249057417031031,\n",
       " 0.60248199888757425,\n",
       " 0.68019282642051626,\n",
       " 0.56844249003259806,\n",
       " 0.64182588793455864,\n",
       " 0.42817403457027597,\n",
       " 0.47534004621914078,\n",
       " 0.57620962040721446,\n",
       " 0.60288555856604475,\n",
       " 0.6585540123564958,\n",
       " 0.35341773466948156,\n",
       " 0.50542278095484228,\n",
       " 0.6476571643526432,\n",
       " 0.41847750198115552,\n",
       " 0.43461445399179605,\n",
       " 0.51345148846471045,\n",
       " 0.47059088854596043,\n",
       " 0.36911789307119458,\n",
       " 0.60027459490734258,\n",
       " 0.5115449242831227,\n",
       " 0.38786922166320725,\n",
       " 0.86674825947725209,\n",
       " 0.38171529814539074,\n",
       " 0.6827686531213244,\n",
       " 0.48590383707776169,\n",
       " 0.43852043717499523,\n",
       " 0.46756839974960379,\n",
       " 0.46500527537146374,\n",
       " 0.87650150290169515,\n",
       " 1.0,\n",
       " 0.82098250952042817,\n",
       " 0.58077579498396048,\n",
       " 0.92772147195414689,\n",
       " 0.68533669168800992,\n",
       " 0.81083779509800857,\n",
       " 0.73939181224576644,\n",
       " 0.83113702536122291,\n",
       " 0.33041061396174964,\n",
       " 0.36888862576534726,\n",
       " 0.75268398128821856,\n",
       " 0.80582612468280235,\n",
       " 0.65446285556302186,\n",
       " 0.56469167618811011,\n",
       " 0.51759127508877978,\n",
       " 0.72630279526896802,\n",
       " 0.79414568725917978,\n",
       " 0.52518709384705076,\n",
       " 0.78773583111552514,\n",
       " 0.41078133912261167,\n",
       " 0.41324483690863106,\n",
       " 0.63316043909636599,\n",
       " 0.48475245911173148,\n",
       " 0.73940849415247534,\n",
       " 0.41236566316207079,\n",
       " 0.52612699396095752,\n",
       " 0.71916415662602062,\n",
       " 0.46485255421576327,\n",
       " 0.47907781845034392,\n",
       " 0.53315661512330748,\n",
       " 0.53016707338835256,\n",
       " 0.41002298059889508,\n",
       " 0.57228941637172781,\n",
       " 0.86081623458450895,\n",
       " 0.43229074769910725,\n",
       " 0.69696505769052963,\n",
       " 0.42401641644694521,\n",
       " 0.89040490798713456,\n",
       " 0.4884202219218825,\n",
       " 0.47134176230383967,\n",
       " 0.49731692357938395,\n",
       " 0.64286260878680179,\n",
       " 0.9529298150183434,\n",
       " 0.82098250952042817,\n",
       " 1.0,\n",
       " 0.49326620538904287,\n",
       " 0.96228437000977496,\n",
       " 0.61366292742363948,\n",
       " 0.82412841751250576,\n",
       " 0.63664188048257497,\n",
       " 0.60676741565505432,\n",
       " 0.36702621889308545,\n",
       " 0.40976830536112285,\n",
       " 0.92518314841548321,\n",
       " 0.68499850543375129,\n",
       " 0.60399262829048395,\n",
       " 0.56070044521257967,\n",
       " 0.66058610296388443,\n",
       " 0.55287530099101934,\n",
       " 0.64928687097345783,\n",
       " 0.5548474346932315,\n",
       " 0.59814738457324812,\n",
       " 0.44470850308106025,\n",
       " 0.4749455846140016,\n",
       " 0.65858566268054319,\n",
       " 0.73795655350811806,\n",
       " 0.61311307791457526,\n",
       " 0.82283728360405384,\n",
       " 0.74819859217179818,\n",
       " 0.83992560953188811,\n",
       " 0.69125872162390667,\n",
       " 0.56974433492058407,\n",
       " 0.69412442006462904,\n",
       " 0.7620934098432145,\n",
       " 0.69833914504325012,\n",
       " 0.92101139987012803,\n",
       " 0.30292195453289594,\n",
       " 0.79435656060986282,\n",
       " 0.58454752081023376,\n",
       " 0.81081224201520641,\n",
       " 0.48458740682153012,\n",
       " 0.90077675990845674,\n",
       " 0.81118601392437162,\n",
       " 0.72929501896721172,\n",
       " 0.35438428867481148,\n",
       " 0.52508223364890516,\n",
       " 0.58077579498396048,\n",
       " 0.49326620538904287,\n",
       " 1.0,\n",
       " 0.53455769104612127,\n",
       " 0.94493249117490918,\n",
       " 0.76901507124936341,\n",
       " 0.84321636809087297,\n",
       " 0.70072248228609302,\n",
       " 0.7990983826122523,\n",
       " 0.70118282639412932,\n",
       " 0.52847149560493645,\n",
       " 0.66966978408965305,\n",
       " 0.74313802895007797,\n",
       " 0.74377730728793445,\n",
       " 0.58234668339646023,\n",
       " 0.53272593240847843,\n",
       " 0.70366793208394474,\n",
       " 0.54918306752270662,\n",
       " 0.56591978608761162,\n",
       " 0.36717678254194752,\n",
       " 0.65420710237186841,\n",
       " 0.48583844312496688,\n",
       " 0.36217357308500392,\n",
       " 0.68503247911664356,\n",
       " 0.3815929720754514,\n",
       " 0.52022024535436151,\n",
       " 0.71156710293752157,\n",
       " 0.44820387859280836,\n",
       " 0.46191966594130612,\n",
       " 0.52763139989333097,\n",
       " 0.50984747340796865,\n",
       " 0.39533802318721939,\n",
       " 0.5861409703350875,\n",
       " 0.74068642950780061,\n",
       " 0.41569720393243542,\n",
       " 0.78541925292842429,\n",
       " 0.40883028530125282,\n",
       " 0.79843592325002799,\n",
       " 0.49186917693870463,\n",
       " 0.45973808990260451,\n",
       " 0.48865551490462411,\n",
       " 0.53265681545398336,\n",
       " 0.97700862670616728,\n",
       " 0.92772147195414689,\n",
       " 0.96228437000977496,\n",
       " 0.53455769104612127,\n",
       " 1.0,\n",
       " 0.63851639767232349,\n",
       " 0.82732543900733391,\n",
       " 0.68583380147255835,\n",
       " 0.70234471249529962,\n",
       " 0.35388118881746389,\n",
       " 0.39509246902944328,\n",
       " 0.85186279286675903,\n",
       " 0.72732810873712239,\n",
       " 0.63130453396114761,\n",
       " 0.56768153183086534,\n",
       " 0.62078184235229206,\n",
       " 0.6284181910521327,\n",
       " 0.70887396891467935,\n",
       " 0.54678701313215294,\n",
       " 0.67649848015526193,\n",
       " 0.4257035157901099,\n",
       " 0.4550599363193466,\n",
       " 0.61661474351940193,\n",
       " 0.60261932885459857,\n",
       " 0.67009441442198503,\n",
       " 0.80314162447697601,\n",
       " 0.76772202580311255,\n",
       " 0.85321983886704766,\n",
       " 0.6987061565799052,\n",
       " 0.61104507817933029,\n",
       " 0.72919189255041694,\n",
       " 0.77059659866775709,\n",
       " 0.68091140085776425,\n",
       " 0.93331258235006909,\n",
       " 0.37989117765654307,\n",
       " 0.7612146465377283,\n",
       " ...]"
      ]
     },
     "execution_count": 45,
     "metadata": {},
     "output_type": "execute_result"
    }
   ],
   "source": [
    "weights_list"
   ]
  },
  {
   "cell_type": "code",
   "execution_count": 46,
   "metadata": {},
   "outputs": [
    {
     "data": {
      "text/plain": [
       "1849"
      ]
     },
     "execution_count": 46,
     "metadata": {},
     "output_type": "execute_result"
    }
   ],
   "source": [
    "len(weights_list)"
   ]
  },
  {
   "cell_type": "code",
   "execution_count": 47,
   "metadata": {},
   "outputs": [
    {
     "data": {
      "text/plain": [
       "43"
      ]
     },
     "execution_count": 47,
     "metadata": {},
     "output_type": "execute_result"
    }
   ],
   "source": [
    "weights_list.count(1)"
   ]
  },
  {
   "cell_type": "code",
   "execution_count": 48,
   "metadata": {
    "collapsed": true
   },
   "outputs": [],
   "source": [
    "with open(os.path.join(nx_dir,\"G_with_params_\"+comp_func_name+\".gpkl\"),'w') as fo:\n",
    "    pickle.dump(G,fo)\n",
    "with open(os.path.join(nx_dir,\"all_node_weights_\"+comp_func_name+\".gpkl\"),'w') as fo:\n",
    "    pickle.dump(all_node_weights,fo)\n",
    "with open(os.path.join(nx_dir,\"G_with_params_\" + comp_func_name + \".txt\"),'w') as fo:\n",
    "    print >> fo,\"LDAを実行した後，LDAの結果がないノードを削除し，最大ノード群を再選択\"\n",
    "    print >> fo,\"この時点で、ノードには代表トピックとその色、エッジには重みの情報を渡している。\"\n",
    "    print >> fo,\"old_node_number:\" + str(old_node_num) + \"（G_myexttext_largest.gpkl）\"\n",
    "    print >> fo,\"new_node_number:\" + str(new_node_num) + \"（G_with_params_comp4_2.gpkl）\""
   ]
  },
  {
   "cell_type": "code",
   "execution_count": 49,
   "metadata": {},
   "outputs": [
    {
     "name": "stderr",
     "output_type": "stream",
     "text": [
      "/home/yukichika/.pyenv/versions/anaconda2-4.4.0/lib/python2.7/site-packages/matplotlib/figure.py:397: UserWarning: matplotlib is currently using a non-GUI backend, so cannot show the figure\n",
      "  \"matplotlib is currently using a non-GUI backend, \"\n"
     ]
    }
   ],
   "source": [
    "\"\"\"weightのヒストグラム作成\"\"\"\n",
    "fig_w = plt.figure()\n",
    "ax = fig_w.add_subplot(1,1,1)\n",
    "weights_array = np.array(weights_list,dtype=np.float)\n",
    "ax.hist(weights_array,bins=100)\n",
    "plt.text(0.5, 0.9, \"max=\"+\"{0:.3f}\".format(weights_array.max()), transform=ax.transAxes)\n",
    "plt.text(0.5, 0.85, \"min=\"+\"{0:.3g}\".format(weights_array.min()), transform=ax.transAxes)\n",
    "fig_w.show()\n",
    "fig_w.savefig(os.path.join(nx_dir,comp_func_name+\"_hist.png\"))"
   ]
  },
  {
   "cell_type": "code",
   "execution_count": 50,
   "metadata": {
    "scrolled": true
   },
   "outputs": [
    {
     "data": {
      "image/png": "[encoded data removed]"
     },
     "metadata": {},
     "output_type": "display_data"
    }
   ],
   "source": [
    "from IPython.display import Image, display_png\n",
    "display_png(Image(os.path.join(nx_dir,comp_func_name+\"_hist.png\")))"
   ]
  },
  {
   "cell_type": "code",
   "execution_count": 51,
   "metadata": {
    "collapsed": true
   },
   "outputs": [],
   "source": [
    "\"\"\"\"トピックと色の対応グラフを作成\"\"\"\n",
    "fig = plt.figure()\n",
    "ax = fig.add_subplot(1,1,1)\n",
    "sample = np.ones(lda.K)\n",
    "labels = [unicode(x+1) for x in range(lda.K)]\n",
    "plt.rcParams['font.size']=20.0\n",
    "ax.pie(sample,colors=COLORLIST[:lda.K],labels=labels,startangle=90,radius=0.2, center=(0.5, 0.5), frame=True,counterclock=False)\n",
    "plt.axis(\"off\")\n",
    "plt.axis('equal')\n",
    "plt.savefig(os.path.join(exp_dir,\"Topic\"+unicode(lda.K)+\"_pie.png\"))"
   ]
  },
  {
   "cell_type": "code",
   "execution_count": 52,
   "metadata": {},
   "outputs": [
    {
     "data": {
      "image/png": "[encoded data removed]"
     },
     "metadata": {},
     "output_type": "display_data"
    }
   ],
   "source": [
    "display_png(Image(os.path.join(exp_dir,\"Topic\"+unicode(lda.K)+\"_pie.png\")))"
   ]
  },
  {
   "cell_type": "code",
   "execution_count": 53,
   "metadata": {
    "collapsed": true
   },
   "outputs": [],
   "source": [
    "\"\"\"\"文書全体でのトピック比率をグラフ化\"\"\"\n",
    "fig = plt.figure()\n",
    "ax = fig.add_subplot(1,1,1)\n",
    "sample = lda.theta().sum(axis=0)\n",
    "labels = [unicode(x+1) for x in range(lda.K)]\n",
    "plt.rcParams['font.size']=20.0\n",
    "ax.pie(sample,colors=COLORLIST[:lda.K],labels=labels,startangle=90,radius=0.2, center=(0.5, 0.5), frame=True,counterclock=False)\n",
    "#ax.set_aspect((ax.get_xlim()[1] - ax.get_xlim()[0]) / (ax.get_ylim()[1] - ax.get_ylim()[0]))\n",
    "plt.axis(\"off\")\n",
    "plt.axis('equal')\n",
    "plt.savefig(os.path.join(exp_dir,\"Topic\"+unicode(lda.K)+\"_share_pie.png\"))"
   ]
  },
  {
   "cell_type": "code",
   "execution_count": 54,
   "metadata": {},
   "outputs": [
    {
     "data": {
      "image/png": "[encoded data removed]"
     },
     "metadata": {},
     "output_type": "display_data"
    }
   ],
   "source": [
    "display_png(Image(os.path.join(exp_dir,\"Topic\"+unicode(lda.K)+\"_share_pie.png\")))"
   ]
  }
 ],
 "metadata": {
  "kernelspec": {
   "display_name": "Python 2",
   "language": "python",
   "name": "python2"
  },
  "language_info": {
   "codemirror_mode": {
    "name": "ipython",
    "version": 2
   },
   "file_extension": ".py",
   "mimetype": "text/x-python",
   "name": "python",
   "nbconvert_exporter": "python",
   "pygments_lexer": "ipython2",
   "version": "2.7.15"
  }
 },
 "nbformat": 4,
 "nbformat_minor": 2
}
