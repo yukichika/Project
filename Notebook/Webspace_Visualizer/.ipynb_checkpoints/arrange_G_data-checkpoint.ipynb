{
 "cells": [
  {
   "cell_type": "code",
   "execution_count": 20,
   "metadata": {
    "collapsed": true
   },
   "outputs": [],
   "source": [
    "import pickle\n",
    "import os\n",
    "import json\n",
    "from collections import Counter\n",
    "\n",
    "import sys\n",
    "sys.path.append(\"../../Interactive_Graph_Visualizer/networkx-master\")\n",
    "import networkx as nx"
   ]
  },
  {
   "cell_type": "code",
   "execution_count": 21,
   "metadata": {
    "collapsed": true
   },
   "outputs": [],
   "source": [
    "def domain_detect(url):\n",
    "    FQDN=url.split(\"/\")[2]\n",
    "    FQDN_list=FQDN.split(\".\")\n",
    "    return u\".\".join(FQDN_list[-3:])#開始点がリスト長より長くても問題なく無く動く"
   ]
  },
  {
   "cell_type": "code",
   "execution_count": 22,
   "metadata": {
    "collapsed": true
   },
   "outputs": [],
   "source": [
    "search_word = u\"iPhone\"\n",
    "max_page = 10\n",
    "root_dir = \"../Data/Search_\" + search_word + \"_\" + unicode(max_page) + \"_add_childs_append\"\n",
    "src_pages_dir = os.path.join(root_dir,\"Pages\")\n",
    "text_file = \"../Data/Search_iPhone_10_add_childs_append/K10_myexttext_largest/nx_datas/G_with_params_comp4_2_hits_hosts.txt\"\n",
    "G_file = \"../Data/Search_iPhone_10_add_childs_append/K10_myexttext_largest/nx_datas/G_with_params_comp4_2.gpkl\"\n",
    "with open(G_file,'r') as fi:\n",
    "    G = pickle.load(fi)"
   ]
  },
  {
   "cell_type": "code",
   "execution_count": 23,
   "metadata": {
    "collapsed": true
   },
   "outputs": [],
   "source": [
    "node_datas = dict()\n",
    "for node in G:\n",
    "    with open(os.path.join(src_pages_dir,str(node)+\".json\"),\"r\") as fj:\n",
    "        node_data = json.load(fj)\n",
    "    node_datas[node] = node_data"
   ]
  },
  {
   "cell_type": "code",
   "execution_count": 24,
   "metadata": {},
   "outputs": [
    {
     "data": {
      "text/plain": [
       "218"
      ]
     },
     "execution_count": 24,
     "metadata": {},
     "output_type": "execute_result"
    }
   ],
   "source": [
    "len(G)"
   ]
  },
  {
   "cell_type": "code",
   "execution_count": 25,
   "metadata": {},
   "outputs": [
    {
     "data": {
      "text/plain": [
       "{'a_score': 0.00017401832689457823,\n",
       " 'color': '#EB6100',\n",
       " 'h_score': 6.79129919615872e-08,\n",
       " 'topic': 0}"
      ]
     },
     "execution_count": 25,
     "metadata": {},
     "output_type": "execute_result"
    }
   ],
   "source": [
    "G.node[2]"
   ]
  },
  {
   "cell_type": "code",
   "execution_count": 26,
   "metadata": {
    "collapsed": true
   },
   "outputs": [],
   "source": [
    "for node in G:\n",
    "    node_data = node_datas[node]\n",
    "    from_hosts = []\n",
    "    to_hosts = []\n",
    "    for in_edge in G.in_edges(node):#入ってくるエッジ\n",
    "        from_node = in_edge[0]\n",
    "        fromnode_data = node_datas[from_node]\n",
    "        from_hosts.append(domain_detect(fromnode_data[\"url\"]))\n",
    "    for out_edge in G.out_edges(node):#出て行くエッジ\n",
    "        to_node = out_edge[1]\n",
    "        tonode_data = node_datas[to_node]\n",
    "        to_hosts.append(domain_detect(tonode_data[\"url\"]))\n",
    "\n",
    "    G.node[node][\"from_hosts\"] = dict(Counter(from_hosts))#Counterインスタンスを辞書型でキャスト\n",
    "    G.node[node][\"to_hosts\"] = dict(Counter(to_hosts))"
   ]
  },
  {
   "cell_type": "code",
   "execution_count": 27,
   "metadata": {},
   "outputs": [
    {
     "data": {
      "text/plain": [
       "{'a_score': 0.00017401832689457823,\n",
       " 'color': '#EB6100',\n",
       " 'from_hosts': {u'time-space.kddi.com': 3, u'tobuy.jp': 1, u'www.kddi.com': 1},\n",
       " 'h_score': 6.79129919615872e-08,\n",
       " 'to_hosts': {u'onlineshop.au.com': 1,\n",
       "  u'star.auone.jp': 1,\n",
       "  u'time-space.kddi.com': 5,\n",
       "  u'wowma.jp': 1,\n",
       "  u'www.kddi.com': 7},\n",
       " 'topic': 0}"
      ]
     },
     "execution_count": 27,
     "metadata": {},
     "output_type": "execute_result"
    }
   ],
   "source": [
    "G.node[2]"
   ]
  },
  {
   "cell_type": "code",
   "execution_count": 29,
   "metadata": {},
   "outputs": [],
   "source": [
    "with open(G_file,\"w\") as fo:\n",
    "    pickle.dump(G,fo)\n",
    "with open(text_file,\"w\") as fo:\n",
    "    print >> fo,\"この時点で、ノードには代表トピックとその色とオーソリティ・ハブスコア、from_hosts、to_hostsをエッジには重みの情報を渡している。\"\n",
    "    print >> fo,\"from_hostはリンクされているWebページのドメインとその件数、to_hostsはリンクしているWebページのドメインとその件数。\"\n",
    "    print >> fo,\"ノード数：\" + str(len(G.node.keys())) + \"（変化なし）\""
   ]
  }
 ],
 "metadata": {
  "kernelspec": {
   "display_name": "Python 2",
   "language": "python",
   "name": "python2"
  },
  "language_info": {
   "codemirror_mode": {
    "name": "ipython",
    "version": 2
   },
   "file_extension": ".py",
   "mimetype": "text/x-python",
   "name": "python",
   "nbconvert_exporter": "python",
   "pygments_lexer": "ipython2",
   "version": "2.7.15"
  }
 },
 "nbformat": 4,
 "nbformat_minor": 2
}
