{
 "cells": [
  {
   "cell_type": "code",
   "execution_count": 17,
   "metadata": {
    "collapsed": true
   },
   "outputs": [],
   "source": [
    "import os\n",
    "import pickle\n",
    "import configparser\n",
    "import codecs\n",
    "from distutils.util import strtobool\n",
    "from tqdm import tqdm\n",
    "from gensim import models"
   ]
  },
  {
   "cell_type": "code",
   "execution_count": 18,
   "metadata": {
    "collapsed": true
   },
   "outputs": [],
   "source": [
    "import sys\n",
    "sys.path.append(\"../../Crawler\")\n",
    "import Mymodule\n",
    "sys.path.append(\"../../../Preprocessing\")\n",
    "import Sentence\n",
    "import Delete\n",
    "import Wakati"
   ]
  },
  {
   "cell_type": "code",
   "execution_count": 19,
   "metadata": {
    "collapsed": true
   },
   "outputs": [],
   "source": [
    "\"\"\"保存名の決定\"\"\"\n",
    "def suffix_generator_root(search_word,max_page,add_childs,append):\n",
    "    suffix = \"_\" + search_word\n",
    "    suffix += \"_\" + str(max_page)\n",
    "    if add_childs:\n",
    "        suffix += \"_add_childs\"\n",
    "    if append:\n",
    "        suffix += \"_append\"\n",
    "    return suffix"
   ]
  },
  {
   "cell_type": "code",
   "execution_count": 20,
   "metadata": {
    "collapsed": true
   },
   "outputs": [],
   "source": [
    "\"\"\"保存名の決定\"\"\"\n",
    "def suffix_generator(target=None,is_largest=False):\n",
    "    suffix = \"\"\n",
    "    if target != None:\n",
    "        suffix += \"_\" + target\n",
    "    if is_largest == True:\n",
    "        suffix += \"_largest\"\n",
    "    return suffix"
   ]
  },
  {
   "cell_type": "code",
   "execution_count": 21,
   "metadata": {
    "collapsed": true
   },
   "outputs": [],
   "source": [
    "search_word = \"Test\"\n",
    "max_page = 10\n",
    "add_childs = True\n",
    "append = False\n",
    "save_dir = \"../Data/Search\"\n",
    "root_dir = save_dir + suffix_generator_root(search_word,max_page,add_childs,append)\n",
    "Myexttext_raw = os.path.join(root_dir,\"Myexttext_raw\")\n",
    "Myexttext_pre = os.path.join(root_dir,\"Myexttext_pre\")"
   ]
  },
  {
   "cell_type": "code",
   "execution_count": 23,
   "metadata": {},
   "outputs": [],
   "source": [
    "if not os.path.exists(Myexttext_pre):\n",
    "    os.mkdir(Myexttext_pre)"
   ]
  },
  {
   "cell_type": "code",
   "execution_count": 24,
   "metadata": {},
   "outputs": [
    {
     "name": "stdout",
     "output_type": "stream",
     "text": [
      "ノード数：43\n"
     ]
    }
   ],
   "source": [
    "node_list = []\n",
    "with open(os.path.join(root_dir,\"file_id_list2.list\"),'rb') as fi:\n",
    "    node_list = pickle.load(fi)\n",
    "    print(\"ノード数：\" + str(len(node_list)))"
   ]
  },
  {
   "cell_type": "code",
   "execution_count": 25,
   "metadata": {
    "scrolled": true
   },
   "outputs": [
    {
     "data": {
      "text/plain": [
       "[0,\n",
       " 2,\n",
       " 3,\n",
       " 4,\n",
       " 5,\n",
       " 6,\n",
       " 7,\n",
       " 9,\n",
       " 10,\n",
       " 11,\n",
       " 12,\n",
       " 13,\n",
       " 14,\n",
       " 16,\n",
       " 17,\n",
       " 18,\n",
       " 19,\n",
       " 20,\n",
       " 21,\n",
       " 22,\n",
       " 24,\n",
       " 25,\n",
       " 26,\n",
       " 27,\n",
       " 28,\n",
       " 29,\n",
       " 31,\n",
       " 32,\n",
       " 34,\n",
       " 35,\n",
       " 36,\n",
       " 38,\n",
       " 40,\n",
       " 41,\n",
       " 42,\n",
       " 43,\n",
       " 44,\n",
       " 47,\n",
       " 48,\n",
       " 49,\n",
       " 50,\n",
       " 52,\n",
       " 53]"
      ]
     },
     "execution_count": 25,
     "metadata": {},
     "output_type": "execute_result"
    }
   ],
   "source": [
    "node_list"
   ]
  },
  {
   "cell_type": "code",
   "execution_count": 45,
   "metadata": {},
   "outputs": [
    {
     "name": "stderr",
     "output_type": "stream",
     "text": [
      "100%|██████████| 43/43 [00:02<00:00, 19.61it/s]\n"
     ]
    }
   ],
   "source": [
    "for node in tqdm(node_list):\n",
    "    with open(os.path.join(Myexttext_raw,str(node) + \".txt\"),'r') as fi:\n",
    "        text = fi.read()\n",
    "    sentences = Sentence.sentence(text)\n",
    "    with open(os.path.join(Myexttext_pre,str(node) + \".txt\"),'w') as fo:\n",
    "        for sentence in sentences:\n",
    "            words = Wakati.wakati(sentence).split(\" \")\n",
    "            for i,word in enumerate(words):\n",
    "                word = Delete.delete_wikipedia(word)\n",
    "                if not word == \"\":\n",
    "                    fo.write(word + \" \")\n",
    "                elif i == len(words)-1:\n",
    "                    fo.write(\"\\n\")"
   ]
  }
 ],
 "metadata": {
  "kernelspec": {
   "display_name": "Python 3",
   "language": "python",
   "name": "python3"
  },
  "language_info": {
   "codemirror_mode": {
    "name": "ipython",
    "version": 3
   },
   "file_extension": ".py",
   "mimetype": "text/x-python",
   "name": "python",
   "nbconvert_exporter": "python",
   "pygments_lexer": "ipython3",
   "version": "3.6.2"
  }
 },
 "nbformat": 4,
 "nbformat_minor": 2
}
