{
 "cells": [
  {
   "cell_type": "code",
   "execution_count": 1,
   "metadata": {
    "collapsed": true
   },
   "outputs": [],
   "source": [
    "import os\n",
    "import pickle\n",
    "import configparser\n",
    "import codecs\n",
    "from distutils.util import strtobool\n",
    "from tqdm import tqdm\n",
    "from gensim import models"
   ]
  },
  {
   "cell_type": "code",
   "execution_count": 2,
   "metadata": {
    "collapsed": true
   },
   "outputs": [],
   "source": [
    "import sys\n",
    "sys.path.append(\"../../Crawler\")\n",
    "import Mymodule\n",
    "sys.path.append(\"../../MakeNetwork_D2V\")\n",
    "import Preprocessing"
   ]
  },
  {
   "cell_type": "code",
   "execution_count": 3,
   "metadata": {
    "collapsed": true
   },
   "outputs": [],
   "source": [
    "\"\"\"保存名の決定\"\"\"\n",
    "def suffix_generator_root(search_word,max_page,add_childs,append):\n",
    "    suffix = \"_\" + search_word\n",
    "    suffix += \"_\" + str(max_page)\n",
    "    if add_childs:\n",
    "        suffix += \"_add_childs\"\n",
    "    if append:\n",
    "        suffix += \"_append\"\n",
    "    return suffix"
   ]
  },
  {
   "cell_type": "code",
   "execution_count": 4,
   "metadata": {
    "collapsed": true
   },
   "outputs": [],
   "source": [
    "\"\"\"保存名の決定\"\"\"\n",
    "def suffix_generator(target=None,is_largest=False):\n",
    "    suffix = \"\"\n",
    "    if target != None:\n",
    "        suffix += \"_\" + target\n",
    "    if is_largest == True:\n",
    "        suffix += \"_largest\"\n",
    "    return suffix"
   ]
  },
  {
   "cell_type": "code",
   "execution_count": 5,
   "metadata": {
    "collapsed": true
   },
   "outputs": [],
   "source": [
    "search_word = \"Test\"\n",
    "max_page = 10\n",
    "add_childs = True\n",
    "append = False\n",
    "save_dir = \"../Data/Search\"\n",
    "root_dir = save_dir + suffix_generator_root(search_word,max_page,add_childs,append)\n",
    "Myexttext_raw = os.path.join(root_dir,\"Myexttext_raw\")\n",
    "Myexttext_pre = os.path.join(root_dir,\"Myexttext_pre\")"
   ]
  },
  {
   "cell_type": "code",
   "execution_count": 6,
   "metadata": {
    "collapsed": true
   },
   "outputs": [],
   "source": [
    "if not os.path.exists(Myexttext_pre):\n",
    "    os.mkdir(Myexttext_pre)"
   ]
  },
  {
   "cell_type": "code",
   "execution_count": 7,
   "metadata": {},
   "outputs": [
    {
     "name": "stdout",
     "output_type": "stream",
     "text": [
      "ノード数：43\n"
     ]
    }
   ],
   "source": [
    "node_list = []\n",
    "with open(os.path.join(root_dir,\"file_id_list2.list\"),'rb') as fi:\n",
    "    node_list = pickle.load(fi)\n",
    "    print(\"ノード数：\" + str(len(node_list)))"
   ]
  },
  {
   "cell_type": "code",
   "execution_count": 8,
   "metadata": {
    "scrolled": true
   },
   "outputs": [
    {
     "data": {
      "text/plain": [
       "[0,\n",
       " 2,\n",
       " 3,\n",
       " 4,\n",
       " 5,\n",
       " 6,\n",
       " 7,\n",
       " 9,\n",
       " 10,\n",
       " 11,\n",
       " 12,\n",
       " 13,\n",
       " 14,\n",
       " 16,\n",
       " 17,\n",
       " 18,\n",
       " 19,\n",
       " 20,\n",
       " 21,\n",
       " 22,\n",
       " 24,\n",
       " 25,\n",
       " 26,\n",
       " 27,\n",
       " 28,\n",
       " 29,\n",
       " 31,\n",
       " 32,\n",
       " 34,\n",
       " 35,\n",
       " 36,\n",
       " 38,\n",
       " 40,\n",
       " 41,\n",
       " 42,\n",
       " 43,\n",
       " 44,\n",
       " 47,\n",
       " 48,\n",
       " 49,\n",
       " 50,\n",
       " 52,\n",
       " 53]"
      ]
     },
     "execution_count": 8,
     "metadata": {},
     "output_type": "execute_result"
    }
   ],
   "source": [
    "node_list"
   ]
  },
  {
   "cell_type": "code",
   "execution_count": 9,
   "metadata": {},
   "outputs": [
    {
     "name": "stderr",
     "output_type": "stream",
     "text": [
      "100%|██████████| 43/43 [00:01<00:00, 22.11it/s]\n"
     ]
    }
   ],
   "source": [
    "for node in tqdm(node_list):\n",
    "    with open(os.path.join(Myexttext_raw,str(node) + \".txt\"),'r') as fi:\n",
    "        text = fi.read()\n",
    "        text = Preprocessing.delete_pre(text)\n",
    "    sentences = Preprocessing.simple_sentence(text)\n",
    "    with open(os.path.join(Myexttext_pre,str(node) + \".txt\"),'w') as fo:\n",
    "        for j,sentence in enumerate(sentences):\n",
    "            words = Preprocessing.wakati(sentence).split(\" \")\n",
    "            for i,word in enumerate(words):\n",
    "                words[i] = Preprocessing.delete_aft(word)\n",
    "            words = [x for x in words if x]\n",
    "            text = \" \".join(words)\n",
    "            if not j == len(sentences):\n",
    "                fo.write(text + \" \\n\")\n",
    "            else:\n",
    "                fo.write(text)"
   ]
  }
 ],
 "metadata": {
  "kernelspec": {
   "display_name": "Python 2",
   "language": "python",
   "name": "python2"
  },
  "language_info": {
   "codemirror_mode": {
    "name": "ipython",
    "version": 2
   },
   "file_extension": ".py",
   "mimetype": "text/x-python",
   "name": "python",
   "nbconvert_exporter": "python",
   "pygments_lexer": "ipython2",
   "version": "2.7.15"
  }
 },
 "nbformat": 4,
 "nbformat_minor": 2
}
