{
 "cells": [
  {
   "cell_type": "code",
   "execution_count": 1,
   "metadata": {
    "collapsed": true
   },
   "outputs": [],
   "source": [
    "import urllib.parse"
   ]
  },
  {
   "cell_type": "code",
   "execution_count": 2,
   "metadata": {
    "collapsed": true
   },
   "outputs": [],
   "source": [
    "target = \"ラーメン\"\n",
    "page = 0"
   ]
  },
  {
   "cell_type": "code",
   "execution_count": 3,
   "metadata": {
    "collapsed": true
   },
   "outputs": [],
   "source": [
    "def make_url(searchwordlist,page):\n",
    "    url_a = \"http://search.yahoo.co.jp/search?p=\"\n",
    "    url_b = \"&ei=UTF-8&fl=2&dups=1&b=\" + str(page*10+1)\n",
    "\n",
    "    if type(searchwordlist) is str :#searchwordlistが一要素のとき，リストにし忘れても通るように回避\n",
    "        searchword = searchwordlist.replace(\" \",\"+\")\n",
    "    else:\n",
    "        searchword = reduce(lambda x, y: x+\"+\"+y,searchwordlist)#[\"aaa\",\"bbb\"] => \"aaa+bbb\"\n",
    "\n",
    "    url = url_a + urllib.parse.quote_plus(searchword,encoding='UTF-8') + url_b\n",
    "    return url"
   ]
  },
  {
   "cell_type": "code",
   "execution_count": 4,
   "metadata": {},
   "outputs": [
    {
     "data": {
      "text/plain": [
       "'http://search.yahoo.co.jp/search?p=%E3%83%A9%E3%83%BC%E3%83%A1%E3%83%B3&ei=UTF-8&fl=2&dups=1&b=1'"
      ]
     },
     "execution_count": 4,
     "metadata": {},
     "output_type": "execute_result"
    }
   ],
   "source": [
    "url = make_url(target,page)\n",
    "url"
   ]
  },
  {
   "cell_type": "code",
   "execution_count": 5,
   "metadata": {
    "collapsed": true
   },
   "outputs": [],
   "source": [
    "def make_url_new(target,page):\n",
    "    url_a = \"http://search.yahoo.co.jp/search?p=\"\n",
    "    url_b = \"&ei=UTF-8&fl=2&dups=1&b=\" + str(page*10+1)\n",
    "    url = url_a + urllib.parse.quote_plus(target,encoding='UTF-8') + url_b\n",
    "    return url"
   ]
  },
  {
   "cell_type": "code",
   "execution_count": 6,
   "metadata": {},
   "outputs": [
    {
     "data": {
      "text/plain": [
       "'http://search.yahoo.co.jp/search?p=%E3%83%A9%E3%83%BC%E3%83%A1%E3%83%B3&ei=UTF-8&fl=2&dups=1&b=1'"
      ]
     },
     "execution_count": 6,
     "metadata": {},
     "output_type": "execute_result"
    }
   ],
   "source": [
    "_url = make_url_new(target,page)\n",
    "_url"
   ]
  },
  {
   "cell_type": "code",
   "execution_count": 7,
   "metadata": {},
   "outputs": [
    {
     "data": {
      "text/plain": [
       "True"
      ]
     },
     "execution_count": 7,
     "metadata": {},
     "output_type": "execute_result"
    }
   ],
   "source": [
    "url == _url"
   ]
  }
 ],
 "metadata": {
  "kernelspec": {
   "display_name": "Python 3",
   "language": "python",
   "name": "python3"
  },
  "language_info": {
   "codemirror_mode": {
    "name": "ipython",
    "version": 3
   },
   "file_extension": ".py",
   "mimetype": "text/x-python",
   "name": "python",
   "nbconvert_exporter": "python",
   "pygments_lexer": "ipython3",
   "version": "3.6.2"
  }
 },
 "nbformat": 4,
 "nbformat_minor": 2
}
