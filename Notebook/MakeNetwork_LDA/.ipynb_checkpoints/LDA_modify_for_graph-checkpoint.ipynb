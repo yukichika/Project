{
 "cells": [
  {
   "cell_type": "code",
   "execution_count": 1,
   "metadata": {
    "collapsed": true
   },
   "outputs": [],
   "source": [
    "import numpy as np\n",
    "import os\n",
    "import cPickle as pickle\n",
    "import os.path\n",
    "import matplotlib.pyplot as plt\n",
    "\n",
    "import sys\n",
    "sys.path.append(\"../../Interactive_Graph_Visualizer/networkx-master\")\n",
    "import networkx as nx\n",
    "sys.path.append(\"../../MyPythonModule\")\n",
    "from LDA_kai import LDA"
   ]
  },
  {
   "cell_type": "code",
   "execution_count": 2,
   "metadata": {
    "collapsed": true
   },
   "outputs": [],
   "source": [
    "def suffix_generator(target=None,is_largest=False):\n",
    "    suffix = \"\"\n",
    "    if target != None:\n",
    "        suffix += \"_\" + target\n",
    "    if is_largest == True:\n",
    "        suffix += \"_largest\"\n",
    "    return suffix"
   ]
  },
  {
   "cell_type": "code",
   "execution_count": 3,
   "metadata": {
    "collapsed": true
   },
   "outputs": [],
   "source": [
    "def compare4_2(p,q):\n",
    "    weight = np.exp(-((p-q)**2).sum())\n",
    "    return weight"
   ]
  },
  {
   "cell_type": "code",
   "execution_count": 4,
   "metadata": {
    "collapsed": true
   },
   "outputs": [],
   "source": [
    "def compare_selector(name):\n",
    "    if name == \"comp1\":\n",
    "        return compare1\n",
    "    elif name == \"comp1_1\":\n",
    "        return compare1_1\n",
    "    elif name == \"comp1_2\" or name == \"softmax\":\n",
    "        return compare1_2\n",
    "    elif name == \"comp2\":\n",
    "        return compare2\n",
    "    elif name == \"comp3\":\n",
    "        return compare3\n",
    "    elif name == \"comp4_1\":\n",
    "        return compare4_1\n",
    "    elif name == \"comp4_2\":\n",
    "        return compare4_2\n",
    "    else:\n",
    "        print \"invalid comp_func\"\n",
    "        exit()"
   ]
  },
  {
   "cell_type": "code",
   "execution_count": 5,
   "metadata": {
    "collapsed": true
   },
   "outputs": [],
   "source": [
    "def mode(a, axis=0):\n",
    "    scores = np.unique(np.ravel(a))       # get ALL unique values\n",
    "    testshape = list(a.shape)\n",
    "    testshape[axis] = 1\n",
    "    oldmostfreq = np.zeros(testshape)\n",
    "    oldcounts = np.zeros(testshape)\n",
    "\n",
    "    for score in scores:\n",
    "        template = (a == score)\n",
    "        counts = np.expand_dims(np.sum(template, axis),axis)\n",
    "        mostfrequent = np.where(counts > oldcounts, score, oldmostfreq)\n",
    "        oldcounts = np.maximum(counts, oldcounts)\n",
    "        oldmostfreq = mostfrequent\n",
    "\n",
    "    return int(mostfrequent)"
   ]
  },
  {
   "cell_type": "code",
   "execution_count": null,
   "metadata": {
    "collapsed": true
   },
   "outputs": [],
   "source": []
  },
  {
   "cell_type": "code",
   "execution_count": 6,
   "metadata": {
    "collapsed": true
   },
   "outputs": [],
   "source": [
    "search_word = u\"Test\"\n",
    "max_page = 10\n",
    "root_dir = \"../Data/Search_\" + search_word + \"_\" + unicode(max_page) + \"_add_childs\" \n",
    "is_largest = True\n",
    "target = \"myexttext\"\n",
    "G_name = \"G\" + suffix_generator(target=target,is_largest=is_largest)\n",
    "use_to_link = \"to_ext_links\"\n",
    "K = 10\n",
    "iteration = 500\n",
    "alpha = 0.001\n",
    "beta = 0.001\n",
    "no_below = 5#単語の最低出現文書数\n",
    "no_above = 0.2#単語の最大出現文書比率\n",
    "no_less = 20#文書に含まれる最低単語数\n",
    "do_hparam_update = False#パラメータを更新するか否か\n",
    "chasen_dir_name = \"Chasen\" + suffix_generator(target,is_largest)\n",
    "exp_name = \"K\" + unicode(K) + suffix_generator(target,is_largest)\n",
    "comment = None\n",
    "comp_func_name = \"comp4_2\"\n",
    "void_node_remove = True#空のノード(LDA結果のないノード)を除去するかどうか"
   ]
  },
  {
   "cell_type": "code",
   "execution_count": 7,
   "metadata": {},
   "outputs": [
    {
     "data": {
      "text/plain": [
       "23"
      ]
     },
     "execution_count": 7,
     "metadata": {},
     "output_type": "execute_result"
    }
   ],
   "source": [
    "COLORLIST_R = [r\"#EB6100\",r\"#F39800\",r\"#FCC800\",r\"#FFF100\",r\"#CFDB00\",r\"#8FC31F\",r\"#22AC38\",r\"#009944\",r\"#009B6B\",r\"#009E96\",r\"#00A0C1\",r\"#00A0E9\",r\"#0086D1\",r\"#0068B7\",r\"#00479D\",r\"#1D2088\",r\"#601986\",r\"#920783\",r\"#BE0081\",r\"#E4007F\",r\"#E5006A\",r\"#E5004F\",r\"#E60033\"]\n",
    "len(COLORLIST_R)"
   ]
  },
  {
   "cell_type": "code",
   "execution_count": 8,
   "metadata": {},
   "outputs": [
    {
     "data": {
      "text/plain": [
       "['#EB6100',\n",
       " '#FCC800',\n",
       " '#CFDB00',\n",
       " '#22AC38',\n",
       " '#009B6B',\n",
       " '#00A0C1',\n",
       " '#0086D1',\n",
       " '#00479D',\n",
       " '#601986',\n",
       " '#BE0081',\n",
       " '#E5006A',\n",
       " '#E60033']"
      ]
     },
     "execution_count": 8,
     "metadata": {},
     "output_type": "execute_result"
    }
   ],
   "source": [
    "COLORLIST_R[::2]"
   ]
  },
  {
   "cell_type": "code",
   "execution_count": 9,
   "metadata": {},
   "outputs": [
    {
     "data": {
      "text/plain": [
       "['#EB6100',\n",
       " '#FCC800',\n",
       " '#CFDB00',\n",
       " '#22AC38',\n",
       " '#009B6B',\n",
       " '#00A0C1',\n",
       " '#0086D1',\n",
       " '#00479D',\n",
       " '#601986',\n",
       " '#BE0081',\n",
       " '#E5006A',\n",
       " '#E60033']"
      ]
     },
     "execution_count": 9,
     "metadata": {},
     "output_type": "execute_result"
    }
   ],
   "source": [
    "COLORLIST_R = [r\"#EB6100\",r\"#F39800\",r\"#FCC800\",r\"#FFF100\",r\"#CFDB00\",r\"#8FC31F\",r\"#22AC38\",r\"#009944\",r\"#009B6B\",r\"#009E96\",r\"#00A0C1\",r\"#00A0E9\",r\"#0086D1\",r\"#0068B7\",r\"#00479D\",r\"#1D2088\",r\"#601986\",r\"#920783\",r\"#BE0081\",r\"#E4007F\",r\"#E5006A\",r\"#E5004F\",r\"#E60033\"]\n",
    "COLORLIST = [c for c in COLORLIST_R[::2]]#色のステップ調整\n",
    "COLORLIST"
   ]
  },
  {
   "cell_type": "code",
   "execution_count": 10,
   "metadata": {},
   "outputs": [
    {
     "data": {
      "text/plain": [
       "12"
      ]
     },
     "execution_count": 10,
     "metadata": {},
     "output_type": "execute_result"
    }
   ],
   "source": [
    "len(COLORLIST)"
   ]
  },
  {
   "cell_type": "code",
   "execution_count": 11,
   "metadata": {
    "collapsed": true
   },
   "outputs": [],
   "source": [
    "DEFAULT_WEIGHT = 0.5"
   ]
  },
  {
   "cell_type": "code",
   "execution_count": 12,
   "metadata": {
    "collapsed": true
   },
   "outputs": [],
   "source": [
    "exp_dir = os.path.join(root_dir,exp_name)\n",
    "nx_dir = os.path.join(exp_dir,\"nx_datas\")\n",
    "if not os.path.exists(nx_dir):\n",
    "    os.mkdir(nx_dir)"
   ]
  },
  {
   "cell_type": "code",
   "execution_count": 13,
   "metadata": {
    "collapsed": true
   },
   "outputs": [],
   "source": [
    "compare = compare_selector(comp_func_name)\n",
    "weights_list = []\n",
    "G_path = G_name + \".gpkl\""
   ]
  },
  {
   "cell_type": "code",
   "execution_count": 14,
   "metadata": {
    "collapsed": true
   },
   "outputs": [],
   "source": [
    "with open(os.path.join(exp_dir,\"instance.pkl\")) as fi:\n",
    "   lda = pickle.load(fi)\n",
    "with open(os.path.join(root_dir,G_path)) as fi:\n",
    "    G = pickle.load(fi)"
   ]
  },
  {
   "cell_type": "code",
   "execution_count": 15,
   "metadata": {},
   "outputs": [
    {
     "data": {
      "text/plain": [
       "43"
      ]
     },
     "execution_count": 15,
     "metadata": {},
     "output_type": "execute_result"
    }
   ],
   "source": [
    "theta = lda.theta()\n",
    "len(theta)"
   ]
  },
  {
   "cell_type": "code",
   "execution_count": 16,
   "metadata": {},
   "outputs": [
    {
     "data": {
      "text/plain": [
       "(43, 10)"
      ]
     },
     "execution_count": 16,
     "metadata": {},
     "output_type": "execute_result"
    }
   ],
   "source": [
    "theta.shape"
   ]
  },
  {
   "cell_type": "code",
   "execution_count": 17,
   "metadata": {},
   "outputs": [
    {
     "data": {
      "text/plain": [
       "array([  1.81785130e-05,   1.81785130e-05,   1.27267769e-01,\n",
       "         1.09089256e-01,   1.81785130e-05,   3.27231412e-01,\n",
       "         1.81785130e-05,   3.27231412e-01,   1.81785130e-05,\n",
       "         1.09089256e-01])"
      ]
     },
     "execution_count": 17,
     "metadata": {},
     "output_type": "execute_result"
    }
   ],
   "source": [
    "theta[0]"
   ]
  },
  {
   "cell_type": "code",
   "execution_count": 18,
   "metadata": {},
   "outputs": [
    {
     "data": {
      "text/plain": [
       "53"
      ]
     },
     "execution_count": 18,
     "metadata": {},
     "output_type": "execute_result"
    }
   ],
   "source": [
    "nodes = G.node#参照渡しなのでG自体に改変が伝わる\n",
    "old_node_num = len(nodes)\n",
    "old_node_num"
   ]
  },
  {
   "cell_type": "code",
   "execution_count": 19,
   "metadata": {},
   "outputs": [
    {
     "data": {
      "text/plain": [
       "53"
      ]
     },
     "execution_count": 19,
     "metadata": {},
     "output_type": "execute_result"
    }
   ],
   "source": [
    "nodes_lim = len(nodes)\n",
    "nodes_lim"
   ]
  },
  {
   "cell_type": "code",
   "execution_count": 20,
   "metadata": {
    "scrolled": true
   },
   "outputs": [
    {
     "data": {
      "text/plain": [
       "{0: 0,\n",
       " 2: 1,\n",
       " 3: 2,\n",
       " 4: 3,\n",
       " 5: 4,\n",
       " 6: 5,\n",
       " 7: 6,\n",
       " 9: 7,\n",
       " 10: 8,\n",
       " 11: 9,\n",
       " 12: 10,\n",
       " 13: 11,\n",
       " 14: 12,\n",
       " 16: 13,\n",
       " 17: 14,\n",
       " 18: 15,\n",
       " 19: 16,\n",
       " 20: 17,\n",
       " 21: 18,\n",
       " 22: 19,\n",
       " 24: 20,\n",
       " 25: 21,\n",
       " 26: 22,\n",
       " 27: 23,\n",
       " 28: 24,\n",
       " 29: 25,\n",
       " 31: 26,\n",
       " 32: 27,\n",
       " 34: 28,\n",
       " 35: 29,\n",
       " 36: 30,\n",
       " 38: 31,\n",
       " 40: 32,\n",
       " 41: 33,\n",
       " 42: 34,\n",
       " 43: 35,\n",
       " 44: 36,\n",
       " 47: 37,\n",
       " 48: 38,\n",
       " 49: 39,\n",
       " 50: 40,\n",
       " 52: 41,\n",
       " 53: 42}"
      ]
     },
     "execution_count": 20,
     "metadata": {},
     "output_type": "execute_result"
    }
   ],
   "source": [
    "file_id_dict_inv = {v:k for k, v in lda.file_id_dict.items()}#ファイル名とLDAでの文書番号(逆引き)．LDAの方に作っとけばよかった．．．\n",
    "file_id_dict_inv"
   ]
  },
  {
   "cell_type": "code",
   "execution_count": 21,
   "metadata": {},
   "outputs": [
    {
     "data": {
      "text/plain": [
       "43"
      ]
     },
     "execution_count": 21,
     "metadata": {},
     "output_type": "execute_result"
    }
   ],
   "source": [
    "len(file_id_dict_inv)"
   ]
  },
  {
   "cell_type": "code",
   "execution_count": 25,
   "metadata": {
    "collapsed": true
   },
   "outputs": [],
   "source": [
    "for m,z_m in enumerate(lda.z_m_n[:nodes_lim]):\n",
    "    node_no = lda.file_id_dict.get(m)#ファイルが連番でない対象に対応\n",
    "    if node_no not in G.node:\n",
    "        continue\n",
    "    \"\"\"代表トピックの抽出\"\"\"\n",
    "    rep_topic = mode(np.array(z_m))\n",
    "    nodes[node_no][\"topic\"] = rep_topic\n",
    "    nodes[node_no][\"color\"] = COLORLIST[rep_topic]\n",
    "\n",
    "    \"\"\"トピック分布の円グラフ保存\"\"\"\n",
    "    #fig = plt.figure()\n",
    "    #ax = fig.add_subplot(1,1,1)\n",
    "    #theta_d = theta[m]\n",
    "    #plt.rcParams['font.size']=20.0\n",
    "    #ax.pie(theta_d,colors=COLORLIST[:lda.K],labels=labels,startangle=90,radius=0.2, center=(0.5, 0.5), frame=True,counterclock=False)\n",
    "    #plt.axis(\"off\")\n",
    "    #plt.axis('equal')\n",
    "    #plt.savefig(os.path.join(pie_dir,unicode(lda.file_id_dict[m])+\".png\"))\n",
    "    #plt.close()"
   ]
  },
  {
   "cell_type": "code",
   "execution_count": 27,
   "metadata": {},
   "outputs": [
    {
     "data": {
      "text/plain": [
       "43"
      ]
     },
     "execution_count": 27,
     "metadata": {},
     "output_type": "execute_result"
    }
   ],
   "source": [
    "len(lda.z_m_n)"
   ]
  },
  {
   "cell_type": "code",
   "execution_count": 28,
   "metadata": {},
   "outputs": [
    {
     "data": {
      "text/plain": [
       "array([2, 7, 2, 2, 2, 2, 2, 2, 2, 7, 2, 2, 5, 2, 2, 2, 2, 2, 2, 2, 7, 2, 2,\n",
       "       2, 2, 2, 2, 2, 2, 5, 5, 2, 5, 5, 2, 5, 5, 2, 5, 5, 2, 5, 2, 2, 2, 5,\n",
       "       2, 2, 2, 2, 2, 2, 7, 2, 5, 2, 2, 2, 5, 2, 2, 7, 2, 5, 5, 5, 2, 2, 7,\n",
       "       2, 5, 5, 2, 5, 2, 2, 2, 2, 2, 2, 2, 7, 2, 2, 2, 5, 2, 2, 2, 2, 2, 5,\n",
       "       2, 2, 2, 5, 2, 2, 5, 2, 5, 2, 5, 7, 7])"
      ]
     },
     "execution_count": 28,
     "metadata": {},
     "output_type": "execute_result"
    }
   ],
   "source": [
    "np.array(z_m)"
   ]
  },
  {
   "cell_type": "code",
   "execution_count": 29,
   "metadata": {},
   "outputs": [
    {
     "data": {
      "text/plain": [
       "2"
      ]
     },
     "execution_count": 29,
     "metadata": {},
     "output_type": "execute_result"
    }
   ],
   "source": [
    "mode(np.array(z_m))"
   ]
  },
  {
   "cell_type": "code",
   "execution_count": 30,
   "metadata": {},
   "outputs": [
    {
     "data": {
      "text/plain": [
       "{'color': '#00A0C1', 'topic': 5}"
      ]
     },
     "execution_count": 30,
     "metadata": {},
     "output_type": "execute_result"
    }
   ],
   "source": [
    "nodes[0]"
   ]
  },
  {
   "cell_type": "code",
   "execution_count": 31,
   "metadata": {
    "collapsed": true
   },
   "outputs": [],
   "source": [
    "if void_node_remove == True:\n",
    "    remove_node_list = []#LDAでの処理で文書がなくなってしまったものを排除する\n",
    "    for n, d in G.nodes(data=True):\n",
    "        if d.get(\"topic\") == None:\n",
    "            remove_node_list.append(n)\n",
    "    G.remove_nodes_from(remove_node_list)\n",
    "    if is_largest == True:\n",
    "        G_ = G.to_undirected()\n",
    "        largest = max(nx.connected_component_subgraphs(G_),key=len)\n",
    "        rem_nodes = set(G_.node.keys()) - set(largest.node.keys())\n",
    "        G.remove_nodes_from(rem_nodes)\n",
    "        with open(os.path.join(root_dir,\"file_id_list2.list\"),\"w\") as fo:\n",
    "            pickle.dump(list(G.node.keys()),fo)"
   ]
  },
  {
   "cell_type": "code",
   "execution_count": 32,
   "metadata": {},
   "outputs": [
    {
     "data": {
      "text/plain": [
       "43"
      ]
     },
     "execution_count": 32,
     "metadata": {},
     "output_type": "execute_result"
    }
   ],
   "source": [
    "new_node_num = len(G.node.keys())\n",
    "new_node_num"
   ]
  },
  {
   "cell_type": "code",
   "execution_count": 33,
   "metadata": {},
   "outputs": [
    {
     "data": {
      "text/plain": [
       "43"
      ]
     },
     "execution_count": 33,
     "metadata": {},
     "output_type": "execute_result"
    }
   ],
   "source": [
    "len(lda.theta())"
   ]
  },
  {
   "cell_type": "code",
   "execution_count": 34,
   "metadata": {
    "scrolled": true
   },
   "outputs": [
    {
     "data": {
      "text/plain": [
       "[0,\n",
       " 2,\n",
       " 3,\n",
       " 4,\n",
       " 5,\n",
       " 6,\n",
       " 7,\n",
       " 9,\n",
       " 10,\n",
       " 11,\n",
       " 12,\n",
       " 13,\n",
       " 14,\n",
       " 16,\n",
       " 17,\n",
       " 18,\n",
       " 19,\n",
       " 20,\n",
       " 21,\n",
       " 22,\n",
       " 24,\n",
       " 25,\n",
       " 26,\n",
       " 27,\n",
       " 28,\n",
       " 29,\n",
       " 31,\n",
       " 32,\n",
       " 34,\n",
       " 35,\n",
       " 36,\n",
       " 38,\n",
       " 40,\n",
       " 41,\n",
       " 42,\n",
       " 43,\n",
       " 44,\n",
       " 47,\n",
       " 48,\n",
       " 49,\n",
       " 50,\n",
       " 52,\n",
       " 53]"
      ]
     },
     "execution_count": 34,
     "metadata": {},
     "output_type": "execute_result"
    }
   ],
   "source": [
    "G.node.keys()"
   ]
  },
  {
   "cell_type": "code",
   "execution_count": 35,
   "metadata": {},
   "outputs": [
    {
     "name": "stdout",
     "output_type": "stream",
     "text": [
      "simple\n"
     ]
    },
    {
     "data": {
      "image/png": "[encoded data removed]",
      "text/plain": [
       "<matplotlib.figure.Figure at 0x7f8b70548150>"
      ]
     },
     "metadata": {},
     "output_type": "display_data"
    }
   ],
   "source": [
    "nx.draw_networkx(G)\n",
    "plt.show()"
   ]
  },
  {
   "cell_type": "code",
   "execution_count": 36,
   "metadata": {},
   "outputs": [
    {
     "data": {
      "text/plain": [
       "{11: {},\n",
       " 12: {},\n",
       " 13: {},\n",
       " 14: {},\n",
       " 16: {},\n",
       " 17: {},\n",
       " 18: {},\n",
       " 19: {},\n",
       " 20: {},\n",
       " 21: {},\n",
       " 22: {},\n",
       " 24: {},\n",
       " 25: {},\n",
       " 26: {},\n",
       " 27: {}}"
      ]
     },
     "execution_count": 36,
     "metadata": {},
     "output_type": "execute_result"
    }
   ],
   "source": [
    "G.edge[0]"
   ]
  },
  {
   "cell_type": "code",
   "execution_count": 37,
   "metadata": {
    "collapsed": true
   },
   "outputs": [],
   "source": [
    "\"\"\"エッジごとの処理\"\"\"\n",
    "edges = G.edge\n",
    "for node_no,link_node_nos in edges.items():\n",
    "    lda_no = file_id_dict_inv.get(node_no)#ファイルが連番でない対象に対応\n",
    "    if lda_no == None:#LDA結果が存在しないノード\n",
    "        for link_node_no in link_node_nos.keys():\n",
    "            edges[node_no][link_node_no][\"weight\"] = DEFAULT_WEIGHT\n",
    "        continue\n",
    "    p_dst = theta[lda_no]\n",
    "    \"\"\"類似度による重みの算出\"\"\"\n",
    "    for link_node_no in link_node_nos.keys():\n",
    "        link_lda_no = file_id_dict_inv.get(link_node_no)#ファイルが連番でない対象に対応\n",
    "        if link_lda_no == None:#LDA結果が存在しないノード\n",
    "            weight = DEFAULT_WEIGHT\n",
    "        else:\n",
    "            q_dst = theta[link_lda_no]\n",
    "            weight = compare(p_dst,q_dst)\n",
    "        edges[node_no][link_node_no][\"weight\"] = weight"
   ]
  },
  {
   "cell_type": "code",
   "execution_count": 38,
   "metadata": {},
   "outputs": [
    {
     "data": {
      "text/plain": [
       "{11: {'weight': 0.35491573767099976},\n",
       " 12: {'weight': 0.73905340895447713},\n",
       " 13: {'weight': 0.86799707748927746},\n",
       " 14: {'weight': 0.67233278811315134},\n",
       " 16: {'weight': 0.47164812128681638},\n",
       " 17: {'weight': 0.7810720628495238},\n",
       " 18: {'weight': 0.78297359570848668},\n",
       " 19: {'weight': 0.7727786796108117},\n",
       " 20: {'weight': 0.37158674768559441},\n",
       " 21: {'weight': 0.92355050127466465},\n",
       " 22: {'weight': 0.75208237908875919},\n",
       " 24: {'weight': 0.35513119284848693},\n",
       " 25: {'weight': 0.65264089322309926},\n",
       " 26: {'weight': 0.70191312769499892},\n",
       " 27: {'weight': 0.91901443081352086}}"
      ]
     },
     "execution_count": 38,
     "metadata": {},
     "output_type": "execute_result"
    }
   ],
   "source": [
    "G.edge[0]"
   ]
  },
  {
   "cell_type": "code",
   "execution_count": 39,
   "metadata": {},
   "outputs": [
    {
     "data": {
      "text/plain": [
       "{0: {11: {'weight': 0.35491573767099976},\n",
       "  12: {'weight': 0.73905340895447713},\n",
       "  13: {'weight': 0.86799707748927746},\n",
       "  14: {'weight': 0.67233278811315134},\n",
       "  16: {'weight': 0.47164812128681638},\n",
       "  17: {'weight': 0.7810720628495238},\n",
       "  18: {'weight': 0.78297359570848668},\n",
       "  19: {'weight': 0.7727786796108117},\n",
       "  20: {'weight': 0.37158674768559441},\n",
       "  21: {'weight': 0.92355050127466465},\n",
       "  22: {'weight': 0.75208237908875919},\n",
       "  24: {'weight': 0.35513119284848693},\n",
       "  25: {'weight': 0.65264089322309926},\n",
       "  26: {'weight': 0.70191312769499892},\n",
       "  27: {'weight': 0.91901443081352086}},\n",
       " 2: {28: {'weight': 0.44736480413431307},\n",
       "  29: {'weight': 0.444568041417777},\n",
       "  31: {'weight': 0.59245830711492231}},\n",
       " 3: {9: {'weight': 0.77711656171729204},\n",
       "  32: {'weight': 0.53546233976420021},\n",
       "  34: {'weight': 0.66010867321432587},\n",
       "  35: {'weight': 0.5363941852381976},\n",
       "  36: {'weight': 0.54802897651210725},\n",
       "  38: {'weight': 0.67788170138369364},\n",
       "  40: {'weight': 0.47039789450603375},\n",
       "  41: {'weight': 0.74924675576533306},\n",
       "  42: {'weight': 0.56888794358649475},\n",
       "  43: {'weight': 0.661416849790324},\n",
       "  44: {'weight': 0.68359657434345245},\n",
       "  47: {'weight': 0.59837435784478554},\n",
       "  48: {'weight': 0.44159719069952358},\n",
       "  49: {'weight': 0.62472440805286078},\n",
       "  50: {'weight': 0.5057411524224803}},\n",
       " 4: {31: {'weight': 0.6696426629347817}, 52: {'weight': 0.40832300018028966}},\n",
       " 5: {28: {'weight': 0.45987577762109932},\n",
       "  29: {'weight': 0.45742926934404132},\n",
       "  31: {'weight': 0.54395357848294446},\n",
       "  53: {'weight': 0.35885403739423227}},\n",
       " 6: {31: {'weight': 0.64264083054652532}, 52: {'weight': 0.3412175051614823}},\n",
       " 7: {31: {'weight': 0.66782710585975369}},\n",
       " 9: {28: {'weight': 0.8978074109808637},\n",
       "  29: {'weight': 0.89050738879291025},\n",
       "  31: {'weight': 0.6288449972937995},\n",
       "  53: {'weight': 0.65677272668775288}},\n",
       " 10: {31: {'weight': 0.6325688424896504}},\n",
       " 11: {},\n",
       " 12: {26: {'weight': 0.31294542723220964}},\n",
       " 13: {},\n",
       " 14: {26: {'weight': 0.26768822748342913}},\n",
       " 16: {},\n",
       " 17: {0: {'weight': 0.7810720628495238}, 26: {'weight': 0.32794873698102722}},\n",
       " 18: {0: {'weight': 0.78297359570848668}, 26: {'weight': 0.35225918216730534}},\n",
       " 19: {0: {'weight': 0.7727786796108117},\n",
       "  5: {'weight': 0.48486010170105598},\n",
       "  26: {'weight': 0.33271292943620723}},\n",
       " 20: {},\n",
       " 21: {26: {'weight': 0.81952149539086405}},\n",
       " 22: {},\n",
       " 24: {},\n",
       " 25: {},\n",
       " 26: {0: {'weight': 0.70191312769499892}, 21: {'weight': 0.81952149539086405}},\n",
       " 27: {11: {'weight': 0.45842813517561282},\n",
       "  16: {'weight': 0.59258083144432627},\n",
       "  20: {'weight': 0.48064661941426923}},\n",
       " 28: {9: {'weight': 0.8978074109808637},\n",
       "  29: {'weight': 0.99562063598024786},\n",
       "  34: {'weight': 0.96792169639880055},\n",
       "  35: {'weight': 0.61858220847211143},\n",
       "  36: {'weight': 0.8437089601895843},\n",
       "  42: {'weight': 0.67596359734954981},\n",
       "  44: {'weight': 0.87103865905429678},\n",
       "  47: {'weight': 0.92908559600889562},\n",
       "  50: {'weight': 0.58526445087174961}},\n",
       " 29: {9: {'weight': 0.89050738879291025},\n",
       "  32: {'weight': 0.80187126550404564},\n",
       "  34: {'weight': 0.94702867386508471},\n",
       "  35: {'weight': 0.61535205579454499},\n",
       "  36: {'weight': 0.80227858576852384},\n",
       "  38: {'weight': 0.87775445749437409},\n",
       "  40: {'weight': 0.67840471728930829},\n",
       "  41: {'weight': 0.84323887322254598},\n",
       "  42: {'weight': 0.67721387442731873},\n",
       "  43: {'weight': 0.80817727078797941},\n",
       "  44: {'weight': 0.86287590393606772},\n",
       "  47: {'weight': 0.8954581590908548},\n",
       "  48: {'weight': 0.66183863483348315},\n",
       "  50: {'weight': 0.5809731212612097}},\n",
       " 31: {},\n",
       " 32: {29: {'weight': 0.80187126550404564}},\n",
       " 34: {28: {'weight': 0.96792169639880055},\n",
       "  29: {'weight': 0.94702867386508471},\n",
       "  53: {'weight': 0.82060005919539003}},\n",
       " 35: {29: {'weight': 0.61535205579454499}},\n",
       " 36: {},\n",
       " 38: {28: {'weight': 0.8738868152307615}, 29: {'weight': 0.87775445749437409}},\n",
       " 40: {28: {'weight': 0.72380748281557428},\n",
       "  29: {'weight': 0.67840471728930829}},\n",
       " 41: {9: {'weight': 0.70078964815561495},\n",
       "  29: {'weight': 0.84323887322254598},\n",
       "  34: {'weight': 0.76198177043233151},\n",
       "  35: {'weight': 0.56520935227258662},\n",
       "  36: {'weight': 0.59752840980033439},\n",
       "  42: {'weight': 0.63113962439985838},\n",
       "  44: {'weight': 0.76358405702129051},\n",
       "  47: {'weight': 0.6938003140907808}},\n",
       " 42: {28: {'weight': 0.67596359734954981},\n",
       "  29: {'weight': 0.67721387442731873}},\n",
       " 43: {28: {'weight': 0.8023421296137544}, 29: {'weight': 0.80817727078797941}},\n",
       " 44: {28: {'weight': 0.87103865905429678},\n",
       "  29: {'weight': 0.86287590393606772},\n",
       "  53: {'weight': 0.78006376833357183}},\n",
       " 47: {28: {'weight': 0.92908559600889562}},\n",
       " 48: {29: {'weight': 0.66183863483348315}},\n",
       " 49: {9: {'weight': 0.58843529359902502},\n",
       "  29: {'weight': 0.61764573621758279},\n",
       "  34: {'weight': 0.53403322661035457},\n",
       "  35: {'weight': 0.47362099942859215},\n",
       "  36: {'weight': 0.4748859206969423},\n",
       "  42: {'weight': 0.4882711480157691},\n",
       "  44: {'weight': 0.58452921330236129},\n",
       "  47: {'weight': 0.50125836131313406}},\n",
       " 50: {},\n",
       " 52: {},\n",
       " 53: {9: {'weight': 0.65677272668775288},\n",
       "  34: {'weight': 0.82060005919539003},\n",
       "  35: {'weight': 0.54470180878332808},\n",
       "  36: {'weight': 0.59584480574957932},\n",
       "  42: {'weight': 0.83331645817037747},\n",
       "  44: {'weight': 0.78006376833357183},\n",
       "  47: {'weight': 0.73571096261398949}}}"
      ]
     },
     "execution_count": 39,
     "metadata": {},
     "output_type": "execute_result"
    }
   ],
   "source": [
    "edges"
   ]
  },
  {
   "cell_type": "code",
   "execution_count": 40,
   "metadata": {},
   "outputs": [
    {
     "data": {
      "text/plain": [
       "0.44736480413431307"
      ]
     },
     "execution_count": 40,
     "metadata": {},
     "output_type": "execute_result"
    }
   ],
   "source": [
    "compare(theta[1],theta[24])"
   ]
  },
  {
   "cell_type": "code",
   "execution_count": 41,
   "metadata": {},
   "outputs": [
    {
     "data": {
      "text/plain": [
       "{'weight': 0.44736480413431307}"
      ]
     },
     "execution_count": 41,
     "metadata": {},
     "output_type": "execute_result"
    }
   ],
   "source": [
    "edges[2][28]"
   ]
  },
  {
   "cell_type": "code",
   "execution_count": 42,
   "metadata": {},
   "outputs": [
    {
     "data": {
      "text/plain": [
       "43"
      ]
     },
     "execution_count": 42,
     "metadata": {},
     "output_type": "execute_result"
    }
   ],
   "source": [
    "nodes_lim = len(nodes)#removeしている場合があるため\n",
    "nodes_lim"
   ]
  },
  {
   "cell_type": "code",
   "execution_count": 43,
   "metadata": {},
   "outputs": [
    {
     "data": {
      "text/plain": [
       "array([[ 0.5,  0.5,  0.5, ...,  0.5,  0.5,  0.5],\n",
       "       [ 0.5,  0.5,  0.5, ...,  0.5,  0.5,  0.5],\n",
       "       [ 0.5,  0.5,  0.5, ...,  0.5,  0.5,  0.5],\n",
       "       ..., \n",
       "       [ 0.5,  0.5,  0.5, ...,  0.5,  0.5,  0.5],\n",
       "       [ 0.5,  0.5,  0.5, ...,  0.5,  0.5,  0.5],\n",
       "       [ 0.5,  0.5,  0.5, ...,  0.5,  0.5,  0.5]])"
      ]
     },
     "execution_count": 43,
     "metadata": {},
     "output_type": "execute_result"
    }
   ],
   "source": [
    "all_node_weights = np.ones((nodes_lim,nodes_lim))*DEFAULT_WEIGHT#除算の都合上，自分自身との類似度は1に\n",
    "all_node_weights"
   ]
  },
  {
   "cell_type": "code",
   "execution_count": 44,
   "metadata": {},
   "outputs": [
    {
     "data": {
      "text/plain": [
       "(43, 43)"
      ]
     },
     "execution_count": 44,
     "metadata": {},
     "output_type": "execute_result"
    }
   ],
   "source": [
    "all_node_weights.shape"
   ]
  },
  {
   "cell_type": "code",
   "execution_count": 45,
   "metadata": {},
   "outputs": [
    {
     "data": {
      "text/plain": [
       "array([[ 1.        ,  0.4494656 ,  0.78848746, ...,  0.58504785,\n",
       "         0.50255732,  0.67615689],\n",
       "       [ 0.4494656 ,  1.        ,  0.55226217, ...,  0.35745978,\n",
       "         0.29959811,  0.34412715],\n",
       "       [ 0.78848746,  0.55226217,  1.        , ...,  0.50574115,\n",
       "         0.39802251,  0.69581756],\n",
       "       ..., \n",
       "       [ 0.58504785,  0.35745978,  0.50574115, ...,  1.        ,\n",
       "         0.88095653,  0.5074054 ],\n",
       "       [ 0.50255732,  0.29959811,  0.39802251, ...,  0.88095653,\n",
       "         1.        ,  0.30054356],\n",
       "       [ 0.67615689,  0.34412715,  0.69581756, ...,  0.5074054 ,\n",
       "         0.30054356,  1.        ]])"
      ]
     },
     "execution_count": 45,
     "metadata": {},
     "output_type": "execute_result"
    }
   ],
   "source": [
    "for i,i_node in enumerate(nodes):\n",
    "    i_lda_no = file_id_dict_inv.get(i_node)#LDA結果が存在しない場合\n",
    "    if i_lda_no == None:#LDA結果が存在しない場合\n",
    "        continue\n",
    "\n",
    "    p_dst = theta[i_lda_no]\n",
    "    for j,j_node in enumerate(nodes):\n",
    "        j_lda_no = file_id_dict_inv.get(j_node)#LDA結果が存在しない場合\n",
    "        if j_lda_no == None:#LDA結果が存在しない場合\n",
    "            continue\n",
    "        q_dst = theta[j_lda_no]\n",
    "        weight = compare(p_dst,q_dst)\n",
    "        if weight == 0:\n",
    "            weight = 0.001\n",
    "        all_node_weights[i,j] = weight\n",
    "        #all_node_weights[i,j] = all_node_weights[j,i]=weight\n",
    "        weights_list.append(weight)#ヒストグラム作成用\n",
    "\n",
    "all_node_weights"
   ]
  },
  {
   "cell_type": "code",
   "execution_count": 46,
   "metadata": {},
   "outputs": [
    {
     "data": {
      "text/plain": [
       "0.44736480413431307"
      ]
     },
     "execution_count": 46,
     "metadata": {},
     "output_type": "execute_result"
    }
   ],
   "source": [
    "all_node_weights[1,24]"
   ]
  },
  {
   "cell_type": "code",
   "execution_count": 47,
   "metadata": {},
   "outputs": [
    {
     "data": {
      "text/plain": [
       "0.44736480413431307"
      ]
     },
     "execution_count": 47,
     "metadata": {},
     "output_type": "execute_result"
    }
   ],
   "source": [
    "all_node_weights[24,1]"
   ]
  },
  {
   "cell_type": "code",
   "execution_count": 50,
   "metadata": {},
   "outputs": [
    {
     "data": {
      "text/plain": [
       "1.0"
      ]
     },
     "execution_count": 50,
     "metadata": {},
     "output_type": "execute_result"
    }
   ],
   "source": [
    "all_node_weights[0,0]"
   ]
  },
  {
   "cell_type": "code",
   "execution_count": 51,
   "metadata": {},
   "outputs": [
    {
     "data": {
      "text/plain": [
       "1.0"
      ]
     },
     "execution_count": 51,
     "metadata": {},
     "output_type": "execute_result"
    }
   ],
   "source": [
    "all_node_weights[42,42]"
   ]
  },
  {
   "cell_type": "code",
   "execution_count": 52,
   "metadata": {},
   "outputs": [
    {
     "data": {
      "text/plain": [
       "[1.0,\n",
       " 0.44946560215315612,\n",
       " 0.7884874632454324,\n",
       " 0.7126140171950196,\n",
       " 0.46918524357475799,\n",
       " 0.50489253590924932,\n",
       " 0.56841920799158774,\n",
       " 0.71706178272474563,\n",
       " 0.87424133640790869,\n",
       " 0.35491573767099976,\n",
       " 0.73905340895447713,\n",
       " 0.86799707748927746,\n",
       " 0.67233278811315134,\n",
       " 0.47164812128681638,\n",
       " 0.7810720628495238,\n",
       " 0.78297359570848668,\n",
       " 0.7727786796108117,\n",
       " 0.37158674768559441,\n",
       " 0.92355050127466465,\n",
       " 0.75208237908875919,\n",
       " 0.35513119284848693,\n",
       " 0.65264089322309926,\n",
       " 0.70191312769499892,\n",
       " 0.91901443081352086,\n",
       " 0.67583236885094056,\n",
       " 0.69796979501658318,\n",
       " 0.62835638520400128,\n",
       " 0.507756359991831,\n",
       " 0.57286590629098388,\n",
       " 0.61050097824781757,\n",
       " 0.53353488712658137,\n",
       " 0.598696632436718,\n",
       " 0.46391018553093211,\n",
       " 0.65739638642660458,\n",
       " 0.77076708525277582,\n",
       " 0.67219024028867935,\n",
       " 0.64831596320150708,\n",
       " 0.53748076158587188,\n",
       " 0.4426064907591572,\n",
       " 0.60539513066072481,\n",
       " 0.58504785158530559,\n",
       " 0.50255732236959971,\n",
       " 0.67615688830176635,\n",
       " 0.44946560215315612,\n",
       " 1.0,\n",
       " 0.55226216955635532,\n",
       " 0.76530123734329247,\n",
       " 0.72839655969686312,\n",
       " 0.99298327682691367,\n",
       " 0.97008765933351815,\n",
       " 0.41105132035398961,\n",
       " 0.50400889545119043,\n",
       " 0.21321480214959337,\n",
       " 0.47693896585607992,\n",
       " 0.40389543389566834,\n",
       " 0.35162851934763906,\n",
       " 0.32457383295139397,\n",
       " 0.42941650794176872,\n",
       " 0.45390557074553417,\n",
       " 0.47038040198711045,\n",
       " 0.22392794909035957,\n",
       " 0.46623886456424701,\n",
       " 0.35316486905405375,\n",
       " 0.21336009254618921,\n",
       " 0.3150700808621455,\n",
       " 0.2997712712635372,\n",
       " 0.44853860677722068,\n",
       " 0.44736480413431307,\n",
       " 0.444568041417777,\n",
       " 0.59245830711492231,\n",
       " 0.34343825366527431,\n",
       " 0.35750521235775617,\n",
       " 0.38737612366696911,\n",
       " 0.3598279783439553,\n",
       " 0.37773826431752766,\n",
       " 0.3502789730911357,\n",
       " 0.39111169306641907,\n",
       " 0.36181328620989522,\n",
       " 0.39257408375922276,\n",
       " 0.4473546238811118,\n",
       " 0.35098612398763573,\n",
       " 0.31032743458784823,\n",
       " 0.37742253206757614,\n",
       " 0.35745977907599247,\n",
       " 0.29959810973204115,\n",
       " 0.34412715283731304,\n",
       " 0.7884874632454324,\n",
       " 0.55226216955635532,\n",
       " 1.0,\n",
       " 0.78514070873347119,\n",
       " 0.55236053495237347,\n",
       " 0.60320656444355025,\n",
       " 0.67651219112075323,\n",
       " 0.77711656171729204,\n",
       " 0.87476829940090284,\n",
       " 0.25811645913522119,\n",
       " 0.84629149861783837,\n",
       " 0.58235508119535151,\n",
       " 0.73430958385761858,\n",
       " 0.35771445461518714,\n",
       " 0.87596347339691949,\n",
       " 0.74907657767930402,\n",
       " 0.84709239093295197,\n",
       " 0.27194412270369556,\n",
       " 0.69492310087507292,\n",
       " 0.43199849461466727,\n",
       " 0.25829234362030906,\n",
       " 0.74598439814741413,\n",
       " 0.36290115543639279,\n",
       " 0.69862088510217701,\n",
       " 0.80497615627732899,\n",
       " 0.84010998942359905,\n",
       " 0.560682175120505,\n",
       " 0.53546233976420021,\n",
       " 0.66010867321432587,\n",
       " 0.5363941852381976,\n",
       " 0.54802897651210725,\n",
       " 0.67788170138369364,\n",
       " 0.47039789450603375,\n",
       " 0.74924675576533306,\n",
       " 0.56888794358649475,\n",
       " 0.661416849790324,\n",
       " 0.68359657434345245,\n",
       " 0.59837435784478554,\n",
       " 0.44159719069952358,\n",
       " 0.62472440805286078,\n",
       " 0.5057411524224803,\n",
       " 0.39802250788411941,\n",
       " 0.69581756068555123,\n",
       " 0.7126140171950196,\n",
       " 0.76530123734329247,\n",
       " 0.78514070873347119,\n",
       " 1.0,\n",
       " 0.58433855465256779,\n",
       " 0.81813593870798951,\n",
       " 0.86871348768126233,\n",
       " 0.66008187030987409,\n",
       " 0.85501816270101849,\n",
       " 0.27896993270224829,\n",
       " 0.74164090647214931,\n",
       " 0.58506002050649653,\n",
       " 0.68949545743011009,\n",
       " 0.42962082107436556,\n",
       " 0.71701044569118522,\n",
       " 0.71462701060997047,\n",
       " 0.75036177165954121,\n",
       " 0.29352665988526988,\n",
       " 0.65418908933033926,\n",
       " 0.46487971606450479,\n",
       " 0.27916003008433299,\n",
       " 0.58861911063010075,\n",
       " 0.3922202886899589,\n",
       " 0.67958546343294612,\n",
       " 0.64805972530511136,\n",
       " 0.66318150703859913,\n",
       " 0.6696426629347817,\n",
       " 0.48386193505897346,\n",
       " 0.53539742274282687,\n",
       " 0.53435052297169683,\n",
       " 0.50349274727905302,\n",
       " 0.56438891732527374,\n",
       " 0.45709803209129296,\n",
       " 0.62600320984892599,\n",
       " 0.51100854858081113,\n",
       " 0.58022010383953126,\n",
       " 0.63735426669093176,\n",
       " 0.50758621691351657,\n",
       " 0.42568766310501333,\n",
       " 0.59541464809601419,\n",
       " 0.48951446791919273,\n",
       " 0.40832300018028966,\n",
       " 0.53470696964765418,\n",
       " 0.46918524357475799,\n",
       " 0.72839655969686312,\n",
       " 0.55236053495237347,\n",
       " 0.58433855465256779,\n",
       " 1.0,\n",
       " 0.74144625174319911,\n",
       " 0.74596984941195121,\n",
       " 0.42864222024120885,\n",
       " 0.46890942207949449,\n",
       " 0.222339306553717,\n",
       " 0.46053126019006535,\n",
       " 0.42118009557963099,\n",
       " 0.31955913389414314,\n",
       " 0.30813216886259137,\n",
       " 0.4387250921411176,\n",
       " 0.44792401122140985,\n",
       " 0.48486010170105598,\n",
       " 0.23351092135000098,\n",
       " 0.48327720541671804,\n",
       " 0.36827852187188542,\n",
       " 0.22249081616014796,\n",
       " 0.32341462112585717,\n",
       " 0.31259995276261188,\n",
       " 0.46773376829489455,\n",
       " 0.45987577762109932,\n",
       " 0.45742926934404132,\n",
       " 0.54395357848294446,\n",
       " 0.35813565929824076,\n",
       " 0.37280461222554528,\n",
       " 0.39099321793685393,\n",
       " 0.37522677755734579,\n",
       " 0.41677762236428428,\n",
       " 0.36187533098461461,\n",
       " 0.4078492783480932,\n",
       " 0.37729704783627771,\n",
       " 0.40937425056743831,\n",
       " 0.57756168869878055,\n",
       " 0.36600653894055718,\n",
       " 0.32360786553359155,\n",
       " 0.39357428954250007,\n",
       " 0.37275723133174876,\n",
       " 0.31051483719468825,\n",
       " 0.35885403739423227,\n",
       " 0.50489253590924932,\n",
       " 0.99298327682691367,\n",
       " 0.60320656444355025,\n",
       " 0.81813593870798951,\n",
       " 0.74144625174319911,\n",
       " 1.0,\n",
       " 0.98904258057645789,\n",
       " 0.45859130613540217,\n",
       " 0.56328149038086761,\n",
       " 0.24357624434011627,\n",
       " 0.5295459843072563,\n",
       " 0.45584264583973344,\n",
       " 0.40084912649059995,\n",
       " 0.36592632004570924,\n",
       " 0.48249206021720398,\n",
       " 0.50613075753666292,\n",
       " 0.52475545894867448,\n",
       " 0.25560294553727342,\n",
       " 0.51517712722830933,\n",
       " 0.39426839931936541,\n",
       " 0.24373872909089631,\n",
       " 0.35980598335720909,\n",
       " 0.33135734291460034,\n",
       " 0.50526845125302722,\n",
       " 0.4892655388259386,\n",
       " 0.48795082203212131,\n",
       " 0.64264083054652532,\n",
       " 0.37616803461672849,\n",
       " 0.3927007831406289,\n",
       " 0.4343318720123383,\n",
       " 0.39504263857948785,\n",
       " 0.42060827969338566,\n",
       " 0.38103932199596313,\n",
       " 0.44212271627757144,\n",
       " 0.39629421250832847,\n",
       " 0.43851671843214896,\n",
       " 0.49010689217863018,\n",
       " 0.38443521863916014,\n",
       " 0.33990174292961123,\n",
       " 0.43408527414052589,\n",
       " 0.40224089369147153,\n",
       " 0.3412175051614823,\n",
       " 0.37896833294547405,\n",
       " 0.56841920799158774,\n",
       " 0.97008765933351815,\n",
       " 0.67651219112075323,\n",
       " 0.86871348768126233,\n",
       " 0.74596984941195121,\n",
       " 0.98904258057645789,\n",
       " 1.0,\n",
       " 0.51265038109277683,\n",
       " 0.63742616610252101,\n",
       " 0.26084657443927095,\n",
       " 0.61807941005857159,\n",
       " 0.50299328949038313,\n",
       " 0.48216424779265071,\n",
       " 0.38814758777479808,\n",
       " 0.56761885785244259,\n",
       " 0.57747462717059383,\n",
       " 0.61170154805685095,\n",
       " 0.27384290508811066,\n",
       " 0.55756783786852526,\n",
       " 0.42120841612905918,\n",
       " 0.26101987751652489,\n",
       " 0.43910439191800626,\n",
       " 0.35266629959135304,\n",
       " 0.56531463060969789,\n",
       " 0.52878903005868982,\n",
       " 0.5318675502332072,\n",
       " 0.66782710585975369,\n",
       " 0.39967259716621595,\n",
       " 0.4205562263008909,\n",
       " 0.462361061252752,\n",
       " 0.4199106536397475,\n",
       " 0.44463323290257423,\n",
       " 0.4027879693554906,\n",
       " 0.47824762540224486,\n",
       " 0.42105634390005653,\n",
       " 0.46221353304509288,\n",
       " 0.5191476429193449,\n",
       " 0.40845634996769165,\n",
       " 0.36114023503934811,\n",
       " 0.46953001162239388,\n",
       " 0.429543267243157,\n",
       " 0.3725438850030301,\n",
       " 0.40870904182575202,\n",
       " 0.71706178272474563,\n",
       " 0.41105132035398961,\n",
       " 0.77711656171729204,\n",
       " 0.66008187030987409,\n",
       " 0.42864222024120885,\n",
       " 0.45859130613540217,\n",
       " 0.51265038109277683,\n",
       " 1.0,\n",
       " 0.86387466132463231,\n",
       " 0.26097116018418426,\n",
       " 0.6354063132391401,\n",
       " 0.55491938617510561,\n",
       " 0.58124783620283516,\n",
       " 0.37947235194160334,\n",
       " 0.72880207792966945,\n",
       " 0.63585322600822936,\n",
       " 0.66005261850815444,\n",
       " 0.2796215346254064,\n",
       " 0.70697619123505306,\n",
       " 0.43524272365319833,\n",
       " 0.26114898772703632,\n",
       " 0.59405973929680533,\n",
       " 0.36691474465782425,\n",
       " 0.76001248929358756,\n",
       " 0.8978074109808637,\n",
       " 0.89050738879291025,\n",
       " 0.6288449972937995,\n",
       " 0.87655416645226403,\n",
       " 0.85826688312608346,\n",
       " 0.57863443565405381,\n",
       " 0.88512241241505796,\n",
       " 0.68359638929937538,\n",
       " 0.83242145836948644,\n",
       " 0.70078964815561495,\n",
       " 0.58076372225360096,\n",
       " 0.64728895498773875,\n",
       " 0.77165673178679628,\n",
       " 0.86552726459366314,\n",
       " 0.82055008448873923,\n",
       " 0.58843529359902502,\n",
       " 0.55541675868063745,\n",
       " 0.37995892966973499,\n",
       " 0.65677272668775288,\n",
       " 0.87424133640790869,\n",
       " 0.50400889545119043,\n",
       " 0.87476829940090284,\n",
       " 0.85501816270101849,\n",
       " 0.46890942207949449,\n",
       " 0.56328149038086761,\n",
       " 0.63742616610252101,\n",
       " 0.86387466132463231,\n",
       " 1.0,\n",
       " 0.28536600727253553,\n",
       " 0.84447034761429984,\n",
       " 0.67590478920982244,\n",
       " 0.8261660881855154,\n",
       " 0.41979977967872106,\n",
       " 0.89153773241207468,\n",
       " 0.82887288265360348,\n",
       " 0.8696391928730558,\n",
       " 0.30234493437788723,\n",
       " 0.76809758471169332,\n",
       " 0.51839865320083323,\n",
       " 0.28556046283189357,\n",
       " 0.77432405387510317,\n",
       " 0.45089356184261414,\n",
       " 0.83715440206872282,\n",
       " 0.77183360223387065,\n",
       " 0.79402851074879466,\n",
       " 0.6325688424896504,\n",
       " 0.61543387818649498,\n",
       " 0.66523375531651419,\n",
       " 0.5693847479975549,\n",
       " 0.63395040810427994,\n",
       " 0.62462246095898066,\n",
       " 0.57233523513310514,\n",
       " 0.70139860795939135,\n",
       " 0.607442398649785,\n",
       " 0.63809494331420491,\n",
       " 0.70371527803422584,\n",
       " 0.63419055483073505,\n",
       " 0.55144328454268332,\n",
       " 0.63702361167894594,\n",
       " 0.53445056646039191,\n",
       " 0.43020250419356371,\n",
       " 0.6400935299436743,\n",
       " 0.35491573767099976,\n",
       " 0.21321480214959337,\n",
       " 0.25811645913522119,\n",
       " 0.27896993270224829,\n",
       " 0.222339306553717,\n",
       " 0.24357624434011627,\n",
       " 0.26084657443927095,\n",
       " 0.26097116018418426,\n",
       " 0.28536600727253553,\n",
       " 1.0,\n",
       " 0.22258502852670023,\n",
       " 0.5873101085736564,\n",
       " 0.19039547234063586,\n",
       " 0.94321532243270456,\n",
       " 0.23325625714200723,\n",
       " 0.25054726234532559,\n",
       " 0.23664482815621468,\n",
       " 0.99889704167540005,\n",
       " 0.37143739853919266,\n",
       " 0.53542517234164788,\n",
       " 0.999999895548355,\n",
       " 0.17817457398490688,\n",
       " 0.29391174226530831,\n",
       " 0.45842813517561282,\n",
       " 0.25568040252349078,\n",
       " 0.25583589113008792,\n",
       " 0.66972148500724082,\n",
       " 0.21804449977680948,\n",
       " 0.2269754297367822,\n",
       " 0.78643060436836987,\n",
       " 0.25529481455038616,\n",
       " 0.27322402925712663,\n",
       " 0.20765919899200433,\n",
       " 0.24831174894637473,\n",
       " 0.22971056940338669,\n",
       " 0.24924020139703587,\n",
       " 0.3066293334321597,\n",
       " 0.2228365445429708,\n",
       " 0.19702286935028376,\n",
       " 0.23962067736997988,\n",
       " 0.81825130086371578,\n",
       " 0.95122502532068198,\n",
       " 0.21848187209329467,\n",
       " 0.73905340895447713,\n",
       " 0.47693896585607992,\n",
       " 0.84629149861783837,\n",
       " 0.74164090647214931,\n",
       " 0.46053126019006535,\n",
       " 0.5295459843072563,\n",
       " 0.61807941005857159,\n",
       " 0.6354063132391401,\n",
       " 0.84447034761429984,\n",
       " 0.22258502852670023,\n",
       " 1.0,\n",
       " 0.55059296985176776,\n",
       " 0.93298061545964894,\n",
       " 0.31341529694549808,\n",
       " 0.97800613772833156,\n",
       " 0.847445572636505,\n",
       " 0.99032549581683982,\n",
       " 0.23489980265490942,\n",
       " 0.55400050356556629,\n",
       " 0.37457132580671348,\n",
       " 0.22273670521877206,\n",
       " 0.94688485757354968,\n",
       " 0.31294542723220964,\n",
       " 0.68790720530231453,\n",
       " 0.52670185017569171,\n",
       " 0.55932946611077272,\n",
       " 0.48592852073215381,\n",
       " 0.3585314582286202,\n",
       " 0.39675992344984429,\n",
       " 0.39359239951823705,\n",
       " 0.37564146570525409,\n",
       " 0.3943388624786347,\n",
       " 0.34889144030377267,\n",
       " 0.50223173433907231,\n",
       " 0.37771402365418594,\n",
       " 0.40982667699656045,\n",
       " 0.45136538645324242,\n",
       " 0.36641103673299485,\n",
       " 0.32396550567957333,\n",
       " 0.50794080025994648,\n",
       " 0.3731691902492783,\n",
       " 0.36515585690796004,\n",
       " 0.40319298610744131,\n",
       " 0.86799707748927746,\n",
       " 0.40389543389566834,\n",
       " 0.58235508119535151,\n",
       " 0.58506002050649653,\n",
       " 0.42118009557963099,\n",
       " 0.45584264583973344,\n",
       " 0.50299328949038313,\n",
       " 0.55491938617510561,\n",
       " 0.67590478920982244,\n",
       " 0.5873101085736564,\n",
       " 0.55059296985176776,\n",
       " 1.0,\n",
       " 0.49295323498961519,\n",
       " 0.69396511505350034,\n",
       " 0.57193620107979548,\n",
       " 0.57213250674620331,\n",
       " 0.57621401577811027,\n",
       " 0.60499776221762225,\n",
       " 0.87366173457451857,\n",
       " 0.93933343703687611,\n",
       " 0.58754441201086582,\n",
       " 0.47165601577279709,\n",
       " 0.79130263947621615,\n",
       " 0.91819009250230266,\n",
       " 0.51255272054627932,\n",
       " 0.52225867708451967,\n",
       " 0.74518238972239403,\n",
       " 0.4130443889669545,\n",
       " 0.43777534987765787,\n",
       " 0.73992920933023143,\n",
       " 0.45314596031208615,\n",
       " 0.4795205243938826,\n",
       " 0.39337138605314864,\n",
       " 0.49994396869896357,\n",
       " 0.66790440701744835,\n",
       " 0.54183835849718587,\n",
       " 0.54218853158347435,\n",
       " 0.42212201892027817,\n",
       " 0.3732228549935328,\n",
       " 0.48915723830832136,\n",
       " 0.73144491307080384,\n",
       " 0.72225862248798878,\n",
       " 0.51489628126518416,\n",
       " 0.67233278811315134,\n",
       " 0.35162851934763906,\n",
       " 0.73430958385761858,\n",
       " 0.68949545743011009,\n",
       " 0.31955913389414314,\n",
       " 0.40084912649059995,\n",
       " 0.48216424779265071,\n",
       " 0.58124783620283516,\n",
       " 0.8261660881855154,\n",
       " 0.19039547234063586,\n",
       " 0.93298061545964894,\n",
       " 0.49295323498961519,\n",
       " 1.0,\n",
       " 0.27787816590032866,\n",
       " 0.919883550467961,\n",
       " 0.76222646566524432,\n",
       " 0.92697690778462216,\n",
       " 0.20109518102216109,\n",
       " 0.48091738543314649,\n",
       " 0.32127084119641997,\n",
       " 0.1905252120352523,\n",
       " 0.95180930821997689,\n",
       " 0.26768822748342913,\n",
       " 0.62842576529479532,\n",
       " 0.45185523762493129,\n",
       " 0.48588334661947713,\n",
       " 0.40292536256699113,\n",
       " 0.30668174767434453,\n",
       " 0.3429501632931185,\n",
       " 0.34089179161392497,\n",
       " 0.32131736275788036,\n",
       " 0.33731079811467218,\n",
       " 0.2926663467129082,\n",
       " 0.44508267336418394,\n",
       " 0.32309019201173445,\n",
       " 0.35055881283694262,\n",
       " 0.39218834470839009,\n",
       " 0.31342180725411767,\n",
       " 0.27711461692816458,\n",
       " 0.45376883254402162,\n",
       " 0.31920262027158186,\n",
       " 0.31832519302188139,\n",
       " 0.35175693821755105,\n",
       " 0.47164812128681638,\n",
       " 0.32457383295139397,\n",
       " 0.35771445461518714,\n",
       " 0.42962082107436556,\n",
       " 0.30813216886259137,\n",
       " 0.36592632004570924,\n",
       " 0.38814758777479808,\n",
       " 0.37947235194160334,\n",
       " 0.41979977967872106,\n",
       " 0.94321532243270456,\n",
       " 0.31341529694549808,\n",
       " 0.69396511505350034,\n",
       " 0.27787816590032866,\n",
       " 1.0,\n",
       " 0.32599213579709219,\n",
       " 0.35345452181193043,\n",
       " 0.33253083118915955,\n",
       " 0.95366952433742369,\n",
       " 0.493395399015222,\n",
       " 0.62759843865250153,\n",
       " 0.9433388725414531,\n",
       " 0.24883178963771393,\n",
       " 0.37464773949463948,\n",
       " 0.59258083144432627,\n",
       " 0.36490192138108829,\n",
       " 0.36314383697850028,\n",
       " 0.82985367228658335,\n",
       " 0.32415229064288203,\n",
       " 0.32802730888653259,\n",
       " 0.8868938266910289,\n",
       " 0.37069159017827757,\n",
       " 0.37112548233401227,\n",
       " 0.3126823726292014,\n",
       " 0.34412645335615882,\n",
       " 0.31991402900520888,\n",
       " 0.34541316419795431,\n",
       " 0.43016186647264187,\n",
       " 0.32604484684514184,\n",
       " 0.29771448457122618,\n",
       " 0.3320818069780383,\n",
       " 0.89812669509299181,\n",
       " 0.95883893978746493,\n",
       " 0.30278628644841077,\n",
       " 0.7810720628495238,\n",
       " 0.42941650794176872,\n",
       " 0.87596347339691949,\n",
       " 0.71701044569118522,\n",
       " 0.4387250921411176,\n",
       " 0.48249206021720398,\n",
       " 0.56761885785244259,\n",
       " 0.72880207792966945,\n",
       " 0.89153773241207468,\n",
       " 0.23325625714200723,\n",
       " 0.97800613772833156,\n",
       " 0.57193620107979548,\n",
       " 0.919883550467961,\n",
       " 0.32599213579709219,\n",
       " 1.0,\n",
       " 0.86606815564302964,\n",
       " 0.98173013656395913,\n",
       " 0.24689530266178239,\n",
       " 0.5988325404120638,\n",
       " 0.39232421399785811,\n",
       " 0.23341520535484497,\n",
       " 0.95065864356212071,\n",
       " 0.32794873698102722,\n",
       " 0.73184957894665381,\n",
       " 0.60584208177750121,\n",
       " 0.63884494376059531,\n",
       " 0.50222551256693804,\n",
       " 0.43467875069617057,\n",
       " 0.47688586312680609,\n",
       " 0.43202830794523095,\n",
       " 0.451774735851801,\n",
       " 0.45446556873730104,\n",
       " 0.41603826449695175,\n",
       " 0.56225114881475435,\n",
       " 0.4224656596476089,\n",
       " 0.4627002391240248,\n",
       " 0.51179740435963295,\n",
       " 0.44424095237098021,\n",
       " 0.39277589504941007,\n",
       " 0.54556980693056667,\n",
       " 0.41206088624316123,\n",
       " 0.37810694240207654,\n",
       " 0.46453460485824388,\n",
       " 0.78297359570848668,\n",
       " 0.45390557074553417,\n",
       " 0.74907657767930402,\n",
       " 0.71462701060997047,\n",
       " 0.44792401122140985,\n",
       " 0.50613075753666292,\n",
       " 0.57747462717059383,\n",
       " 0.63585322600822936,\n",
       " 0.82887288265360348,\n",
       " 0.25054726234532559,\n",
       " 0.847445572636505,\n",
       " 0.57213250674620331,\n",
       " 0.76222646566524432,\n",
       " 0.35345452181193043,\n",
       " 0.86606815564302964,\n",
       " 1.0,\n",
       " 0.88971392887814438,\n",
       " 0.26402698173604666,\n",
       " 0.58913129209286175,\n",
       " 0.41963037522473506,\n",
       " 0.25071799357429925,\n",
       " 0.74047446602872424,\n",
       " 0.35225918216730534,\n",
       " 0.69002010765887134,\n",
       " 0.5478028649027773,\n",
       " 0.57188796294904987,\n",
       " 0.52222476465363199,\n",
       " 0.40357195621571373,\n",
       " 0.4384902989058313,\n",
       " 0.44332793860969577,\n",
       " 0.42283140727756219,\n",
       " 0.44387766380132376,\n",
       " 0.3872764875395775,\n",
       " 0.53131159535677164,\n",
       " 0.42516433036638346,\n",
       " 0.46131113430442022,\n",
       " 0.50848734949377961,\n",
       " 0.4124414062998214,\n",
       " 0.36466365741106932,\n",
       " 0.52984666435120253,\n",
       " 0.4200485523196314,\n",
       " 0.38524646865261697,\n",
       " 0.43841775470507571,\n",
       " 0.7727786796108117,\n",
       " 0.47038040198711045,\n",
       " 0.84709239093295197,\n",
       " 0.75036177165954121,\n",
       " 0.48486010170105598,\n",
       " 0.52475545894867448,\n",
       " 0.61170154805685095,\n",
       " 0.66005261850815444,\n",
       " 0.8696391928730558,\n",
       " 0.23664482815621468,\n",
       " 0.99032549581683982,\n",
       " 0.57621401577811027,\n",
       " 0.92697690778462216,\n",
       " 0.33253083118915955,\n",
       " 0.98173013656395913,\n",
       " 0.88971392887814438,\n",
       " 1.0,\n",
       " 0.24966627116073495,\n",
       " 0.58134576215420564,\n",
       " 0.39785894529042998,\n",
       " 0.23680608577035184,\n",
       " 0.93237095836254924,\n",
       " 0.33271292943620723,\n",
       " 0.71492307024070545,\n",
       " 0.54887223047994393,\n",
       " 0.58108228388364935,\n",
       " 0.50560634853073372,\n",
       " 0.38117844640614001,\n",
       " 0.42029957016181363,\n",
       " 0.41815652373735324,\n",
       " 0.39936922390929963,\n",
       " 0.42242385931489101,\n",
       " 0.36884310458802189,\n",
       " 0.52746211493864648,\n",
       " 0.40157269710043036,\n",
       " 0.43571377741096634,\n",
       " 0.49604873688365453,\n",
       " 0.38955574606944476,\n",
       " 0.34442910181552722,\n",
       " 0.53198058799426384,\n",
       " 0.39674078476201807,\n",
       " 0.38256938070120877,\n",
       " 0.4257479369205896,\n",
       " 0.37158674768559441,\n",
       " 0.22392794909035957,\n",
       " 0.27194412270369556,\n",
       " 0.29352665988526988,\n",
       " 0.23351092135000098,\n",
       " 0.25560294553727342,\n",
       " 0.27384290508811066,\n",
       " 0.2796215346254064,\n",
       " 0.30234493437788723,\n",
       " 0.99889704167540005,\n",
       " 0.23489980265490942,\n",
       " 0.60499776221762225,\n",
       " 0.20109518102216109,\n",
       " 0.95366952433742369,\n",
       " 0.24689530266178239,\n",
       " 0.26402698173604666,\n",
       " 0.24966627116073495,\n",
       " 1.0,\n",
       " 0.38920370829196238,\n",
       " 0.55023784832304057,\n",
       " 0.99891399837825556,\n",
       " 0.1888034441570022,\n",
       " 0.3053352943241579,\n",
       " 0.48064661941426923,\n",
       " 0.27176246757968114,\n",
       " 0.27146613722028706,\n",
       " 0.69428336452157624,\n",
       " 0.23507192688054057,\n",
       " 0.24221464280924096,\n",
       " 0.80494106987393754,\n",
       " 0.27424221029810825,\n",
       " 0.28655118534077556,\n",
       " 0.2249444582201493,\n",
       " 0.26107601559294796,\n",
       " 0.24169440498018058,\n",
       " 0.26176347324199872,\n",
       " 0.32337038743198498,\n",
       " 0.2388167264959262,\n",
       " 0.21370347627108446,\n",
       " 0.25200114322017725,\n",
       " 0.83640249524052035,\n",
       " 0.95938267857454929,\n",
       " 0.22960068099673833,\n",
       " 0.92355050127466465,\n",
       " 0.46623886456424701,\n",
       " 0.69492310087507292,\n",
       " 0.65418908933033926,\n",
       " 0.48327720541671804,\n",
       " 0.51517712722830933,\n",
       " 0.55756783786852526,\n",
       " 0.70697619123505306,\n",
       " 0.76809758471169332,\n",
       " 0.37143739853919266,\n",
       " 0.55400050356556629,\n",
       " 0.87366173457451857,\n",
       " 0.48091738543314649,\n",
       " 0.493395399015222,\n",
       " 0.5988325404120638,\n",
       " 0.58913129209286175,\n",
       " 0.58134576215420564,\n",
       " 0.38920370829196238,\n",
       " 1.0,\n",
       " 0.84569034604488658,\n",
       " 0.37165617334007484,\n",
       " 0.46342518970508428,\n",
       " 0.81952149539086405,\n",
       " 0.89481995758791166,\n",
       " 0.71830322901784172,\n",
       " 0.72245905649334063,\n",
       " 0.67216724794241811,\n",
       " 0.59297252668740008,\n",
       " 0.64917318460427043,\n",
       " 0.6613451916119244,\n",
       " 0.61948828291378777,\n",
       " 0.65899248756545648,\n",
       " 0.54041883801291646,\n",
       " 0.66031155932772312,\n",
       " 0.91169081702570698,\n",
       " 0.74628634673120242,\n",
       " 0.70794529347730761,\n",
       " 0.62620660343244328,\n",
       " 0.51815626421392946,\n",
       " 0.57487033105441188,\n",
       " 0.63575722023844294,\n",
       " 0.49318018738637948,\n",
       " 0.75145441594263884,\n",
       " 0.75208237908875919,\n",
       " 0.35316486905405375,\n",
       " 0.43199849461466727,\n",
       " 0.46487971606450479,\n",
       " 0.36827852187188542,\n",
       " 0.39426839931936541,\n",
       " 0.42120841612905918,\n",
       " 0.43524272365319833,\n",
       " 0.51839865320083323,\n",
       " 0.53542517234164788,\n",
       " 0.37457132580671348,\n",
       " 0.93933343703687611,\n",
       " 0.32127084119641997,\n",
       " 0.62759843865250153,\n",
       " 0.39232421399785811,\n",
       " 0.41963037522473506,\n",
       " 0.39785894529042998,\n",
       " 0.55023784832304057,\n",
       " 0.84569034604488658,\n",
       " 1.0,\n",
       " 0.53563116060668392,\n",
       " 0.30104544448543896,\n",
       " 0.90460241133441255,\n",
       " 0.80125612189511652,\n",
       " 0.42492974892673957,\n",
       " 0.42564651317240948,\n",
       " 0.66405720912625632,\n",
       " 0.36116468532505464,\n",
       " 0.37635978329878622,\n",
       " 0.66332840848227836,\n",
       " 0.39714903678786806,\n",
       " 0.42043366595504023,\n",
       " 0.34396267533859759,\n",
       " 0.41278958289047185,\n",
       " 0.70135741702950072,\n",
       " 0.50249539775002638,\n",
       " 0.47525299413342476,\n",
       " 0.36910213604765452,\n",
       " 0.32634486422780962,\n",
       " 0.39866847984468623,\n",
       " 0.65691981252174736,\n",
       " 0.62096780672813334,\n",
       " 0.47182284254735646,\n",
       " 0.35513119284848693,\n",
       " 0.21336009254618921,\n",
       " 0.25829234362030906,\n",
       " 0.27916003008433299,\n",
       " 0.22249081616014796,\n",
       " 0.24373872909089631,\n",
       " 0.26101987751652489,\n",
       " 0.26114898772703632,\n",
       " 0.28556046283189357,\n",
       " 0.999999895548355,\n",
       " 0.22273670521877206,\n",
       " 0.58754441201086582,\n",
       " 0.1905252120352523,\n",
       " 0.9433388725414531,\n",
       " 0.23341520535484497,\n",
       " 0.25071799357429925,\n",
       " 0.23680608577035184,\n",
       " 0.99891399837825556,\n",
       " 0.37165617334007484,\n",
       " 0.53563116060668392,\n",
       " 1.0,\n",
       " 0.17829598572527633,\n",
       " 0.29406847418416071,\n",
       " 0.45866611535722973,\n",
       " 0.25585463108551609,\n",
       " 0.2560102234397007,\n",
       " 0.66997040723722023,\n",
       " 0.21819307652902784,\n",
       " 0.2271300917694925,\n",
       " 0.78664616743812033,\n",
       " 0.2554591112691954,\n",
       " 0.27339806349716012,\n",
       " 0.20780070281133073,\n",
       " 0.2484809508215666,\n",
       " 0.22986709895620347,\n",
       " 0.24941003868607689,\n",
       " 0.30682598292097335,\n",
       " 0.22298838875711749,\n",
       " 0.19715712288706216,\n",
       " 0.23978396026954615,\n",
       " 0.81845120770371027,\n",
       " 0.95133680391283137,\n",
       " 0.21863075192874518,\n",
       " 0.65264089322309926,\n",
       " 0.3150700808621455,\n",
       " 0.74598439814741413,\n",
       " 0.58861911063010075,\n",
       " 0.32341462112585717,\n",
       " 0.35980598335720909,\n",
       " 0.43910439191800626,\n",
       " 0.59405973929680533,\n",
       " 0.77432405387510317,\n",
       " 0.17817457398490688,\n",
       " 0.94688485757354968,\n",
       " 0.47165601577279709,\n",
       " 0.95180930821997689,\n",
       " 0.24883178963771393,\n",
       " 0.95065864356212071,\n",
       " 0.74047446602872424,\n",
       " 0.93237095836254924,\n",
       " 0.1888034441570022,\n",
       " 0.46342518970508428,\n",
       " 0.30104544448543896,\n",
       " 0.17829598572527633,\n",
       " 1.0,\n",
       " 0.25050614491618728,\n",
       " 0.62280518144706398,\n",
       " 0.4495274037830021,\n",
       " 0.48246516178142562,\n",
       " 0.37826446342371323,\n",
       " 0.31124399689185978,\n",
       " 0.33858712366202254,\n",
       " 0.31742906979509006,\n",
       " 0.3252749155282188,\n",
       " 0.31749427537037084,\n",
       " 0.30365477731905133,\n",
       " 0.42374350688344542,\n",
       " 0.30407162653467562,\n",
       " 0.3280575231392045,\n",
       " 0.36677132978989185,\n",
       " 0.31228714522523976,\n",
       " 0.28658459626760291,\n",
       " 0.43370146123293463,\n",
       " 0.30343881357838459,\n",
       " 0.30398048611858436,\n",
       " 0.33235074856369229,\n",
       " 0.70191312769499892,\n",
       " 0.2997712712635372,\n",
       " 0.36290115543639279,\n",
       " 0.3922202886899589,\n",
       " 0.31259995276261188,\n",
       " 0.33135734291460034,\n",
       " 0.35266629959135304,\n",
       " 0.36691474465782425,\n",
       " 0.45089356184261414,\n",
       " 0.29391174226530831,\n",
       " 0.31294542723220964,\n",
       " 0.79130263947621615,\n",
       " 0.26768822748342913,\n",
       " 0.37464773949463948,\n",
       " 0.32794873698102722,\n",
       " 0.35225918216730534,\n",
       " 0.33271292943620723,\n",
       " 0.3053352943241579,\n",
       " 0.81952149539086405,\n",
       " 0.90460241133441255,\n",
       " 0.29406847418416071,\n",
       " 0.25050614491618728,\n",
       " 1.0,\n",
       " 0.69425483882973016,\n",
       " 0.35947616600998739,\n",
       " 0.35969477320018806,\n",
       " 0.46239072239534679,\n",
       " 0.30656162081072763,\n",
       " 0.31911814144536077,\n",
       " 0.43393211721440256,\n",
       " 0.32904051681089863,\n",
       " 0.34686993903313035,\n",
       " 0.29196031967466624,\n",
       " 0.34911613265994856,\n",
       " 0.76727423883958301,\n",
       " 0.46276291864042018,\n",
       " 0.39319054330308406,\n",
       " 0.31329904245173557,\n",
       " 0.27700607251480708,\n",
       " 0.3368968475062169,\n",
       " 0.42162832281959628,\n",
       " 0.36631955255863485,\n",
       " 0.44581142880508012,\n",
       " 0.91901443081352086,\n",
       " 0.44853860677722068,\n",
       " 0.69862088510217701,\n",
       " 0.67958546343294612,\n",
       " 0.46773376829489455,\n",
       " 0.50526845125302722,\n",
       " 0.56531463060969789,\n",
       " 0.76001248929358756,\n",
       " 0.83715440206872282,\n",
       " 0.45842813517561282,\n",
       " 0.68790720530231453,\n",
       " ...]"
      ]
     },
     "execution_count": 52,
     "metadata": {},
     "output_type": "execute_result"
    }
   ],
   "source": [
    "weights_list"
   ]
  },
  {
   "cell_type": "code",
   "execution_count": 53,
   "metadata": {},
   "outputs": [
    {
     "data": {
      "text/plain": [
       "1849"
      ]
     },
     "execution_count": 53,
     "metadata": {},
     "output_type": "execute_result"
    }
   ],
   "source": [
    "len(weights_list)"
   ]
  },
  {
   "cell_type": "code",
   "execution_count": 54,
   "metadata": {},
   "outputs": [
    {
     "data": {
      "text/plain": [
       "43"
      ]
     },
     "execution_count": 54,
     "metadata": {},
     "output_type": "execute_result"
    }
   ],
   "source": [
    "weights_list.count(1)"
   ]
  },
  {
   "cell_type": "code",
   "execution_count": 55,
   "metadata": {
    "collapsed": true
   },
   "outputs": [],
   "source": [
    "with open(os.path.join(nx_dir,\"G_with_params_\"+comp_func_name+\".gpkl\"),'w') as fo:\n",
    "    pickle.dump(G,fo)\n",
    "with open(os.path.join(nx_dir,\"all_node_weights_\"+comp_func_name+\".gpkl\"),'w') as fo:\n",
    "    pickle.dump(all_node_weights,fo)"
   ]
  },
  {
   "cell_type": "code",
   "execution_count": 56,
   "metadata": {
    "collapsed": true
   },
   "outputs": [],
   "source": [
    "with open(os.path.join(root_dir,\"Progress.txt\"),'a') as fo:\n",
    "    print >> fo,\"-----LDA_modify_for_graph.py-----\"\n",
    "    print >> fo,\"LDAの結果がないノードを削除=>最大ノード群を再選択\"\n",
    "    print >> fo,\"この時点で、ノードには代表トピックとその色、エッジには重みの情報を渡している。\"\n",
    "    print >> fo,\"len(lda.theta()):\" + str(len(lda.theta())) + \"（ldaにかけた文書数）\"\n",
    "    print >> fo,\"old_node_number:\" + str(old_node_num) + \"（G_myexttext_largest.gpkl）\"\n",
    "    print >> fo,\"new_node_number:\" + str(new_node_num) + \"（G_with_params_comp4_2.gpkl）\"\n",
    "    print >> fo,\"file_id_list2.list=>この時点でのノードidのリストを格納．\""
   ]
  },
  {
   "cell_type": "code",
   "execution_count": 57,
   "metadata": {},
   "outputs": [
    {
     "name": "stderr",
     "output_type": "stream",
     "text": [
      "/home/yukichika/.pyenv/versions/anaconda2-4.4.0/lib/python2.7/site-packages/matplotlib/figure.py:397: UserWarning: matplotlib is currently using a non-GUI backend, so cannot show the figure\n",
      "  \"matplotlib is currently using a non-GUI backend, \"\n"
     ]
    }
   ],
   "source": [
    "\"\"\"weightのヒストグラム作成\"\"\"\n",
    "fig_w = plt.figure()\n",
    "ax = fig_w.add_subplot(1,1,1)\n",
    "weights_array = np.array(weights_list,dtype=np.float)\n",
    "ax.hist(weights_array,bins=100)\n",
    "plt.text(0.5, 0.9, \"max=\"+\"{0:.3f}\".format(weights_array.max()), transform=ax.transAxes)\n",
    "plt.text(0.5, 0.85, \"min=\"+\"{0:.3g}\".format(weights_array.min()), transform=ax.transAxes)\n",
    "fig_w.show()\n",
    "fig_w.savefig(os.path.join(nx_dir,comp_func_name+\"_hist.png\"))"
   ]
  },
  {
   "cell_type": "code",
   "execution_count": 58,
   "metadata": {
    "scrolled": true
   },
   "outputs": [
    {
     "data": {
      "image/png": "[encoded data removed]"
     },
     "metadata": {},
     "output_type": "display_data"
    }
   ],
   "source": [
    "from IPython.display import Image, display_png\n",
    "display_png(Image(os.path.join(nx_dir,comp_func_name+\"_hist.png\")))"
   ]
  },
  {
   "cell_type": "code",
   "execution_count": 59,
   "metadata": {
    "collapsed": true
   },
   "outputs": [],
   "source": [
    "\"\"\"\"トピックと色の対応グラフを作成\"\"\"\n",
    "fig = plt.figure()\n",
    "ax = fig.add_subplot(1,1,1)\n",
    "sample = np.ones(lda.K)\n",
    "labels = [unicode(x+1) for x in range(lda.K)]\n",
    "plt.rcParams['font.size']=20.0\n",
    "ax.pie(sample,colors=COLORLIST[:lda.K],labels=labels,startangle=90,radius=0.2, center=(0.5, 0.5), frame=True,counterclock=False)\n",
    "plt.axis(\"off\")\n",
    "plt.axis('equal')\n",
    "plt.savefig(os.path.join(exp_dir,\"Topic\"+unicode(lda.K)+\"_pie.png\"))"
   ]
  },
  {
   "cell_type": "code",
   "execution_count": 60,
   "metadata": {},
   "outputs": [
    {
     "data": {
      "image/png": "[encoded data removed]"
     },
     "metadata": {},
     "output_type": "display_data"
    }
   ],
   "source": [
    "display_png(Image(os.path.join(exp_dir,\"Topic\"+unicode(lda.K)+\"_pie.png\")))"
   ]
  },
  {
   "cell_type": "code",
   "execution_count": 61,
   "metadata": {
    "collapsed": true
   },
   "outputs": [],
   "source": [
    "\"\"\"\"文書全体でのトピック比率をグラフ化\"\"\"\n",
    "fig = plt.figure()\n",
    "ax = fig.add_subplot(1,1,1)\n",
    "sample = lda.theta().sum(axis=0)\n",
    "labels = [unicode(x+1) for x in range(lda.K)]\n",
    "plt.rcParams['font.size']=20.0\n",
    "ax.pie(sample,colors=COLORLIST[:lda.K],labels=labels,startangle=90,radius=0.2, center=(0.5, 0.5), frame=True,counterclock=False)\n",
    "#ax.set_aspect((ax.get_xlim()[1] - ax.get_xlim()[0]) / (ax.get_ylim()[1] - ax.get_ylim()[0]))\n",
    "plt.axis(\"off\")\n",
    "plt.axis('equal')\n",
    "plt.savefig(os.path.join(exp_dir,\"Topic\"+unicode(lda.K)+\"_share_pie.png\"))"
   ]
  },
  {
   "cell_type": "code",
   "execution_count": 62,
   "metadata": {},
   "outputs": [
    {
     "data": {
      "image/png": "[encoded data removed]"
     },
     "metadata": {},
     "output_type": "display_data"
    }
   ],
   "source": [
    "display_png(Image(os.path.join(exp_dir,\"Topic\"+unicode(lda.K)+\"_share_pie.png\")))"
   ]
  }
 ],
 "metadata": {
  "kernelspec": {
   "display_name": "Python 2",
   "language": "python",
   "name": "python2"
  },
  "language_info": {
   "codemirror_mode": {
    "name": "ipython",
    "version": 2
   },
   "file_extension": ".py",
   "mimetype": "text/x-python",
   "name": "python",
   "nbconvert_exporter": "python",
   "pygments_lexer": "ipython2",
   "version": "2.7.15"
  }
 },
 "nbformat": 4,
 "nbformat_minor": 2
}
