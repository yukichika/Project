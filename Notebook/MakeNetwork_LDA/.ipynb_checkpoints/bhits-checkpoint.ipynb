{
 "cells": [
  {
   "cell_type": "code",
   "execution_count": 4,
   "metadata": {
    "collapsed": true
   },
   "outputs": [],
   "source": [
    "import pickle\n",
    "\n",
    "import sys\n",
    "sys.path.append(\"../../Interactive_Graph_Visualizer/networkx-master\")\n",
    "import networkx as nx\n",
    "from networkx.exception import NetworkXError"
   ]
  },
  {
   "cell_type": "code",
   "execution_count": 5,
   "metadata": {
    "collapsed": true
   },
   "outputs": [],
   "source": [
    "G_file = \"../Data/Search_iPhone_5_add_childs_append/K10_myexttext_largest/nx_datas/G_with_params_comp4_2.gpkl\"\n",
    "with open(G_file,'r') as fi:\n",
    "    G = pickle.load(fi)"
   ]
  },
  {
   "cell_type": "code",
   "execution_count": 6,
   "metadata": {},
   "outputs": [
    {
     "data": {
      "text/plain": [
       "{'color': '#CFDB00',\n",
       " 'from_hosts': {},\n",
       " 'to_hosts': {u'aiphone.co.jp': 1,\n",
       "  u'itunes.apple.com': 1,\n",
       "  u'support.apple.com': 2},\n",
       " 'topic': 2}"
      ]
     },
     "execution_count": 6,
     "metadata": {},
     "output_type": "execute_result"
    }
   ],
   "source": [
    "G.node[0]"
   ]
  },
  {
   "cell_type": "code",
   "execution_count": 7,
   "metadata": {
    "collapsed": true
   },
   "outputs": [],
   "source": [
    "max_iter=100\n",
    "tol=1.0e-8\n",
    "nstart=None\n",
    "normalized=True\n",
    "weight_key=\"weight\""
   ]
  },
  {
   "cell_type": "code",
   "execution_count": 24,
   "metadata": {
    "scrolled": true
   },
   "outputs": [
    {
     "data": {
      "text/plain": [
       "{0: 0.023809523809523808,\n",
       " 1: 0.023809523809523808,\n",
       " 2: 0.023809523809523808,\n",
       " 3: 0.023809523809523808,\n",
       " 4: 0.023809523809523808,\n",
       " 6: 0.023809523809523808,\n",
       " 8: 0.023809523809523808,\n",
       " 9: 0.023809523809523808,\n",
       " 10: 0.023809523809523808,\n",
       " 12: 0.023809523809523808,\n",
       " 13: 0.023809523809523808,\n",
       " 14: 0.023809523809523808,\n",
       " 31: 0.023809523809523808,\n",
       " 32: 0.023809523809523808,\n",
       " 33: 0.023809523809523808,\n",
       " 34: 0.023809523809523808,\n",
       " 35: 0.023809523809523808,\n",
       " 36: 0.023809523809523808,\n",
       " 37: 0.023809523809523808,\n",
       " 38: 0.023809523809523808,\n",
       " 39: 0.023809523809523808,\n",
       " 40: 0.023809523809523808,\n",
       " 41: 0.023809523809523808,\n",
       " 42: 0.023809523809523808,\n",
       " 43: 0.023809523809523808,\n",
       " 44: 0.023809523809523808,\n",
       " 45: 0.023809523809523808,\n",
       " 47: 0.023809523809523808,\n",
       " 48: 0.023809523809523808,\n",
       " 49: 0.023809523809523808,\n",
       " 50: 0.023809523809523808,\n",
       " 52: 0.023809523809523808,\n",
       " 53: 0.023809523809523808,\n",
       " 59: 0.023809523809523808,\n",
       " 60: 0.023809523809523808,\n",
       " 61: 0.023809523809523808,\n",
       " 62: 0.023809523809523808,\n",
       " 63: 0.023809523809523808,\n",
       " 65: 0.023809523809523808,\n",
       " 66: 0.023809523809523808,\n",
       " 67: 0.023809523809523808,\n",
       " 68: 0.023809523809523808}"
      ]
     },
     "execution_count": 24,
     "metadata": {},
     "output_type": "execute_result"
    }
   ],
   "source": [
    "h=dict.fromkeys(G,1.0/G.number_of_nodes())\n",
    "h"
   ]
  },
  {
   "cell_type": "code",
   "execution_count": 25,
   "metadata": {
    "collapsed": true
   },
   "outputs": [],
   "source": [
    "i=0"
   ]
  },
  {
   "cell_type": "code",
   "execution_count": 26,
   "metadata": {
    "scrolled": true
   },
   "outputs": [
    {
     "data": {
      "text/plain": [
       "{0: 0.023809523809523808,\n",
       " 1: 0.023809523809523808,\n",
       " 2: 0.023809523809523808,\n",
       " 3: 0.023809523809523808,\n",
       " 4: 0.023809523809523808,\n",
       " 6: 0.023809523809523808,\n",
       " 8: 0.023809523809523808,\n",
       " 9: 0.023809523809523808,\n",
       " 10: 0.023809523809523808,\n",
       " 12: 0.023809523809523808,\n",
       " 13: 0.023809523809523808,\n",
       " 14: 0.023809523809523808,\n",
       " 31: 0.023809523809523808,\n",
       " 32: 0.023809523809523808,\n",
       " 33: 0.023809523809523808,\n",
       " 34: 0.023809523809523808,\n",
       " 35: 0.023809523809523808,\n",
       " 36: 0.023809523809523808,\n",
       " 37: 0.023809523809523808,\n",
       " 38: 0.023809523809523808,\n",
       " 39: 0.023809523809523808,\n",
       " 40: 0.023809523809523808,\n",
       " 41: 0.023809523809523808,\n",
       " 42: 0.023809523809523808,\n",
       " 43: 0.023809523809523808,\n",
       " 44: 0.023809523809523808,\n",
       " 45: 0.023809523809523808,\n",
       " 47: 0.023809523809523808,\n",
       " 48: 0.023809523809523808,\n",
       " 49: 0.023809523809523808,\n",
       " 50: 0.023809523809523808,\n",
       " 52: 0.023809523809523808,\n",
       " 53: 0.023809523809523808,\n",
       " 59: 0.023809523809523808,\n",
       " 60: 0.023809523809523808,\n",
       " 61: 0.023809523809523808,\n",
       " 62: 0.023809523809523808,\n",
       " 63: 0.023809523809523808,\n",
       " 65: 0.023809523809523808,\n",
       " 66: 0.023809523809523808,\n",
       " 67: 0.023809523809523808,\n",
       " 68: 0.023809523809523808}"
      ]
     },
     "execution_count": 26,
     "metadata": {},
     "output_type": "execute_result"
    }
   ],
   "source": [
    "hlast=h\n",
    "hlast"
   ]
  },
  {
   "cell_type": "code",
   "execution_count": 27,
   "metadata": {
    "scrolled": true
   },
   "outputs": [
    {
     "data": {
      "text/plain": [
       "{0: 0,\n",
       " 1: 0,\n",
       " 2: 0,\n",
       " 3: 0,\n",
       " 4: 0,\n",
       " 6: 0,\n",
       " 8: 0,\n",
       " 9: 0,\n",
       " 10: 0,\n",
       " 12: 0,\n",
       " 13: 0,\n",
       " 14: 0,\n",
       " 31: 0,\n",
       " 32: 0,\n",
       " 33: 0,\n",
       " 34: 0,\n",
       " 35: 0,\n",
       " 36: 0,\n",
       " 37: 0,\n",
       " 38: 0,\n",
       " 39: 0,\n",
       " 40: 0,\n",
       " 41: 0,\n",
       " 42: 0,\n",
       " 43: 0,\n",
       " 44: 0,\n",
       " 45: 0,\n",
       " 47: 0,\n",
       " 48: 0,\n",
       " 49: 0,\n",
       " 50: 0,\n",
       " 52: 0,\n",
       " 53: 0,\n",
       " 59: 0,\n",
       " 60: 0,\n",
       " 61: 0,\n",
       " 62: 0,\n",
       " 63: 0,\n",
       " 65: 0,\n",
       " 66: 0,\n",
       " 67: 0,\n",
       " 68: 0}"
      ]
     },
     "execution_count": 27,
     "metadata": {},
     "output_type": "execute_result"
    }
   ],
   "source": [
    "h=dict.fromkeys(hlast.keys(),0)\n",
    "a=dict.fromkeys(hlast.keys(),0)\n",
    "h"
   ]
  },
  {
   "cell_type": "code",
   "execution_count": 28,
   "metadata": {
    "scrolled": true
   },
   "outputs": [
    {
     "data": {
      "text/plain": [
       "{0: 0,\n",
       " 1: 0,\n",
       " 2: 0,\n",
       " 3: 0,\n",
       " 4: 0,\n",
       " 6: 0,\n",
       " 8: 0,\n",
       " 9: 0,\n",
       " 10: 0,\n",
       " 12: 0,\n",
       " 13: 0,\n",
       " 14: 0,\n",
       " 31: 0,\n",
       " 32: 0,\n",
       " 33: 0,\n",
       " 34: 0,\n",
       " 35: 0,\n",
       " 36: 0,\n",
       " 37: 0,\n",
       " 38: 0,\n",
       " 39: 0,\n",
       " 40: 0,\n",
       " 41: 0,\n",
       " 42: 0,\n",
       " 43: 0,\n",
       " 44: 0,\n",
       " 45: 0,\n",
       " 47: 0,\n",
       " 48: 0,\n",
       " 49: 0,\n",
       " 50: 0,\n",
       " 52: 0,\n",
       " 53: 0,\n",
       " 59: 0,\n",
       " 60: 0,\n",
       " 61: 0,\n",
       " 62: 0,\n",
       " 63: 0,\n",
       " 65: 0,\n",
       " 66: 0,\n",
       " 67: 0,\n",
       " 68: 0}"
      ]
     },
     "execution_count": 28,
     "metadata": {},
     "output_type": "execute_result"
    }
   ],
   "source": [
    "a"
   ]
  },
  {
   "cell_type": "code",
   "execution_count": 29,
   "metadata": {},
   "outputs": [],
   "source": [
    "#nはリンク元、nbrはリンク先\n",
    "for n in h:\n",
    "    for nbr in G[n]:\n",
    "        around_n=set(G.node[n][\"from_hosts\"].keys())\n",
    "        around_nbr=set(G.node[n][\"from_hosts\"].keys())\n",
    "        denom=1\n",
    "        for co_host in (around_n & around_nbr):\n",
    "            denom+=G.node[n][\"from_hosts\"][co_host]\n",
    "        a[nbr]+=hlast[n]*G[n][nbr].get(weight_key,1)/denom"
   ]
  },
  {
   "cell_type": "code",
   "execution_count": 30,
   "metadata": {
    "collapsed": true
   },
   "outputs": [],
   "source": [
    "#nはリンク元、nbrはリンク先\n",
    "for n in h:\n",
    "    for nbr in G[n]:\n",
    "        around_n=set(G.node[n][\"to_hosts\"].keys())\n",
    "        around_nbr=set(G.node[n][\"to_hosts\"].keys())\n",
    "        denom=1\n",
    "        for co_host in (around_n & around_nbr):\n",
    "            denom+=G.node[n][\"to_hosts\"][co_host]\n",
    "        h[n]+=a[nbr]*G[n][nbr].get(weight_key,1)/denom"
   ]
  }
 ],
 "metadata": {
  "kernelspec": {
   "display_name": "Python 2",
   "language": "python",
   "name": "python2"
  },
  "language_info": {
   "codemirror_mode": {
    "name": "ipython",
    "version": 2
   },
   "file_extension": ".py",
   "mimetype": "text/x-python",
   "name": "python",
   "nbconvert_exporter": "python",
   "pygments_lexer": "ipython2",
   "version": "2.7.15"
  }
 },
 "nbformat": 4,
 "nbformat_minor": 2
}
