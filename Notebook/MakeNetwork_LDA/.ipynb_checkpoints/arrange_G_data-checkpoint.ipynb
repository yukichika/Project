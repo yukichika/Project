{
 "cells": [
  {
   "cell_type": "code",
   "execution_count": 1,
   "metadata": {
    "collapsed": true
   },
   "outputs": [],
   "source": [
    "import pickle\n",
    "import os\n",
    "import json\n",
    "from collections import Counter\n",
    "\n",
    "import sys\n",
    "sys.path.append(\"../../Interactive_Graph_Visualizer/networkx-master\")\n",
    "import networkx as nx"
   ]
  },
  {
   "cell_type": "code",
   "execution_count": 2,
   "metadata": {
    "collapsed": true
   },
   "outputs": [],
   "source": [
    "def domain_detect(url):\n",
    "    FQDN=url.split(\"/\")[2]\n",
    "    FQDN_list=FQDN.split(\".\")\n",
    "    return u\".\".join(FQDN_list[-3:])#開始点がリスト長より長くても問題なく無く動く"
   ]
  },
  {
   "cell_type": "code",
   "execution_count": 4,
   "metadata": {},
   "outputs": [],
   "source": [
    "search_word = u\"Test\"\n",
    "max_page = 10\n",
    "root_dir = \"../Data/Search_\" + search_word + \"_\" + unicode(max_page) + \"_add_childs\"\n",
    "src_pages_dir = os.path.join(root_dir,\"Pages\")\n",
    "text_file = \"../Data/Search_Test_10_add_childs/K10_myexttext_largest/nx_datas/G_with_params_comp4_2_hosts.txt\"\n",
    "G_file = \"../Data/Search_Test_10_add_childs/K10_myexttext_largest/nx_datas/G_with_params_comp4_2.gpkl\"\n",
    "with open(G_file,'r') as fi:\n",
    "    G = pickle.load(fi)"
   ]
  },
  {
   "cell_type": "code",
   "execution_count": 5,
   "metadata": {
    "collapsed": true
   },
   "outputs": [],
   "source": [
    "node_datas = dict()\n",
    "for node in G:\n",
    "    with open(os.path.join(src_pages_dir,str(node)+\".json\"),\"r\") as fj:\n",
    "        node_data = json.load(fj)\n",
    "    node_datas[node] = node_data"
   ]
  },
  {
   "cell_type": "code",
   "execution_count": 6,
   "metadata": {},
   "outputs": [
    {
     "name": "stderr",
     "output_type": "stream",
     "text": [
      "IOPub data rate exceeded.\n",
      "The notebook server will temporarily stop sending output\n",
      "to the client in order to avoid crashing it.\n",
      "To change this limit, set the config variable\n",
      "`--NotebookApp.iopub_data_rate_limit`.\n"
     ]
    }
   ],
   "source": [
    "node_datas"
   ]
  },
  {
   "cell_type": "code",
   "execution_count": 7,
   "metadata": {},
   "outputs": [
    {
     "data": {
      "text/plain": [
       "43"
      ]
     },
     "execution_count": 7,
     "metadata": {},
     "output_type": "execute_result"
    }
   ],
   "source": [
    "len(node_datas)"
   ]
  },
  {
   "cell_type": "code",
   "execution_count": 8,
   "metadata": {},
   "outputs": [
    {
     "data": {
      "text/plain": [
       "43"
      ]
     },
     "execution_count": 8,
     "metadata": {},
     "output_type": "execute_result"
    }
   ],
   "source": [
    "len(G)"
   ]
  },
  {
   "cell_type": "code",
   "execution_count": 9,
   "metadata": {},
   "outputs": [
    {
     "data": {
      "text/plain": [
       "{'color': '#0086D1', 'topic': 6}"
      ]
     },
     "execution_count": 9,
     "metadata": {},
     "output_type": "execute_result"
    }
   ],
   "source": [
    "G.node[2]"
   ]
  },
  {
   "cell_type": "code",
   "execution_count": 10,
   "metadata": {
    "collapsed": true
   },
   "outputs": [],
   "source": [
    "for node in G:\n",
    "    node_data = node_datas[node]\n",
    "    from_hosts = []\n",
    "    to_hosts = []\n",
    "    for in_edge in G.in_edges(node):#入ってくるエッジ\n",
    "        from_node = in_edge[0]\n",
    "        fromnode_data = node_datas[from_node]\n",
    "        from_hosts.append(domain_detect(fromnode_data[\"url\"]))\n",
    "    for out_edge in G.out_edges(node):#出て行くエッジ\n",
    "        to_node = out_edge[1]\n",
    "        tonode_data = node_datas[to_node]\n",
    "        to_hosts.append(domain_detect(tonode_data[\"url\"]))\n",
    "\n",
    "    G.node[node][\"from_hosts\"] = dict(Counter(from_hosts))#Counterインスタンスを辞書型でキャスト\n",
    "    G.node[node][\"to_hosts\"] = dict(Counter(to_hosts))"
   ]
  },
  {
   "cell_type": "code",
   "execution_count": 11,
   "metadata": {},
   "outputs": [
    {
     "data": {
      "text/plain": [
       "{'color': '#0086D1',\n",
       " 'from_hosts': {},\n",
       " 'to_hosts': {u'aiphone.co.jp': 1,\n",
       "  u'itunes.apple.com': 1,\n",
       "  u'support.apple.com': 1},\n",
       " 'topic': 6}"
      ]
     },
     "execution_count": 11,
     "metadata": {},
     "output_type": "execute_result"
    }
   ],
   "source": [
    "G.node[2]"
   ]
  },
  {
   "cell_type": "code",
   "execution_count": 12,
   "metadata": {},
   "outputs": [
    {
     "data": {
      "text/plain": [
       "<generator object in_edges at 0x7ff21bb83f50>"
      ]
     },
     "execution_count": 12,
     "metadata": {},
     "output_type": "execute_result"
    }
   ],
   "source": [
    "G.in_edges(2)"
   ]
  },
  {
   "cell_type": "code",
   "execution_count": 13,
   "metadata": {
    "collapsed": true
   },
   "outputs": [],
   "source": [
    "with open(G_file,\"w\") as fo:\n",
    "    pickle.dump(G,fo)\n",
    "with open(os.path.join(root_dir,\"Progress.txt\"),\"a\") as fo:\n",
    "    print >> fo,\"-----arrange_G_data.py-----\"\n",
    "    print >> fo,\"この時点で、ノードには代表トピックとその色、from_hosts、to_hostsをエッジには重みの情報を渡している。\"\n",
    "    print >> fo,\"from_host=>リンクされているWebページのドメインとその件数の辞書\"\n",
    "    print >> fo,\"to_hosts=>リンクしているWebページのドメインとその件数の辞書\"\n",
    "    print >> fo,\"ノード数：\" + str(len(G.node.keys())) + \"（G_with_params_comp4_2.gpkl）\""
   ]
  }
 ],
 "metadata": {
  "kernelspec": {
   "display_name": "Python 2",
   "language": "python",
   "name": "python2"
  },
  "language_info": {
   "codemirror_mode": {
    "name": "ipython",
    "version": 2
   },
   "file_extension": ".py",
   "mimetype": "text/x-python",
   "name": "python",
   "nbconvert_exporter": "python",
   "pygments_lexer": "ipython2",
   "version": "2.7.15"
  }
 },
 "nbformat": 4,
 "nbformat_minor": 2
}
