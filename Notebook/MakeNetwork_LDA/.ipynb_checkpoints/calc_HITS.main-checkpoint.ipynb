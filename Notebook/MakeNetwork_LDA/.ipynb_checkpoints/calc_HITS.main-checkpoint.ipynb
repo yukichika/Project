{
 "cells": [
  {
   "cell_type": "code",
   "execution_count": 6,
   "metadata": {
    "collapsed": true
   },
   "outputs": [],
   "source": [
    "import os\n",
    "import cPickle as pickle\n",
    "\n",
    "import sys\n",
    "sys.path.append(\"../../Interactive_Graph_Visualizer/networkx-master\")\n",
    "import networkx as nx"
   ]
  },
  {
   "cell_type": "code",
   "execution_count": 7,
   "metadata": {
    "collapsed": true
   },
   "outputs": [],
   "source": [
    "root_dir = \"../Data/Search_Test_10_add_childs\"\n",
    "G_file = \"../Data/Search_Test_10_add_childs/K10_myexttext_largest/nx_datas/G_with_params_comp4_2.gpkl\"\n",
    "btext_file = \"../Data/Search_Test_10_add_childs/K10_myexttext_largest/nx_datas/G_with_params_comp4_2_hosts_bhits.txt\"\n",
    "text_file = \"../Data/Search_Test_10_add_childs/K10_myexttext_largest/nx_datas/G_with_params_comp4_2_hosts_hits.txt\"\n",
    "with open(G_file,'r') as fi:\n",
    "    G = pickle.load(fi)"
   ]
  },
  {
   "cell_type": "code",
   "execution_count": 8,
   "metadata": {},
   "outputs": [
    {
     "data": {
      "text/plain": [
       "{'color': '#0086D1',\n",
       " 'from_hosts': {},\n",
       " 'to_hosts': {u'aiphone.co.jp': 1,\n",
       "  u'itunes.apple.com': 1,\n",
       "  u'support.apple.com': 1},\n",
       " 'topic': 6}"
      ]
     },
     "execution_count": 8,
     "metadata": {},
     "output_type": "execute_result"
    }
   ],
   "source": [
    "G.node[2]"
   ]
  },
  {
   "cell_type": "code",
   "execution_count": 9,
   "metadata": {
    "collapsed": true
   },
   "outputs": [],
   "source": [
    "weight_key = \"no_weight\"\n",
    "use_bhits = False"
   ]
  },
  {
   "cell_type": "code",
   "execution_count": 10,
   "metadata": {
    "scrolled": true
   },
   "outputs": [],
   "source": [
    "if use_bhits is True:\n",
    "    h_scores,a_scores = nx.bhits(G,weight_key=weight_key)\n",
    "    with open(os.path.join(root_dir,\"Progress.txt\"),\"a\") as fo:\n",
    "        print >> fo,\"-----calc_HITS.py-----\"\n",
    "        print >> fo,\"この時点で、ノードには代表トピックとその色、from_hosts、to_hosts、オーソリティ・ハブスコア、エッジには重みの情報を渡している。\"\n",
    "        print >> fo,\"ノード数：\" + str(len(G.node.keys())) + \"（G_with_params_comp4_2.gpkl）\"\n",
    "        print >> fo,\"weight_key:\" + weight_key\n",
    "        print >> fo,\"use_bhits:\" + str(use_bhits)\n",
    "else:\n",
    "    h_scores,a_scores = nx.hits(G,weight_key=weight_key)\n",
    "    with open(os.path.join(root_dir,\"Progress.txt\"),\"a\") as fo:\n",
    "        print >> fo,\"-----calc_HITS.py-----\"\n",
    "        print >> fo,\"この時点で、ノードには代表トピックとその色、from_hosts、to_hosts、オーソリティ・ハブスコア、エッジには重みの情報を渡している。\"\n",
    "        print >> fo,\"ノード数：\" + str(len(G.node.keys())) + \"（G_with_params_comp4_2.gpkl）\"\n",
    "        print >> fo,\"weight_key:\" + weight_key\n",
    "        print >> fo,\"use_bhits:\" + str(use_bhits)"
   ]
  },
  {
   "cell_type": "code",
   "execution_count": 11,
   "metadata": {
    "scrolled": true
   },
   "outputs": [
    {
     "data": {
      "text/plain": [
       "{0: 4.999029713779984e-15,\n",
       " 2: 0.014396614118132653,\n",
       " 3: 0.1667736070325817,\n",
       " 4: 0.0010197900420815058,\n",
       " 5: 0.015590000563581237,\n",
       " 6: 0.0010197900420815058,\n",
       " 7: 0.0009794925873430089,\n",
       " 9: 0.015590000563581237,\n",
       " 10: 0.0009794925873430089,\n",
       " 11: 0.0,\n",
       " 12: 5.250416388603686e-16,\n",
       " 13: 0.0,\n",
       " 14: 5.250416388603686e-16,\n",
       " 16: 0.0,\n",
       " 17: 6.812144522075647e-16,\n",
       " 18: 6.812144522075647e-16,\n",
       " 19: 7.25171506556065e-16,\n",
       " 20: 0.0,\n",
       " 21: 5.250416388603686e-16,\n",
       " 22: 0.0,\n",
       " 24: 0.0,\n",
       " 25: 0.0,\n",
       " 26: 4.888250583821091e-16,\n",
       " 27: 1.1111199695587126e-15,\n",
       " 28: 0.13515612612755556,\n",
       " 29: 0.16347854065286888,\n",
       " 31: 0.0,\n",
       " 32: 0.01082776402030236,\n",
       " 34: 0.014610507976238226,\n",
       " 35: 0.01082776402030236,\n",
       " 36: 0.0,\n",
       " 38: 0.013417121530789645,\n",
       " 40: 0.013417121530789645,\n",
       " 41: 0.12596071935203743,\n",
       " 42: 0.013417121530789645,\n",
       " 43: 0.013417121530789645,\n",
       " 44: 0.014610507976238226,\n",
       " 47: 0.0025893575104872823,\n",
       " 48: 0.01082776402030236,\n",
       " 49: 0.12596071935203743,\n",
       " 50: 0.0,\n",
       " 52: 0.0,\n",
       " 53: 0.11513295533173508}"
      ]
     },
     "execution_count": 11,
     "metadata": {},
     "output_type": "execute_result"
    }
   ],
   "source": [
    "h_scores"
   ]
  },
  {
   "cell_type": "code",
   "execution_count": 12,
   "metadata": {},
   "outputs": [
    {
     "data": {
      "text/plain": [
       "43"
      ]
     },
     "execution_count": 12,
     "metadata": {},
     "output_type": "execute_result"
    }
   ],
   "source": [
    "len(h_scores)"
   ]
  },
  {
   "cell_type": "code",
   "execution_count": 13,
   "metadata": {
    "collapsed": true
   },
   "outputs": [],
   "source": [
    "nx.set_node_attributes(G,\"a_score\",a_scores)\n",
    "nx.set_node_attributes(G,\"h_score\",h_scores)"
   ]
  },
  {
   "cell_type": "code",
   "execution_count": 15,
   "metadata": {},
   "outputs": [
    {
     "data": {
      "text/plain": [
       "{'a_score': 0.0,\n",
       " 'color': '#0086D1',\n",
       " 'from_hosts': {},\n",
       " 'h_score': 0.014396614118132653,\n",
       " 'to_hosts': {u'aiphone.co.jp': 1,\n",
       "  u'itunes.apple.com': 1,\n",
       "  u'support.apple.com': 1},\n",
       " 'topic': 6}"
      ]
     },
     "execution_count": 15,
     "metadata": {},
     "output_type": "execute_result"
    }
   ],
   "source": [
    "G.node[2]"
   ]
  },
  {
   "cell_type": "code",
   "execution_count": 16,
   "metadata": {
    "collapsed": true
   },
   "outputs": [],
   "source": [
    "with open(G_file,\"w\") as fo:\n",
    "    pickle.dump(G,fo)"
   ]
  }
 ],
 "metadata": {
  "kernelspec": {
   "display_name": "Python 2",
   "language": "python",
   "name": "python2"
  },
  "language_info": {
   "codemirror_mode": {
    "name": "ipython",
    "version": 2
   },
   "file_extension": ".py",
   "mimetype": "text/x-python",
   "name": "python",
   "nbconvert_exporter": "python",
   "pygments_lexer": "ipython2",
   "version": "2.7.15"
  }
 },
 "nbformat": 4,
 "nbformat_minor": 2
}
