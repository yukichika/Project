{
 "cells": [
  {
   "cell_type": "code",
   "execution_count": 1,
   "metadata": {
    "collapsed": true
   },
   "outputs": [],
   "source": [
    "import pickle\n",
    "\n",
    "import sys\n",
    "sys.path.append(\"../../Interactive_Graph_Visualizer/networkx-master\")\n",
    "import networkx as nx\n",
    "from networkx.exception import NetworkXError"
   ]
  },
  {
   "cell_type": "code",
   "execution_count": 2,
   "metadata": {
    "collapsed": true
   },
   "outputs": [],
   "source": [
    "G_file = \"../Data/Search_Test_10_add_childs/K10_myexttext_largest/nx_datas/G_with_params_comp4_2.gpkl\"\n",
    "with open(G_file,'r') as fi:\n",
    "    G = pickle.load(fi)"
   ]
  },
  {
   "cell_type": "code",
   "execution_count": 3,
   "metadata": {},
   "outputs": [
    {
     "data": {
      "text/plain": [
       "{'a_score': 8.561922690394718e-16,\n",
       " 'color': '#00A0C1',\n",
       " 'from_hosts': {u'time-space.kddi.com': 3, u'www.kddi.com': 1},\n",
       " 'h_score': 4.999029713779984e-15,\n",
       " 'to_hosts': {u'onlineshop.au.com': 1,\n",
       "  u'star.auone.jp': 1,\n",
       "  u'time-space.kddi.com': 5,\n",
       "  u'wowma.jp': 1,\n",
       "  u'www.kddi.com': 7},\n",
       " 'topic': 5}"
      ]
     },
     "execution_count": 3,
     "metadata": {},
     "output_type": "execute_result"
    }
   ],
   "source": [
    "G.node[0]"
   ]
  },
  {
   "cell_type": "code",
   "execution_count": 4,
   "metadata": {
    "collapsed": true
   },
   "outputs": [],
   "source": [
    "max_iter=100\n",
    "tol=1.0e-8\n",
    "nstart=None\n",
    "normalized=True\n",
    "weight_key=\"no_weight\""
   ]
  },
  {
   "cell_type": "code",
   "execution_count": 5,
   "metadata": {
    "scrolled": true
   },
   "outputs": [
    {
     "data": {
      "text/plain": [
       "{0: 0.023255813953488372,\n",
       " 2: 0.023255813953488372,\n",
       " 3: 0.023255813953488372,\n",
       " 4: 0.023255813953488372,\n",
       " 5: 0.023255813953488372,\n",
       " 6: 0.023255813953488372,\n",
       " 7: 0.023255813953488372,\n",
       " 9: 0.023255813953488372,\n",
       " 10: 0.023255813953488372,\n",
       " 11: 0.023255813953488372,\n",
       " 12: 0.023255813953488372,\n",
       " 13: 0.023255813953488372,\n",
       " 14: 0.023255813953488372,\n",
       " 16: 0.023255813953488372,\n",
       " 17: 0.023255813953488372,\n",
       " 18: 0.023255813953488372,\n",
       " 19: 0.023255813953488372,\n",
       " 20: 0.023255813953488372,\n",
       " 21: 0.023255813953488372,\n",
       " 22: 0.023255813953488372,\n",
       " 24: 0.023255813953488372,\n",
       " 25: 0.023255813953488372,\n",
       " 26: 0.023255813953488372,\n",
       " 27: 0.023255813953488372,\n",
       " 28: 0.023255813953488372,\n",
       " 29: 0.023255813953488372,\n",
       " 31: 0.023255813953488372,\n",
       " 32: 0.023255813953488372,\n",
       " 34: 0.023255813953488372,\n",
       " 35: 0.023255813953488372,\n",
       " 36: 0.023255813953488372,\n",
       " 38: 0.023255813953488372,\n",
       " 40: 0.023255813953488372,\n",
       " 41: 0.023255813953488372,\n",
       " 42: 0.023255813953488372,\n",
       " 43: 0.023255813953488372,\n",
       " 44: 0.023255813953488372,\n",
       " 47: 0.023255813953488372,\n",
       " 48: 0.023255813953488372,\n",
       " 49: 0.023255813953488372,\n",
       " 50: 0.023255813953488372,\n",
       " 52: 0.023255813953488372,\n",
       " 53: 0.023255813953488372}"
      ]
     },
     "execution_count": 5,
     "metadata": {},
     "output_type": "execute_result"
    }
   ],
   "source": [
    "h = dict.fromkeys(G,1.0/G.number_of_nodes())\n",
    "h"
   ]
  },
  {
   "cell_type": "code",
   "execution_count": 6,
   "metadata": {
    "collapsed": true
   },
   "outputs": [],
   "source": [
    "i = 0"
   ]
  },
  {
   "cell_type": "code",
   "execution_count": 7,
   "metadata": {
    "scrolled": true
   },
   "outputs": [
    {
     "data": {
      "text/plain": [
       "{0: 0.023255813953488372,\n",
       " 2: 0.023255813953488372,\n",
       " 3: 0.023255813953488372,\n",
       " 4: 0.023255813953488372,\n",
       " 5: 0.023255813953488372,\n",
       " 6: 0.023255813953488372,\n",
       " 7: 0.023255813953488372,\n",
       " 9: 0.023255813953488372,\n",
       " 10: 0.023255813953488372,\n",
       " 11: 0.023255813953488372,\n",
       " 12: 0.023255813953488372,\n",
       " 13: 0.023255813953488372,\n",
       " 14: 0.023255813953488372,\n",
       " 16: 0.023255813953488372,\n",
       " 17: 0.023255813953488372,\n",
       " 18: 0.023255813953488372,\n",
       " 19: 0.023255813953488372,\n",
       " 20: 0.023255813953488372,\n",
       " 21: 0.023255813953488372,\n",
       " 22: 0.023255813953488372,\n",
       " 24: 0.023255813953488372,\n",
       " 25: 0.023255813953488372,\n",
       " 26: 0.023255813953488372,\n",
       " 27: 0.023255813953488372,\n",
       " 28: 0.023255813953488372,\n",
       " 29: 0.023255813953488372,\n",
       " 31: 0.023255813953488372,\n",
       " 32: 0.023255813953488372,\n",
       " 34: 0.023255813953488372,\n",
       " 35: 0.023255813953488372,\n",
       " 36: 0.023255813953488372,\n",
       " 38: 0.023255813953488372,\n",
       " 40: 0.023255813953488372,\n",
       " 41: 0.023255813953488372,\n",
       " 42: 0.023255813953488372,\n",
       " 43: 0.023255813953488372,\n",
       " 44: 0.023255813953488372,\n",
       " 47: 0.023255813953488372,\n",
       " 48: 0.023255813953488372,\n",
       " 49: 0.023255813953488372,\n",
       " 50: 0.023255813953488372,\n",
       " 52: 0.023255813953488372,\n",
       " 53: 0.023255813953488372}"
      ]
     },
     "execution_count": 7,
     "metadata": {},
     "output_type": "execute_result"
    }
   ],
   "source": [
    "hlast = h\n",
    "hlast"
   ]
  },
  {
   "cell_type": "code",
   "execution_count": 8,
   "metadata": {
    "collapsed": true
   },
   "outputs": [],
   "source": [
    "h = dict.fromkeys(hlast.keys(),0)\n",
    "a = dict.fromkeys(hlast.keys(),0)"
   ]
  },
  {
   "cell_type": "code",
   "execution_count": 9,
   "metadata": {
    "scrolled": true
   },
   "outputs": [
    {
     "data": {
      "text/plain": [
       "{0: 0,\n",
       " 2: 0,\n",
       " 3: 0,\n",
       " 4: 0,\n",
       " 5: 0,\n",
       " 6: 0,\n",
       " 7: 0,\n",
       " 9: 0,\n",
       " 10: 0,\n",
       " 11: 0,\n",
       " 12: 0,\n",
       " 13: 0,\n",
       " 14: 0,\n",
       " 16: 0,\n",
       " 17: 0,\n",
       " 18: 0,\n",
       " 19: 0,\n",
       " 20: 0,\n",
       " 21: 0,\n",
       " 22: 0,\n",
       " 24: 0,\n",
       " 25: 0,\n",
       " 26: 0,\n",
       " 27: 0,\n",
       " 28: 0,\n",
       " 29: 0,\n",
       " 31: 0,\n",
       " 32: 0,\n",
       " 34: 0,\n",
       " 35: 0,\n",
       " 36: 0,\n",
       " 38: 0,\n",
       " 40: 0,\n",
       " 41: 0,\n",
       " 42: 0,\n",
       " 43: 0,\n",
       " 44: 0,\n",
       " 47: 0,\n",
       " 48: 0,\n",
       " 49: 0,\n",
       " 50: 0,\n",
       " 52: 0,\n",
       " 53: 0}"
      ]
     },
     "execution_count": 9,
     "metadata": {},
     "output_type": "execute_result"
    }
   ],
   "source": [
    "h"
   ]
  },
  {
   "cell_type": "code",
   "execution_count": 10,
   "metadata": {
    "scrolled": true
   },
   "outputs": [
    {
     "data": {
      "text/plain": [
       "{0: 0,\n",
       " 2: 0,\n",
       " 3: 0,\n",
       " 4: 0,\n",
       " 5: 0,\n",
       " 6: 0,\n",
       " 7: 0,\n",
       " 9: 0,\n",
       " 10: 0,\n",
       " 11: 0,\n",
       " 12: 0,\n",
       " 13: 0,\n",
       " 14: 0,\n",
       " 16: 0,\n",
       " 17: 0,\n",
       " 18: 0,\n",
       " 19: 0,\n",
       " 20: 0,\n",
       " 21: 0,\n",
       " 22: 0,\n",
       " 24: 0,\n",
       " 25: 0,\n",
       " 26: 0,\n",
       " 27: 0,\n",
       " 28: 0,\n",
       " 29: 0,\n",
       " 31: 0,\n",
       " 32: 0,\n",
       " 34: 0,\n",
       " 35: 0,\n",
       " 36: 0,\n",
       " 38: 0,\n",
       " 40: 0,\n",
       " 41: 0,\n",
       " 42: 0,\n",
       " 43: 0,\n",
       " 44: 0,\n",
       " 47: 0,\n",
       " 48: 0,\n",
       " 49: 0,\n",
       " 50: 0,\n",
       " 52: 0,\n",
       " 53: 0}"
      ]
     },
     "execution_count": 10,
     "metadata": {},
     "output_type": "execute_result"
    }
   ],
   "source": [
    "a"
   ]
  },
  {
   "cell_type": "code",
   "execution_count": 11,
   "metadata": {},
   "outputs": [
    {
     "data": {
      "text/plain": [
       "True"
      ]
     },
     "execution_count": 11,
     "metadata": {},
     "output_type": "execute_result"
    }
   ],
   "source": [
    "h == a"
   ]
  },
  {
   "cell_type": "code",
   "execution_count": null,
   "metadata": {
    "collapsed": true
   },
   "outputs": [],
   "source": []
  }
 ],
 "metadata": {
  "kernelspec": {
   "display_name": "Python 2",
   "language": "python",
   "name": "python2"
  },
  "language_info": {
   "codemirror_mode": {
    "name": "ipython",
    "version": 2
   },
   "file_extension": ".py",
   "mimetype": "text/x-python",
   "name": "python",
   "nbconvert_exporter": "python",
   "pygments_lexer": "ipython2",
   "version": "2.7.15"
  }
 },
 "nbformat": 4,
 "nbformat_minor": 2
}
