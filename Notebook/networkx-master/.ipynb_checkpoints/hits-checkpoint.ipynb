{
 "cells": [
  {
   "cell_type": "code",
   "execution_count": 1,
   "metadata": {
    "collapsed": true
   },
   "outputs": [],
   "source": [
    "import pickle\n",
    "\n",
    "import sys\n",
    "sys.path.append(\"../../Interactive_Graph_Visualizer/networkx-master\")\n",
    "import networkx as nx\n",
    "from networkx.exception import NetworkXError"
   ]
  },
  {
   "cell_type": "code",
   "execution_count": 2,
   "metadata": {
    "collapsed": true
   },
   "outputs": [],
   "source": [
    "G_file = \"../Data/Search_Test_10_add_childs/K10_myexttext_largest/nx_datas/G_with_params_comp4_2.gpkl\"\n",
    "with open(G_file,'r') as fi:\n",
    "    G = pickle.load(fi)"
   ]
  },
  {
   "cell_type": "code",
   "execution_count": 3,
   "metadata": {
    "collapsed": true
   },
   "outputs": [],
   "source": [
    "max_iter = 100\n",
    "tol = 1.0e-8\n",
    "nstart = None\n",
    "normalized = True\n",
    "weight_key = \"weight\""
   ]
  },
  {
   "cell_type": "code",
   "execution_count": 5,
   "metadata": {
    "scrolled": true
   },
   "outputs": [
    {
     "data": {
      "text/plain": [
       "{0: 0.023255813953488372,\n",
       " 2: 0.023255813953488372,\n",
       " 3: 0.023255813953488372,\n",
       " 4: 0.023255813953488372,\n",
       " 5: 0.023255813953488372,\n",
       " 6: 0.023255813953488372,\n",
       " 7: 0.023255813953488372,\n",
       " 9: 0.023255813953488372,\n",
       " 10: 0.023255813953488372,\n",
       " 11: 0.023255813953488372,\n",
       " 12: 0.023255813953488372,\n",
       " 13: 0.023255813953488372,\n",
       " 14: 0.023255813953488372,\n",
       " 16: 0.023255813953488372,\n",
       " 17: 0.023255813953488372,\n",
       " 18: 0.023255813953488372,\n",
       " 19: 0.023255813953488372,\n",
       " 20: 0.023255813953488372,\n",
       " 21: 0.023255813953488372,\n",
       " 22: 0.023255813953488372,\n",
       " 24: 0.023255813953488372,\n",
       " 25: 0.023255813953488372,\n",
       " 26: 0.023255813953488372,\n",
       " 27: 0.023255813953488372,\n",
       " 28: 0.023255813953488372,\n",
       " 29: 0.023255813953488372,\n",
       " 31: 0.023255813953488372,\n",
       " 32: 0.023255813953488372,\n",
       " 34: 0.023255813953488372,\n",
       " 35: 0.023255813953488372,\n",
       " 36: 0.023255813953488372,\n",
       " 38: 0.023255813953488372,\n",
       " 40: 0.023255813953488372,\n",
       " 41: 0.023255813953488372,\n",
       " 42: 0.023255813953488372,\n",
       " 43: 0.023255813953488372,\n",
       " 44: 0.023255813953488372,\n",
       " 47: 0.023255813953488372,\n",
       " 48: 0.023255813953488372,\n",
       " 49: 0.023255813953488372,\n",
       " 50: 0.023255813953488372,\n",
       " 52: 0.023255813953488372,\n",
       " 53: 0.023255813953488372}"
      ]
     },
     "execution_count": 5,
     "metadata": {},
     "output_type": "execute_result"
    }
   ],
   "source": [
    "h = dict.fromkeys(G,1.0/G.number_of_nodes())\n",
    "h"
   ]
  },
  {
   "cell_type": "code",
   "execution_count": 6,
   "metadata": {
    "collapsed": true
   },
   "outputs": [],
   "source": [
    "i = 0"
   ]
  },
  {
   "cell_type": "code",
   "execution_count": 7,
   "metadata": {
    "scrolled": true
   },
   "outputs": [
    {
     "data": {
      "text/plain": [
       "{0: 0.023255813953488372,\n",
       " 2: 0.023255813953488372,\n",
       " 3: 0.023255813953488372,\n",
       " 4: 0.023255813953488372,\n",
       " 5: 0.023255813953488372,\n",
       " 6: 0.023255813953488372,\n",
       " 7: 0.023255813953488372,\n",
       " 9: 0.023255813953488372,\n",
       " 10: 0.023255813953488372,\n",
       " 11: 0.023255813953488372,\n",
       " 12: 0.023255813953488372,\n",
       " 13: 0.023255813953488372,\n",
       " 14: 0.023255813953488372,\n",
       " 16: 0.023255813953488372,\n",
       " 17: 0.023255813953488372,\n",
       " 18: 0.023255813953488372,\n",
       " 19: 0.023255813953488372,\n",
       " 20: 0.023255813953488372,\n",
       " 21: 0.023255813953488372,\n",
       " 22: 0.023255813953488372,\n",
       " 24: 0.023255813953488372,\n",
       " 25: 0.023255813953488372,\n",
       " 26: 0.023255813953488372,\n",
       " 27: 0.023255813953488372,\n",
       " 28: 0.023255813953488372,\n",
       " 29: 0.023255813953488372,\n",
       " 31: 0.023255813953488372,\n",
       " 32: 0.023255813953488372,\n",
       " 34: 0.023255813953488372,\n",
       " 35: 0.023255813953488372,\n",
       " 36: 0.023255813953488372,\n",
       " 38: 0.023255813953488372,\n",
       " 40: 0.023255813953488372,\n",
       " 41: 0.023255813953488372,\n",
       " 42: 0.023255813953488372,\n",
       " 43: 0.023255813953488372,\n",
       " 44: 0.023255813953488372,\n",
       " 47: 0.023255813953488372,\n",
       " 48: 0.023255813953488372,\n",
       " 49: 0.023255813953488372,\n",
       " 50: 0.023255813953488372,\n",
       " 52: 0.023255813953488372,\n",
       " 53: 0.023255813953488372}"
      ]
     },
     "execution_count": 7,
     "metadata": {},
     "output_type": "execute_result"
    }
   ],
   "source": [
    "hlast = h\n",
    "hlast"
   ]
  },
  {
   "cell_type": "code",
   "execution_count": 8,
   "metadata": {
    "scrolled": true
   },
   "outputs": [
    {
     "data": {
      "text/plain": [
       "{0: 0,\n",
       " 2: 0,\n",
       " 3: 0,\n",
       " 4: 0,\n",
       " 5: 0,\n",
       " 6: 0,\n",
       " 7: 0,\n",
       " 9: 0,\n",
       " 10: 0,\n",
       " 11: 0,\n",
       " 12: 0,\n",
       " 13: 0,\n",
       " 14: 0,\n",
       " 16: 0,\n",
       " 17: 0,\n",
       " 18: 0,\n",
       " 19: 0,\n",
       " 20: 0,\n",
       " 21: 0,\n",
       " 22: 0,\n",
       " 24: 0,\n",
       " 25: 0,\n",
       " 26: 0,\n",
       " 27: 0,\n",
       " 28: 0,\n",
       " 29: 0,\n",
       " 31: 0,\n",
       " 32: 0,\n",
       " 34: 0,\n",
       " 35: 0,\n",
       " 36: 0,\n",
       " 38: 0,\n",
       " 40: 0,\n",
       " 41: 0,\n",
       " 42: 0,\n",
       " 43: 0,\n",
       " 44: 0,\n",
       " 47: 0,\n",
       " 48: 0,\n",
       " 49: 0,\n",
       " 50: 0,\n",
       " 52: 0,\n",
       " 53: 0}"
      ]
     },
     "execution_count": 8,
     "metadata": {},
     "output_type": "execute_result"
    }
   ],
   "source": [
    "h = dict.fromkeys(hlast.keys(),0)\n",
    "a = dict.fromkeys(hlast.keys(),0)\n",
    "h"
   ]
  },
  {
   "cell_type": "code",
   "execution_count": 9,
   "metadata": {
    "scrolled": true
   },
   "outputs": [
    {
     "data": {
      "text/plain": [
       "{0: 0,\n",
       " 2: 0,\n",
       " 3: 0,\n",
       " 4: 0,\n",
       " 5: 0,\n",
       " 6: 0,\n",
       " 7: 0,\n",
       " 9: 0,\n",
       " 10: 0,\n",
       " 11: 0,\n",
       " 12: 0,\n",
       " 13: 0,\n",
       " 14: 0,\n",
       " 16: 0,\n",
       " 17: 0,\n",
       " 18: 0,\n",
       " 19: 0,\n",
       " 20: 0,\n",
       " 21: 0,\n",
       " 22: 0,\n",
       " 24: 0,\n",
       " 25: 0,\n",
       " 26: 0,\n",
       " 27: 0,\n",
       " 28: 0,\n",
       " 29: 0,\n",
       " 31: 0,\n",
       " 32: 0,\n",
       " 34: 0,\n",
       " 35: 0,\n",
       " 36: 0,\n",
       " 38: 0,\n",
       " 40: 0,\n",
       " 41: 0,\n",
       " 42: 0,\n",
       " 43: 0,\n",
       " 44: 0,\n",
       " 47: 0,\n",
       " 48: 0,\n",
       " 49: 0,\n",
       " 50: 0,\n",
       " 52: 0,\n",
       " 53: 0}"
      ]
     },
     "execution_count": 9,
     "metadata": {},
     "output_type": "execute_result"
    }
   ],
   "source": [
    "a"
   ]
  },
  {
   "cell_type": "code",
   "execution_count": 10,
   "metadata": {
    "collapsed": true
   },
   "outputs": [],
   "source": [
    "#nはリンク元、nbrはリンク先\n",
    "#オーソリティスコアはリンクされているページのハブスコアの総和\n",
    "#それにエッジの重みをつけるかどうか\n",
    "for n in h:\n",
    "    for nbr in G[n]:\n",
    "        a[nbr] += hlast[n]*G[n][nbr].get(weight_key,1)"
   ]
  },
  {
   "cell_type": "code",
   "execution_count": 11,
   "metadata": {},
   "outputs": [
    {
     "data": {
      "text/plain": [
       "53"
      ]
     },
     "execution_count": 11,
     "metadata": {},
     "output_type": "execute_result"
    }
   ],
   "source": [
    "n"
   ]
  },
  {
   "cell_type": "code",
   "execution_count": 12,
   "metadata": {},
   "outputs": [
    {
     "data": {
      "text/plain": [
       "{9: {'weight': 0.65677272668775288},\n",
       " 34: {'weight': 0.82060005919539003},\n",
       " 35: {'weight': 0.54470180878332808},\n",
       " 36: {'weight': 0.59584480574957932},\n",
       " 42: {'weight': 0.83331645817037747},\n",
       " 44: {'weight': 0.78006376833357183},\n",
       " 47: {'weight': 0.73571096261398949}}"
      ]
     },
     "execution_count": 12,
     "metadata": {},
     "output_type": "execute_result"
    }
   ],
   "source": [
    "G[n]"
   ]
  },
  {
   "cell_type": "code",
   "execution_count": 13,
   "metadata": {},
   "outputs": [
    {
     "data": {
      "text/plain": [
       "47"
      ]
     },
     "execution_count": 13,
     "metadata": {},
     "output_type": "execute_result"
    }
   ],
   "source": [
    "nbr"
   ]
  },
  {
   "cell_type": "code",
   "execution_count": 14,
   "metadata": {},
   "outputs": [
    {
     "data": {
      "text/plain": [
       "0.73571096261398949"
      ]
     },
     "execution_count": 14,
     "metadata": {},
     "output_type": "execute_result"
    }
   ],
   "source": [
    "G[n][nbr].get(weight_key,1)"
   ]
  },
  {
   "cell_type": "code",
   "execution_count": 15,
   "metadata": {},
   "outputs": [
    {
     "data": {
      "text/plain": [
       "0.023255813953488372"
      ]
     },
     "execution_count": 15,
     "metadata": {},
     "output_type": "execute_result"
    }
   ],
   "source": [
    "hlast[n]"
   ]
  },
  {
   "cell_type": "code",
   "execution_count": 16,
   "metadata": {
    "collapsed": true
   },
   "outputs": [],
   "source": [
    "#nはリンク元、nbrはリンク先\n",
    "#ハブスコアはリンク先のオーソリティスコアの総和\n",
    "#それにエッジの重みをつけるかどうか\n",
    "for n in h:\n",
    "    for nbr in G[n]:\n",
    "        h[n] += a[nbr]*G[n][nbr].get(weight_key,1)"
   ]
  },
  {
   "cell_type": "code",
   "execution_count": 18,
   "metadata": {},
   "outputs": [
    {
     "data": {
      "text/plain": [
       "1.173017410047007"
      ]
     },
     "execution_count": 18,
     "metadata": {},
     "output_type": "execute_result"
    }
   ],
   "source": [
    "s = 1.0/max(h.values())#ハブスコアの最大値\n",
    "s"
   ]
  },
  {
   "cell_type": "code",
   "execution_count": 19,
   "metadata": {
    "collapsed": true,
    "scrolled": true
   },
   "outputs": [],
   "source": [
    "for n in h: h[n]*=s"
   ]
  },
  {
   "cell_type": "code",
   "execution_count": 20,
   "metadata": {
    "scrolled": true
   },
   "outputs": [
    {
     "data": {
      "text/plain": [
       "{0: 0.28473736252343457,\n",
       " 2: 0.29968522955809851,\n",
       " 3: 0.6720236296121348,\n",
       " 4: 0.088322961492949173,\n",
       " 5: 0.32603708974928514,\n",
       " 6: 0.0837260811382049,\n",
       " 7: 0.079757124036314714,\n",
       " 9: 0.58089502922378011,\n",
       " 10: 0.075546307104447125,\n",
       " 11: 0.0,\n",
       " 12: 0.026592621208979924,\n",
       " 13: 0.0,\n",
       " 14: 0.022746878580488208,\n",
       " 16: 0.0,\n",
       " 17: 0.092614626389151827,\n",
       " 18: 0.094838040831459455,\n",
       " 19: 0.098745096667702884,\n",
       " 20: 0.0,\n",
       " 21: 0.069639057813665306,\n",
       " 22: 0.0,\n",
       " 24: 0.0,\n",
       " 25: 0.0,\n",
       " 26: 0.097153521712643673,\n",
       " 27: 0.038549293416021514,\n",
       " 28: 1.0,\n",
       " 29: 0.85977835444771245,\n",
       " 31: 0.0,\n",
       " 32: 0.24454797721636154,\n",
       " 34: 0.5493536421821843,\n",
       " 35: 0.18766491205529598,\n",
       " 36: 0.0,\n",
       " 38: 0.45003827319819117,\n",
       " 40: 0.35792621687529208,\n",
       " 41: 0.79940147394473215,\n",
       " 42: 0.34757978224715008,\n",
       " 43: 0.41389045829946075,\n",
       " 44: 0.50058038793556592,\n",
       " 47: 0.19386603397017532,\n",
       " 48: 0.20184199927706462,\n",
       " 49: 0.60612645291233425,\n",
       " 50: 0.0,\n",
       " 52: 0.0,\n",
       " 53: 0.57066078582246893}"
      ]
     },
     "execution_count": 20,
     "metadata": {},
     "output_type": "execute_result"
    }
   ],
   "source": [
    "h"
   ]
  },
  {
   "cell_type": "code",
   "execution_count": 21,
   "metadata": {},
   "outputs": [
    {
     "data": {
      "text/plain": [
       "3.8463166441179619"
      ]
     },
     "execution_count": 21,
     "metadata": {},
     "output_type": "execute_result"
    }
   ],
   "source": [
    "s = 1.0/max(a.values())#オーソリティスコアの最大値\n",
    "s"
   ]
  },
  {
   "cell_type": "code",
   "execution_count": 22,
   "metadata": {
    "collapsed": true,
    "scrolled": true
   },
   "outputs": [],
   "source": [
    "for n in a: a[n]*=s"
   ]
  },
  {
   "cell_type": "code",
   "execution_count": 23,
   "metadata": {
    "scrolled": true
   },
   "outputs": [
    {
     "data": {
      "text/plain": [
       "{0: 0.27181270911760119,\n",
       " 2: 0.0,\n",
       " 3: 0.0,\n",
       " 4: 0.0,\n",
       " 5: 0.043370359982360454,\n",
       " 6: 0.0,\n",
       " 7: 0.0,\n",
       " 9: 0.40354382713000031,\n",
       " 10: 0.0,\n",
       " 11: 0.0727529785004951,\n",
       " 12: 0.066107754133807539,\n",
       " 13: 0.077641665260296644,\n",
       " 14: 0.060139646355949976,\n",
       " 16: 0.095194454280047011,\n",
       " 17: 0.06986629013008544,\n",
       " 18: 0.070036380769266063,\n",
       " 19: 0.06912445343271087,\n",
       " 20: 0.076231613594160433,\n",
       " 21: 0.15591643796908258,\n",
       " 22: 0.067273185405509986,\n",
       " 24: 0.031766209718572115,\n",
       " 25: 0.058378221633395816,\n",
       " 26: 0.27863336100151398,\n",
       " 27: 0.082205127940061407,\n",
       " 28: 0.68420552200434193,\n",
       " 29: 1.0,\n",
       " 31: 0.39160300820158839,\n",
       " 32: 0.11962345359724498,\n",
       " 34: 0.41966660880269557,\n",
       " 35: 0.30000022991287678,\n",
       " 36: 0.34547756163477067,\n",
       " 38: 0.13915044767638246,\n",
       " 40: 0.10275950247801419,\n",
       " 41: 0.14244660419290092,\n",
       " 42: 0.34659719643304493,\n",
       " 43: 0.13145405409484251,\n",
       " 44: 0.40660828116940828,\n",
       " 47: 0.38943399208882162,\n",
       " 48: 0.098701478638689485,\n",
       " 49: 0.055881113690243248,\n",
       " 50: 0.14955719992717928,\n",
       " 52: 0.067045816770619659,\n",
       " 53: 0.23402516391540498}"
      ]
     },
     "execution_count": 23,
     "metadata": {},
     "output_type": "execute_result"
    }
   ],
   "source": [
    "a"
   ]
  },
  {
   "cell_type": "code",
   "execution_count": 24,
   "metadata": {},
   "outputs": [
    {
     "data": {
      "text/plain": [
       "9.8275124791654971"
      ]
     },
     "execution_count": 24,
     "metadata": {},
     "output_type": "execute_result"
    }
   ],
   "source": [
    "err = sum([abs(h[n]-hlast[n]) for n in h])\n",
    "err#L1ノルム"
   ]
  },
  {
   "cell_type": "code",
   "execution_count": 25,
   "metadata": {
    "collapsed": true
   },
   "outputs": [],
   "source": [
    "i+=1"
   ]
  }
 ],
 "metadata": {
  "kernelspec": {
   "display_name": "Python 2",
   "language": "python",
   "name": "python2"
  },
  "language_info": {
   "codemirror_mode": {
    "name": "ipython",
    "version": 2
   },
   "file_extension": ".py",
   "mimetype": "text/x-python",
   "name": "python",
   "nbconvert_exporter": "python",
   "pygments_lexer": "ipython2",
   "version": "2.7.15"
  }
 },
 "nbformat": 4,
 "nbformat_minor": 2
}
