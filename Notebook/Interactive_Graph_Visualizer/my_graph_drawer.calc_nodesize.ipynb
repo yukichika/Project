{
 "cells": [
  {
   "cell_type": "code",
   "execution_count": 6,
   "metadata": {
    "collapsed": true
   },
   "outputs": [],
   "source": [
    "import os\n",
    "import pickle\n",
    "\n",
    "import sys\n",
    "sys.path.append(\"../../Interactive_Graph_Visualizer/networkx-master\")\n",
    "import networkx as nx"
   ]
  },
  {
   "cell_type": "code",
   "execution_count": 7,
   "metadata": {
    "collapsed": true
   },
   "outputs": [],
   "source": [
    "search_word = u\"iPhone\"\n",
    "max_page = 10\n",
    "root_dir = \"../Data/Search_\" + search_word + \"_\" + unicode(max_page) + \"_add_childs\"\n",
    "src_pages_dir = os.path.join(root_dir,\"Pages\")\n",
    "G_file = \"../Data/Search_iPhone_10_add_childs/K10_myexttext_largest/nx_datas/G_with_params_comp4_2.gpkl\"\n",
    "with open(G_file,'r') as fi:\n",
    "    G = pickle.load(fi)"
   ]
  },
  {
   "cell_type": "code",
   "execution_count": 12,
   "metadata": {},
   "outputs": [
    {
     "data": {
      "text/plain": [
       "{'a_score': 8.561922690394718e-16,\n",
       " 'color': '#BE0081',\n",
       " 'h_score': 4.999029713779984e-15,\n",
       " 'topic': 9}"
      ]
     },
     "execution_count": 12,
     "metadata": {},
     "output_type": "execute_result"
    }
   ],
   "source": [
    "G.node[0]"
   ]
  },
  {
   "cell_type": "code",
   "execution_count": 15,
   "metadata": {},
   "outputs": [
    {
     "data": {
      "text/plain": [
       "{'weight': 0.4756936793423055}"
      ]
     },
     "execution_count": 15,
     "metadata": {},
     "output_type": "execute_result"
    }
   ],
   "source": [
    "G.edge[2][28]"
   ]
  },
  {
   "cell_type": "code",
   "execution_count": null,
   "metadata": {
    "collapsed": true
   },
   "outputs": [],
   "source": []
  },
  {
   "cell_type": "code",
   "execution_count": 16,
   "metadata": {
    "collapsed": true
   },
   "outputs": [],
   "source": [
    "\"\"\"weight_attr\"\"\"\n",
    "attr = \"a_score\"\n",
    "weight_key= \"no_weight\"\n",
    "min_size = 1\n",
    "max_size = 3\n",
    "use_bhits = False"
   ]
  },
  {
   "cell_type": "code",
   "execution_count": 17,
   "metadata": {
    "scrolled": true
   },
   "outputs": [
    {
     "data": {
      "text/plain": [
       "{0: 8.561922690394718e-16,\n",
       " 2: 0.0,\n",
       " 3: 0.0,\n",
       " 4: 0.0,\n",
       " 5: 2.4098746315893005e-16,\n",
       " 6: 0.0,\n",
       " 7: 0.0,\n",
       " 9: 0.09017112348992978,\n",
       " 10: 0.0,\n",
       " 11: 2.030512028143646e-15,\n",
       " 12: 1.6612669884892521e-15,\n",
       " 13: 1.6612669884892521e-15,\n",
       " 14: 1.6612669884892521e-15,\n",
       " 16: 2.030512028143646e-15,\n",
       " 17: 1.6612669884892521e-15,\n",
       " 18: 1.6612669884892521e-15,\n",
       " 19: 1.6612669884892521e-15,\n",
       " 20: 2.030512028143646e-15,\n",
       " 21: 1.8237122990435647e-15,\n",
       " 22: 1.6612669884892521e-15,\n",
       " 24: 1.6612669884892521e-15,\n",
       " 25: 1.6612669884892521e-15,\n",
       " 26: 2.878456131264493e-15,\n",
       " 27: 1.6612669884892521e-15,\n",
       " 28: 0.014195735062605293,\n",
       " 29: 0.05936147045360937,\n",
       " 31: 0.005369910184048116,\n",
       " 32: 0.035772423599053714,\n",
       " 34: 0.09017112348992978,\n",
       " 35: 0.09017112348992978,\n",
       " 36: 0.09017112348992978,\n",
       " 38: 0.035772423599053714,\n",
       " 40: 0.035772423599053714,\n",
       " 41: 0.035772423599053714,\n",
       " 42: 0.09017112348992978,\n",
       " 43: 0.035772423599053714,\n",
       " 44: 0.09017112348992978,\n",
       " 47: 0.09017112348992978,\n",
       " 48: 0.035772423599053714,\n",
       " 49: 0.01806467015491379,\n",
       " 50: 0.05041233504815494,\n",
       " 52: 0.00022092429834356025,\n",
       " 53: 0.006542548774465789}"
      ]
     },
     "execution_count": 17,
     "metadata": {},
     "output_type": "execute_result"
    }
   ],
   "source": [
    "if attr == \"a_score\" or attr == \"h_score\":\n",
    "    #a_scores,h_scores=nx.hits(G)#引数の順番違い．HCG論文提出時にこっちで出してしまっていた．．．\n",
    "    if use_bhits is True:\n",
    "        h_scores,a_scores = nx.bhits(G,weight_key=weight_key)\n",
    "    else:\n",
    "        h_scores,a_scores = nx.hits(G,weight_key=weight_key)\n",
    "\n",
    "    if attr == \"a_score\":\n",
    "        use_vals = a_scores\n",
    "    elif attr == \"h_score\":\n",
    "        use_vals = h_scores\n",
    "use_vals"
   ]
  },
  {
   "cell_type": "code",
   "execution_count": 18,
   "metadata": {},
   "outputs": [
    {
     "data": {
      "text/plain": [
       "0.09017112348992978"
      ]
     },
     "execution_count": 18,
     "metadata": {},
     "output_type": "execute_result"
    }
   ],
   "source": [
    "max_val = max(use_vals.values())\n",
    "max_val"
   ]
  },
  {
   "cell_type": "code",
   "execution_count": 19,
   "metadata": {
    "collapsed": true
   },
   "outputs": [],
   "source": [
    "size_dict = dict()"
   ]
  },
  {
   "cell_type": "code",
   "execution_count": 22,
   "metadata": {
    "collapsed": true
   },
   "outputs": [],
   "source": [
    "for node_no,node_attr in G.nodes(data=True):\n",
    "    val = node_attr.get(attr)#論文提出時はauthorityをhubのmaxで割った\n",
    "    if val == None:\n",
    "        size = min_size/2\n",
    "    else:\n",
    "        size = (val/max_val)*(max_size-min_size) + min_size\n",
    "    size_dict[node_no] = size"
   ]
  },
  {
   "cell_type": "code",
   "execution_count": 23,
   "metadata": {
    "scrolled": true
   },
   "outputs": [
    {
     "data": {
      "text/plain": [
       "{0: 1.000000000000019,\n",
       " 2: 1.0,\n",
       " 3: 1.0,\n",
       " 4: 1.0,\n",
       " 5: 1.0000000000000053,\n",
       " 6: 1.0,\n",
       " 7: 1.0,\n",
       " 9: 3.0,\n",
       " 10: 1.0,\n",
       " 11: 1.000000000000045,\n",
       " 12: 1.0000000000000369,\n",
       " 13: 1.0000000000000369,\n",
       " 14: 1.0000000000000369,\n",
       " 16: 1.000000000000045,\n",
       " 17: 1.0000000000000369,\n",
       " 18: 1.0000000000000369,\n",
       " 19: 1.0000000000000369,\n",
       " 20: 1.000000000000045,\n",
       " 21: 1.0000000000000404,\n",
       " 22: 1.0000000000000369,\n",
       " 24: 1.0000000000000369,\n",
       " 25: 1.0000000000000369,\n",
       " 26: 1.000000000000064,\n",
       " 27: 1.0000000000000369,\n",
       " 28: 1.3148621091360952,\n",
       " 29: 2.3166403645894196,\n",
       " 31: 1.1191048747362635,\n",
       " 32: 1.7934341331135513,\n",
       " 34: 3.0,\n",
       " 35: 3.0,\n",
       " 36: 3.0,\n",
       " 38: 1.7934341331135513,\n",
       " 40: 1.7934341331135513,\n",
       " 41: 1.7934341331135513,\n",
       " 42: 3.0,\n",
       " 43: 1.7934341331135513,\n",
       " 44: 3.0,\n",
       " 47: 3.0,\n",
       " 48: 1.7934341331135513,\n",
       " 49: 1.4006752817476258,\n",
       " 50: 2.1181480965751733,\n",
       " 52: 1.0049001119159446,\n",
       " 53: 1.1451140569452138}"
      ]
     },
     "execution_count": 23,
     "metadata": {},
     "output_type": "execute_result"
    }
   ],
   "source": [
    "size_dict"
   ]
  },
  {
   "cell_type": "code",
   "execution_count": null,
   "metadata": {
    "collapsed": true
   },
   "outputs": [],
   "source": []
  },
  {
   "cell_type": "code",
   "execution_count": 24,
   "metadata": {
    "collapsed": true
   },
   "outputs": [],
   "source": [
    "\"\"\"size_attr\"\"\"\n",
    "attr = \"a_score\"\n",
    "weight_key= \"no_weight\"\n",
    "min_size = 1000\n",
    "max_size = 5000\n",
    "use_bhits = False"
   ]
  },
  {
   "cell_type": "code",
   "execution_count": 26,
   "metadata": {
    "scrolled": true
   },
   "outputs": [
    {
     "data": {
      "text/plain": [
       "{0: 8.561922690394718e-16,\n",
       " 2: 0.0,\n",
       " 3: 0.0,\n",
       " 4: 0.0,\n",
       " 5: 2.4098746315893005e-16,\n",
       " 6: 0.0,\n",
       " 7: 0.0,\n",
       " 9: 0.09017112348992978,\n",
       " 10: 0.0,\n",
       " 11: 2.030512028143646e-15,\n",
       " 12: 1.6612669884892521e-15,\n",
       " 13: 1.6612669884892521e-15,\n",
       " 14: 1.6612669884892521e-15,\n",
       " 16: 2.030512028143646e-15,\n",
       " 17: 1.6612669884892521e-15,\n",
       " 18: 1.6612669884892521e-15,\n",
       " 19: 1.6612669884892521e-15,\n",
       " 20: 2.030512028143646e-15,\n",
       " 21: 1.8237122990435647e-15,\n",
       " 22: 1.6612669884892521e-15,\n",
       " 24: 1.6612669884892521e-15,\n",
       " 25: 1.6612669884892521e-15,\n",
       " 26: 2.878456131264493e-15,\n",
       " 27: 1.6612669884892521e-15,\n",
       " 28: 0.014195735062605293,\n",
       " 29: 0.05936147045360937,\n",
       " 31: 0.005369910184048116,\n",
       " 32: 0.035772423599053714,\n",
       " 34: 0.09017112348992978,\n",
       " 35: 0.09017112348992978,\n",
       " 36: 0.09017112348992978,\n",
       " 38: 0.035772423599053714,\n",
       " 40: 0.035772423599053714,\n",
       " 41: 0.035772423599053714,\n",
       " 42: 0.09017112348992978,\n",
       " 43: 0.035772423599053714,\n",
       " 44: 0.09017112348992978,\n",
       " 47: 0.09017112348992978,\n",
       " 48: 0.035772423599053714,\n",
       " 49: 0.01806467015491379,\n",
       " 50: 0.05041233504815494,\n",
       " 52: 0.00022092429834356025,\n",
       " 53: 0.006542548774465789}"
      ]
     },
     "execution_count": 26,
     "metadata": {},
     "output_type": "execute_result"
    }
   ],
   "source": [
    "if attr == \"a_score\" or attr == \"h_score\":\n",
    "    #a_scores,h_scores=nx.hits(G)#引数の順番違い．HCG論文提出時にこっちで出してしまっていた．．．\n",
    "    if use_bhits is True:\n",
    "        h_scores,a_scores = nx.bhits(G,weight_key=weight_key)\n",
    "    else:\n",
    "        h_scores,a_scores = nx.hits(G,weight_key=weight_key)\n",
    "\n",
    "    if attr == \"a_score\":\n",
    "        use_vals = a_scores\n",
    "    elif attr == \"h_score\":\n",
    "        use_vals = h_scores\n",
    "use_vals"
   ]
  },
  {
   "cell_type": "code",
   "execution_count": 27,
   "metadata": {},
   "outputs": [
    {
     "data": {
      "text/plain": [
       "0.09017112348992978"
      ]
     },
     "execution_count": 27,
     "metadata": {},
     "output_type": "execute_result"
    }
   ],
   "source": [
    "max_val = max(use_vals.values())\n",
    "max_val"
   ]
  },
  {
   "cell_type": "code",
   "execution_count": 28,
   "metadata": {
    "collapsed": true
   },
   "outputs": [],
   "source": [
    "size_dict = dict()"
   ]
  },
  {
   "cell_type": "code",
   "execution_count": 29,
   "metadata": {
    "collapsed": true
   },
   "outputs": [],
   "source": [
    "for node_no,node_attr in G.nodes(data=True):\n",
    "    val = node_attr.get(attr)#論文提出時はauthorityをhubのmaxで割った\n",
    "    if val == None:\n",
    "        size = min_size/2\n",
    "    else:\n",
    "        size = (val/max_val)*(max_size-min_size) + min_size\n",
    "    size_dict[node_no] = size"
   ]
  },
  {
   "cell_type": "code",
   "execution_count": 31,
   "metadata": {
    "scrolled": true
   },
   "outputs": [
    {
     "data": {
      "text/plain": [
       "{0: 1000.000000000038,\n",
       " 2: 1000.0,\n",
       " 3: 1000.0,\n",
       " 4: 1000.0,\n",
       " 5: 1000.0000000000107,\n",
       " 6: 1000.0,\n",
       " 7: 1000.0,\n",
       " 9: 5000.0,\n",
       " 10: 1000.0,\n",
       " 11: 1000.00000000009,\n",
       " 12: 1000.0000000000737,\n",
       " 13: 1000.0000000000737,\n",
       " 14: 1000.0000000000737,\n",
       " 16: 1000.00000000009,\n",
       " 17: 1000.0000000000737,\n",
       " 18: 1000.0000000000737,\n",
       " 19: 1000.0000000000737,\n",
       " 20: 1000.00000000009,\n",
       " 21: 1000.000000000081,\n",
       " 22: 1000.0000000000737,\n",
       " 24: 1000.0000000000737,\n",
       " 25: 1000.0000000000737,\n",
       " 26: 1000.0000000001277,\n",
       " 27: 1000.0000000000737,\n",
       " 28: 1629.7242182721902,\n",
       " 29: 3633.2807291788395,\n",
       " 31: 1238.209749472527,\n",
       " 32: 2586.868266227103,\n",
       " 34: 5000.0,\n",
       " 35: 5000.0,\n",
       " 36: 5000.0,\n",
       " 38: 2586.868266227103,\n",
       " 40: 2586.868266227103,\n",
       " 41: 2586.868266227103,\n",
       " 42: 5000.0,\n",
       " 43: 2586.868266227103,\n",
       " 44: 5000.0,\n",
       " 47: 5000.0,\n",
       " 48: 2586.868266227103,\n",
       " 49: 1801.3505634952517,\n",
       " 50: 3236.296193150347,\n",
       " 52: 1009.8002238318893,\n",
       " 53: 1290.2281138904277}"
      ]
     },
     "execution_count": 31,
     "metadata": {},
     "output_type": "execute_result"
    }
   ],
   "source": [
    "size_dict"
   ]
  }
 ],
 "metadata": {
  "kernelspec": {
   "display_name": "Python 2",
   "language": "python",
   "name": "python2"
  },
  "language_info": {
   "codemirror_mode": {
    "name": "ipython",
    "version": 2
   },
   "file_extension": ".py",
   "mimetype": "text/x-python",
   "name": "python",
   "nbconvert_exporter": "python",
   "pygments_lexer": "ipython2",
   "version": "2.7.15"
  }
 },
 "nbformat": 4,
 "nbformat_minor": 2
}
