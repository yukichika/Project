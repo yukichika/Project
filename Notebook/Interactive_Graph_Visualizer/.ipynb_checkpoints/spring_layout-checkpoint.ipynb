{
 "cells": [
  {
   "cell_type": "code",
   "execution_count": 208,
   "metadata": {
    "collapsed": true
   },
   "outputs": [],
   "source": [
    "import os\n",
    "import pickle\n",
    "import numpy as np\n",
    "\n",
    "import sys\n",
    "sys.path.append(\"../../Interactive_Graph_Visualizer/networkx-master\")\n",
    "import networkx as nx"
   ]
  },
  {
   "cell_type": "code",
   "execution_count": 209,
   "metadata": {
    "collapsed": true
   },
   "outputs": [],
   "source": [
    "search_word = u\"iPhone\"\n",
    "max_page = 10\n",
    "root_dir = \"../Data/Search_\" + search_word + \"_\" + unicode(max_page) + \"_add_childs\"\n",
    "src_pages_dir = os.path.join(root_dir,\"Pages\")\n",
    "G_file = \"../Data/Search_iPhone_10_add_childs/K10_myexttext_largest/nx_datas/G_with_params_comp4_2.gpkl\"\n",
    "with open(G_file,'r') as fi:\n",
    "    G = pickle.load(fi)\n",
    "\n",
    "all_path = \"../Data/Search_iPhone_10_add_childs/K10_myexttext_largest/nx_datas/all_node_weights_comp4_2.gpkl\"\n",
    "with open(all_path,\"r\") as fi:\n",
    "    all_nodes_weights = pickle.load(fi)\n",
    "\n",
    "pos_rand_path = os.path.join(root_dir,\"nest1.rand\")\n",
    "with open(pos_rand_path,'r') as fi:\n",
    "    initial_pos= pickle.load(fi)"
   ]
  },
  {
   "cell_type": "code",
   "execution_count": 210,
   "metadata": {},
   "outputs": [
    {
     "data": {
      "text/plain": [
       "{'a_score': 0.0,\n",
       " 'color': '#601986',\n",
       " 'from_hosts': {},\n",
       " 'h_score': 0.014396614118132653,\n",
       " 'to_hosts': {u'aiphone.co.jp': 1,\n",
       "  u'itunes.apple.com': 1,\n",
       "  u'support.apple.com': 1},\n",
       " 'topic': 8}"
      ]
     },
     "execution_count": 210,
     "metadata": {},
     "output_type": "execute_result"
    }
   ],
   "source": [
    "G.node[2]"
   ]
  },
  {
   "cell_type": "code",
   "execution_count": 211,
   "metadata": {},
   "outputs": [
    {
     "data": {
      "text/plain": [
       "array([[ 1.        ,  0.47019059,  0.6041772 , ...,  0.79859963,\n",
       "         0.789853  ,  0.64824594],\n",
       "       [ 0.47019059,  1.        ,  0.65786765, ...,  0.52692355,\n",
       "         0.41789448,  0.41575127],\n",
       "       [ 0.6041772 ,  0.65786765,  1.        , ...,  0.60483664,\n",
       "         0.46476017,  0.78115451],\n",
       "       ..., \n",
       "       [ 0.79859963,  0.52692355,  0.60483664, ...,  1.        ,\n",
       "         0.6501242 ,  0.56278771],\n",
       "       [ 0.789853  ,  0.41789448,  0.46476017, ...,  0.6501242 ,\n",
       "         1.        ,  0.37308651],\n",
       "       [ 0.64824594,  0.41575127,  0.78115451, ...,  0.56278771,\n",
       "         0.37308651,  1.        ]])"
      ]
     },
     "execution_count": 211,
     "metadata": {},
     "output_type": "execute_result"
    }
   ],
   "source": [
    "all_nodes_weights"
   ]
  },
  {
   "cell_type": "code",
   "execution_count": 212,
   "metadata": {
    "scrolled": true
   },
   "outputs": [
    {
     "data": {
      "text/plain": [
       "{0: array([ 0.48605885,  0.48317325]),\n",
       " 2: array([ 0.71181698,  0.49091186]),\n",
       " 3: array([ 0.46815783,  0.70999359]),\n",
       " 4: array([ 0.6249796 ,  0.54517989]),\n",
       " 5: array([ 0.60355711,  0.86327859]),\n",
       " 6: array([ 0.57794182,  0.94969265]),\n",
       " 7: array([ 0.3744174 ,  0.60067896]),\n",
       " 9: array([ 0.25663928,  0.12654444]),\n",
       " 10: array([ 0.91430149,  0.39057578]),\n",
       " 11: array([ 0.3501085,  0.8728036]),\n",
       " 12: array([ 0.7004209 ,  0.39661047]),\n",
       " 13: array([ 0.13992949,  0.13995496]),\n",
       " 14: array([ 0.26986627,  0.46612925]),\n",
       " 16: array([ 0.61854796,  0.03396091]),\n",
       " 17: array([ 0.15409326,  0.65216999]),\n",
       " 18: array([ 0.7663439 ,  0.99416877]),\n",
       " 19: array([ 0.40745733,  0.94129619]),\n",
       " 20: array([ 0.31345796,  0.28563616]),\n",
       " 21: array([ 0.35045975,  0.0865713 ]),\n",
       " 22: array([ 0.71484893,  0.39528518]),\n",
       " 24: array([ 0.75738298,  0.30497759]),\n",
       " 25: array([ 0.22775725,  0.3221767 ]),\n",
       " 26: array([ 0.92604921,  0.42215845]),\n",
       " 27: array([ 0.12411901,  0.78312226]),\n",
       " 28: array([ 0.29623075,  0.91553538]),\n",
       " 29: array([ 0.50692681,  0.24038974]),\n",
       " 31: array([ 0.50265359,  0.203783  ]),\n",
       " 32: array([ 0.02043341,  0.72272342]),\n",
       " 34: array([ 0.93867412,  0.95433235]),\n",
       " 35: array([ 0.7816341,  0.484684 ]),\n",
       " 36: array([ 0.05656532,  0.67416564]),\n",
       " 38: array([ 0.79416234,  0.27706342]),\n",
       " 40: array([ 0.30522305,  0.40394603]),\n",
       " 41: array([ 0.73787184,  0.74879672]),\n",
       " 42: array([ 0.49613702,  0.98472341]),\n",
       " 43: array([ 0.5583722 ,  0.00728204]),\n",
       " 44: array([ 0.17240782,  0.57887147]),\n",
       " 47: array([ 0.29586477,  0.39367572]),\n",
       " 48: array([ 0.11792486,  0.96833187]),\n",
       " 49: array([ 0.17046569,  0.57309584]),\n",
       " 50: array([ 0.19501112,  0.07110557]),\n",
       " 52: array([ 0.19222786,  0.7778072 ]),\n",
       " 53: array([ 0.06338114,  0.47384687])}"
      ]
     },
     "execution_count": 212,
     "metadata": {},
     "output_type": "execute_result"
    }
   ],
   "source": [
    "initial_pos"
   ]
  },
  {
   "cell_type": "code",
   "execution_count": null,
   "metadata": {
    "collapsed": true
   },
   "outputs": [],
   "source": []
  },
  {
   "cell_type": "code",
   "execution_count": 213,
   "metadata": {
    "collapsed": true
   },
   "outputs": [],
   "source": [
    "dim = 2\n",
    "center = np.zeros(dim)\n",
    "weight = \"no_weight\"\n",
    "iterations = 200"
   ]
  },
  {
   "cell_type": "code",
   "execution_count": 214,
   "metadata": {
    "collapsed": true
   },
   "outputs": [],
   "source": [
    "pos = initial_pos\n",
    "dom_size = np.array([coord for coord in [pos_tup for pos_tup in pos.values()]]).max(0)"
   ]
  },
  {
   "cell_type": "code",
   "execution_count": 215,
   "metadata": {},
   "outputs": [
    {
     "data": {
      "text/plain": [
       "array([ 0.93867412,  0.99416877])"
      ]
     },
     "execution_count": 215,
     "metadata": {},
     "output_type": "execute_result"
    }
   ],
   "source": [
    "dom_size"
   ]
  },
  {
   "cell_type": "code",
   "execution_count": 216,
   "metadata": {},
   "outputs": [
    {
     "data": {
      "text/plain": [
       "(43, 2)"
      ]
     },
     "execution_count": 216,
     "metadata": {},
     "output_type": "execute_result"
    }
   ],
   "source": [
    "shape = (len(G), dim)\n",
    "shape"
   ]
  },
  {
   "cell_type": "code",
   "execution_count": 217,
   "metadata": {
    "scrolled": true
   },
   "outputs": [
    {
     "data": {
      "text/plain": [
       "array([[ 0.47382666,  0.20320829],\n",
       "       [ 0.37877716,  0.1587767 ],\n",
       "       [ 0.83831268,  0.75205326],\n",
       "       [ 0.79015151,  0.53936677],\n",
       "       [ 0.46056409,  0.32470645],\n",
       "       [ 0.25039922,  0.76542157],\n",
       "       [ 0.13327316,  0.50548965],\n",
       "       [ 0.31304738,  0.74858829],\n",
       "       [ 0.07862171,  0.1014213 ],\n",
       "       [ 0.54899763,  0.86980669],\n",
       "       [ 0.54081488,  0.47251005],\n",
       "       [ 0.6340974 ,  0.93653867],\n",
       "       [ 0.35563339,  0.97689225],\n",
       "       [ 0.43266495,  0.01371189],\n",
       "       [ 0.31015068,  0.07458421],\n",
       "       [ 0.76066442,  0.60211248],\n",
       "       [ 0.04846073,  0.64045985],\n",
       "       [ 0.13139654,  0.76875704],\n",
       "       [ 0.07071655,  0.41631269],\n",
       "       [ 0.72972938,  0.41747681],\n",
       "       [ 0.64525085,  0.19249506],\n",
       "       [ 0.2499595 ,  0.82002304],\n",
       "       [ 0.35142471,  0.80999094],\n",
       "       [ 0.45125042,  0.90480972],\n",
       "       [ 0.93047802,  0.85904612],\n",
       "       [ 0.48321464,  0.42586539],\n",
       "       [ 0.58347187,  0.11157344],\n",
       "       [ 0.29499715,  0.32084001],\n",
       "       [ 0.59852712,  0.58827228],\n",
       "       [ 0.78768448,  0.34336735],\n",
       "       [ 0.32905631,  0.09381354],\n",
       "       [ 0.75864033,  0.88788842],\n",
       "       [ 0.18001932,  0.63337866],\n",
       "       [ 0.62027859,  0.61260969],\n",
       "       [ 0.92508164,  0.58673429],\n",
       "       [ 0.21867875,  0.8508937 ],\n",
       "       [ 0.55977559,  0.16074337],\n",
       "       [ 0.11700351,  0.28414682],\n",
       "       [ 0.10319398,  0.05108392],\n",
       "       [ 0.54998364,  0.56751611],\n",
       "       [ 0.36210781,  0.98683338],\n",
       "       [ 0.27448872,  0.20497037],\n",
       "       [ 0.52694937,  0.07177952]])"
      ]
     },
     "execution_count": 217,
     "metadata": {},
     "output_type": "execute_result"
    }
   ],
   "source": [
    "pos_arr = np.random.random(shape) * dom_size + center\n",
    "pos_arr"
   ]
  },
  {
   "cell_type": "code",
   "execution_count": 218,
   "metadata": {
    "collapsed": true,
    "scrolled": true
   },
   "outputs": [],
   "source": [
    "for i, n in enumerate(G):\n",
    "    if n in pos:\n",
    "        pos_arr[i] = np.asarray(pos[n])"
   ]
  },
  {
   "cell_type": "code",
   "execution_count": 219,
   "metadata": {
    "scrolled": true
   },
   "outputs": [
    {
     "data": {
      "text/plain": [
       "array([[ 0.48605885,  0.48317325],\n",
       "       [ 0.71181698,  0.49091186],\n",
       "       [ 0.46815783,  0.70999359],\n",
       "       [ 0.6249796 ,  0.54517989],\n",
       "       [ 0.60355711,  0.86327859],\n",
       "       [ 0.57794182,  0.94969265],\n",
       "       [ 0.3744174 ,  0.60067896],\n",
       "       [ 0.25663928,  0.12654444],\n",
       "       [ 0.91430149,  0.39057578],\n",
       "       [ 0.3501085 ,  0.8728036 ],\n",
       "       [ 0.7004209 ,  0.39661047],\n",
       "       [ 0.13992949,  0.13995496],\n",
       "       [ 0.26986627,  0.46612925],\n",
       "       [ 0.61854796,  0.03396091],\n",
       "       [ 0.15409326,  0.65216999],\n",
       "       [ 0.7663439 ,  0.99416877],\n",
       "       [ 0.40745733,  0.94129619],\n",
       "       [ 0.31345796,  0.28563616],\n",
       "       [ 0.35045975,  0.0865713 ],\n",
       "       [ 0.71484893,  0.39528518],\n",
       "       [ 0.75738298,  0.30497759],\n",
       "       [ 0.22775725,  0.3221767 ],\n",
       "       [ 0.92604921,  0.42215845],\n",
       "       [ 0.12411901,  0.78312226],\n",
       "       [ 0.29623075,  0.91553538],\n",
       "       [ 0.50692681,  0.24038974],\n",
       "       [ 0.50265359,  0.203783  ],\n",
       "       [ 0.02043341,  0.72272342],\n",
       "       [ 0.93867412,  0.95433235],\n",
       "       [ 0.7816341 ,  0.484684  ],\n",
       "       [ 0.05656532,  0.67416564],\n",
       "       [ 0.79416234,  0.27706342],\n",
       "       [ 0.30522305,  0.40394603],\n",
       "       [ 0.73787184,  0.74879672],\n",
       "       [ 0.49613702,  0.98472341],\n",
       "       [ 0.5583722 ,  0.00728204],\n",
       "       [ 0.17240782,  0.57887147],\n",
       "       [ 0.29586477,  0.39367572],\n",
       "       [ 0.11792486,  0.96833187],\n",
       "       [ 0.17046569,  0.57309584],\n",
       "       [ 0.19501112,  0.07110557],\n",
       "       [ 0.19222786,  0.7778072 ],\n",
       "       [ 0.06338114,  0.47384687]])"
      ]
     },
     "execution_count": 219,
     "metadata": {},
     "output_type": "execute_result"
    }
   ],
   "source": [
    "pos_arr"
   ]
  },
  {
   "cell_type": "code",
   "execution_count": 220,
   "metadata": {},
   "outputs": [
    {
     "data": {
      "text/plain": [
       "matrix([[ 0.,  0.,  0., ...,  0.,  0.,  0.],\n",
       "        [ 0.,  0.,  0., ...,  0.,  0.,  0.],\n",
       "        [ 0.,  0.,  0., ...,  1.,  0.,  0.],\n",
       "        ..., \n",
       "        [ 0.,  0.,  0., ...,  0.,  0.,  0.],\n",
       "        [ 0.,  0.,  0., ...,  0.,  0.,  0.],\n",
       "        [ 0.,  0.,  0., ...,  0.,  0.,  0.]])"
      ]
     },
     "execution_count": 220,
     "metadata": {},
     "output_type": "execute_result"
    }
   ],
   "source": [
    "A = nx.to_numpy_matrix(G, weight=weight)\n",
    "A"
   ]
  },
  {
   "cell_type": "code",
   "execution_count": 221,
   "metadata": {},
   "outputs": [
    {
     "data": {
      "text/plain": [
       "43"
      ]
     },
     "execution_count": 221,
     "metadata": {},
     "output_type": "execute_result"
    }
   ],
   "source": [
    "nnodes, _ = A.shape\n",
    "nnodes"
   ]
  },
  {
   "cell_type": "code",
   "execution_count": 222,
   "metadata": {},
   "outputs": [
    {
     "data": {
      "text/plain": [
       "array([[ 0.,  0.,  0., ...,  0.,  0.,  0.],\n",
       "       [ 0.,  0.,  0., ...,  0.,  0.,  0.],\n",
       "       [ 0.,  0.,  0., ...,  1.,  0.,  0.],\n",
       "       ..., \n",
       "       [ 0.,  0.,  0., ...,  0.,  0.,  0.],\n",
       "       [ 0.,  0.,  0., ...,  0.,  0.,  0.],\n",
       "       [ 0.,  0.,  0., ...,  0.,  0.,  0.]])"
      ]
     },
     "execution_count": 222,
     "metadata": {},
     "output_type": "execute_result"
    }
   ],
   "source": [
    "A = np.asarray(A)\n",
    "A"
   ]
  },
  {
   "cell_type": "code",
   "execution_count": 223,
   "metadata": {
    "scrolled": true
   },
   "outputs": [
    {
     "data": {
      "text/plain": [
       "array([[ 0.48605885,  0.48317325],\n",
       "       [ 0.71181698,  0.49091186],\n",
       "       [ 0.46815783,  0.70999359],\n",
       "       [ 0.6249796 ,  0.54517989],\n",
       "       [ 0.60355711,  0.86327859],\n",
       "       [ 0.57794182,  0.94969265],\n",
       "       [ 0.3744174 ,  0.60067896],\n",
       "       [ 0.25663928,  0.12654444],\n",
       "       [ 0.91430149,  0.39057578],\n",
       "       [ 0.3501085 ,  0.8728036 ],\n",
       "       [ 0.7004209 ,  0.39661047],\n",
       "       [ 0.13992949,  0.13995496],\n",
       "       [ 0.26986627,  0.46612925],\n",
       "       [ 0.61854796,  0.03396091],\n",
       "       [ 0.15409326,  0.65216999],\n",
       "       [ 0.7663439 ,  0.99416877],\n",
       "       [ 0.40745733,  0.94129619],\n",
       "       [ 0.31345796,  0.28563616],\n",
       "       [ 0.35045975,  0.0865713 ],\n",
       "       [ 0.71484893,  0.39528518],\n",
       "       [ 0.75738298,  0.30497759],\n",
       "       [ 0.22775725,  0.3221767 ],\n",
       "       [ 0.92604921,  0.42215845],\n",
       "       [ 0.12411901,  0.78312226],\n",
       "       [ 0.29623075,  0.91553538],\n",
       "       [ 0.50692681,  0.24038974],\n",
       "       [ 0.50265359,  0.203783  ],\n",
       "       [ 0.02043341,  0.72272342],\n",
       "       [ 0.93867412,  0.95433235],\n",
       "       [ 0.7816341 ,  0.484684  ],\n",
       "       [ 0.05656532,  0.67416564],\n",
       "       [ 0.79416234,  0.27706342],\n",
       "       [ 0.30522305,  0.40394603],\n",
       "       [ 0.73787184,  0.74879672],\n",
       "       [ 0.49613702,  0.98472341],\n",
       "       [ 0.5583722 ,  0.00728204],\n",
       "       [ 0.17240782,  0.57887147],\n",
       "       [ 0.29586477,  0.39367572],\n",
       "       [ 0.11792486,  0.96833187],\n",
       "       [ 0.17046569,  0.57309584],\n",
       "       [ 0.19501112,  0.07110557],\n",
       "       [ 0.19222786,  0.7778072 ],\n",
       "       [ 0.06338114,  0.47384687]])"
      ]
     },
     "execution_count": 223,
     "metadata": {},
     "output_type": "execute_result"
    }
   ],
   "source": [
    "pos_arr = pos_arr.astype(A.dtype)\n",
    "pos_arr"
   ]
  },
  {
   "cell_type": "code",
   "execution_count": 230,
   "metadata": {},
   "outputs": [
    {
     "data": {
      "text/plain": [
       "0.15249857033260467"
      ]
     },
     "execution_count": 230,
     "metadata": {},
     "output_type": "execute_result"
    }
   ],
   "source": [
    "k = np.sqrt(1.0/nnodes)\n",
    "k"
   ]
  },
  {
   "cell_type": "code",
   "execution_count": 225,
   "metadata": {},
   "outputs": [
    {
     "data": {
      "text/plain": [
       "0.098688673314198172"
      ]
     },
     "execution_count": 225,
     "metadata": {},
     "output_type": "execute_result"
    }
   ],
   "source": [
    "t = max(max(pos_arr.T[0]) - min(pos_arr.T[0]), max(pos_arr.T[1]) - min(pos_arr.T[1]))*0.1\n",
    "t"
   ]
  },
  {
   "cell_type": "code",
   "execution_count": 226,
   "metadata": {},
   "outputs": [
    {
     "data": {
      "text/plain": [
       "0.91824070596714802"
      ]
     },
     "execution_count": 226,
     "metadata": {},
     "output_type": "execute_result"
    }
   ],
   "source": [
    "max(pos_arr.T[0]) - min(pos_arr.T[0])"
   ]
  },
  {
   "cell_type": "code",
   "execution_count": 227,
   "metadata": {},
   "outputs": [
    {
     "data": {
      "text/plain": [
       "0.98688673314198161"
      ]
     },
     "execution_count": 227,
     "metadata": {},
     "output_type": "execute_result"
    }
   ],
   "source": [
    "max(pos_arr.T[1]) - min(pos_arr.T[1])"
   ]
  },
  {
   "cell_type": "code",
   "execution_count": 228,
   "metadata": {},
   "outputs": [
    {
     "data": {
      "text/plain": [
       "0.00049098842444874713"
      ]
     },
     "execution_count": 228,
     "metadata": {},
     "output_type": "execute_result"
    }
   ],
   "source": [
    "dt = t/float(iterations+1)\n",
    "dt"
   ]
  },
  {
   "cell_type": "code",
   "execution_count": 229,
   "metadata": {
    "scrolled": true
   },
   "outputs": [
    {
     "data": {
      "text/plain": [
       "array([[[ 0.,  0.],\n",
       "        [ 0.,  0.],\n",
       "        [ 0.,  0.],\n",
       "        ..., \n",
       "        [ 0.,  0.],\n",
       "        [ 0.,  0.],\n",
       "        [ 0.,  0.]],\n",
       "\n",
       "       [[ 0.,  0.],\n",
       "        [ 0.,  0.],\n",
       "        [ 0.,  0.],\n",
       "        ..., \n",
       "        [ 0.,  0.],\n",
       "        [ 0.,  0.],\n",
       "        [ 0.,  0.]],\n",
       "\n",
       "       [[ 0.,  0.],\n",
       "        [ 0.,  0.],\n",
       "        [ 0.,  0.],\n",
       "        ..., \n",
       "        [ 0.,  0.],\n",
       "        [ 0.,  0.],\n",
       "        [ 0.,  0.]],\n",
       "\n",
       "       ..., \n",
       "       [[ 0.,  0.],\n",
       "        [ 0.,  0.],\n",
       "        [ 0.,  0.],\n",
       "        ..., \n",
       "        [ 0.,  0.],\n",
       "        [ 0.,  0.],\n",
       "        [ 0.,  0.]],\n",
       "\n",
       "       [[ 0.,  0.],\n",
       "        [ 0.,  0.],\n",
       "        [ 0.,  0.],\n",
       "        ..., \n",
       "        [ 0.,  0.],\n",
       "        [ 0.,  0.],\n",
       "        [ 0.,  0.]],\n",
       "\n",
       "       [[ 0.,  0.],\n",
       "        [ 0.,  0.],\n",
       "        [ 0.,  0.],\n",
       "        ..., \n",
       "        [ 0.,  0.],\n",
       "        [ 0.,  0.],\n",
       "        [ 0.,  0.]]])"
      ]
     },
     "execution_count": 229,
     "metadata": {},
     "output_type": "execute_result"
    }
   ],
   "source": [
    "delta = np.zeros((pos_arr.shape[0], pos_arr.shape[0], pos_arr.shape[1]), dtype=A.dtype)\n",
    "delta"
   ]
  },
  {
   "cell_type": "code",
   "execution_count": 231,
   "metadata": {},
   "outputs": [
    {
     "data": {
      "text/plain": [
       "(43, 43, 2)"
      ]
     },
     "execution_count": 231,
     "metadata": {},
     "output_type": "execute_result"
    }
   ],
   "source": [
    "delta.shape"
   ]
  },
  {
   "cell_type": "code",
   "execution_count": 281,
   "metadata": {
    "collapsed": true
   },
   "outputs": [],
   "source": [
    "for iteration in range(iterations):\n",
    "    # matrix of difference between points\n",
    "    for i in range(pos_arr.shape[1]):\n",
    "        delta[:, :, i] = pos_arr[:, i, None] - pos_arr[:, i]#Noneは縦ベクトルにしているだけ\n",
    "    distance = np.sqrt((delta**2).sum(axis=-1))\n",
    "    distance = np.where(distance < 0.01, 0.01, distance)\n",
    "    #displacement = np.transpose(np.transpose(delta) *(k * k / distance**2 - A * distance / k)).sum(axis=1)\n",
    "    displacement = np.transpose(np.transpose(delta) *(k * k / distance**2)).sum(axis=1)\n",
    "    length = np.sqrt((displacement**2).sum(axis=1))\n",
    "    length = np.where(length < 0.01, 0.1, length)\n",
    "    delta_pos = np.transpose(np.transpose(displacement) * t / length)    "
   ]
  },
  {
   "cell_type": "code",
   "execution_count": 282,
   "metadata": {
    "scrolled": true
   },
   "outputs": [
    {
     "data": {
      "text/plain": [
       "array([[[ 0.        ,  0.        ],\n",
       "        [-0.22575813, -0.00773861],\n",
       "        [ 0.01790102, -0.22682034],\n",
       "        ..., \n",
       "        [ 0.29104773,  0.41206768],\n",
       "        [ 0.29383099, -0.29463395],\n",
       "        [ 0.42267771,  0.00932638]],\n",
       "\n",
       "       [[ 0.22575813,  0.00773861],\n",
       "        [ 0.        ,  0.        ],\n",
       "        [ 0.24365915, -0.21908173],\n",
       "        ..., \n",
       "        [ 0.51680586,  0.41980629],\n",
       "        [ 0.51958912, -0.28689534],\n",
       "        [ 0.64843584,  0.01706499]],\n",
       "\n",
       "       [[-0.01790102,  0.22682034],\n",
       "        [-0.24365915,  0.21908173],\n",
       "        [ 0.        ,  0.        ],\n",
       "        ..., \n",
       "        [ 0.27314671,  0.63888802],\n",
       "        [ 0.27592997, -0.06781361],\n",
       "        [ 0.40477669,  0.23614673]],\n",
       "\n",
       "       ..., \n",
       "       [[-0.29104773, -0.41206768],\n",
       "        [-0.51680586, -0.41980629],\n",
       "        [-0.27314671, -0.63888802],\n",
       "        ..., \n",
       "        [ 0.        ,  0.        ],\n",
       "        [ 0.00278326, -0.70670163],\n",
       "        [ 0.13162998, -0.4027413 ]],\n",
       "\n",
       "       [[-0.29383099,  0.29463395],\n",
       "        [-0.51958912,  0.28689534],\n",
       "        [-0.27592997,  0.06781361],\n",
       "        ..., \n",
       "        [-0.00278326,  0.70670163],\n",
       "        [ 0.        ,  0.        ],\n",
       "        [ 0.12884672,  0.30396033]],\n",
       "\n",
       "       [[-0.42267771, -0.00932638],\n",
       "        [-0.64843584, -0.01706499],\n",
       "        [-0.40477669, -0.23614673],\n",
       "        ..., \n",
       "        [-0.13162998,  0.4027413 ],\n",
       "        [-0.12884672, -0.30396033],\n",
       "        [ 0.        ,  0.        ]]])"
      ]
     },
     "execution_count": 282,
     "metadata": {},
     "output_type": "execute_result"
    }
   ],
   "source": [
    "delta"
   ]
  },
  {
   "cell_type": "code",
   "execution_count": 283,
   "metadata": {},
   "outputs": [
    {
     "data": {
      "text/plain": [
       "array([[ 0.01      ,  0.22589072,  0.22752563, ...,  0.50448841,\n",
       "         0.41610793,  0.42278059],\n",
       "       [ 0.22589072,  0.01      ,  0.32766841, ...,  0.66582702,\n",
       "         0.59353331,  0.64866035],\n",
       "       [ 0.22752563,  0.32766841,  0.01      , ...,  0.69482878,\n",
       "         0.28414087,  0.46862506],\n",
       "       ..., \n",
       "       [ 0.50448841,  0.66582702,  0.69482878, ...,  0.01      ,\n",
       "         0.70670711,  0.42370627],\n",
       "       [ 0.41610793,  0.59353331,  0.28414087, ...,  0.70670711,\n",
       "         0.01      ,  0.33014143],\n",
       "       [ 0.42278059,  0.64866035,  0.46862506, ...,  0.42370627,\n",
       "         0.33014143,  0.01      ]])"
      ]
     },
     "execution_count": 283,
     "metadata": {},
     "output_type": "execute_result"
    }
   ],
   "source": [
    "distance"
   ]
  },
  {
   "cell_type": "code",
   "execution_count": 284,
   "metadata": {
    "scrolled": true
   },
   "outputs": [
    {
     "data": {
      "text/plain": [
       "array([[ 0.26342886, -0.06833503],\n",
       "       [ 0.72602721,  0.47339374],\n",
       "       [ 0.31826032,  0.61322455],\n",
       "       [ 0.45888711,  0.47244494],\n",
       "       [ 0.72273802,  0.7088474 ],\n",
       "       [ 0.66500156,  1.30626415],\n",
       "       [ 0.02028923,  0.37622583],\n",
       "       [-0.49800996, -1.13192625],\n",
       "       [ 1.44200218, -0.90504298],\n",
       "       [-0.08890687,  0.77804571],\n",
       "       [-1.00080777, -0.33685264],\n",
       "       [-1.35161575, -0.93663499],\n",
       "       [-0.65874819,  0.18658732],\n",
       "       [ 0.85877729, -1.26528988],\n",
       "       [-0.86992896,  0.64460372],\n",
       "       [ 0.85620635,  1.12522004],\n",
       "       [ 0.01332533,  1.40324419],\n",
       "       [-0.22007769, -1.08499532],\n",
       "       [-0.05624076, -1.49621052],\n",
       "       [ 2.23906945, -0.60568788],\n",
       "       [ 0.73019985, -0.87598612],\n",
       "       [-1.22758181, -0.89020881],\n",
       "       [ 1.89382939,  0.48162444],\n",
       "       [-1.21757907,  1.12035518],\n",
       "       [-0.68051384,  1.43918038],\n",
       "       [ 0.37918174, -0.3369774 ],\n",
       "       [ 0.2312378 , -1.60272701],\n",
       "       [-1.89728383,  0.82612532],\n",
       "       [ 1.11388253,  0.77324603],\n",
       "       [ 1.53972619,  0.39241317],\n",
       "       [-1.54915678,  0.16089548],\n",
       "       [ 1.5241846 , -1.37429864],\n",
       "       [ 0.92852762,  0.73435289],\n",
       "       [ 1.05519384,  0.6378673 ],\n",
       "       [ 0.21301171,  1.58004078],\n",
       "       [ 0.11063649, -1.59098891],\n",
       "       [-0.39096104,  1.21926769],\n",
       "       [-1.40148214, -1.70836596],\n",
       "       [-0.95033208,  1.36450963],\n",
       "       [-1.32772613, -1.44977286],\n",
       "       [-0.89640115, -1.6265606 ],\n",
       "       [-0.39005418,  0.95544687],\n",
       "       [-1.63021668, -0.48656495]])"
      ]
     },
     "execution_count": 284,
     "metadata": {},
     "output_type": "execute_result"
    }
   ],
   "source": [
    "displacement"
   ]
  },
  {
   "cell_type": "code",
   "execution_count": 285,
   "metadata": {},
   "outputs": [
    {
     "data": {
      "text/plain": [
       "(43, 2)"
      ]
     },
     "execution_count": 285,
     "metadata": {},
     "output_type": "execute_result"
    }
   ],
   "source": [
    "displacement.shape"
   ]
  },
  {
   "cell_type": "code",
   "execution_count": 288,
   "metadata": {},
   "outputs": [
    {
     "data": {
      "text/plain": [
       "0.2721478285895379"
      ]
     },
     "execution_count": 288,
     "metadata": {},
     "output_type": "execute_result"
    }
   ],
   "source": [
    "np.sqrt(0.26342886**2 +(-0.06833503)**2)"
   ]
  },
  {
   "cell_type": "code",
   "execution_count": 287,
   "metadata": {},
   "outputs": [
    {
     "data": {
      "text/plain": [
       "array([ 0.27214783,  0.86672783,  0.69089361,  0.65862098,  1.01233141,\n",
       "        1.46579436,  0.37677252,  1.23663696,  1.70249026,  0.7831089 ,\n",
       "        1.05597627,  1.64443007,  0.68466342,  1.5292014 ,  1.08272358,\n",
       "        1.41393404,  1.40330746,  1.10709035,  1.49726716,  2.31954518,\n",
       "        1.14041374,  1.51638677,  1.95411153,  1.65459799,  1.59196082,\n",
       "        0.50727956,  1.61932233,  2.06934023,  1.35596598,  1.58894456,\n",
       "        1.55748967,  2.05227567,  1.18382334,  1.233008  ,  1.59433461,\n",
       "        1.59483107,  1.28041565,  2.20967564,  1.6628342 ,  1.96588352,\n",
       "        1.85721146,  1.03199854,  1.70127948])"
      ]
     },
     "execution_count": 287,
     "metadata": {},
     "output_type": "execute_result"
    }
   ],
   "source": [
    "length"
   ]
  },
  {
   "cell_type": "code",
   "execution_count": 239,
   "metadata": {},
   "outputs": [
    {
     "data": {
      "text/plain": [
       "(43,)"
      ]
     },
     "execution_count": 239,
     "metadata": {},
     "output_type": "execute_result"
    }
   ],
   "source": [
    "length.shape"
   ]
  },
  {
   "cell_type": "code",
   "execution_count": 240,
   "metadata": {
    "scrolled": true
   },
   "outputs": [
    {
     "data": {
      "text/plain": [
       "array([[ 0.09552692, -0.02478026],\n",
       "       [ 0.08266801,  0.05390227],\n",
       "       [ 0.04546096,  0.08759426],\n",
       "       [ 0.06876027,  0.0707918 ],\n",
       "       [ 0.07045722,  0.06910307],\n",
       "       [ 0.04477308,  0.08794786],\n",
       "       [ 0.00531439,  0.09854548],\n",
       "       [-0.03974323, -0.09033233],\n",
       "       [ 0.0835889 , -0.05246285],\n",
       "       [-0.01120419,  0.0980506 ],\n",
       "       [-0.09353277, -0.03148133],\n",
       "       [-0.08111574, -0.05621113],\n",
       "       [-0.0949532 ,  0.02689505],\n",
       "       [ 0.05542213, -0.08165686],\n",
       "       [-0.07929275,  0.05875469],\n",
       "       [ 0.05976083,  0.07853724],\n",
       "       [ 0.00093711,  0.09868422],\n",
       "       [-0.01961825, -0.09671907],\n",
       "       [-0.00370697, -0.09861903],\n",
       "       [ 0.09526471, -0.02576994],\n",
       "       [ 0.06318975, -0.07580574],\n",
       "       [-0.07989282, -0.05793609],\n",
       "       [ 0.09564424,  0.02432352],\n",
       "       [-0.07262263,  0.0668237 ],\n",
       "       [-0.04218634,  0.08921752],\n",
       "       [ 0.07376789, -0.06555725],\n",
       "       [ 0.01409266, -0.09767728],\n",
       "       [-0.09048315,  0.03939865],\n",
       "       [ 0.08106958,  0.05627768],\n",
       "       [ 0.09563174,  0.02437262],\n",
       "       [-0.09816067,  0.01019497],\n",
       "       [ 0.07329413, -0.0660865 ],\n",
       "       [ 0.07740611,  0.06121886],\n",
       "       [ 0.08445661,  0.05105423],\n",
       "       [ 0.01318534,  0.09780389],\n",
       "       [ 0.00684622, -0.09845092],\n",
       "       [-0.03013352,  0.09397566],\n",
       "       [-0.06259308, -0.07629915],\n",
       "       [-0.0564019 ,  0.08098321],\n",
       "       [-0.06665274, -0.07277957],\n",
       "       [-0.04763305, -0.08643233],\n",
       "       [-0.03730037,  0.09136814],\n",
       "       [-0.09456643, -0.0282249 ]])"
      ]
     },
     "execution_count": 240,
     "metadata": {},
     "output_type": "execute_result"
    }
   ],
   "source": [
    "delta_pos"
   ]
  },
  {
   "cell_type": "code",
   "execution_count": null,
   "metadata": {
    "collapsed": true
   },
   "outputs": [],
   "source": []
  },
  {
   "cell_type": "code",
   "execution_count": 241,
   "metadata": {},
   "outputs": [
    {
     "data": {
      "text/plain": [
       "matrix([[ 0.        ,  0.        ,  0.        , ...,  0.        ,\n",
       "          0.        ,  0.        ],\n",
       "        [ 0.        ,  0.        ,  0.        , ...,  0.        ,\n",
       "          0.        ,  0.        ],\n",
       "        [ 0.        ,  0.        ,  0.        , ...,  0.60483664,\n",
       "          0.        ,  0.        ],\n",
       "        ..., \n",
       "        [ 0.        ,  0.        ,  0.        , ...,  0.        ,\n",
       "          0.        ,  0.        ],\n",
       "        [ 0.        ,  0.        ,  0.        , ...,  0.        ,\n",
       "          0.        ,  0.        ],\n",
       "        [ 0.        ,  0.        ,  0.        , ...,  0.        ,\n",
       "          0.        ,  0.        ]])"
      ]
     },
     "execution_count": 241,
     "metadata": {},
     "output_type": "execute_result"
    }
   ],
   "source": [
    "A = nx.to_numpy_matrix(G, weight=\"weight\")\n",
    "A"
   ]
  },
  {
   "cell_type": "code",
   "execution_count": 256,
   "metadata": {},
   "outputs": [
    {
     "data": {
      "text/plain": [
       "array([[ 0.        ,  0.        ,  0.        , ...,  0.        ,\n",
       "         0.        ,  0.        ],\n",
       "       [ 0.        ,  0.        ,  0.        , ...,  0.        ,\n",
       "         0.        ,  0.        ],\n",
       "       [ 0.        ,  0.        ,  0.        , ...,  0.60483664,\n",
       "         0.        ,  0.        ],\n",
       "       ..., \n",
       "       [ 0.        ,  0.        ,  0.        , ...,  0.        ,\n",
       "         0.        ,  0.        ],\n",
       "       [ 0.        ,  0.        ,  0.        , ...,  0.        ,\n",
       "         0.        ,  0.        ],\n",
       "       [ 0.        ,  0.        ,  0.        , ...,  0.        ,\n",
       "         0.        ,  0.        ]])"
      ]
     },
     "execution_count": 256,
     "metadata": {},
     "output_type": "execute_result"
    }
   ],
   "source": [
    "A = np.asarray(A)\n",
    "A"
   ]
  },
  {
   "cell_type": "code",
   "execution_count": 263,
   "metadata": {},
   "outputs": [
    {
     "data": {
      "text/plain": [
       "0.045362272535573643"
      ]
     },
     "execution_count": 263,
     "metadata": {},
     "output_type": "execute_result"
    }
   ],
   "source": [
    "A.mean()"
   ]
  },
  {
   "cell_type": "code",
   "execution_count": 264,
   "metadata": {},
   "outputs": [
    {
     "data": {
      "text/plain": [
       "0.52198785445899054"
      ]
     },
     "execution_count": 264,
     "metadata": {},
     "output_type": "execute_result"
    }
   ],
   "source": [
    "A[1,24]"
   ]
  },
  {
   "cell_type": "code",
   "execution_count": 265,
   "metadata": {},
   "outputs": [
    {
     "data": {
      "text/plain": [
       "array([[ 0.        ,  0.        ,  0.        , ...,  0.        ,\n",
       "         0.        ,  0.        ],\n",
       "       [ 0.        ,  0.        ,  0.        , ...,  0.        ,\n",
       "         0.        ,  0.        ],\n",
       "       [ 0.        ,  0.        ,  0.        , ...,  0.60483664,\n",
       "         0.        ,  0.        ],\n",
       "       ..., \n",
       "       [ 0.        ,  0.        ,  0.        , ...,  0.        ,\n",
       "         0.        ,  0.        ],\n",
       "       [ 0.        ,  0.        ,  0.        , ...,  0.        ,\n",
       "         0.        ,  0.        ],\n",
       "       [ 0.        ,  0.        ,  0.        , ...,  0.        ,\n",
       "         0.        ,  0.        ]])"
      ]
     },
     "execution_count": 265,
     "metadata": {},
     "output_type": "execute_result"
    }
   ],
   "source": [
    "A_=A.copy()\n",
    "A_"
   ]
  },
  {
   "cell_type": "code",
   "execution_count": 266,
   "metadata": {},
   "outputs": [
    {
     "data": {
      "text/plain": [
       "0.66567334855774341"
      ]
     },
     "execution_count": 266,
     "metadata": {},
     "output_type": "execute_result"
    }
   ],
   "source": [
    "A_[A_.nonzero()].mean()"
   ]
  },
  {
   "cell_type": "code",
   "execution_count": 267,
   "metadata": {},
   "outputs": [
    {
     "data": {
      "text/plain": [
       "array([[ 0.        ,  0.        ,  0.        , ...,  0.        ,\n",
       "         0.        ,  0.        ],\n",
       "       [ 0.        ,  0.        ,  0.        , ...,  0.        ,\n",
       "         0.        ,  0.        ],\n",
       "       [ 0.        ,  0.        ,  0.        , ...,  0.93916329,\n",
       "         0.        ,  0.        ],\n",
       "       ..., \n",
       "       [ 0.        ,  0.        ,  0.        , ...,  0.        ,\n",
       "         0.        ,  0.        ],\n",
       "       [ 0.        ,  0.        ,  0.        , ...,  0.        ,\n",
       "         0.        ,  0.        ],\n",
       "       [ 0.        ,  0.        ,  0.        , ...,  0.        ,\n",
       "         0.        ,  0.        ]])"
      ]
     },
     "execution_count": 267,
     "metadata": {},
     "output_type": "execute_result"
    }
   ],
   "source": [
    "A_[A_.nonzero()]+=(1-A_[A_.nonzero()].mean())#平均を1で調整.\n",
    "A_"
   ]
  },
  {
   "cell_type": "code",
   "execution_count": 268,
   "metadata": {},
   "outputs": [
    {
     "data": {
      "text/plain": [
       "0.068144943212547326"
      ]
     },
     "execution_count": 268,
     "metadata": {},
     "output_type": "execute_result"
    }
   ],
   "source": [
    "A_.mean()"
   ]
  },
  {
   "cell_type": "code",
   "execution_count": 269,
   "metadata": {},
   "outputs": [
    {
     "data": {
      "text/plain": [
       "1.0"
      ]
     },
     "execution_count": 269,
     "metadata": {},
     "output_type": "execute_result"
    }
   ],
   "source": [
    "A_[A_.nonzero()].mean()"
   ]
  },
  {
   "cell_type": "code",
   "execution_count": 270,
   "metadata": {},
   "outputs": [
    {
     "data": {
      "text/plain": [
       "0.85631450590124714"
      ]
     },
     "execution_count": 270,
     "metadata": {},
     "output_type": "execute_result"
    }
   ],
   "source": [
    "A_[1,24]"
   ]
  },
  {
   "cell_type": "code",
   "execution_count": 271,
   "metadata": {},
   "outputs": [
    {
     "data": {
      "text/plain": [
       "0.8563145059012471"
      ]
     },
     "execution_count": 271,
     "metadata": {},
     "output_type": "execute_result"
    }
   ],
   "source": [
    "0.52198785445899054 + (1 - 0.66567334855774341)"
   ]
  },
  {
   "cell_type": "code",
   "execution_count": 274,
   "metadata": {},
   "outputs": [
    {
     "data": {
      "text/plain": [
       "0.56889162161699114"
      ]
     },
     "execution_count": 274,
     "metadata": {},
     "output_type": "execute_result"
    }
   ],
   "source": [
    "all_nodes_weights.mean()"
   ]
  },
  {
   "cell_type": "code",
   "execution_count": 279,
   "metadata": {},
   "outputs": [
    {
     "data": {
      "text/plain": [
       "1.0"
      ]
     },
     "execution_count": 279,
     "metadata": {},
     "output_type": "execute_result"
    }
   ],
   "source": [
    "all_node_weights_=all_nodes_weights+(1-all_nodes_weights.mean())\n",
    "all_node_weights_.mean()"
   ]
  },
  {
   "cell_type": "code",
   "execution_count": null,
   "metadata": {
    "collapsed": true
   },
   "outputs": [],
   "source": []
  }
 ],
 "metadata": {
  "kernelspec": {
   "display_name": "Python 2",
   "language": "python",
   "name": "python2"
  },
  "language_info": {
   "codemirror_mode": {
    "name": "ipython",
    "version": 2
   },
   "file_extension": ".py",
   "mimetype": "text/x-python",
   "name": "python",
   "nbconvert_exporter": "python",
   "pygments_lexer": "ipython2",
   "version": "2.7.15"
  }
 },
 "nbformat": 4,
 "nbformat_minor": 2
}
