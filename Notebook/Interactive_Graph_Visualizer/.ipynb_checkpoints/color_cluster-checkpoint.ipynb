{
 "cells": [
  {
   "cell_type": "code",
   "execution_count": 1,
   "metadata": {
    "collapsed": true
   },
   "outputs": [],
   "source": [
    "import os\n",
    "import cPickle as pickle\n",
    "import configparser\n",
    "import codecs\n",
    "from distutils.util import strtobool\n",
    "import numpy as np\n",
    "from tqdm import tqdm\n",
    "import matplotlib.pyplot as plt\n",
    "from sklearn.cluster import KMeans\n",
    "import matplotlib.cm as cm\n",
    "\n",
    "import sys\n",
    "sys.path.append(\"../../MyPythonModule\")\n",
    "import mymodule\n",
    "sys.path.append(\"../../Interactive_Graph_Visualizer/networkx-master\")\n",
    "import networkx as nx"
   ]
  },
  {
   "cell_type": "code",
   "execution_count": 2,
   "metadata": {
    "collapsed": true
   },
   "outputs": [],
   "source": [
    "def suffix_generator_root(search_word,max_page,add_childs,append):\n",
    "    suffix = \"_\" + search_word\n",
    "    suffix += \"_\" + unicode(max_page)\n",
    "    if add_childs:\n",
    "        suffix += \"_add_childs\"\n",
    "    if append:\n",
    "        suffix += \"_append\"\n",
    "    return suffix"
   ]
  },
  {
   "cell_type": "code",
   "execution_count": 3,
   "metadata": {
    "collapsed": true
   },
   "outputs": [],
   "source": [
    "def suffix_generator(target=None,is_largest=False):\n",
    "    suffix = \"\"\n",
    "    if target != None:\n",
    "        suffix += \"_\" + target\n",
    "    if is_largest == True:\n",
    "        suffix += \"_largest\"\n",
    "    return suffix"
   ]
  },
  {
   "cell_type": "code",
   "execution_count": 4,
   "metadata": {
    "collapsed": true
   },
   "outputs": [],
   "source": [
    "search_word = \"Test\"\n",
    "max_page = 10\n",
    "add_childs = True\n",
    "append = False\n",
    "save_dir = \"../Data/Search\"\n",
    "root_dir = save_dir + suffix_generator_root(search_word,max_page,add_childs,append)\n",
    "\n",
    "is_largest = True\n",
    "target = \"myexttext\"\n",
    "K = 10\n",
    "exp_name = \"K\" + unicode(K) + suffix_generator(target,is_largest)\n",
    "exp_dir = os.path.join(root_dir,exp_name)\n",
    "nx_dir = os.path.join(exp_dir,\"nx_datas\")\n",
    "\n",
    "size = 100\n",
    "exp_name_new = \"D\" + str(size) + suffix_generator(target,is_largest)\n",
    "exp_dir_new = os.path.join(root_dir,exp_name_new)\n",
    "nx_dir_new = os.path.join(exp_dir_new,\"nx_datas\")"
   ]
  },
  {
   "cell_type": "code",
   "execution_count": 5,
   "metadata": {
    "collapsed": true
   },
   "outputs": [],
   "source": [
    "with open(os.path.join(nx_dir_new,\"G_with_params_cos_sim.gpkl\"),'rb') as fi:\n",
    "    G = pickle.load(fi)"
   ]
  },
  {
   "cell_type": "code",
   "execution_count": 6,
   "metadata": {},
   "outputs": [
    {
     "data": {
      "text/plain": [
       "{'a_score': 8.561922690394718e-16,\n",
       " 'color': '#00A0C1',\n",
       " 'color_k100': '#FCC800',\n",
       " 'color_k3': '#EB6100',\n",
       " 'from_hosts': {u'time-space.kddi.com': 3, u'www.kddi.com': 1},\n",
       " 'h_score': 4.999029713779984e-15,\n",
       " 'kmeans_100': 1,\n",
       " 'kmeans_3': 0,\n",
       " 'to_hosts': {u'onlineshop.au.com': 1,\n",
       "  u'star.auone.jp': 1,\n",
       "  u'time-space.kddi.com': 5,\n",
       "  u'wowma.jp': 1,\n",
       "  u'www.kddi.com': 7},\n",
       " 'topic': 5}"
      ]
     },
     "execution_count": 6,
     "metadata": {},
     "output_type": "execute_result"
    }
   ],
   "source": [
    "G.node[0]"
   ]
  },
  {
   "cell_type": "code",
   "execution_count": 7,
   "metadata": {
    "scrolled": true
   },
   "outputs": [
    {
     "data": {
      "text/plain": [
       "{0: '#00A0C1',\n",
       " 2: '#0086D1',\n",
       " 3: '#00479D',\n",
       " 4: '#FCC800',\n",
       " 5: '#0086D1',\n",
       " 6: '#0086D1',\n",
       " 7: '#0086D1',\n",
       " 9: '#009B6B',\n",
       " 10: '#00479D',\n",
       " 11: '#22AC38',\n",
       " 12: '#00479D',\n",
       " 13: '#22AC38',\n",
       " 14: '#00479D',\n",
       " 16: '#22AC38',\n",
       " 17: '#00479D',\n",
       " 18: '#00479D',\n",
       " 19: '#00479D',\n",
       " 20: '#22AC38',\n",
       " 21: '#00A0C1',\n",
       " 22: '#00A0C1',\n",
       " 24: '#22AC38',\n",
       " 25: '#00479D',\n",
       " 26: '#00A0C1',\n",
       " 27: '#00A0C1',\n",
       " 28: '#CFDB00',\n",
       " 29: '#CFDB00',\n",
       " 31: '#22AC38',\n",
       " 32: '#009B6B',\n",
       " 34: '#CFDB00',\n",
       " 35: '#22AC38',\n",
       " 36: '#009B6B',\n",
       " 38: '#CFDB00',\n",
       " 40: '#009B6B',\n",
       " 41: '#CFDB00',\n",
       " 42: '#00A0C1',\n",
       " 43: '#CFDB00',\n",
       " 44: '#CFDB00',\n",
       " 47: '#CFDB00',\n",
       " 48: '#009B6B',\n",
       " 49: '#EB6100',\n",
       " 50: '#22AC38',\n",
       " 52: '#22AC38',\n",
       " 53: '#CFDB00'}"
      ]
     },
     "execution_count": 7,
     "metadata": {},
     "output_type": "execute_result"
    }
   ],
   "source": [
    "color_map = nx.get_node_attributes(G,\"color\")\n",
    "color_map"
   ]
  },
  {
   "cell_type": "code",
   "execution_count": 8,
   "metadata": {
    "scrolled": true
   },
   "outputs": [
    {
     "data": {
      "text/plain": [
       "{0: '#EB6100',\n",
       " 2: '#009B6B',\n",
       " 3: '#BE0081',\n",
       " 4: '#BE0081',\n",
       " 5: '#00479D',\n",
       " 6: '#009B6B',\n",
       " 7: '#009B6B',\n",
       " 9: '#BE0081',\n",
       " 10: '#EB6100',\n",
       " 11: '#22AC38',\n",
       " 12: '#601986',\n",
       " 13: '#EB6100',\n",
       " 14: '#EB6100',\n",
       " 16: '#00A0C1',\n",
       " 17: '#601986',\n",
       " 18: '#601986',\n",
       " 19: '#CFDB00',\n",
       " 20: '#22AC38',\n",
       " 21: '#EB6100',\n",
       " 22: '#0086D1',\n",
       " 24: '#00A0C1',\n",
       " 25: '#EB6100',\n",
       " 26: '#EB6100',\n",
       " 27: '#0086D1',\n",
       " 28: '#0086D1',\n",
       " 29: '#BE0081',\n",
       " 31: '#EB6100',\n",
       " 32: '#00A0C1',\n",
       " 34: '#BE0081',\n",
       " 35: '#FCC800',\n",
       " 36: '#22AC38',\n",
       " 38: '#BE0081',\n",
       " 40: '#BE0081',\n",
       " 41: '#EB6100',\n",
       " 42: '#BE0081',\n",
       " 43: '#BE0081',\n",
       " 44: '#009B6B',\n",
       " 47: '#EB6100',\n",
       " 48: '#00A0C1',\n",
       " 49: '#EB6100',\n",
       " 50: '#FCC800',\n",
       " 52: '#EB6100',\n",
       " 53: '#BE0081'}"
      ]
     },
     "execution_count": 8,
     "metadata": {},
     "output_type": "execute_result"
    }
   ],
   "source": [
    "color_map_3 = nx.get_node_attributes(G,\"color_k3\")\n",
    "color_map_3"
   ]
  },
  {
   "cell_type": "code",
   "execution_count": 9,
   "metadata": {
    "scrolled": true
   },
   "outputs": [
    {
     "data": {
      "text/plain": [
       "{0: '#FCC800',\n",
       " 2: '#00A0C1',\n",
       " 3: '#FCC800',\n",
       " 4: '#FCC800',\n",
       " 5: '#00479D',\n",
       " 6: '#00A0C1',\n",
       " 7: '#00A0C1',\n",
       " 9: '#FCC800',\n",
       " 10: '#FCC800',\n",
       " 11: '#0086D1',\n",
       " 12: '#CFDB00',\n",
       " 13: '#FCC800',\n",
       " 14: '#FCC800',\n",
       " 16: '#FCC800',\n",
       " 17: '#009B6B',\n",
       " 18: '#CFDB00',\n",
       " 19: '#CFDB00',\n",
       " 20: '#0086D1',\n",
       " 21: '#FCC800',\n",
       " 22: '#EB6100',\n",
       " 24: '#FCC800',\n",
       " 25: '#FCC800',\n",
       " 26: '#FCC800',\n",
       " 27: '#009B6B',\n",
       " 28: '#009B6B',\n",
       " 29: '#009B6B',\n",
       " 31: '#FCC800',\n",
       " 32: '#FCC800',\n",
       " 34: '#FCC800',\n",
       " 35: '#601986',\n",
       " 36: '#BE0081',\n",
       " 38: '#009B6B',\n",
       " 40: '#FCC800',\n",
       " 41: '#FCC800',\n",
       " 42: '#FCC800',\n",
       " 43: '#FCC800',\n",
       " 44: '#00A0C1',\n",
       " 47: '#FCC800',\n",
       " 48: '#FCC800',\n",
       " 49: '#FCC800',\n",
       " 50: '#22AC38',\n",
       " 52: '#FCC800',\n",
       " 53: '#FCC800'}"
      ]
     },
     "execution_count": 9,
     "metadata": {},
     "output_type": "execute_result"
    }
   ],
   "source": [
    "color_map_100 = nx.get_node_attributes(G,\"color_k100\")\n",
    "color_map_100"
   ]
  },
  {
   "cell_type": "code",
   "execution_count": 12,
   "metadata": {
    "scrolled": true
   },
   "outputs": [
    {
     "data": {
      "text/plain": [
       "{0: 1,\n",
       " 2: 5,\n",
       " 3: 1,\n",
       " 4: 1,\n",
       " 5: 7,\n",
       " 6: 5,\n",
       " 7: 5,\n",
       " 9: 1,\n",
       " 10: 1,\n",
       " 11: 6,\n",
       " 12: 2,\n",
       " 13: 1,\n",
       " 14: 1,\n",
       " 16: 1,\n",
       " 17: 4,\n",
       " 18: 2,\n",
       " 19: 2,\n",
       " 20: 6,\n",
       " 21: 1,\n",
       " 22: 0,\n",
       " 24: 1,\n",
       " 25: 1,\n",
       " 26: 1,\n",
       " 27: 4,\n",
       " 28: 4,\n",
       " 29: 4,\n",
       " 31: 1,\n",
       " 32: 1,\n",
       " 34: 1,\n",
       " 35: 8,\n",
       " 36: 9,\n",
       " 38: 4,\n",
       " 40: 1,\n",
       " 41: 1,\n",
       " 42: 1,\n",
       " 43: 1,\n",
       " 44: 5,\n",
       " 47: 1,\n",
       " 48: 1,\n",
       " 49: 1,\n",
       " 50: 3,\n",
       " 52: 1,\n",
       " 53: 1}"
      ]
     },
     "execution_count": 12,
     "metadata": {},
     "output_type": "execute_result"
    }
   ],
   "source": [
    "k100 = nx.get_node_attributes(G,\"kmeans_100\")\n",
    "k100"
   ]
  },
  {
   "cell_type": "code",
   "execution_count": 14,
   "metadata": {
    "scrolled": true
   },
   "outputs": [
    {
     "data": {
      "text/plain": [
       "[1,\n",
       " 5,\n",
       " 1,\n",
       " 1,\n",
       " 7,\n",
       " 5,\n",
       " 5,\n",
       " 1,\n",
       " 1,\n",
       " 6,\n",
       " 2,\n",
       " 1,\n",
       " 1,\n",
       " 1,\n",
       " 4,\n",
       " 2,\n",
       " 2,\n",
       " 6,\n",
       " 1,\n",
       " 0,\n",
       " 1,\n",
       " 1,\n",
       " 1,\n",
       " 4,\n",
       " 4,\n",
       " 4,\n",
       " 1,\n",
       " 1,\n",
       " 1,\n",
       " 8,\n",
       " 9,\n",
       " 4,\n",
       " 1,\n",
       " 1,\n",
       " 1,\n",
       " 1,\n",
       " 5,\n",
       " 1,\n",
       " 1,\n",
       " 1,\n",
       " 3,\n",
       " 1,\n",
       " 1]"
      ]
     },
     "execution_count": 14,
     "metadata": {},
     "output_type": "execute_result"
    }
   ],
   "source": [
    "k100_list = nx.get_node_attributes(G,\"kmeans_100\").values()\n",
    "k100_list"
   ]
  },
  {
   "cell_type": "code",
   "execution_count": 18,
   "metadata": {},
   "outputs": [
    {
     "data": {
      "text/plain": [
       "array([ 1.,  5.,  1.,  1.,  7.,  5.,  5.,  1.,  1.,  6.,  2.,  1.,  1.,\n",
       "        1.,  4.,  2.,  2.,  6.,  1.,  0.,  1.,  1.,  1.,  4.,  4.,  4.,\n",
       "        1.,  1.,  1.,  8.,  9.,  4.,  1.,  1.,  1.,  1.,  5.,  1.,  1.,\n",
       "        1.,  3.,  1.,  1.], dtype=float32)"
      ]
     },
     "execution_count": 18,
     "metadata": {},
     "output_type": "execute_result"
    }
   ],
   "source": [
    "k100_list = np.array(k100_list)\n",
    "k100_list = k100_list.astype(\"float32\")\n",
    "k100_list"
   ]
  },
  {
   "cell_type": "code",
   "execution_count": 19,
   "metadata": {},
   "outputs": [
    {
     "data": {
      "text/plain": [
       "array([ 0.11111111,  0.55555558,  0.11111111,  0.11111111,  0.77777779,\n",
       "        0.55555558,  0.55555558,  0.11111111,  0.11111111,  0.66666669,\n",
       "        0.22222222,  0.11111111,  0.11111111,  0.11111111,  0.44444445,\n",
       "        0.22222222,  0.22222222,  0.66666669,  0.11111111,  0.        ,\n",
       "        0.11111111,  0.11111111,  0.11111111,  0.44444445,  0.44444445,\n",
       "        0.44444445,  0.11111111,  0.11111111,  0.11111111,  0.8888889 ,\n",
       "        1.        ,  0.44444445,  0.11111111,  0.11111111,  0.11111111,\n",
       "        0.11111111,  0.55555558,  0.11111111,  0.11111111,  0.11111111,\n",
       "        0.33333334,  0.11111111,  0.11111111], dtype=float32)"
      ]
     },
     "execution_count": 19,
     "metadata": {},
     "output_type": "execute_result"
    }
   ],
   "source": [
    "k100_list = (k100_list-k100_list.min())/(k100_list.max()-k100_list.min())\n",
    "k100_list"
   ]
  },
  {
   "cell_type": "code",
   "execution_count": null,
   "metadata": {
    "collapsed": true
   },
   "outputs": [],
   "source": []
  }
 ],
 "metadata": {
  "kernelspec": {
   "display_name": "Python 2",
   "language": "python",
   "name": "python2"
  },
  "language_info": {
   "codemirror_mode": {
    "name": "ipython",
    "version": 2
   },
   "file_extension": ".py",
   "mimetype": "text/x-python",
   "name": "python",
   "nbconvert_exporter": "python",
   "pygments_lexer": "ipython2",
   "version": "2.7.15"
  }
 },
 "nbformat": 4,
 "nbformat_minor": 2
}
