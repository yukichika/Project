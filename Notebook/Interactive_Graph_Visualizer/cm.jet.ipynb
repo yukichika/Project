{
 "cells": [
  {
   "cell_type": "code",
   "execution_count": 36,
   "metadata": {
    "collapsed": true
   },
   "outputs": [],
   "source": [
    "import matplotlib.cm as cm"
   ]
  },
  {
   "cell_type": "code",
   "execution_count": 37,
   "metadata": {},
   "outputs": [
    {
     "data": {
      "text/plain": [
       "[u'Accent',\n",
       " u'Accent_r',\n",
       " u'Blues',\n",
       " u'Blues_r',\n",
       " u'BrBG',\n",
       " u'BrBG_r',\n",
       " u'BuGn',\n",
       " u'BuGn_r',\n",
       " u'BuPu',\n",
       " u'BuPu_r',\n",
       " u'CMRmap',\n",
       " u'CMRmap_r',\n",
       " u'Dark2',\n",
       " u'Dark2_r',\n",
       " u'GnBu',\n",
       " u'GnBu_r',\n",
       " u'Greens',\n",
       " u'Greens_r',\n",
       " u'Greys',\n",
       " u'Greys_r',\n",
       " 'LUTSIZE',\n",
       " u'OrRd',\n",
       " u'OrRd_r',\n",
       " u'Oranges',\n",
       " u'Oranges_r',\n",
       " u'PRGn',\n",
       " u'PRGn_r',\n",
       " u'Paired',\n",
       " u'Paired_r',\n",
       " u'Pastel1',\n",
       " u'Pastel1_r',\n",
       " u'Pastel2',\n",
       " u'Pastel2_r',\n",
       " u'PiYG',\n",
       " u'PiYG_r',\n",
       " u'PuBu',\n",
       " u'PuBuGn',\n",
       " u'PuBuGn_r',\n",
       " u'PuBu_r',\n",
       " u'PuOr',\n",
       " u'PuOr_r',\n",
       " u'PuRd',\n",
       " u'PuRd_r',\n",
       " u'Purples',\n",
       " u'Purples_r',\n",
       " u'RdBu',\n",
       " u'RdBu_r',\n",
       " u'RdGy',\n",
       " u'RdGy_r',\n",
       " u'RdPu',\n",
       " u'RdPu_r',\n",
       " u'RdYlBu',\n",
       " u'RdYlBu_r',\n",
       " u'RdYlGn',\n",
       " u'RdYlGn_r',\n",
       " u'Reds',\n",
       " u'Reds_r',\n",
       " 'ScalarMappable',\n",
       " u'Set1',\n",
       " u'Set1_r',\n",
       " u'Set2',\n",
       " u'Set2_r',\n",
       " u'Set3',\n",
       " u'Set3_r',\n",
       " u'Spectral',\n",
       " u'Spectral_r',\n",
       " u'Wistia',\n",
       " u'Wistia_r',\n",
       " u'YlGn',\n",
       " u'YlGnBu',\n",
       " u'YlGnBu_r',\n",
       " u'YlGn_r',\n",
       " u'YlOrBr',\n",
       " u'YlOrBr_r',\n",
       " u'YlOrRd',\n",
       " u'YlOrRd_r',\n",
       " '__builtins__',\n",
       " '__doc__',\n",
       " '__file__',\n",
       " '__name__',\n",
       " '__package__',\n",
       " '_generate_cmap',\n",
       " '_reverse_cmap_spec',\n",
       " '_reverser',\n",
       " 'absolute_import',\n",
       " u'afmhot',\n",
       " u'afmhot_r',\n",
       " u'autumn',\n",
       " u'autumn_r',\n",
       " u'binary',\n",
       " u'binary_r',\n",
       " u'bone',\n",
       " u'bone_r',\n",
       " u'brg',\n",
       " u'brg_r',\n",
       " u'bwr',\n",
       " u'bwr_r',\n",
       " 'cbook',\n",
       " 'cmap_d',\n",
       " 'cmapname',\n",
       " 'cmaps_listed',\n",
       " 'colors',\n",
       " u'cool',\n",
       " u'cool_r',\n",
       " u'coolwarm',\n",
       " u'coolwarm_r',\n",
       " u'copper',\n",
       " u'copper_r',\n",
       " 'cubehelix',\n",
       " u'cubehelix_r',\n",
       " 'datad',\n",
       " 'division',\n",
       " u'flag',\n",
       " u'flag_r',\n",
       " 'get_cmap',\n",
       " u'gist_earth',\n",
       " u'gist_earth_r',\n",
       " u'gist_gray',\n",
       " u'gist_gray_r',\n",
       " u'gist_heat',\n",
       " u'gist_heat_r',\n",
       " u'gist_ncar',\n",
       " u'gist_ncar_r',\n",
       " u'gist_rainbow',\n",
       " u'gist_rainbow_r',\n",
       " u'gist_stern',\n",
       " u'gist_stern_r',\n",
       " u'gist_yarg',\n",
       " u'gist_yarg_r',\n",
       " u'gnuplot',\n",
       " u'gnuplot2',\n",
       " u'gnuplot2_r',\n",
       " u'gnuplot_r',\n",
       " u'gray',\n",
       " u'gray_r',\n",
       " u'hot',\n",
       " u'hot_r',\n",
       " u'hsv',\n",
       " u'hsv_r',\n",
       " 'inferno',\n",
       " 'inferno_r',\n",
       " u'jet',\n",
       " u'jet_r',\n",
       " 'ma',\n",
       " 'magma',\n",
       " 'magma_r',\n",
       " 'mpl',\n",
       " u'nipy_spectral',\n",
       " u'nipy_spectral_r',\n",
       " 'np',\n",
       " u'ocean',\n",
       " u'ocean_r',\n",
       " 'os',\n",
       " u'pink',\n",
       " u'pink_r',\n",
       " 'plasma',\n",
       " 'plasma_r',\n",
       " 'print_function',\n",
       " u'prism',\n",
       " u'prism_r',\n",
       " u'rainbow',\n",
       " u'rainbow_r',\n",
       " 'register_cmap',\n",
       " 'revcmap',\n",
       " u'seismic',\n",
       " u'seismic_r',\n",
       " 'six',\n",
       " 'spec',\n",
       " 'spec_reversed',\n",
       " u'spectral',\n",
       " u'spectral_r',\n",
       " u'spring',\n",
       " u'spring_r',\n",
       " u'summer',\n",
       " u'summer_r',\n",
       " u'terrain',\n",
       " u'terrain_r',\n",
       " 'unicode_literals',\n",
       " 'viridis',\n",
       " 'viridis_r',\n",
       " u'winter',\n",
       " u'winter_r']"
      ]
     },
     "execution_count": 37,
     "metadata": {},
     "output_type": "execute_result"
    }
   ],
   "source": [
    "dir(cm)"
   ]
  },
  {
   "cell_type": "code",
   "execution_count": 38,
   "metadata": {},
   "outputs": [
    {
     "data": {
      "text/plain": [
       "<matplotlib.colors.LinearSegmentedColormap at 0x7f55102a1250>"
      ]
     },
     "execution_count": 38,
     "metadata": {},
     "output_type": "execute_result"
    }
   ],
   "source": [
    "cm.jet"
   ]
  },
  {
   "cell_type": "code",
   "execution_count": 39,
   "metadata": {},
   "outputs": [
    {
     "data": {
      "text/plain": [
       "matplotlib.colors.LinearSegmentedColormap"
      ]
     },
     "execution_count": 39,
     "metadata": {},
     "output_type": "execute_result"
    }
   ],
   "source": [
    "type(cm.jet)"
   ]
  },
  {
   "cell_type": "code",
   "execution_count": 40,
   "metadata": {},
   "outputs": [
    {
     "name": "stdout",
     "output_type": "stream",
     "text": [
      "Help on LinearSegmentedColormap in module matplotlib.colors object:\n",
      "\n",
      "class LinearSegmentedColormap(Colormap)\n",
      " |  Colormap objects based on lookup tables using linear segments.\n",
      " |  \n",
      " |  The lookup table is generated using linear interpolation for each\n",
      " |  primary color, with the 0-1 domain divided into any number of\n",
      " |  segments.\n",
      " |  \n",
      " |  Method resolution order:\n",
      " |      LinearSegmentedColormap\n",
      " |      Colormap\n",
      " |      __builtin__.object\n",
      " |  \n",
      " |  Methods defined here:\n",
      " |  \n",
      " |  __init__(self, name, segmentdata, N=256, gamma=1.0)\n",
      " |      Create color map from linear mapping segments\n",
      " |      \n",
      " |      segmentdata argument is a dictionary with a red, green and blue\n",
      " |      entries. Each entry should be a list of *x*, *y0*, *y1* tuples,\n",
      " |      forming rows in a table. Entries for alpha are optional.\n",
      " |      \n",
      " |      Example: suppose you want red to increase from 0 to 1 over\n",
      " |      the bottom half, green to do the same over the middle half,\n",
      " |      and blue over the top half.  Then you would use::\n",
      " |      \n",
      " |          cdict = {'red':   [(0.0,  0.0, 0.0),\n",
      " |                             (0.5,  1.0, 1.0),\n",
      " |                             (1.0,  1.0, 1.0)],\n",
      " |      \n",
      " |                   'green': [(0.0,  0.0, 0.0),\n",
      " |                             (0.25, 0.0, 0.0),\n",
      " |                             (0.75, 1.0, 1.0),\n",
      " |                             (1.0,  1.0, 1.0)],\n",
      " |      \n",
      " |                   'blue':  [(0.0,  0.0, 0.0),\n",
      " |                             (0.5,  0.0, 0.0),\n",
      " |                             (1.0,  1.0, 1.0)]}\n",
      " |      \n",
      " |      Each row in the table for a given color is a sequence of\n",
      " |      *x*, *y0*, *y1* tuples.  In each sequence, *x* must increase\n",
      " |      monotonically from 0 to 1.  For any input value *z* falling\n",
      " |      between *x[i]* and *x[i+1]*, the output value of a given color\n",
      " |      will be linearly interpolated between *y1[i]* and *y0[i+1]*::\n",
      " |      \n",
      " |          row i:   x  y0  y1\n",
      " |                         /\n",
      " |                        /\n",
      " |          row i+1: x  y0  y1\n",
      " |      \n",
      " |      Hence y0 in the first row and y1 in the last row are never used.\n",
      " |      \n",
      " |      \n",
      " |      .. seealso::\n",
      " |      \n",
      " |             :meth:`LinearSegmentedColormap.from_list`\n",
      " |             Static method; factory function for generating a\n",
      " |             smoothly-varying LinearSegmentedColormap.\n",
      " |      \n",
      " |             :func:`makeMappingArray`\n",
      " |             For information about making a mapping array.\n",
      " |  \n",
      " |  set_gamma(self, gamma)\n",
      " |      Set a new gamma value and regenerate color map.\n",
      " |  \n",
      " |  ----------------------------------------------------------------------\n",
      " |  Static methods defined here:\n",
      " |  \n",
      " |  from_list(name, colors, N=256, gamma=1.0)\n",
      " |      Make a linear segmented colormap with *name* from a sequence\n",
      " |      of *colors* which evenly transitions from colors[0] at val=0\n",
      " |      to colors[-1] at val=1.  *N* is the number of rgb quantization\n",
      " |      levels.\n",
      " |      Alternatively, a list of (value, color) tuples can be given\n",
      " |      to divide the range unevenly.\n",
      " |  \n",
      " |  ----------------------------------------------------------------------\n",
      " |  Methods inherited from Colormap:\n",
      " |  \n",
      " |  __call__(self, X, alpha=None, bytes=False)\n",
      " |      Parameters\n",
      " |      ----------\n",
      " |      X : scalar, ndarray\n",
      " |          The data value(s) to convert to RGBA.\n",
      " |          For floats, X should be in the interval ``[0.0, 1.0]`` to\n",
      " |          return the RGBA values ``X*100`` percent along the Colormap line.\n",
      " |          For integers, X should be in the interval ``[0, Colormap.N)`` to\n",
      " |          return RGBA values *indexed* from the Colormap with index ``X``.\n",
      " |      alpha : float, None\n",
      " |          Alpha must be a scalar between 0 and 1, or None.\n",
      " |      bytes : bool\n",
      " |          If False (default), the returned RGBA values will be floats in the\n",
      " |          interval ``[0, 1]`` otherwise they will be uint8s in the interval\n",
      " |          ``[0, 255]``.\n",
      " |      \n",
      " |      Returns\n",
      " |      -------\n",
      " |      Tuple of RGBA values if X is scalar, othewise an array of\n",
      " |      RGBA values with a shape of ``X.shape + (4, )``.\n",
      " |  \n",
      " |  is_gray(self)\n",
      " |  \n",
      " |  set_bad(self, color=u'k', alpha=None)\n",
      " |      Set color to be used for masked values.\n",
      " |  \n",
      " |  set_over(self, color=u'k', alpha=None)\n",
      " |      Set color to be used for high out-of-range values.\n",
      " |      Requires norm.clip = False\n",
      " |  \n",
      " |  set_under(self, color=u'k', alpha=None)\n",
      " |      Set color to be used for low out-of-range values.\n",
      " |      Requires norm.clip = False\n",
      " |  \n",
      " |  ----------------------------------------------------------------------\n",
      " |  Data descriptors inherited from Colormap:\n",
      " |  \n",
      " |  __dict__\n",
      " |      dictionary for instance variables (if defined)\n",
      " |  \n",
      " |  __weakref__\n",
      " |      list of weak references to the object (if defined)\n",
      "\n"
     ]
    }
   ],
   "source": [
    "help(cm.jet)"
   ]
  },
  {
   "cell_type": "code",
   "execution_count": 41,
   "metadata": {
    "collapsed": true
   },
   "outputs": [],
   "source": [
    "c_map = cm.jet"
   ]
  },
  {
   "cell_type": "code",
   "execution_count": 46,
   "metadata": {},
   "outputs": [
    {
     "data": {
      "text/plain": [
       "'int'"
      ]
     },
     "execution_count": 46,
     "metadata": {},
     "output_type": "execute_result"
    }
   ],
   "source": [
    "\"\"\"int\"\"\""
   ]
  },
  {
   "cell_type": "code",
   "execution_count": 47,
   "metadata": {},
   "outputs": [
    {
     "data": {
      "text/plain": [
       "(0.0, 0.0, 0.5, 1.0)"
      ]
     },
     "execution_count": 47,
     "metadata": {},
     "output_type": "execute_result"
    }
   ],
   "source": [
    "c_map(0)"
   ]
  },
  {
   "cell_type": "code",
   "execution_count": 48,
   "metadata": {},
   "outputs": [
    {
     "data": {
      "text/plain": [
       "(0.5, 0.0, 0.0, 1.0)"
      ]
     },
     "execution_count": 48,
     "metadata": {},
     "output_type": "execute_result"
    }
   ],
   "source": [
    "c_map(255)"
   ]
  },
  {
   "cell_type": "code",
   "execution_count": 49,
   "metadata": {},
   "outputs": [
    {
     "data": {
      "text/plain": [
       "'float'"
      ]
     },
     "execution_count": 49,
     "metadata": {},
     "output_type": "execute_result"
    }
   ],
   "source": [
    "\"\"\"float\"\"\""
   ]
  },
  {
   "cell_type": "code",
   "execution_count": 52,
   "metadata": {},
   "outputs": [
    {
     "data": {
      "text/plain": [
       "array([[ 0. ,  0. ,  0.5,  1. ]])"
      ]
     },
     "execution_count": 52,
     "metadata": {},
     "output_type": "execute_result"
    }
   ],
   "source": [
    "c_map([0.001])"
   ]
  },
  {
   "cell_type": "code",
   "execution_count": 54,
   "metadata": {},
   "outputs": [
    {
     "data": {
      "text/plain": [
       "array([[ 0.        ,  0.69215686,  1.        ,  1.        ]])"
      ]
     },
     "execution_count": 54,
     "metadata": {},
     "output_type": "execute_result"
    }
   ],
   "source": [
    "c_map([0.3])"
   ]
  },
  {
   "cell_type": "code",
   "execution_count": 51,
   "metadata": {},
   "outputs": [
    {
     "data": {
      "text/plain": [
       "array([[ 0.5,  0. ,  0. ,  1. ]])"
      ]
     },
     "execution_count": 51,
     "metadata": {},
     "output_type": "execute_result"
    }
   ],
   "source": [
    "c_map([0.999])"
   ]
  }
 ],
 "metadata": {
  "kernelspec": {
   "display_name": "Python 2",
   "language": "python",
   "name": "python2"
  },
  "language_info": {
   "codemirror_mode": {
    "name": "ipython",
    "version": 2
   },
   "file_extension": ".py",
   "mimetype": "text/x-python",
   "name": "python",
   "nbconvert_exporter": "python",
   "pygments_lexer": "ipython2",
   "version": "2.7.15"
  }
 },
 "nbformat": 4,
 "nbformat_minor": 2
}
